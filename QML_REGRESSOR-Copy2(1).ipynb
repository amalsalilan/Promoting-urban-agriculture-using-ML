{
 "cells": [
  {
   "cell_type": "code",
   "execution_count": 1,
   "metadata": {
    "cell_id": "d87aa888069f4a88a626e76f3a3e777f",
    "deepnote_cell_height": 229.9166717529297,
    "deepnote_cell_type": "code",
    "deepnote_to_be_reexecuted": false,
    "execution_millis": 1920,
    "execution_start": 1662784483159,
    "source_hash": "9cfe2b97",
    "tags": []
   },
   "outputs": [
    {
     "name": "stdout",
     "output_type": "stream",
     "text": [
      "Requirement already satisfied: xgboost==1.6.2 in /root/venv/lib/python3.9/site-packages (1.6.2)\n",
      "Requirement already satisfied: numpy in /shared-libs/python3.9/py/lib/python3.9/site-packages (from xgboost==1.6.2) (1.23.1)\n",
      "Requirement already satisfied: scipy in /shared-libs/python3.9/py/lib/python3.9/site-packages (from xgboost==1.6.2) (1.9.0)\n",
      "\u001b[33mWARNING: You are using pip version 22.0.4; however, version 22.2.2 is available.\n",
      "You should consider upgrading via the '/root/venv/bin/python -m pip install --upgrade pip' command.\u001b[0m\u001b[33m\n",
      "\u001b[0m"
     ]
    }
   ],
   "source": [
    "!pip install xgboost==1.6.2"
   ]
  },
  {
   "cell_type": "code",
   "execution_count": 2,
   "metadata": {
    "cell_id": "b77f01a4-a218-49ad-a303-ee969c8f4d2a",
    "deepnote_cell_height": 579.8333129882812,
    "deepnote_cell_type": "code",
    "deepnote_to_be_reexecuted": false,
    "execution_millis": 1155,
    "execution_start": 1662784485082,
    "source_hash": "5ae4c3fb"
   },
   "outputs": [],
   "source": [
    "import pandas as pd\n",
    "import numpy as np\n",
    "from sklearn.preprocessing import StandardScaler\n",
    "from sklearn.model_selection import train_test_split\n",
    "from sklearn.metrics import mean_squared_error\n",
    "from sklearn.metrics import r2_score\n",
    "\n",
    "\n",
    "from sklearn.neighbors import KNeighborsRegressor\n",
    "from sklearn.linear_model import Lasso\n",
    "from sklearn.linear_model import ElasticNet\n",
    "from sklearn.linear_model import LinearRegression\n",
    "from sklearn.linear_model import RidgeCV\n",
    "\n",
    "from sklearn.ensemble import ExtraTreesRegressor\n",
    "from sklearn.ensemble import GradientBoostingRegressor\n",
    "from sklearn.ensemble import RandomForestRegressor\n",
    "from sklearn.ensemble import AdaBoostRegressor\n",
    "\n",
    "from xgboost import XGBRegressor\n",
    "\n",
    "from sklearn.tree import DecisionTreeRegressor\n",
    "\n",
    "from sklearn.multioutput import MultiOutputRegressor\n",
    "\n",
    "\n",
    "\n",
    "import matplotlib.pyplot as plt \n",
    "import seaborn  as sns"
   ]
  },
  {
   "cell_type": "code",
   "execution_count": 3,
   "metadata": {
    "cell_id": "00001-886511f5-0005-4f21-b930-ad04cd9818c8",
    "deepnote_cell_height": 93.83332824707031,
    "deepnote_cell_type": "code",
    "deepnote_to_be_reexecuted": false,
    "execution_millis": 1,
    "execution_start": 1662784486238,
    "source_hash": "56a4cf43"
   },
   "outputs": [],
   "source": [
    "import inspect\n"
   ]
  },
  {
   "cell_type": "code",
   "execution_count": 4,
   "metadata": {
    "cell_id": "00002-9370d568-b4b7-45d6-9382-2ed4c85d67bd",
    "deepnote_cell_height": 75.83332824707031,
    "deepnote_cell_type": "code",
    "deepnote_to_be_reexecuted": false,
    "execution_millis": 4,
    "execution_start": 1662784486242,
    "source_hash": "60940c7c"
   },
   "outputs": [],
   "source": [
    "from sklearn.model_selection import cross_val_score"
   ]
  },
  {
   "cell_type": "code",
   "execution_count": 5,
   "metadata": {
    "cell_id": "00003-5290392b-639b-46dd-a85d-6eacc7b43cd8",
    "deepnote_cell_height": 111.83332824707031,
    "deepnote_cell_type": "code",
    "deepnote_to_be_reexecuted": false,
    "execution_millis": 6,
    "execution_start": 1662784486249,
    "source_hash": "7dfc0de9"
   },
   "outputs": [],
   "source": [
    "data=pd.read_csv('/work/QML-Research_Dataset - Dataset.csv')\n",
    "data.drop('Index',\n",
    "  axis='columns',inplace=True)"
   ]
  },
  {
   "cell_type": "code",
   "execution_count": 6,
   "metadata": {
    "cell_id": "00004-0d8b2137-e558-43e8-9a94-ef9d83eb341e",
    "deepnote_cell_height": 594.6666870117188,
    "deepnote_cell_type": "code",
    "deepnote_output_heights": [
     380
    ],
    "deepnote_table_loading": false,
    "deepnote_table_state": {
     "filters": [],
     "pageIndex": 0,
     "pageSize": 10,
     "sortBy": [
      {
       "id": "Area",
       "type": "asc"
      }
     ]
    },
    "deepnote_to_be_reexecuted": false,
    "execution_millis": 648,
    "execution_start": 1662784486263,
    "source_hash": "e6928a8f"
   },
   "outputs": [
    {
     "data": {
      "application/vnd.deepnote.dataframe.v3+json": {
       "column_count": 18,
       "columns": [
        {
         "dtype": "int64",
         "name": "Area",
         "stats": {
          "histogram": [
           {
            "bin_end": 2598,
            "bin_start": 2000,
            "count": 52
           },
           {
            "bin_end": 3196,
            "bin_start": 2598,
            "count": 45
           },
           {
            "bin_end": 3794,
            "bin_start": 3196,
            "count": 51
           },
           {
            "bin_end": 4392,
            "bin_start": 3794,
            "count": 49
           },
           {
            "bin_end": 4990,
            "bin_start": 4392,
            "count": 46
           },
           {
            "bin_end": 5588,
            "bin_start": 4990,
            "count": 47
           },
           {
            "bin_end": 6186,
            "bin_start": 5588,
            "count": 48
           },
           {
            "bin_end": 6784,
            "bin_start": 6186,
            "count": 46
           },
           {
            "bin_end": 7382,
            "bin_start": 6784,
            "count": 65
           },
           {
            "bin_end": 7980,
            "bin_start": 7382,
            "count": 51
           }
          ],
          "max": "7980",
          "min": "2000",
          "nan_count": 0,
          "unique_count": 480
         }
        },
        {
         "dtype": "int64",
         "name": "OE",
         "stats": {
          "histogram": [
           {
            "bin_end": 43805,
            "bin_start": 33762,
            "count": 53
           },
           {
            "bin_end": 53848,
            "bin_start": 43805,
            "count": 44
           },
           {
            "bin_end": 63891,
            "bin_start": 53848,
            "count": 52
           },
           {
            "bin_end": 73934,
            "bin_start": 63891,
            "count": 49
           },
           {
            "bin_end": 83977,
            "bin_start": 73934,
            "count": 45
           },
           {
            "bin_end": 94020,
            "bin_start": 83977,
            "count": 50
           },
           {
            "bin_end": 104063,
            "bin_start": 94020,
            "count": 46
           },
           {
            "bin_end": 114106,
            "bin_start": 104063,
            "count": 45
           },
           {
            "bin_end": 124149,
            "bin_start": 114106,
            "count": 66
           },
           {
            "bin_end": 134192,
            "bin_start": 124149,
            "count": 50
           }
          ],
          "max": "134192",
          "min": "33762",
          "nan_count": 0,
          "unique_count": 323
         }
        },
        {
         "dtype": "int64",
         "name": "COb",
         "stats": {
          "histogram": [
           {
            "bin_end": 3028.2,
            "bin_start": 2331,
            "count": 53
           },
           {
            "bin_end": 3725.4,
            "bin_start": 3028.2,
            "count": 44
           },
           {
            "bin_end": 4422.6,
            "bin_start": 3725.4,
            "count": 51
           },
           {
            "bin_end": 5119.8,
            "bin_start": 4422.6,
            "count": 49
           },
           {
            "bin_end": 5817,
            "bin_start": 5119.8,
            "count": 46
           },
           {
            "bin_end": 6514.200000000001,
            "bin_start": 5817,
            "count": 47
           },
           {
            "bin_end": 7211.400000000001,
            "bin_start": 6514.200000000001,
            "count": 48
           },
           {
            "bin_end": 7908.6,
            "bin_start": 7211.400000000001,
            "count": 46
           },
           {
            "bin_end": 8605.8,
            "bin_start": 7908.6,
            "count": 65
           },
           {
            "bin_end": 9303,
            "bin_start": 8605.8,
            "count": 51
           }
          ],
          "max": "9303",
          "min": "2331",
          "nan_count": 0,
          "unique_count": 256
         }
        },
        {
         "dtype": "int64",
         "name": "Area_left",
         "stats": {
          "histogram": [
           {
            "bin_end": 324.8,
            "bin_start": 250,
            "count": 52
           },
           {
            "bin_end": 399.6,
            "bin_start": 324.8,
            "count": 45
           },
           {
            "bin_end": 474.4,
            "bin_start": 399.6,
            "count": 51
           },
           {
            "bin_end": 549.2,
            "bin_start": 474.4,
            "count": 49
           },
           {
            "bin_end": 624,
            "bin_start": 549.2,
            "count": 46
           },
           {
            "bin_end": 698.8,
            "bin_start": 624,
            "count": 47
           },
           {
            "bin_end": 773.6,
            "bin_start": 698.8,
            "count": 48
           },
           {
            "bin_end": 848.4,
            "bin_start": 773.6,
            "count": 47
           },
           {
            "bin_end": 923.1999999999999,
            "bin_start": 848.4,
            "count": 65
           },
           {
            "bin_end": 998,
            "bin_start": 923.1999999999999,
            "count": 50
           }
          ],
          "max": "998",
          "min": "250",
          "nan_count": 0,
          "unique_count": 377
         }
        },
        {
         "dtype": "int64",
         "name": "considerble trees",
         "stats": {
          "histogram": [
           {
            "bin_end": 36.3,
            "bin_start": 28,
            "count": 55
           },
           {
            "bin_end": 44.6,
            "bin_start": 36.3,
            "count": 42
           },
           {
            "bin_end": 52.900000000000006,
            "bin_start": 44.6,
            "count": 51
           },
           {
            "bin_end": 61.2,
            "bin_start": 52.900000000000006,
            "count": 50
           },
           {
            "bin_end": 69.5,
            "bin_start": 61.2,
            "count": 45
           },
           {
            "bin_end": 77.80000000000001,
            "bin_start": 69.5,
            "count": 46
           },
           {
            "bin_end": 86.10000000000001,
            "bin_start": 77.80000000000001,
            "count": 51
           },
           {
            "bin_end": 94.4,
            "bin_start": 86.10000000000001,
            "count": 47
           },
           {
            "bin_end": 102.7,
            "bin_start": 94.4,
            "count": 63
           },
           {
            "bin_end": 111,
            "bin_start": 102.7,
            "count": 50
           }
          ],
          "max": "111",
          "min": "28",
          "nan_count": 0,
          "unique_count": 84
         }
        },
        {
         "dtype": "int64",
         "name": "considerable plants",
         "stats": {
          "histogram": [
           {
            "bin_end": 18.2,
            "bin_start": 14,
            "count": 62
           },
           {
            "bin_end": 22.4,
            "bin_start": 18.2,
            "count": 37
           },
           {
            "bin_end": 26.6,
            "bin_start": 22.4,
            "count": 51
           },
           {
            "bin_end": 30.8,
            "bin_start": 26.6,
            "count": 48
           },
           {
            "bin_end": 35,
            "bin_start": 30.8,
            "count": 45
           },
           {
            "bin_end": 39.2,
            "bin_start": 35,
            "count": 58
           },
           {
            "bin_end": 43.400000000000006,
            "bin_start": 39.2,
            "count": 39
           },
           {
            "bin_end": 47.6,
            "bin_start": 43.400000000000006,
            "count": 48
           },
           {
            "bin_end": 51.800000000000004,
            "bin_start": 47.6,
            "count": 62
           },
           {
            "bin_end": 56,
            "bin_start": 51.800000000000004,
            "count": 50
           }
          ],
          "max": "56",
          "min": "14",
          "nan_count": 0,
          "unique_count": 43
         }
        },
        {
         "dtype": "int64",
         "name": "Neem",
         "stats": {
          "histogram": [
           {
            "bin_end": 2.3,
            "bin_start": 2,
            "count": 39
           },
           {
            "bin_end": 2.6,
            "bin_start": 2.3,
            "count": 0
           },
           {
            "bin_end": 2.9,
            "bin_start": 2.6,
            "count": 0
           },
           {
            "bin_end": 3.2,
            "bin_start": 2.9,
            "count": 195
           },
           {
            "bin_end": 3.5,
            "bin_start": 3.2,
            "count": 0
           },
           {
            "bin_end": 3.8,
            "bin_start": 3.5,
            "count": 0
           },
           {
            "bin_end": 4.1,
            "bin_start": 3.8,
            "count": 188
           },
           {
            "bin_end": 4.4,
            "bin_start": 4.1,
            "count": 0
           },
           {
            "bin_end": 4.699999999999999,
            "bin_start": 4.4,
            "count": 0
           },
           {
            "bin_end": 5,
            "bin_start": 4.699999999999999,
            "count": 78
           }
          ],
          "max": "5",
          "min": "2",
          "nan_count": 0,
          "unique_count": 4
         }
        },
        {
         "dtype": "int64",
         "name": "Ash",
         "stats": {
          "histogram": [
           {
            "bin_end": 0.3,
            "bin_start": 0,
            "count": 39
           },
           {
            "bin_end": 0.6,
            "bin_start": 0.3,
            "count": 0
           },
           {
            "bin_end": 0.8999999999999999,
            "bin_start": 0.6,
            "count": 0
           },
           {
            "bin_end": 1.2,
            "bin_start": 0.8999999999999999,
            "count": 257
           },
           {
            "bin_end": 1.5,
            "bin_start": 1.2,
            "count": 0
           },
           {
            "bin_end": 1.7999999999999998,
            "bin_start": 1.5,
            "count": 0
           },
           {
            "bin_end": 2.1,
            "bin_start": 1.7999999999999998,
            "count": 134
           },
           {
            "bin_end": 2.4,
            "bin_start": 2.1,
            "count": 0
           },
           {
            "bin_end": 2.6999999999999997,
            "bin_start": 2.4,
            "count": 0
           },
           {
            "bin_end": 3,
            "bin_start": 2.6999999999999997,
            "count": 70
           }
          ],
          "max": "3",
          "min": "0",
          "nan_count": 0,
          "unique_count": 4
         }
        },
        {
         "dtype": "int64",
         "name": "Willow",
         "stats": {
          "histogram": [
           {
            "bin_end": 0.2,
            "bin_start": 0,
            "count": 97
           },
           {
            "bin_end": 0.4,
            "bin_start": 0.2,
            "count": 0
           },
           {
            "bin_end": 0.6000000000000001,
            "bin_start": 0.4,
            "count": 0
           },
           {
            "bin_end": 0.8,
            "bin_start": 0.6000000000000001,
            "count": 0
           },
           {
            "bin_end": 1,
            "bin_start": 0.8,
            "count": 0
           },
           {
            "bin_end": 1.2000000000000002,
            "bin_start": 1,
            "count": 198
           },
           {
            "bin_end": 1.4000000000000001,
            "bin_start": 1.2000000000000002,
            "count": 0
           },
           {
            "bin_end": 1.6,
            "bin_start": 1.4000000000000001,
            "count": 0
           },
           {
            "bin_end": 1.8,
            "bin_start": 1.6,
            "count": 0
           },
           {
            "bin_end": 2,
            "bin_start": 1.8,
            "count": 205
           }
          ],
          "max": "2",
          "min": "0",
          "nan_count": 0,
          "unique_count": 3
         }
        },
        {
         "dtype": "int64",
         "name": "Poplar",
         "stats": {
          "histogram": [
           {
            "bin_end": 1.3,
            "bin_start": 1,
            "count": 160
           },
           {
            "bin_end": 1.6,
            "bin_start": 1.3,
            "count": 0
           },
           {
            "bin_end": 1.9,
            "bin_start": 1.6,
            "count": 0
           },
           {
            "bin_end": 2.2,
            "bin_start": 1.9,
            "count": 73
           },
           {
            "bin_end": 2.5,
            "bin_start": 2.2,
            "count": 0
           },
           {
            "bin_end": 2.8,
            "bin_start": 2.5,
            "count": 0
           },
           {
            "bin_end": 3.1,
            "bin_start": 2.8,
            "count": 118
           },
           {
            "bin_end": 3.4,
            "bin_start": 3.1,
            "count": 0
           },
           {
            "bin_end": 3.6999999999999997,
            "bin_start": 3.4,
            "count": 0
           },
           {
            "bin_end": 4,
            "bin_start": 3.6999999999999997,
            "count": 149
           }
          ],
          "max": "4",
          "min": "1",
          "nan_count": 0,
          "unique_count": 4
         }
        },
        {
         "dtype": "int64",
         "name": "Ashok",
         "stats": {
          "histogram": [
           {
            "bin_end": 0.2,
            "bin_start": 0,
            "count": 161
           },
           {
            "bin_end": 0.4,
            "bin_start": 0.2,
            "count": 0
           },
           {
            "bin_end": 0.6000000000000001,
            "bin_start": 0.4,
            "count": 0
           },
           {
            "bin_end": 0.8,
            "bin_start": 0.6000000000000001,
            "count": 0
           },
           {
            "bin_end": 1,
            "bin_start": 0.8,
            "count": 0
           },
           {
            "bin_end": 1.2000000000000002,
            "bin_start": 1,
            "count": 63
           },
           {
            "bin_end": 1.4000000000000001,
            "bin_start": 1.2000000000000002,
            "count": 0
           },
           {
            "bin_end": 1.6,
            "bin_start": 1.4000000000000001,
            "count": 0
           },
           {
            "bin_end": 1.8,
            "bin_start": 1.6,
            "count": 0
           },
           {
            "bin_end": 2,
            "bin_start": 1.8,
            "count": 276
           }
          ],
          "max": "2",
          "min": "0",
          "nan_count": 0,
          "unique_count": 3
         }
        },
        {
         "dtype": "int64",
         "name": "Arjuna",
         "stats": {
          "histogram": [
           {
            "bin_end": 0.3,
            "bin_start": 0,
            "count": 40
           },
           {
            "bin_end": 0.6,
            "bin_start": 0.3,
            "count": 0
           },
           {
            "bin_end": 0.8999999999999999,
            "bin_start": 0.6,
            "count": 0
           },
           {
            "bin_end": 1.2,
            "bin_start": 0.8999999999999999,
            "count": 196
           },
           {
            "bin_end": 1.5,
            "bin_start": 1.2,
            "count": 0
           },
           {
            "bin_end": 1.7999999999999998,
            "bin_start": 1.5,
            "count": 0
           },
           {
            "bin_end": 2.1,
            "bin_start": 1.7999999999999998,
            "count": 116
           },
           {
            "bin_end": 2.4,
            "bin_start": 2.1,
            "count": 0
           },
           {
            "bin_end": 2.6999999999999997,
            "bin_start": 2.4,
            "count": 0
           },
           {
            "bin_end": 3,
            "bin_start": 2.6999999999999997,
            "count": 148
           }
          ],
          "max": "3",
          "min": "0",
          "nan_count": 0,
          "unique_count": 4
         }
        },
        {
         "dtype": "int64",
         "name": "Areca_palm",
         "stats": {
          "histogram": [
           {
            "bin_end": 2.8,
            "bin_start": 2,
            "count": 38
           },
           {
            "bin_end": 3.6,
            "bin_start": 2.8,
            "count": 58
           },
           {
            "bin_end": 4.4,
            "bin_start": 3.6,
            "count": 1
           },
           {
            "bin_end": 5.2,
            "bin_start": 4.4,
            "count": 2
           },
           {
            "bin_end": 6,
            "bin_start": 5.2,
            "count": 0
           },
           {
            "bin_end": 6.800000000000001,
            "bin_start": 6,
            "count": 124
           },
           {
            "bin_end": 7.6000000000000005,
            "bin_start": 6.800000000000001,
            "count": 72
           },
           {
            "bin_end": 8.4,
            "bin_start": 7.6000000000000005,
            "count": 0
           },
           {
            "bin_end": 9.2,
            "bin_start": 8.4,
            "count": 57
           },
           {
            "bin_end": 10,
            "bin_start": 9.2,
            "count": 148
           }
          ],
          "max": "10",
          "min": "2",
          "nan_count": 0,
          "unique_count": 8
         }
        },
        {
         "dtype": "int64",
         "name": "Weeping_fig",
         "stats": {
          "histogram": [
           {
            "bin_end": 1.3,
            "bin_start": 0,
            "count": 1
           },
           {
            "bin_end": 2.6,
            "bin_start": 1.3,
            "count": 96
           },
           {
            "bin_end": 3.9000000000000004,
            "bin_start": 2.6,
            "count": 0
           },
           {
            "bin_end": 5.2,
            "bin_start": 3.9000000000000004,
            "count": 136
           },
           {
            "bin_end": 6.5,
            "bin_start": 5.2,
            "count": 61
           },
           {
            "bin_end": 7.800000000000001,
            "bin_start": 6.5,
            "count": 56
           },
           {
            "bin_end": 9.1,
            "bin_start": 7.800000000000001,
            "count": 80
           },
           {
            "bin_end": 10.4,
            "bin_start": 9.1,
            "count": 0
           },
           {
            "bin_end": 11.700000000000001,
            "bin_start": 10.4,
            "count": 0
           },
           {
            "bin_end": 13,
            "bin_start": 11.700000000000001,
            "count": 70
           }
          ],
          "max": "13",
          "min": "0",
          "nan_count": 0,
          "unique_count": 9
         }
        },
        {
         "dtype": "int64",
         "name": "Grebera_Daisy",
         "stats": {
          "histogram": [
           {
            "bin_end": 3,
            "bin_start": 2,
            "count": 58
           },
           {
            "bin_end": 4,
            "bin_start": 3,
            "count": 111
           },
           {
            "bin_end": 5,
            "bin_start": 4,
            "count": 63
           },
           {
            "bin_end": 6,
            "bin_start": 5,
            "count": 1
           },
           {
            "bin_end": 7,
            "bin_start": 6,
            "count": 60
           },
           {
            "bin_end": 8,
            "bin_start": 7,
            "count": 2
           },
           {
            "bin_end": 9,
            "bin_start": 8,
            "count": 126
           },
           {
            "bin_end": 10,
            "bin_start": 9,
            "count": 1
           },
           {
            "bin_end": 11,
            "bin_start": 10,
            "count": 0
           },
           {
            "bin_end": 12,
            "bin_start": 11,
            "count": 78
           }
          ],
          "max": "12",
          "min": "2",
          "nan_count": 0,
          "unique_count": 9
         }
        },
        {
         "dtype": "int64",
         "name": "Aloe_vera",
         "stats": {
          "histogram": [
           {
            "bin_end": 2.8,
            "bin_start": 2,
            "count": 58
           },
           {
            "bin_end": 3.6,
            "bin_start": 2.8,
            "count": 162
           },
           {
            "bin_end": 4.4,
            "bin_start": 3.6,
            "count": 72
           },
           {
            "bin_end": 5.2,
            "bin_start": 4.4,
            "count": 57
           },
           {
            "bin_end": 6,
            "bin_start": 5.2,
            "count": 0
           },
           {
            "bin_end": 6.800000000000001,
            "bin_start": 6,
            "count": 0
           },
           {
            "bin_end": 7.6000000000000005,
            "bin_start": 6.800000000000001,
            "count": 2
           },
           {
            "bin_end": 8.4,
            "bin_start": 7.6000000000000005,
            "count": 71
           },
           {
            "bin_end": 9.2,
            "bin_start": 8.4,
            "count": 0
           },
           {
            "bin_end": 10,
            "bin_start": 9.2,
            "count": 78
           }
          ],
          "max": "10",
          "min": "2",
          "nan_count": 0,
          "unique_count": 7
         }
        },
        {
         "dtype": "int64",
         "name": "Tulsi",
         "stats": {
          "histogram": [
           {
            "bin_end": 3.7,
            "bin_start": 2,
            "count": 39
           },
           {
            "bin_end": 5.4,
            "bin_start": 3.7,
            "count": 60
           },
           {
            "bin_end": 7.1,
            "bin_start": 5.4,
            "count": 64
           },
           {
            "bin_end": 8.8,
            "bin_start": 7.1,
            "count": 72
           },
           {
            "bin_end": 10.5,
            "bin_start": 8.8,
            "count": 60
           },
           {
            "bin_end": 12.2,
            "bin_start": 10.5,
            "count": 0
           },
           {
            "bin_end": 13.9,
            "bin_start": 12.2,
            "count": 56
           },
           {
            "bin_end": 15.6,
            "bin_start": 13.9,
            "count": 79
           },
           {
            "bin_end": 17.299999999999997,
            "bin_start": 15.6,
            "count": 0
           },
           {
            "bin_end": 19,
            "bin_start": 17.299999999999997,
            "count": 70
           }
          ],
          "max": "19",
          "min": "2",
          "nan_count": 0,
          "unique_count": 10
         }
        },
        {
         "dtype": "int64",
         "name": "Pothos_plant",
         "stats": {
          "histogram": [
           {
            "bin_end": 2.7,
            "bin_start": 2,
            "count": 38
           },
           {
            "bin_end": 3.4,
            "bin_start": 2.7,
            "count": 0
           },
           {
            "bin_end": 4.1,
            "bin_start": 3.4,
            "count": 1
           },
           {
            "bin_end": 4.8,
            "bin_start": 4.1,
            "count": 0
           },
           {
            "bin_end": 5.5,
            "bin_start": 4.8,
            "count": 122
           },
           {
            "bin_end": 6.199999999999999,
            "bin_start": 5.5,
            "count": 133
           },
           {
            "bin_end": 6.8999999999999995,
            "bin_start": 6.199999999999999,
            "count": 0
           },
           {
            "bin_end": 7.6,
            "bin_start": 6.8999999999999995,
            "count": 56
           },
           {
            "bin_end": 8.3,
            "bin_start": 7.6,
            "count": 80
           },
           {
            "bin_end": 9,
            "bin_start": 8.3,
            "count": 70
           }
          ],
          "max": "9",
          "min": "2",
          "nan_count": 0,
          "unique_count": 7
         }
        },
        {
         "dtype": "int64",
         "name": "_deepnote_index_column"
        }
       ],
       "row_count": 500,
       "rows": [
        {
         "Aloe_vera": "3",
         "Area": "2000",
         "Area_left": "250",
         "Areca_palm": "5",
         "Arjuna": "0",
         "Ash": "0",
         "Ashok": "0",
         "COb": "2331",
         "Grebera_Daisy": "3",
         "Neem": "2",
         "OE": "33762",
         "Poplar": "3",
         "Pothos_plant": "4",
         "Tulsi": "2",
         "Weeping_fig": "4",
         "Willow": "0",
         "_deepnote_index_column": "499",
         "considerable plants": "14",
         "considerble trees": "28"
        },
        {
         "Aloe_vera": "3",
         "Area": "2016",
         "Area_left": "252",
         "Areca_palm": "10",
         "Arjuna": "3",
         "Ash": "2",
         "Ashok": "2",
         "COb": "2352",
         "Grebera_Daisy": "3",
         "Neem": "5",
         "OE": "33880",
         "Poplar": "4",
         "Pothos_plant": "9",
         "Tulsi": "3",
         "Weeping_fig": "2",
         "Willow": "2",
         "_deepnote_index_column": "350",
         "considerable plants": "14",
         "considerble trees": "28"
        },
        {
         "Aloe_vera": "4",
         "Area": "2016",
         "Area_left": "252",
         "Areca_palm": "2",
         "Arjuna": "0",
         "Ash": "0",
         "Ashok": "0",
         "COb": "2352",
         "Grebera_Daisy": "3",
         "Neem": "2",
         "OE": "33880",
         "Poplar": "1",
         "Pothos_plant": "9",
         "Tulsi": "8",
         "Weeping_fig": "5",
         "Willow": "0",
         "_deepnote_index_column": "212",
         "considerable plants": "14",
         "considerble trees": "28"
        },
        {
         "Aloe_vera": "2",
         "Area": "2017",
         "Area_left": "252",
         "Areca_palm": "10",
         "Arjuna": "3",
         "Ash": "3",
         "Ashok": "2",
         "COb": "2352",
         "Grebera_Daisy": "2",
         "Neem": "4",
         "OE": "33880",
         "Poplar": "4",
         "Pothos_plant": "2",
         "Tulsi": "5",
         "Weeping_fig": "2",
         "Willow": "2",
         "_deepnote_index_column": "47",
         "considerable plants": "14",
         "considerble trees": "28"
        },
        {
         "Aloe_vera": "5",
         "Area": "2033",
         "Area_left": "254",
         "Areca_palm": "10",
         "Arjuna": "3",
         "Ash": "2",
         "Ashok": "2",
         "COb": "2373",
         "Grebera_Daisy": "8",
         "Neem": "5",
         "OE": "33998",
         "Poplar": "4",
         "Pothos_plant": "5",
         "Tulsi": "13",
         "Weeping_fig": "7",
         "Willow": "2",
         "_deepnote_index_column": "274",
         "considerable plants": "14",
         "considerble trees": "28"
        },
        {
         "Aloe_vera": "4",
         "Area": "2059",
         "Area_left": "257",
         "Areca_palm": "10",
         "Arjuna": "3",
         "Ash": "3",
         "Ashok": "2",
         "COb": "2415",
         "Grebera_Daisy": "3",
         "Neem": "4",
         "OE": "34603",
         "Poplar": "4",
         "Pothos_plant": "5",
         "Tulsi": "8",
         "Weeping_fig": "5",
         "Willow": "2",
         "_deepnote_index_column": "245",
         "considerable plants": "14",
         "considerble trees": "29"
        },
        {
         "Aloe_vera": "10",
         "Area": "2062",
         "Area_left": "258",
         "Areca_palm": "3",
         "Arjuna": "1",
         "Ash": "1",
         "Ashok": "0",
         "COb": "2415",
         "Grebera_Daisy": "12",
         "Neem": "3",
         "OE": "34603",
         "Poplar": "1",
         "Pothos_plant": "2",
         "Tulsi": "15",
         "Weeping_fig": "9",
         "Willow": "0",
         "_deepnote_index_column": "27",
         "considerable plants": "14",
         "considerble trees": "29"
        },
        {
         "Aloe_vera": "10",
         "Area": "2080",
         "Area_left": "260",
         "Areca_palm": "2",
         "Arjuna": "0",
         "Ash": "0",
         "Ashok": "0",
         "COb": "2415",
         "Grebera_Daisy": "12",
         "Neem": "2",
         "OE": "34972",
         "Poplar": "1",
         "Pothos_plant": "6",
         "Tulsi": "15",
         "Weeping_fig": "9",
         "Willow": "0",
         "_deepnote_index_column": "229",
         "considerable plants": "14",
         "considerble trees": "29"
        },
        {
         "Aloe_vera": "3",
         "Area": "2081",
         "Area_left": "260",
         "Areca_palm": "10",
         "Arjuna": "3",
         "Ash": "2",
         "Ashok": "2",
         "COb": "2415",
         "Grebera_Daisy": "3",
         "Neem": "5",
         "OE": "34972",
         "Poplar": "4",
         "Pothos_plant": "5",
         "Tulsi": "3",
         "Weeping_fig": "2",
         "Willow": "2",
         "_deepnote_index_column": "176",
         "considerable plants": "14",
         "considerble trees": "29"
        },
        {
         "Aloe_vera": "10",
         "Area": "2086",
         "Area_left": "261",
         "Areca_palm": "6",
         "Arjuna": "1",
         "Ash": "1",
         "Ashok": "0",
         "COb": "2436",
         "Grebera_Daisy": "12",
         "Neem": "3",
         "OE": "35090",
         "Poplar": "1",
         "Pothos_plant": "2",
         "Tulsi": "15",
         "Weeping_fig": "9",
         "Willow": "1",
         "_deepnote_index_column": "143",
         "considerable plants": "14",
         "considerble trees": "29"
        }
       ]
      },
      "text/html": [
       "<div>\n",
       "<style scoped>\n",
       "    .dataframe tbody tr th:only-of-type {\n",
       "        vertical-align: middle;\n",
       "    }\n",
       "\n",
       "    .dataframe tbody tr th {\n",
       "        vertical-align: top;\n",
       "    }\n",
       "\n",
       "    .dataframe thead th {\n",
       "        text-align: right;\n",
       "    }\n",
       "</style>\n",
       "<table border=\"1\" class=\"dataframe\">\n",
       "  <thead>\n",
       "    <tr style=\"text-align: right;\">\n",
       "      <th></th>\n",
       "      <th>Area</th>\n",
       "      <th>OE</th>\n",
       "      <th>COb</th>\n",
       "      <th>Area_left</th>\n",
       "      <th>considerble trees</th>\n",
       "      <th>considerable plants</th>\n",
       "      <th>Neem</th>\n",
       "      <th>Ash</th>\n",
       "      <th>Willow</th>\n",
       "      <th>Poplar</th>\n",
       "      <th>Ashok</th>\n",
       "      <th>Arjuna</th>\n",
       "      <th>Areca_palm</th>\n",
       "      <th>Weeping_fig</th>\n",
       "      <th>Grebera_Daisy</th>\n",
       "      <th>Aloe_vera</th>\n",
       "      <th>Tulsi</th>\n",
       "      <th>Pothos_plant</th>\n",
       "    </tr>\n",
       "  </thead>\n",
       "  <tbody>\n",
       "    <tr>\n",
       "      <th>0</th>\n",
       "      <td>3760</td>\n",
       "      <td>63038</td>\n",
       "      <td>4389</td>\n",
       "      <td>470</td>\n",
       "      <td>52</td>\n",
       "      <td>26</td>\n",
       "      <td>3</td>\n",
       "      <td>1</td>\n",
       "      <td>1</td>\n",
       "      <td>1</td>\n",
       "      <td>0</td>\n",
       "      <td>1</td>\n",
       "      <td>6</td>\n",
       "      <td>4</td>\n",
       "      <td>4</td>\n",
       "      <td>3</td>\n",
       "      <td>7</td>\n",
       "      <td>5</td>\n",
       "    </tr>\n",
       "    <tr>\n",
       "      <th>1</th>\n",
       "      <td>4310</td>\n",
       "      <td>72482</td>\n",
       "      <td>5019</td>\n",
       "      <td>539</td>\n",
       "      <td>60</td>\n",
       "      <td>30</td>\n",
       "      <td>3</td>\n",
       "      <td>1</td>\n",
       "      <td>1</td>\n",
       "      <td>1</td>\n",
       "      <td>0</td>\n",
       "      <td>1</td>\n",
       "      <td>6</td>\n",
       "      <td>4</td>\n",
       "      <td>4</td>\n",
       "      <td>3</td>\n",
       "      <td>7</td>\n",
       "      <td>6</td>\n",
       "    </tr>\n",
       "    <tr>\n",
       "      <th>2</th>\n",
       "      <td>5773</td>\n",
       "      <td>96918</td>\n",
       "      <td>6741</td>\n",
       "      <td>722</td>\n",
       "      <td>80</td>\n",
       "      <td>40</td>\n",
       "      <td>3</td>\n",
       "      <td>1</td>\n",
       "      <td>1</td>\n",
       "      <td>1</td>\n",
       "      <td>0</td>\n",
       "      <td>1</td>\n",
       "      <td>6</td>\n",
       "      <td>5</td>\n",
       "      <td>3</td>\n",
       "      <td>4</td>\n",
       "      <td>8</td>\n",
       "      <td>7</td>\n",
       "    </tr>\n",
       "    <tr>\n",
       "      <th>3</th>\n",
       "      <td>4384</td>\n",
       "      <td>73692</td>\n",
       "      <td>5103</td>\n",
       "      <td>548</td>\n",
       "      <td>61</td>\n",
       "      <td>30</td>\n",
       "      <td>3</td>\n",
       "      <td>1</td>\n",
       "      <td>1</td>\n",
       "      <td>2</td>\n",
       "      <td>2</td>\n",
       "      <td>1</td>\n",
       "      <td>7</td>\n",
       "      <td>7</td>\n",
       "      <td>8</td>\n",
       "      <td>5</td>\n",
       "      <td>13</td>\n",
       "      <td>6</td>\n",
       "    </tr>\n",
       "    <tr>\n",
       "      <th>4</th>\n",
       "      <td>7249</td>\n",
       "      <td>121723</td>\n",
       "      <td>8463</td>\n",
       "      <td>906</td>\n",
       "      <td>101</td>\n",
       "      <td>50</td>\n",
       "      <td>4</td>\n",
       "      <td>2</td>\n",
       "      <td>2</td>\n",
       "      <td>3</td>\n",
       "      <td>2</td>\n",
       "      <td>2</td>\n",
       "      <td>9</td>\n",
       "      <td>5</td>\n",
       "      <td>3</td>\n",
       "      <td>4</td>\n",
       "      <td>8</td>\n",
       "      <td>9</td>\n",
       "    </tr>\n",
       "    <tr>\n",
       "      <th>...</th>\n",
       "      <td>...</td>\n",
       "      <td>...</td>\n",
       "      <td>...</td>\n",
       "      <td>...</td>\n",
       "      <td>...</td>\n",
       "      <td>...</td>\n",
       "      <td>...</td>\n",
       "      <td>...</td>\n",
       "      <td>...</td>\n",
       "      <td>...</td>\n",
       "      <td>...</td>\n",
       "      <td>...</td>\n",
       "      <td>...</td>\n",
       "      <td>...</td>\n",
       "      <td>...</td>\n",
       "      <td>...</td>\n",
       "      <td>...</td>\n",
       "      <td>...</td>\n",
       "    </tr>\n",
       "    <tr>\n",
       "      <th>495</th>\n",
       "      <td>5146</td>\n",
       "      <td>86515</td>\n",
       "      <td>6006</td>\n",
       "      <td>643</td>\n",
       "      <td>72</td>\n",
       "      <td>36</td>\n",
       "      <td>2</td>\n",
       "      <td>0</td>\n",
       "      <td>0</td>\n",
       "      <td>1</td>\n",
       "      <td>0</td>\n",
       "      <td>0</td>\n",
       "      <td>2</td>\n",
       "      <td>0</td>\n",
       "      <td>7</td>\n",
       "      <td>7</td>\n",
       "      <td>5</td>\n",
       "      <td>6</td>\n",
       "    </tr>\n",
       "    <tr>\n",
       "      <th>496</th>\n",
       "      <td>7517</td>\n",
       "      <td>126327</td>\n",
       "      <td>8757</td>\n",
       "      <td>940</td>\n",
       "      <td>104</td>\n",
       "      <td>52</td>\n",
       "      <td>4</td>\n",
       "      <td>1</td>\n",
       "      <td>1</td>\n",
       "      <td>4</td>\n",
       "      <td>1</td>\n",
       "      <td>1</td>\n",
       "      <td>9</td>\n",
       "      <td>8</td>\n",
       "      <td>9</td>\n",
       "      <td>7</td>\n",
       "      <td>15</td>\n",
       "      <td>8</td>\n",
       "    </tr>\n",
       "    <tr>\n",
       "      <th>497</th>\n",
       "      <td>7269</td>\n",
       "      <td>122210</td>\n",
       "      <td>8484</td>\n",
       "      <td>909</td>\n",
       "      <td>101</td>\n",
       "      <td>50</td>\n",
       "      <td>4</td>\n",
       "      <td>1</td>\n",
       "      <td>2</td>\n",
       "      <td>3</td>\n",
       "      <td>1</td>\n",
       "      <td>1</td>\n",
       "      <td>4</td>\n",
       "      <td>9</td>\n",
       "      <td>7</td>\n",
       "      <td>8</td>\n",
       "      <td>5</td>\n",
       "      <td>5</td>\n",
       "    </tr>\n",
       "    <tr>\n",
       "      <th>498</th>\n",
       "      <td>4637</td>\n",
       "      <td>77927</td>\n",
       "      <td>5397</td>\n",
       "      <td>580</td>\n",
       "      <td>64</td>\n",
       "      <td>32</td>\n",
       "      <td>3</td>\n",
       "      <td>1</td>\n",
       "      <td>1</td>\n",
       "      <td>2</td>\n",
       "      <td>1</td>\n",
       "      <td>0</td>\n",
       "      <td>5</td>\n",
       "      <td>6</td>\n",
       "      <td>5</td>\n",
       "      <td>5</td>\n",
       "      <td>6</td>\n",
       "      <td>8</td>\n",
       "    </tr>\n",
       "    <tr>\n",
       "      <th>499</th>\n",
       "      <td>2000</td>\n",
       "      <td>33762</td>\n",
       "      <td>2331</td>\n",
       "      <td>250</td>\n",
       "      <td>28</td>\n",
       "      <td>14</td>\n",
       "      <td>2</td>\n",
       "      <td>0</td>\n",
       "      <td>0</td>\n",
       "      <td>3</td>\n",
       "      <td>0</td>\n",
       "      <td>0</td>\n",
       "      <td>5</td>\n",
       "      <td>4</td>\n",
       "      <td>3</td>\n",
       "      <td>3</td>\n",
       "      <td>2</td>\n",
       "      <td>4</td>\n",
       "    </tr>\n",
       "  </tbody>\n",
       "</table>\n",
       "<p>500 rows × 18 columns</p>\n",
       "</div>"
      ],
      "text/plain": [
       "     Area      OE   COb  Area_left  considerble trees  considerable plants  \\\n",
       "0    3760   63038  4389        470                 52                   26   \n",
       "1    4310   72482  5019        539                 60                   30   \n",
       "2    5773   96918  6741        722                 80                   40   \n",
       "3    4384   73692  5103        548                 61                   30   \n",
       "4    7249  121723  8463        906                101                   50   \n",
       "..    ...     ...   ...        ...                ...                  ...   \n",
       "495  5146   86515  6006        643                 72                   36   \n",
       "496  7517  126327  8757        940                104                   52   \n",
       "497  7269  122210  8484        909                101                   50   \n",
       "498  4637   77927  5397        580                 64                   32   \n",
       "499  2000   33762  2331        250                 28                   14   \n",
       "\n",
       "     Neem  Ash  Willow  Poplar  Ashok  Arjuna  Areca_palm  Weeping_fig  \\\n",
       "0       3    1       1       1      0       1           6            4   \n",
       "1       3    1       1       1      0       1           6            4   \n",
       "2       3    1       1       1      0       1           6            5   \n",
       "3       3    1       1       2      2       1           7            7   \n",
       "4       4    2       2       3      2       2           9            5   \n",
       "..    ...  ...     ...     ...    ...     ...         ...          ...   \n",
       "495     2    0       0       1      0       0           2            0   \n",
       "496     4    1       1       4      1       1           9            8   \n",
       "497     4    1       2       3      1       1           4            9   \n",
       "498     3    1       1       2      1       0           5            6   \n",
       "499     2    0       0       3      0       0           5            4   \n",
       "\n",
       "     Grebera_Daisy  Aloe_vera  Tulsi  Pothos_plant  \n",
       "0                4          3      7             5  \n",
       "1                4          3      7             6  \n",
       "2                3          4      8             7  \n",
       "3                8          5     13             6  \n",
       "4                3          4      8             9  \n",
       "..             ...        ...    ...           ...  \n",
       "495              7          7      5             6  \n",
       "496              9          7     15             8  \n",
       "497              7          8      5             5  \n",
       "498              5          5      6             8  \n",
       "499              3          3      2             4  \n",
       "\n",
       "[500 rows x 18 columns]"
      ]
     },
     "execution_count": 28,
     "metadata": {},
     "output_type": "execute_result"
    }
   ],
   "source": [
    "data"
   ]
  },
  {
   "cell_type": "code",
   "execution_count": 27,
   "metadata": {
    "cell_id": "13c14626271a45f8934323feab650da8",
    "deepnote_cell_type": "visualization",
    "deepnote_to_be_reexecuted": false,
    "deepnote_variable_name": "data",
    "deepnote_visualization_spec": {
     "$schema": "https://vega.github.io/schema/vega-lite/v4.json",
     "autosize": {
      "type": "fit"
     },
     "data": {
      "name": "placeholder"
     },
     "encoding": {
      "color": {
       "field": "",
       "scale": {
        "type": "linear",
        "zero": false
       },
       "sort": null,
       "type": "nominal"
      },
      "x": {
       "field": "Area",
       "scale": {
        "type": "linear",
        "zero": false
       },
       "sort": null,
       "type": "quantitative"
      },
      "y": {
       "field": "Area_left",
       "scale": {
        "type": "linear",
        "zero": true
       },
       "sort": null,
       "type": "quantitative"
      }
     },
     "height": 220,
     "mark": {
      "tooltip": true,
      "type": "bar"
     }
    },
    "execution_millis": 63,
    "execution_start": 1662784642748,
    "source_hash": "1c2f7f88"
   },
   "outputs": [
    {
     "data": {
      "text/html": [
       "\n",
       "<div id=\"altair-viz-1a9dc7d0bc154e88b5b73a553021f77a\"></div>\n",
       "<script type=\"text/javascript\">\n",
       "  (function(spec, embedOpt){\n",
       "    let outputDiv = document.currentScript.previousElementSibling;\n",
       "    if (outputDiv.id !== \"altair-viz-1a9dc7d0bc154e88b5b73a553021f77a\") {\n",
       "      outputDiv = document.getElementById(\"altair-viz-1a9dc7d0bc154e88b5b73a553021f77a\");\n",
       "    }\n",
       "    const paths = {\n",
       "      \"vega\": \"https://cdn.jsdelivr.net/npm//vega@5?noext\",\n",
       "      \"vega-lib\": \"https://cdn.jsdelivr.net/npm//vega-lib?noext\",\n",
       "      \"vega-lite\": \"https://cdn.jsdelivr.net/npm//vega-lite@4.8.1?noext\",\n",
       "      \"vega-embed\": \"https://cdn.jsdelivr.net/npm//vega-embed@6?noext\",\n",
       "    };\n",
       "\n",
       "    function loadScript(lib) {\n",
       "      return new Promise(function(resolve, reject) {\n",
       "        var s = document.createElement('script');\n",
       "        s.src = paths[lib];\n",
       "        s.async = true;\n",
       "        s.onload = () => resolve(paths[lib]);\n",
       "        s.onerror = () => reject(`Error loading script: ${paths[lib]}`);\n",
       "        document.getElementsByTagName(\"head\")[0].appendChild(s);\n",
       "      });\n",
       "    }\n",
       "\n",
       "    function showError(err) {\n",
       "      outputDiv.innerHTML = `<div class=\"error\" style=\"color:red;\">${err}</div>`;\n",
       "      throw err;\n",
       "    }\n",
       "\n",
       "    function displayChart(vegaEmbed) {\n",
       "      vegaEmbed(outputDiv, spec, embedOpt)\n",
       "        .catch(err => showError(`Javascript Error: ${err.message}<br>This usually means there's a typo in your chart specification. See the javascript console for the full traceback.`));\n",
       "    }\n",
       "\n",
       "    if(typeof define === \"function\" && define.amd) {\n",
       "      requirejs.config({paths});\n",
       "      require([\"vega-embed\"], displayChart, err => showError(`Error loading script: ${err.message}`));\n",
       "    } else if (typeof vegaEmbed === \"function\") {\n",
       "      displayChart(vegaEmbed);\n",
       "    } else {\n",
       "      loadScript(\"vega\")\n",
       "        .then(() => loadScript(\"vega-lite\"))\n",
       "        .then(() => loadScript(\"vega-embed\"))\n",
       "        .catch(showError)\n",
       "        .then(() => displayChart(vegaEmbed));\n",
       "    }\n",
       "  })({\"config\": {\"view\": {\"continuousWidth\": 400, \"continuousHeight\": 300}, \"area\": {\"fill\": \"#51C0E9\"}, \"axis\": {\"labelFont\": \"Inter, sans-serif\", \"labelFontSize\": 12, \"labelFontWeight\": \"normal\", \"labelLimit\": 60, \"labelOverlap\": \"greedy\", \"titleFont\": \"Inter, sans-serif\", \"titleFontSize\": 12, \"titleFontWeight\": \"bold\"}, \"background\": \"#ffffff\", \"legend\": {\"labelFont\": \"Inter, sans-serif\", \"labelFontSize\": 12, \"titleFont\": \"Inter, sans-serif\", \"titleFontSize\": 12, \"titleFontWeight\": \"bold\"}, \"line\": {\"stroke\": \"#51C0E9\", \"strokeWidth\": 2}, \"rect\": {\"fill\": \"#51C0E9\"}, \"title\": {\"anchor\": \"start\", \"color\": \"#000000\", \"font\": \"Inter, sans-serif\", \"fontSize\": 22, \"fontWeight\": \"normal\"}}, \"data\": {\"name\": \"data-3b3afb73b4af22f55e325c9f852f969b\"}, \"mark\": {\"type\": \"bar\", \"tooltip\": true}, \"autosize\": {\"type\": \"fit\"}, \"encoding\": {\"color\": {\"type\": \"nominal\", \"field\": \"\", \"scale\": {\"type\": \"linear\", \"zero\": false}, \"sort\": null}, \"x\": {\"type\": \"quantitative\", \"field\": \"Area\", \"scale\": {\"type\": \"linear\", \"zero\": false}, \"sort\": null}, \"y\": {\"type\": \"quantitative\", \"field\": \"Area_left\", \"scale\": {\"type\": \"linear\", \"zero\": true}, \"sort\": null}}, \"height\": 300, \"width\": \"container\", \"$schema\": \"https://vega.github.io/schema/vega-lite/v4.json\", \"datasets\": {\"data-3b3afb73b4af22f55e325c9f852f969b\": [{\"Area\": 3760, \"OE\": 63038, \"COb\": 4389, \"Area_left\": 470, \"considerble trees\": 52, \"considerable plants\": 26, \"Neem\": 3, \"Ash\": 1, \"Willow\": 1, \"Poplar\": 1, \"Ashok\": 0, \"Arjuna\": 1, \"Areca_palm\": 6, \"Weeping_fig\": 4, \"Grebera_Daisy\": 4, \"Aloe_vera\": 3, \"Tulsi\": 7, \"Pothos_plant\": 5}, {\"Area\": 4310, \"OE\": 72482, \"COb\": 5019, \"Area_left\": 539, \"considerble trees\": 60, \"considerable plants\": 30, \"Neem\": 3, \"Ash\": 1, \"Willow\": 1, \"Poplar\": 1, \"Ashok\": 0, \"Arjuna\": 1, \"Areca_palm\": 6, \"Weeping_fig\": 4, \"Grebera_Daisy\": 4, \"Aloe_vera\": 3, \"Tulsi\": 7, \"Pothos_plant\": 6}, {\"Area\": 5773, \"OE\": 96918, \"COb\": 6741, \"Area_left\": 722, \"considerble trees\": 80, \"considerable plants\": 40, \"Neem\": 3, \"Ash\": 1, \"Willow\": 1, \"Poplar\": 1, \"Ashok\": 0, \"Arjuna\": 1, \"Areca_palm\": 6, \"Weeping_fig\": 5, \"Grebera_Daisy\": 3, \"Aloe_vera\": 4, \"Tulsi\": 8, \"Pothos_plant\": 7}, {\"Area\": 4384, \"OE\": 73692, \"COb\": 5103, \"Area_left\": 548, \"considerble trees\": 61, \"considerable plants\": 30, \"Neem\": 3, \"Ash\": 1, \"Willow\": 1, \"Poplar\": 2, \"Ashok\": 2, \"Arjuna\": 1, \"Areca_palm\": 7, \"Weeping_fig\": 7, \"Grebera_Daisy\": 8, \"Aloe_vera\": 5, \"Tulsi\": 13, \"Pothos_plant\": 6}, {\"Area\": 7249, \"OE\": 121723, \"COb\": 8463, \"Area_left\": 906, \"considerble trees\": 101, \"considerable plants\": 50, \"Neem\": 4, \"Ash\": 2, \"Willow\": 2, \"Poplar\": 3, \"Ashok\": 2, \"Arjuna\": 2, \"Areca_palm\": 9, \"Weeping_fig\": 5, \"Grebera_Daisy\": 3, \"Aloe_vera\": 4, \"Tulsi\": 8, \"Pothos_plant\": 9}, {\"Area\": 5629, \"OE\": 94498, \"COb\": 6573, \"Area_left\": 704, \"considerble trees\": 78, \"considerable plants\": 39, \"Neem\": 3, \"Ash\": 1, \"Willow\": 1, \"Poplar\": 2, \"Ashok\": 2, \"Arjuna\": 1, \"Areca_palm\": 7, \"Weeping_fig\": 13, \"Grebera_Daisy\": 8, \"Aloe_vera\": 8, \"Tulsi\": 19, \"Pothos_plant\": 7}, {\"Area\": 4445, \"OE\": 74533, \"COb\": 5187, \"Area_left\": 556, \"considerble trees\": 62, \"considerable plants\": 31, \"Neem\": 4, \"Ash\": 3, \"Willow\": 2, \"Poplar\": 4, \"Ashok\": 2, \"Arjuna\": 3, \"Areca_palm\": 10, \"Weeping_fig\": 7, \"Grebera_Daisy\": 8, \"Aloe_vera\": 5, \"Tulsi\": 13, \"Pothos_plant\": 6}, {\"Area\": 7212, \"OE\": 121118, \"COb\": 8421, \"Area_left\": 902, \"considerble trees\": 100, \"considerable plants\": 50, \"Neem\": 4, \"Ash\": 2, \"Willow\": 2, \"Poplar\": 3, \"Ashok\": 2, \"Arjuna\": 2, \"Areca_palm\": 9, \"Weeping_fig\": 5, \"Grebera_Daisy\": 3, \"Aloe_vera\": 4, \"Tulsi\": 8, \"Pothos_plant\": 9}, {\"Area\": 5627, \"OE\": 94498, \"COb\": 6573, \"Area_left\": 703, \"considerble trees\": 78, \"considerable plants\": 39, \"Neem\": 3, \"Ash\": 1, \"Willow\": 1, \"Poplar\": 2, \"Ashok\": 2, \"Arjuna\": 1, \"Areca_palm\": 7, \"Weeping_fig\": 13, \"Grebera_Daisy\": 8, \"Aloe_vera\": 8, \"Tulsi\": 19, \"Pothos_plant\": 7}, {\"Area\": 2681, \"OE\": 44888, \"COb\": 3129, \"Area_left\": 335, \"considerble trees\": 37, \"considerable plants\": 18, \"Neem\": 4, \"Ash\": 3, \"Willow\": 2, \"Poplar\": 4, \"Ashok\": 2, \"Arjuna\": 3, \"Areca_palm\": 10, \"Weeping_fig\": 7, \"Grebera_Daisy\": 8, \"Aloe_vera\": 5, \"Tulsi\": 13, \"Pothos_plant\": 5}, {\"Area\": 6659, \"OE\": 111925, \"COb\": 7770, \"Area_left\": 832, \"considerble trees\": 92, \"considerable plants\": 46, \"Neem\": 4, \"Ash\": 2, \"Willow\": 2, \"Poplar\": 3, \"Ashok\": 2, \"Arjuna\": 2, \"Areca_palm\": 9, \"Weeping_fig\": 2, \"Grebera_Daisy\": 2, \"Aloe_vera\": 2, \"Tulsi\": 5, \"Pothos_plant\": 8}, {\"Area\": 6730, \"OE\": 113135, \"COb\": 7854, \"Area_left\": 841, \"considerble trees\": 94, \"considerable plants\": 47, \"Neem\": 3, \"Ash\": 1, \"Willow\": 0, \"Poplar\": 1, \"Ashok\": 0, \"Arjuna\": 1, \"Areca_palm\": 3, \"Weeping_fig\": 9, \"Grebera_Daisy\": 12, \"Aloe_vera\": 10, \"Tulsi\": 15, \"Pothos_plant\": 8}, {\"Area\": 7156, \"OE\": 120277, \"COb\": 8337, \"Area_left\": 894, \"considerble trees\": 99, \"considerable plants\": 50, \"Neem\": 5, \"Ash\": 2, \"Willow\": 2, \"Poplar\": 4, \"Ashok\": 2, \"Arjuna\": 3, \"Areca_palm\": 10, \"Weeping_fig\": 9, \"Grebera_Daisy\": 12, \"Aloe_vera\": 10, \"Tulsi\": 15, \"Pothos_plant\": 8}, {\"Area\": 3650, \"OE\": 61223, \"COb\": 4263, \"Area_left\": 456, \"considerble trees\": 51, \"considerable plants\": 25, \"Neem\": 5, \"Ash\": 2, \"Willow\": 2, \"Poplar\": 4, \"Ashok\": 2, \"Arjuna\": 3, \"Areca_palm\": 10, \"Weeping_fig\": 9, \"Grebera_Daisy\": 12, \"Aloe_vera\": 10, \"Tulsi\": 15, \"Pothos_plant\": 5}, {\"Area\": 4808, \"OE\": 80952, \"COb\": 5607, \"Area_left\": 601, \"considerble trees\": 67, \"considerable plants\": 34, \"Neem\": 5, \"Ash\": 2, \"Willow\": 2, \"Poplar\": 4, \"Ashok\": 2, \"Arjuna\": 3, \"Areca_palm\": 10, \"Weeping_fig\": 4, \"Grebera_Daisy\": 4, \"Aloe_vera\": 3, \"Tulsi\": 7, \"Pothos_plant\": 6}, {\"Area\": 6514, \"OE\": 109505, \"COb\": 7602, \"Area_left\": 814, \"considerble trees\": 90, \"considerable plants\": 45, \"Neem\": 3, \"Ash\": 1, \"Willow\": 1, \"Poplar\": 1, \"Ashok\": 0, \"Arjuna\": 1, \"Areca_palm\": 6, \"Weeping_fig\": 6, \"Grebera_Daisy\": 6, \"Aloe_vera\": 3, \"Tulsi\": 10, \"Pothos_plant\": 8}, {\"Area\": 4469, \"OE\": 75020, \"COb\": 5208, \"Area_left\": 559, \"considerble trees\": 62, \"considerable plants\": 31, \"Neem\": 4, \"Ash\": 1, \"Willow\": 1, \"Poplar\": 3, \"Ashok\": 1, \"Arjuna\": 2, \"Areca_palm\": 6, \"Weeping_fig\": 9, \"Grebera_Daisy\": 12, \"Aloe_vera\": 10, \"Tulsi\": 15, \"Pothos_plant\": 6}, {\"Area\": 2793, \"OE\": 47072, \"COb\": 3255, \"Area_left\": 349, \"considerble trees\": 39, \"considerable plants\": 20, \"Neem\": 5, \"Ash\": 2, \"Willow\": 2, \"Poplar\": 4, \"Ashok\": 2, \"Arjuna\": 3, \"Areca_palm\": 10, \"Weeping_fig\": 5, \"Grebera_Daisy\": 3, \"Aloe_vera\": 4, \"Tulsi\": 8, \"Pothos_plant\": 5}, {\"Area\": 4835, \"OE\": 81188, \"COb\": 5649, \"Area_left\": 604, \"considerble trees\": 67, \"considerable plants\": 34, \"Neem\": 3, \"Ash\": 1, \"Willow\": 1, \"Poplar\": 2, \"Ashok\": 2, \"Arjuna\": 1, \"Areca_palm\": 7, \"Weeping_fig\": 2, \"Grebera_Daisy\": 2, \"Aloe_vera\": 2, \"Tulsi\": 5, \"Pothos_plant\": 6}, {\"Area\": 4881, \"OE\": 82162, \"COb\": 5691, \"Area_left\": 610, \"considerble trees\": 68, \"considerable plants\": 34, \"Neem\": 3, \"Ash\": 1, \"Willow\": 0, \"Poplar\": 1, \"Ashok\": 0, \"Arjuna\": 1, \"Areca_palm\": 3, \"Weeping_fig\": 6, \"Grebera_Daisy\": 6, \"Aloe_vera\": 3, \"Tulsi\": 10, \"Pothos_plant\": 6}, {\"Area\": 5837, \"OE\": 98010, \"COb\": 6804, \"Area_left\": 730, \"considerble trees\": 81, \"considerable plants\": 40, \"Neem\": 4, \"Ash\": 1, \"Willow\": 1, \"Poplar\": 3, \"Ashok\": 1, \"Arjuna\": 2, \"Areca_palm\": 6, \"Weeping_fig\": 6, \"Grebera_Daisy\": 6, \"Aloe_vera\": 3, \"Tulsi\": 10, \"Pothos_plant\": 7}, {\"Area\": 5710, \"OE\": 96077, \"COb\": 6657, \"Area_left\": 714, \"considerble trees\": 79, \"considerable plants\": 40, \"Neem\": 4, \"Ash\": 1, \"Willow\": 1, \"Poplar\": 3, \"Ashok\": 1, \"Arjuna\": 2, \"Areca_palm\": 6, \"Weeping_fig\": 7, \"Grebera_Daisy\": 8, \"Aloe_vera\": 5, \"Tulsi\": 13, \"Pothos_plant\": 7}, {\"Area\": 7804, \"OE\": 131167, \"COb\": 9093, \"Area_left\": 976, \"considerble trees\": 108, \"considerable plants\": 54, \"Neem\": 4, \"Ash\": 2, \"Willow\": 2, \"Poplar\": 3, \"Ashok\": 2, \"Arjuna\": 2, \"Areca_palm\": 9, \"Weeping_fig\": 7, \"Grebera_Daisy\": 8, \"Aloe_vera\": 5, \"Tulsi\": 13, \"Pothos_plant\": 9}, {\"Area\": 3885, \"OE\": 65340, \"COb\": 4536, \"Area_left\": 486, \"considerble trees\": 54, \"considerable plants\": 27, \"Neem\": 4, \"Ash\": 2, \"Willow\": 2, \"Poplar\": 3, \"Ashok\": 2, \"Arjuna\": 2, \"Areca_palm\": 9, \"Weeping_fig\": 13, \"Grebera_Daisy\": 8, \"Aloe_vera\": 8, \"Tulsi\": 19, \"Pothos_plant\": 5}, {\"Area\": 3604, \"OE\": 60500, \"COb\": 4200, \"Area_left\": 450, \"considerble trees\": 50, \"considerable plants\": 25, \"Neem\": 4, \"Ash\": 3, \"Willow\": 2, \"Poplar\": 4, \"Ashok\": 2, \"Arjuna\": 3, \"Areca_palm\": 10, \"Weeping_fig\": 4, \"Grebera_Daisy\": 4, \"Aloe_vera\": 3, \"Tulsi\": 7, \"Pothos_plant\": 5}, {\"Area\": 3008, \"OE\": 50702, \"COb\": 3507, \"Area_left\": 376, \"considerble trees\": 42, \"considerable plants\": 21, \"Neem\": 3, \"Ash\": 1, \"Willow\": 1, \"Poplar\": 1, \"Ashok\": 0, \"Arjuna\": 1, \"Areca_palm\": 6, \"Weeping_fig\": 4, \"Grebera_Daisy\": 4, \"Aloe_vera\": 3, \"Tulsi\": 7, \"Pothos_plant\": 5}, {\"Area\": 7115, \"OE\": 119672, \"COb\": 8295, \"Area_left\": 889, \"considerble trees\": 99, \"considerable plants\": 50, \"Neem\": 3, \"Ash\": 1, \"Willow\": 1, \"Poplar\": 1, \"Ashok\": 0, \"Arjuna\": 1, \"Areca_palm\": 6, \"Weeping_fig\": 2, \"Grebera_Daisy\": 2, \"Aloe_vera\": 2, \"Tulsi\": 5, \"Pothos_plant\": 8}, {\"Area\": 2062, \"OE\": 34603, \"COb\": 2415, \"Area_left\": 258, \"considerble trees\": 29, \"considerable plants\": 14, \"Neem\": 3, \"Ash\": 1, \"Willow\": 0, \"Poplar\": 1, \"Ashok\": 0, \"Arjuna\": 1, \"Areca_palm\": 3, \"Weeping_fig\": 9, \"Grebera_Daisy\": 12, \"Aloe_vera\": 10, \"Tulsi\": 15, \"Pothos_plant\": 2}, {\"Area\": 7035, \"OE\": 118093, \"COb\": 8211, \"Area_left\": 879, \"considerble trees\": 98, \"considerable plants\": 49, \"Neem\": 5, \"Ash\": 2, \"Willow\": 2, \"Poplar\": 4, \"Ashok\": 2, \"Arjuna\": 3, \"Areca_palm\": 10, \"Weeping_fig\": 2, \"Grebera_Daisy\": 3, \"Aloe_vera\": 3, \"Tulsi\": 3, \"Pothos_plant\": 8}, {\"Area\": 4027, \"OE\": 67760, \"COb\": 4704, \"Area_left\": 503, \"considerble trees\": 56, \"considerable plants\": 28, \"Neem\": 2, \"Ash\": 0, \"Willow\": 0, \"Poplar\": 1, \"Ashok\": 0, \"Arjuna\": 0, \"Areca_palm\": 2, \"Weeping_fig\": 9, \"Grebera_Daisy\": 12, \"Aloe_vera\": 10, \"Tulsi\": 15, \"Pothos_plant\": 6}, {\"Area\": 5787, \"OE\": 97287, \"COb\": 6741, \"Area_left\": 723, \"considerble trees\": 80, \"considerable plants\": 40, \"Neem\": 5, \"Ash\": 2, \"Willow\": 2, \"Poplar\": 4, \"Ashok\": 2, \"Arjuna\": 3, \"Areca_palm\": 10, \"Weeping_fig\": 5, \"Grebera_Daisy\": 3, \"Aloe_vera\": 4, \"Tulsi\": 8, \"Pothos_plant\": 7}, {\"Area\": 7577, \"OE\": 127168, \"COb\": 8841, \"Area_left\": 947, \"considerble trees\": 105, \"considerable plants\": 52, \"Neem\": 3, \"Ash\": 1, \"Willow\": 1, \"Poplar\": 2, \"Ashok\": 2, \"Arjuna\": 1, \"Areca_palm\": 7, \"Weeping_fig\": 7, \"Grebera_Daisy\": 8, \"Aloe_vera\": 5, \"Tulsi\": 13, \"Pothos_plant\": 9}, {\"Area\": 6135, \"OE\": 102968, \"COb\": 7161, \"Area_left\": 767, \"considerble trees\": 85, \"considerable plants\": 42, \"Neem\": 4, \"Ash\": 2, \"Willow\": 2, \"Poplar\": 3, \"Ashok\": 2, \"Arjuna\": 2, \"Areca_palm\": 9, \"Weeping_fig\": 13, \"Grebera_Daisy\": 8, \"Aloe_vera\": 8, \"Tulsi\": 19, \"Pothos_plant\": 7}, {\"Area\": 6143, \"OE\": 103337, \"COb\": 7161, \"Area_left\": 768, \"considerble trees\": 85, \"considerable plants\": 43, \"Neem\": 4, \"Ash\": 3, \"Willow\": 2, \"Poplar\": 4, \"Ashok\": 2, \"Arjuna\": 3, \"Areca_palm\": 10, \"Weeping_fig\": 7, \"Grebera_Daisy\": 8, \"Aloe_vera\": 5, \"Tulsi\": 13, \"Pothos_plant\": 7}, {\"Area\": 4653, \"OE\": 78163, \"COb\": 5439, \"Area_left\": 582, \"considerble trees\": 65, \"considerable plants\": 32, \"Neem\": 4, \"Ash\": 2, \"Willow\": 2, \"Poplar\": 3, \"Ashok\": 2, \"Arjuna\": 2, \"Areca_palm\": 9, \"Weeping_fig\": 7, \"Grebera_Daisy\": 8, \"Aloe_vera\": 5, \"Tulsi\": 13, \"Pothos_plant\": 6}, {\"Area\": 6864, \"OE\": 115437, \"COb\": 8001, \"Area_left\": 858, \"considerble trees\": 95, \"considerable plants\": 48, \"Neem\": 4, \"Ash\": 2, \"Willow\": 2, \"Poplar\": 3, \"Ashok\": 2, \"Arjuna\": 2, \"Areca_palm\": 9, \"Weeping_fig\": 5, \"Grebera_Daisy\": 3, \"Aloe_vera\": 4, \"Tulsi\": 8, \"Pothos_plant\": 8}, {\"Area\": 4408, \"OE\": 73928, \"COb\": 5145, \"Area_left\": 551, \"considerble trees\": 61, \"considerable plants\": 30, \"Neem\": 3, \"Ash\": 1, \"Willow\": 1, \"Poplar\": 2, \"Ashok\": 2, \"Arjuna\": 1, \"Areca_palm\": 7, \"Weeping_fig\": 9, \"Grebera_Daisy\": 12, \"Aloe_vera\": 10, \"Tulsi\": 15, \"Pothos_plant\": 6}, {\"Area\": 7261, \"OE\": 122092, \"COb\": 8463, \"Area_left\": 908, \"considerble trees\": 101, \"considerable plants\": 50, \"Neem\": 5, \"Ash\": 2, \"Willow\": 2, \"Poplar\": 4, \"Ashok\": 2, \"Arjuna\": 3, \"Areca_palm\": 10, \"Weeping_fig\": 5, \"Grebera_Daisy\": 3, \"Aloe_vera\": 4, \"Tulsi\": 8, \"Pothos_plant\": 9}, {\"Area\": 7653, \"OE\": 128747, \"COb\": 8925, \"Area_left\": 957, \"considerble trees\": 106, \"considerable plants\": 53, \"Neem\": 3, \"Ash\": 1, \"Willow\": 1, \"Poplar\": 2, \"Ashok\": 2, \"Arjuna\": 1, \"Areca_palm\": 7, \"Weeping_fig\": 13, \"Grebera_Daisy\": 8, \"Aloe_vera\": 8, \"Tulsi\": 19, \"Pothos_plant\": 9}, {\"Area\": 6525, \"OE\": 109623, \"COb\": 7623, \"Area_left\": 816, \"considerble trees\": 91, \"considerable plants\": 45, \"Neem\": 4, \"Ash\": 3, \"Willow\": 2, \"Poplar\": 4, \"Ashok\": 2, \"Arjuna\": 3, \"Areca_palm\": 10, \"Weeping_fig\": 13, \"Grebera_Daisy\": 8, \"Aloe_vera\": 8, \"Tulsi\": 19, \"Pothos_plant\": 8}, {\"Area\": 5630, \"OE\": 94498, \"COb\": 6573, \"Area_left\": 704, \"considerble trees\": 78, \"considerable plants\": 39, \"Neem\": 4, \"Ash\": 3, \"Willow\": 2, \"Poplar\": 4, \"Ashok\": 2, \"Arjuna\": 3, \"Areca_palm\": 10, \"Weeping_fig\": 9, \"Grebera_Daisy\": 12, \"Aloe_vera\": 10, \"Tulsi\": 15, \"Pothos_plant\": 7}, {\"Area\": 6303, \"OE\": 105875, \"COb\": 7350, \"Area_left\": 788, \"considerble trees\": 88, \"considerable plants\": 44, \"Neem\": 5, \"Ash\": 2, \"Willow\": 2, \"Poplar\": 4, \"Ashok\": 2, \"Arjuna\": 3, \"Areca_palm\": 10, \"Weeping_fig\": 7, \"Grebera_Daisy\": 8, \"Aloe_vera\": 5, \"Tulsi\": 13, \"Pothos_plant\": 7}, {\"Area\": 7028, \"OE\": 118093, \"COb\": 8211, \"Area_left\": 878, \"considerble trees\": 98, \"considerable plants\": 49, \"Neem\": 4, \"Ash\": 2, \"Willow\": 2, \"Poplar\": 3, \"Ashok\": 2, \"Arjuna\": 2, \"Areca_palm\": 9, \"Weeping_fig\": 7, \"Grebera_Daisy\": 8, \"Aloe_vera\": 5, \"Tulsi\": 13, \"Pothos_plant\": 8}, {\"Area\": 7501, \"OE\": 125958, \"COb\": 8757, \"Area_left\": 938, \"considerble trees\": 104, \"considerable plants\": 52, \"Neem\": 4, \"Ash\": 2, \"Willow\": 2, \"Poplar\": 3, \"Ashok\": 2, \"Arjuna\": 2, \"Areca_palm\": 9, \"Weeping_fig\": 9, \"Grebera_Daisy\": 12, \"Aloe_vera\": 10, \"Tulsi\": 15, \"Pothos_plant\": 9}, {\"Area\": 4309, \"OE\": 72482, \"COb\": 5019, \"Area_left\": 539, \"considerble trees\": 60, \"considerable plants\": 30, \"Neem\": 5, \"Ash\": 2, \"Willow\": 2, \"Poplar\": 4, \"Ashok\": 2, \"Arjuna\": 3, \"Areca_palm\": 10, \"Weeping_fig\": 13, \"Grebera_Daisy\": 8, \"Aloe_vera\": 8, \"Tulsi\": 19, \"Pothos_plant\": 6}, {\"Area\": 7595, \"OE\": 127655, \"COb\": 8862, \"Area_left\": 949, \"considerble trees\": 106, \"considerable plants\": 53, \"Neem\": 4, \"Ash\": 3, \"Willow\": 2, \"Poplar\": 4, \"Ashok\": 2, \"Arjuna\": 3, \"Areca_palm\": 10, \"Weeping_fig\": 5, \"Grebera_Daisy\": 3, \"Aloe_vera\": 4, \"Tulsi\": 8, \"Pothos_plant\": 9}, {\"Area\": 3129, \"OE\": 52635, \"COb\": 3654, \"Area_left\": 391, \"considerble trees\": 44, \"considerable plants\": 22, \"Neem\": 3, \"Ash\": 1, \"Willow\": 1, \"Poplar\": 2, \"Ashok\": 2, \"Arjuna\": 1, \"Areca_palm\": 7, \"Weeping_fig\": 13, \"Grebera_Daisy\": 8, \"Aloe_vera\": 8, \"Tulsi\": 19, \"Pothos_plant\": 5}, {\"Area\": 2017, \"OE\": 33880, \"COb\": 2352, \"Area_left\": 252, \"considerble trees\": 28, \"considerable plants\": 14, \"Neem\": 4, \"Ash\": 3, \"Willow\": 2, \"Poplar\": 4, \"Ashok\": 2, \"Arjuna\": 3, \"Areca_palm\": 10, \"Weeping_fig\": 2, \"Grebera_Daisy\": 2, \"Aloe_vera\": 2, \"Tulsi\": 5, \"Pothos_plant\": 2}, {\"Area\": 3663, \"OE\": 61592, \"COb\": 4263, \"Area_left\": 458, \"considerble trees\": 51, \"considerable plants\": 26, \"Neem\": 3, \"Ash\": 1, \"Willow\": 0, \"Poplar\": 1, \"Ashok\": 0, \"Arjuna\": 1, \"Areca_palm\": 3, \"Weeping_fig\": 2, \"Grebera_Daisy\": 3, \"Aloe_vera\": 3, \"Tulsi\": 3, \"Pothos_plant\": 5}, {\"Area\": 3436, \"OE\": 57593, \"COb\": 4011, \"Area_left\": 430, \"considerble trees\": 48, \"considerable plants\": 24, \"Neem\": 2, \"Ash\": 0, \"Willow\": 0, \"Poplar\": 1, \"Ashok\": 0, \"Arjuna\": 0, \"Areca_palm\": 2, \"Weeping_fig\": 4, \"Grebera_Daisy\": 4, \"Aloe_vera\": 3, \"Tulsi\": 7, \"Pothos_plant\": 5}, {\"Area\": 4742, \"OE\": 79742, \"COb\": 5523, \"Area_left\": 593, \"considerble trees\": 66, \"considerable plants\": 33, \"Neem\": 3, \"Ash\": 1, \"Willow\": 1, \"Poplar\": 1, \"Ashok\": 0, \"Arjuna\": 1, \"Areca_palm\": 6, \"Weeping_fig\": 4, \"Grebera_Daisy\": 4, \"Aloe_vera\": 3, \"Tulsi\": 7, \"Pothos_plant\": 6}, {\"Area\": 2178, \"OE\": 36787, \"COb\": 2541, \"Area_left\": 272, \"considerble trees\": 30, \"considerable plants\": 15, \"Neem\": 3, \"Ash\": 1, \"Willow\": 1, \"Poplar\": 1, \"Ashok\": 0, \"Arjuna\": 1, \"Areca_palm\": 6, \"Weeping_fig\": 5, \"Grebera_Daisy\": 3, \"Aloe_vera\": 4, \"Tulsi\": 8, \"Pothos_plant\": 2}, {\"Area\": 7347, \"OE\": 123420, \"COb\": 8568, \"Area_left\": 918, \"considerble trees\": 102, \"considerable plants\": 51, \"Neem\": 3, \"Ash\": 1, \"Willow\": 1, \"Poplar\": 2, \"Ashok\": 2, \"Arjuna\": 1, \"Areca_palm\": 7, \"Weeping_fig\": 2, \"Grebera_Daisy\": 3, \"Aloe_vera\": 3, \"Tulsi\": 3, \"Pothos_plant\": 9}, {\"Area\": 4526, \"OE\": 76112, \"COb\": 5271, \"Area_left\": 566, \"considerble trees\": 63, \"considerable plants\": 32, \"Neem\": 2, \"Ash\": 0, \"Willow\": 0, \"Poplar\": 1, \"Ashok\": 0, \"Arjuna\": 0, \"Areca_palm\": 2, \"Weeping_fig\": 13, \"Grebera_Daisy\": 8, \"Aloe_vera\": 8, \"Tulsi\": 19, \"Pothos_plant\": 6}, {\"Area\": 2191, \"OE\": 36905, \"COb\": 2562, \"Area_left\": 274, \"considerble trees\": 30, \"considerable plants\": 15, \"Neem\": 4, \"Ash\": 3, \"Willow\": 2, \"Poplar\": 4, \"Ashok\": 2, \"Arjuna\": 3, \"Areca_palm\": 10, \"Weeping_fig\": 5, \"Grebera_Daisy\": 3, \"Aloe_vera\": 4, \"Tulsi\": 8, \"Pothos_plant\": 2}, {\"Area\": 5537, \"OE\": 93052, \"COb\": 6447, \"Area_left\": 692, \"considerble trees\": 77, \"considerable plants\": 38, \"Neem\": 3, \"Ash\": 1, \"Willow\": 1, \"Poplar\": 2, \"Ashok\": 2, \"Arjuna\": 1, \"Areca_palm\": 7, \"Weeping_fig\": 2, \"Grebera_Daisy\": 3, \"Aloe_vera\": 3, \"Tulsi\": 3, \"Pothos_plant\": 6}, {\"Area\": 7554, \"OE\": 127050, \"COb\": 8820, \"Area_left\": 944, \"considerble trees\": 105, \"considerable plants\": 52, \"Neem\": 2, \"Ash\": 0, \"Willow\": 0, \"Poplar\": 1, \"Ashok\": 0, \"Arjuna\": 0, \"Areca_palm\": 2, \"Weeping_fig\": 6, \"Grebera_Daisy\": 6, \"Aloe_vera\": 3, \"Tulsi\": 10, \"Pothos_plant\": 9}, {\"Area\": 7283, \"OE\": 122328, \"COb\": 8505, \"Area_left\": 910, \"considerble trees\": 101, \"considerable plants\": 50, \"Neem\": 4, \"Ash\": 1, \"Willow\": 1, \"Poplar\": 3, \"Ashok\": 1, \"Arjuna\": 2, \"Areca_palm\": 6, \"Weeping_fig\": 13, \"Grebera_Daisy\": 8, \"Aloe_vera\": 8, \"Tulsi\": 19, \"Pothos_plant\": 9}, {\"Area\": 6787, \"OE\": 114227, \"COb\": 7917, \"Area_left\": 848, \"considerble trees\": 94, \"considerable plants\": 47, \"Neem\": 4, \"Ash\": 3, \"Willow\": 2, \"Poplar\": 4, \"Ashok\": 2, \"Arjuna\": 3, \"Areca_palm\": 10, \"Weeping_fig\": 13, \"Grebera_Daisy\": 8, \"Aloe_vera\": 8, \"Tulsi\": 19, \"Pothos_plant\": 8}, {\"Area\": 2613, \"OE\": 44047, \"COb\": 3045, \"Area_left\": 327, \"considerble trees\": 36, \"considerable plants\": 18, \"Neem\": 4, \"Ash\": 3, \"Willow\": 2, \"Poplar\": 4, \"Ashok\": 2, \"Arjuna\": 3, \"Areca_palm\": 10, \"Weeping_fig\": 9, \"Grebera_Daisy\": 12, \"Aloe_vera\": 10, \"Tulsi\": 15, \"Pothos_plant\": 5}, {\"Area\": 3984, \"OE\": 67037, \"COb\": 4641, \"Area_left\": 498, \"considerble trees\": 55, \"considerable plants\": 28, \"Neem\": 5, \"Ash\": 2, \"Willow\": 2, \"Poplar\": 4, \"Ashok\": 2, \"Arjuna\": 3, \"Areca_palm\": 10, \"Weeping_fig\": 2, \"Grebera_Daisy\": 2, \"Aloe_vera\": 2, \"Tulsi\": 5, \"Pothos_plant\": 5}, {\"Area\": 7013, \"OE\": 117857, \"COb\": 8169, \"Area_left\": 877, \"considerble trees\": 97, \"considerable plants\": 49, \"Neem\": 3, \"Ash\": 1, \"Willow\": 0, \"Poplar\": 1, \"Ashok\": 0, \"Arjuna\": 1, \"Areca_palm\": 3, \"Weeping_fig\": 4, \"Grebera_Daisy\": 4, \"Aloe_vera\": 3, \"Tulsi\": 7, \"Pothos_plant\": 8}, {\"Area\": 7018, \"OE\": 117975, \"COb\": 8190, \"Area_left\": 877, \"considerble trees\": 98, \"considerable plants\": 49, \"Neem\": 3, \"Ash\": 1, \"Willow\": 1, \"Poplar\": 1, \"Ashok\": 0, \"Arjuna\": 1, \"Areca_palm\": 6, \"Weeping_fig\": 9, \"Grebera_Daisy\": 12, \"Aloe_vera\": 10, \"Tulsi\": 15, \"Pothos_plant\": 8}, {\"Area\": 7767, \"OE\": 130562, \"COb\": 9051, \"Area_left\": 971, \"considerble trees\": 108, \"considerable plants\": 54, \"Neem\": 5, \"Ash\": 2, \"Willow\": 2, \"Poplar\": 4, \"Ashok\": 2, \"Arjuna\": 3, \"Areca_palm\": 10, \"Weeping_fig\": 9, \"Grebera_Daisy\": 12, \"Aloe_vera\": 10, \"Tulsi\": 15, \"Pothos_plant\": 9}, {\"Area\": 7566, \"OE\": 127050, \"COb\": 8820, \"Area_left\": 946, \"considerble trees\": 105, \"considerable plants\": 52, \"Neem\": 5, \"Ash\": 2, \"Willow\": 2, \"Poplar\": 4, \"Ashok\": 2, \"Arjuna\": 3, \"Areca_palm\": 10, \"Weeping_fig\": 13, \"Grebera_Daisy\": 8, \"Aloe_vera\": 8, \"Tulsi\": 19, \"Pothos_plant\": 9}, {\"Area\": 6853, \"OE\": 115068, \"COb\": 8001, \"Area_left\": 857, \"considerble trees\": 95, \"considerable plants\": 48, \"Neem\": 4, \"Ash\": 3, \"Willow\": 2, \"Poplar\": 4, \"Ashok\": 2, \"Arjuna\": 3, \"Areca_palm\": 10, \"Weeping_fig\": 13, \"Grebera_Daisy\": 8, \"Aloe_vera\": 8, \"Tulsi\": 19, \"Pothos_plant\": 8}, {\"Area\": 4358, \"OE\": 73205, \"COb\": 5082, \"Area_left\": 545, \"considerble trees\": 60, \"considerable plants\": 30, \"Neem\": 4, \"Ash\": 3, \"Willow\": 2, \"Poplar\": 4, \"Ashok\": 2, \"Arjuna\": 3, \"Areca_palm\": 10, \"Weeping_fig\": 9, \"Grebera_Daisy\": 12, \"Aloe_vera\": 10, \"Tulsi\": 15, \"Pothos_plant\": 6}, {\"Area\": 6971, \"OE\": 117252, \"COb\": 8127, \"Area_left\": 871, \"considerble trees\": 97, \"considerable plants\": 48, \"Neem\": 5, \"Ash\": 2, \"Willow\": 2, \"Poplar\": 4, \"Ashok\": 2, \"Arjuna\": 3, \"Areca_palm\": 10, \"Weeping_fig\": 5, \"Grebera_Daisy\": 3, \"Aloe_vera\": 4, \"Tulsi\": 8, \"Pothos_plant\": 8}, {\"Area\": 3377, \"OE\": 56752, \"COb\": 3927, \"Area_left\": 422, \"considerble trees\": 47, \"considerable plants\": 24, \"Neem\": 3, \"Ash\": 1, \"Willow\": 1, \"Poplar\": 2, \"Ashok\": 2, \"Arjuna\": 1, \"Areca_palm\": 7, \"Weeping_fig\": 9, \"Grebera_Daisy\": 12, \"Aloe_vera\": 10, \"Tulsi\": 15, \"Pothos_plant\": 5}, {\"Area\": 3346, \"OE\": 56265, \"COb\": 3906, \"Area_left\": 418, \"considerble trees\": 46, \"considerable plants\": 23, \"Neem\": 5, \"Ash\": 2, \"Willow\": 2, \"Poplar\": 4, \"Ashok\": 2, \"Arjuna\": 3, \"Areca_palm\": 10, \"Weeping_fig\": 4, \"Grebera_Daisy\": 4, \"Aloe_vera\": 3, \"Tulsi\": 7, \"Pothos_plant\": 5}, {\"Area\": 5909, \"OE\": 99220, \"COb\": 6888, \"Area_left\": 739, \"considerble trees\": 82, \"considerable plants\": 41, \"Neem\": 3, \"Ash\": 1, \"Willow\": 1, \"Poplar\": 1, \"Ashok\": 0, \"Arjuna\": 1, \"Areca_palm\": 6, \"Weeping_fig\": 4, \"Grebera_Daisy\": 4, \"Aloe_vera\": 3, \"Tulsi\": 7, \"Pothos_plant\": 7}, {\"Area\": 6152, \"OE\": 103455, \"COb\": 7182, \"Area_left\": 769, \"considerble trees\": 86, \"considerable plants\": 43, \"Neem\": 3, \"Ash\": 1, \"Willow\": 1, \"Poplar\": 1, \"Ashok\": 0, \"Arjuna\": 1, \"Areca_palm\": 6, \"Weeping_fig\": 7, \"Grebera_Daisy\": 8, \"Aloe_vera\": 5, \"Tulsi\": 13, \"Pothos_plant\": 7}, {\"Area\": 4788, \"OE\": 80465, \"COb\": 5586, \"Area_left\": 598, \"considerble trees\": 66, \"considerable plants\": 33, \"Neem\": 4, \"Ash\": 2, \"Willow\": 2, \"Poplar\": 3, \"Ashok\": 2, \"Arjuna\": 2, \"Areca_palm\": 9, \"Weeping_fig\": 7, \"Grebera_Daisy\": 8, \"Aloe_vera\": 5, \"Tulsi\": 13, \"Pothos_plant\": 6}, {\"Area\": 4295, \"OE\": 72113, \"COb\": 5019, \"Area_left\": 537, \"considerble trees\": 60, \"considerable plants\": 30, \"Neem\": 4, \"Ash\": 2, \"Willow\": 2, \"Poplar\": 3, \"Ashok\": 2, \"Arjuna\": 2, \"Areca_palm\": 9, \"Weeping_fig\": 5, \"Grebera_Daisy\": 3, \"Aloe_vera\": 4, \"Tulsi\": 8, \"Pothos_plant\": 6}, {\"Area\": 6289, \"OE\": 105757, \"COb\": 7329, \"Area_left\": 786, \"considerble trees\": 87, \"considerable plants\": 44, \"Neem\": 3, \"Ash\": 1, \"Willow\": 1, \"Poplar\": 2, \"Ashok\": 2, \"Arjuna\": 1, \"Areca_palm\": 7, \"Weeping_fig\": 5, \"Grebera_Daisy\": 3, \"Aloe_vera\": 4, \"Tulsi\": 8, \"Pothos_plant\": 7}, {\"Area\": 7383, \"OE\": 124025, \"COb\": 8610, \"Area_left\": 923, \"considerble trees\": 102, \"considerable plants\": 51, \"Neem\": 3, \"Ash\": 1, \"Willow\": 1, \"Poplar\": 2, \"Ashok\": 2, \"Arjuna\": 1, \"Areca_palm\": 7, \"Weeping_fig\": 7, \"Grebera_Daisy\": 8, \"Aloe_vera\": 5, \"Tulsi\": 13, \"Pothos_plant\": 9}, {\"Area\": 2693, \"OE\": 45257, \"COb\": 3129, \"Area_left\": 337, \"considerble trees\": 37, \"considerable plants\": 19, \"Neem\": 4, \"Ash\": 2, \"Willow\": 2, \"Poplar\": 3, \"Ashok\": 2, \"Arjuna\": 2, \"Areca_palm\": 9, \"Weeping_fig\": 13, \"Grebera_Daisy\": 8, \"Aloe_vera\": 8, \"Tulsi\": 19, \"Pothos_plant\": 5}, {\"Area\": 4852, \"OE\": 81557, \"COb\": 5649, \"Area_left\": 606, \"considerble trees\": 67, \"considerable plants\": 34, \"Neem\": 4, \"Ash\": 3, \"Willow\": 2, \"Poplar\": 4, \"Ashok\": 2, \"Arjuna\": 3, \"Areca_palm\": 10, \"Weeping_fig\": 2, \"Grebera_Daisy\": 2, \"Aloe_vera\": 2, \"Tulsi\": 5, \"Pothos_plant\": 6}, {\"Area\": 7025, \"OE\": 117975, \"COb\": 8190, \"Area_left\": 878, \"considerble trees\": 98, \"considerable plants\": 49, \"Neem\": 3, \"Ash\": 1, \"Willow\": 0, \"Poplar\": 1, \"Ashok\": 0, \"Arjuna\": 1, \"Areca_palm\": 3, \"Weeping_fig\": 6, \"Grebera_Daisy\": 6, \"Aloe_vera\": 3, \"Tulsi\": 10, \"Pothos_plant\": 8}, {\"Area\": 2681, \"OE\": 44888, \"COb\": 3129, \"Area_left\": 335, \"considerble trees\": 37, \"considerable plants\": 18, \"Neem\": 4, \"Ash\": 1, \"Willow\": 1, \"Poplar\": 3, \"Ashok\": 1, \"Arjuna\": 2, \"Areca_palm\": 6, \"Weeping_fig\": 9, \"Grebera_Daisy\": 12, \"Aloe_vera\": 10, \"Tulsi\": 15, \"Pothos_plant\": 5}, {\"Area\": 6369, \"OE\": 107085, \"COb\": 7434, \"Area_left\": 796, \"considerble trees\": 88, \"considerable plants\": 44, \"Neem\": 5, \"Ash\": 2, \"Willow\": 2, \"Poplar\": 4, \"Ashok\": 2, \"Arjuna\": 3, \"Areca_palm\": 10, \"Weeping_fig\": 2, \"Grebera_Daisy\": 2, \"Aloe_vera\": 2, \"Tulsi\": 5, \"Pothos_plant\": 7}, {\"Area\": 2544, \"OE\": 42837, \"COb\": 2961, \"Area_left\": 318, \"considerble trees\": 35, \"considerable plants\": 18, \"Neem\": 3, \"Ash\": 1, \"Willow\": 0, \"Poplar\": 1, \"Ashok\": 0, \"Arjuna\": 1, \"Areca_palm\": 3, \"Weeping_fig\": 7, \"Grebera_Daisy\": 8, \"Aloe_vera\": 5, \"Tulsi\": 13, \"Pothos_plant\": 5}, {\"Area\": 6751, \"OE\": 113622, \"COb\": 7875, \"Area_left\": 844, \"considerble trees\": 94, \"considerable plants\": 47, \"Neem\": 4, \"Ash\": 2, \"Willow\": 2, \"Poplar\": 3, \"Ashok\": 2, \"Arjuna\": 2, \"Areca_palm\": 9, \"Weeping_fig\": 2, \"Grebera_Daisy\": 2, \"Aloe_vera\": 2, \"Tulsi\": 5, \"Pothos_plant\": 8}, {\"Area\": 4528, \"OE\": 76112, \"COb\": 5271, \"Area_left\": 566, \"considerble trees\": 63, \"considerable plants\": 32, \"Neem\": 3, \"Ash\": 1, \"Willow\": 0, \"Poplar\": 1, \"Ashok\": 0, \"Arjuna\": 1, \"Areca_palm\": 3, \"Weeping_fig\": 9, \"Grebera_Daisy\": 12, \"Aloe_vera\": 10, \"Tulsi\": 15, \"Pothos_plant\": 6}, {\"Area\": 2289, \"OE\": 38602, \"COb\": 2667, \"Area_left\": 286, \"considerble trees\": 32, \"considerable plants\": 16, \"Neem\": 5, \"Ash\": 2, \"Willow\": 2, \"Poplar\": 4, \"Ashok\": 2, \"Arjuna\": 3, \"Areca_palm\": 10, \"Weeping_fig\": 5, \"Grebera_Daisy\": 3, \"Aloe_vera\": 4, \"Tulsi\": 8, \"Pothos_plant\": 2}, {\"Area\": 5053, \"OE\": 84818, \"COb\": 5901, \"Area_left\": 632, \"considerble trees\": 70, \"considerable plants\": 35, \"Neem\": 3, \"Ash\": 1, \"Willow\": 1, \"Poplar\": 2, \"Ashok\": 2, \"Arjuna\": 1, \"Areca_palm\": 7, \"Weeping_fig\": 2, \"Grebera_Daisy\": 3, \"Aloe_vera\": 3, \"Tulsi\": 3, \"Pothos_plant\": 6}, {\"Area\": 4259, \"OE\": 71508, \"COb\": 4977, \"Area_left\": 532, \"considerble trees\": 59, \"considerable plants\": 30, \"Neem\": 2, \"Ash\": 0, \"Willow\": 0, \"Poplar\": 1, \"Ashok\": 0, \"Arjuna\": 0, \"Areca_palm\": 2, \"Weeping_fig\": 6, \"Grebera_Daisy\": 6, \"Aloe_vera\": 3, \"Tulsi\": 10, \"Pothos_plant\": 6}, {\"Area\": 6700, \"OE\": 112530, \"COb\": 7812, \"Area_left\": 838, \"considerble trees\": 93, \"considerable plants\": 46, \"Neem\": 4, \"Ash\": 1, \"Willow\": 1, \"Poplar\": 3, \"Ashok\": 1, \"Arjuna\": 2, \"Areca_palm\": 6, \"Weeping_fig\": 5, \"Grebera_Daisy\": 3, \"Aloe_vera\": 4, \"Tulsi\": 8, \"Pothos_plant\": 8}, {\"Area\": 6113, \"OE\": 102732, \"COb\": 7119, \"Area_left\": 764, \"considerble trees\": 85, \"considerable plants\": 42, \"Neem\": 3, \"Ash\": 1, \"Willow\": 1, \"Poplar\": 2, \"Ashok\": 2, \"Arjuna\": 1, \"Areca_palm\": 7, \"Weeping_fig\": 9, \"Grebera_Daisy\": 12, \"Aloe_vera\": 10, \"Tulsi\": 15, \"Pothos_plant\": 7}, {\"Area\": 5149, \"OE\": 86515, \"COb\": 6006, \"Area_left\": 644, \"considerble trees\": 72, \"considerable plants\": 36, \"Neem\": 5, \"Ash\": 2, \"Willow\": 2, \"Poplar\": 4, \"Ashok\": 2, \"Arjuna\": 3, \"Areca_palm\": 10, \"Weeping_fig\": 7, \"Grebera_Daisy\": 8, \"Aloe_vera\": 5, \"Tulsi\": 13, \"Pothos_plant\": 6}, {\"Area\": 4199, \"OE\": 70667, \"COb\": 4893, \"Area_left\": 525, \"considerble trees\": 58, \"considerable plants\": 29, \"Neem\": 4, \"Ash\": 2, \"Willow\": 2, \"Poplar\": 3, \"Ashok\": 2, \"Arjuna\": 2, \"Areca_palm\": 9, \"Weeping_fig\": 6, \"Grebera_Daisy\": 6, \"Aloe_vera\": 3, \"Tulsi\": 10, \"Pothos_plant\": 6}, {\"Area\": 4364, \"OE\": 73323, \"COb\": 5103, \"Area_left\": 546, \"considerble trees\": 61, \"considerable plants\": 30, \"Neem\": 4, \"Ash\": 1, \"Willow\": 1, \"Poplar\": 3, \"Ashok\": 1, \"Arjuna\": 2, \"Areca_palm\": 6, \"Weeping_fig\": 5, \"Grebera_Daisy\": 3, \"Aloe_vera\": 4, \"Tulsi\": 8, \"Pothos_plant\": 6}, {\"Area\": 5631, \"OE\": 94498, \"COb\": 6573, \"Area_left\": 704, \"considerble trees\": 78, \"considerable plants\": 39, \"Neem\": 3, \"Ash\": 1, \"Willow\": 1, \"Poplar\": 2, \"Ashok\": 2, \"Arjuna\": 1, \"Areca_palm\": 7, \"Weeping_fig\": 5, \"Grebera_Daisy\": 3, \"Aloe_vera\": 4, \"Tulsi\": 8, \"Pothos_plant\": 7}, {\"Area\": 7261, \"OE\": 122092, \"COb\": 8463, \"Area_left\": 908, \"considerble trees\": 101, \"considerable plants\": 50, \"Neem\": 3, \"Ash\": 1, \"Willow\": 1, \"Poplar\": 2, \"Ashok\": 2, \"Arjuna\": 1, \"Areca_palm\": 7, \"Weeping_fig\": 7, \"Grebera_Daisy\": 8, \"Aloe_vera\": 5, \"Tulsi\": 13, \"Pothos_plant\": 9}, {\"Area\": 2416, \"OE\": 40535, \"COb\": 2814, \"Area_left\": 302, \"considerble trees\": 34, \"considerable plants\": 17, \"Neem\": 4, \"Ash\": 2, \"Willow\": 2, \"Poplar\": 3, \"Ashok\": 2, \"Arjuna\": 2, \"Areca_palm\": 9, \"Weeping_fig\": 13, \"Grebera_Daisy\": 8, \"Aloe_vera\": 8, \"Tulsi\": 19, \"Pothos_plant\": 5}, {\"Area\": 5591, \"OE\": 93893, \"COb\": 6531, \"Area_left\": 699, \"considerble trees\": 78, \"considerable plants\": 39, \"Neem\": 4, \"Ash\": 3, \"Willow\": 2, \"Poplar\": 4, \"Ashok\": 2, \"Arjuna\": 3, \"Areca_palm\": 10, \"Weeping_fig\": 2, \"Grebera_Daisy\": 2, \"Aloe_vera\": 2, \"Tulsi\": 5, \"Pothos_plant\": 6}, {\"Area\": 4574, \"OE\": 76835, \"COb\": 5334, \"Area_left\": 572, \"considerble trees\": 64, \"considerable plants\": 32, \"Neem\": 3, \"Ash\": 1, \"Willow\": 0, \"Poplar\": 1, \"Ashok\": 0, \"Arjuna\": 1, \"Areca_palm\": 3, \"Weeping_fig\": 6, \"Grebera_Daisy\": 6, \"Aloe_vera\": 3, \"Tulsi\": 10, \"Pothos_plant\": 6}, {\"Area\": 2088, \"OE\": 35090, \"COb\": 2436, \"Area_left\": 261, \"considerble trees\": 29, \"considerable plants\": 14, \"Neem\": 4, \"Ash\": 1, \"Willow\": 1, \"Poplar\": 3, \"Ashok\": 1, \"Arjuna\": 2, \"Areca_palm\": 6, \"Weeping_fig\": 5, \"Grebera_Daisy\": 3, \"Aloe_vera\": 4, \"Tulsi\": 8, \"Pothos_plant\": 2}, {\"Area\": 5484, \"OE\": 92078, \"COb\": 6405, \"Area_left\": 686, \"considerble trees\": 76, \"considerable plants\": 38, \"Neem\": 3, \"Ash\": 1, \"Willow\": 1, \"Poplar\": 2, \"Ashok\": 2, \"Arjuna\": 1, \"Areca_palm\": 7, \"Weeping_fig\": 2, \"Grebera_Daisy\": 3, \"Aloe_vera\": 3, \"Tulsi\": 3, \"Pothos_plant\": 6}, {\"Area\": 5431, \"OE\": 91355, \"COb\": 6342, \"Area_left\": 679, \"considerble trees\": 76, \"considerable plants\": 38, \"Neem\": 2, \"Ash\": 0, \"Willow\": 0, \"Poplar\": 1, \"Ashok\": 0, \"Arjuna\": 0, \"Areca_palm\": 2, \"Weeping_fig\": 6, \"Grebera_Daisy\": 6, \"Aloe_vera\": 3, \"Tulsi\": 10, \"Pothos_plant\": 6}, {\"Area\": 5392, \"OE\": 90632, \"COb\": 6279, \"Area_left\": 674, \"considerble trees\": 75, \"considerable plants\": 38, \"Neem\": 4, \"Ash\": 1, \"Willow\": 1, \"Poplar\": 3, \"Ashok\": 1, \"Arjuna\": 2, \"Areca_palm\": 6, \"Weeping_fig\": 6, \"Grebera_Daisy\": 6, \"Aloe_vera\": 3, \"Tulsi\": 10, \"Pothos_plant\": 6}, {\"Area\": 7791, \"OE\": 130798, \"COb\": 9093, \"Area_left\": 974, \"considerble trees\": 108, \"considerable plants\": 54, \"Neem\": 4, \"Ash\": 1, \"Willow\": 1, \"Poplar\": 3, \"Ashok\": 1, \"Arjuna\": 2, \"Areca_palm\": 6, \"Weeping_fig\": 6, \"Grebera_Daisy\": 6, \"Aloe_vera\": 3, \"Tulsi\": 10, \"Pothos_plant\": 9}, {\"Area\": 7027, \"OE\": 118093, \"COb\": 8211, \"Area_left\": 878, \"considerble trees\": 98, \"considerable plants\": 49, \"Neem\": 4, \"Ash\": 1, \"Willow\": 1, \"Poplar\": 3, \"Ashok\": 1, \"Arjuna\": 2, \"Areca_palm\": 6, \"Weeping_fig\": 13, \"Grebera_Daisy\": 8, \"Aloe_vera\": 8, \"Tulsi\": 19, \"Pothos_plant\": 8}, {\"Area\": 3733, \"OE\": 62802, \"COb\": 4347, \"Area_left\": 467, \"considerble trees\": 52, \"considerable plants\": 26, \"Neem\": 4, \"Ash\": 3, \"Willow\": 2, \"Poplar\": 4, \"Ashok\": 2, \"Arjuna\": 3, \"Areca_palm\": 10, \"Weeping_fig\": 9, \"Grebera_Daisy\": 12, \"Aloe_vera\": 10, \"Tulsi\": 15, \"Pothos_plant\": 5}, {\"Area\": 5421, \"OE\": 91237, \"COb\": 6321, \"Area_left\": 678, \"considerble trees\": 75, \"considerable plants\": 38, \"Neem\": 5, \"Ash\": 2, \"Willow\": 2, \"Poplar\": 4, \"Ashok\": 2, \"Arjuna\": 3, \"Areca_palm\": 10, \"Weeping_fig\": 4, \"Grebera_Daisy\": 4, \"Aloe_vera\": 3, \"Tulsi\": 7, \"Pothos_plant\": 6}, {\"Area\": 2598, \"OE\": 43560, \"COb\": 3024, \"Area_left\": 325, \"considerble trees\": 36, \"considerable plants\": 18, \"Neem\": 3, \"Ash\": 1, \"Willow\": 1, \"Poplar\": 1, \"Ashok\": 0, \"Arjuna\": 1, \"Areca_palm\": 6, \"Weeping_fig\": 6, \"Grebera_Daisy\": 6, \"Aloe_vera\": 3, \"Tulsi\": 10, \"Pothos_plant\": 5}, {\"Area\": 6907, \"OE\": 116160, \"COb\": 8064, \"Area_left\": 863, \"considerble trees\": 96, \"considerable plants\": 48, \"Neem\": 4, \"Ash\": 1, \"Willow\": 1, \"Poplar\": 3, \"Ashok\": 1, \"Arjuna\": 2, \"Areca_palm\": 6, \"Weeping_fig\": 2, \"Grebera_Daisy\": 2, \"Aloe_vera\": 2, \"Tulsi\": 5, \"Pothos_plant\": 8}, {\"Area\": 3442, \"OE\": 57962, \"COb\": 4011, \"Area_left\": 430, \"considerble trees\": 48, \"considerable plants\": 24, \"Neem\": 3, \"Ash\": 1, \"Willow\": 0, \"Poplar\": 1, \"Ashok\": 0, \"Arjuna\": 1, \"Areca_palm\": 3, \"Weeping_fig\": 9, \"Grebera_Daisy\": 12, \"Aloe_vera\": 10, \"Tulsi\": 15, \"Pothos_plant\": 5}, {\"Area\": 2128, \"OE\": 35695, \"COb\": 2478, \"Area_left\": 266, \"considerble trees\": 30, \"considerable plants\": 15, \"Neem\": 5, \"Ash\": 2, \"Willow\": 2, \"Poplar\": 4, \"Ashok\": 2, \"Arjuna\": 3, \"Areca_palm\": 10, \"Weeping_fig\": 4, \"Grebera_Daisy\": 4, \"Aloe_vera\": 3, \"Tulsi\": 7, \"Pothos_plant\": 2}, {\"Area\": 7532, \"OE\": 126563, \"COb\": 8799, \"Area_left\": 942, \"considerble trees\": 105, \"considerable plants\": 52, \"Neem\": 3, \"Ash\": 1, \"Willow\": 1, \"Poplar\": 1, \"Ashok\": 0, \"Arjuna\": 1, \"Areca_palm\": 6, \"Weeping_fig\": 2, \"Grebera_Daisy\": 3, \"Aloe_vera\": 3, \"Tulsi\": 3, \"Pothos_plant\": 9}, {\"Area\": 2625, \"OE\": 44165, \"COb\": 3066, \"Area_left\": 328, \"considerble trees\": 36, \"considerable plants\": 18, \"Neem\": 2, \"Ash\": 0, \"Willow\": 0, \"Poplar\": 1, \"Ashok\": 0, \"Arjuna\": 0, \"Areca_palm\": 2, \"Weeping_fig\": 13, \"Grebera_Daisy\": 8, \"Aloe_vera\": 8, \"Tulsi\": 19, \"Pothos_plant\": 5}, {\"Area\": 2810, \"OE\": 47190, \"COb\": 3276, \"Area_left\": 351, \"considerble trees\": 39, \"considerable plants\": 20, \"Neem\": 4, \"Ash\": 3, \"Willow\": 2, \"Poplar\": 4, \"Ashok\": 2, \"Arjuna\": 3, \"Areca_palm\": 10, \"Weeping_fig\": 2, \"Grebera_Daisy\": 2, \"Aloe_vera\": 2, \"Tulsi\": 5, \"Pothos_plant\": 5}, {\"Area\": 7174, \"OE\": 120513, \"COb\": 8379, \"Area_left\": 897, \"considerble trees\": 100, \"considerable plants\": 50, \"Neem\": 3, \"Ash\": 1, \"Willow\": 0, \"Poplar\": 1, \"Ashok\": 0, \"Arjuna\": 1, \"Areca_palm\": 3, \"Weeping_fig\": 2, \"Grebera_Daisy\": 2, \"Aloe_vera\": 2, \"Tulsi\": 5, \"Pothos_plant\": 8}, {\"Area\": 3540, \"OE\": 59408, \"COb\": 4137, \"Area_left\": 442, \"considerble trees\": 49, \"considerable plants\": 24, \"Neem\": 3, \"Ash\": 1, \"Willow\": 0, \"Poplar\": 1, \"Ashok\": 0, \"Arjuna\": 1, \"Areca_palm\": 3, \"Weeping_fig\": 9, \"Grebera_Daisy\": 12, \"Aloe_vera\": 10, \"Tulsi\": 15, \"Pothos_plant\": 5}, {\"Area\": 2352, \"OE\": 39443, \"COb\": 2751, \"Area_left\": 294, \"considerble trees\": 33, \"considerable plants\": 16, \"Neem\": 5, \"Ash\": 2, \"Willow\": 2, \"Poplar\": 4, \"Ashok\": 2, \"Arjuna\": 3, \"Areca_palm\": 10, \"Weeping_fig\": 4, \"Grebera_Daisy\": 4, \"Aloe_vera\": 3, \"Tulsi\": 7, \"Pothos_plant\": 2}, {\"Area\": 4424, \"OE\": 74415, \"COb\": 5166, \"Area_left\": 553, \"considerble trees\": 62, \"considerable plants\": 31, \"Neem\": 3, \"Ash\": 1, \"Willow\": 1, \"Poplar\": 1, \"Ashok\": 0, \"Arjuna\": 1, \"Areca_palm\": 6, \"Weeping_fig\": 2, \"Grebera_Daisy\": 3, \"Aloe_vera\": 3, \"Tulsi\": 3, \"Pothos_plant\": 6}, {\"Area\": 4868, \"OE\": 81793, \"COb\": 5691, \"Area_left\": 608, \"considerble trees\": 68, \"considerable plants\": 34, \"Neem\": 2, \"Ash\": 0, \"Willow\": 0, \"Poplar\": 1, \"Ashok\": 0, \"Arjuna\": 0, \"Areca_palm\": 2, \"Weeping_fig\": 5, \"Grebera_Daisy\": 3, \"Aloe_vera\": 4, \"Tulsi\": 8, \"Pothos_plant\": 6}, {\"Area\": 6947, \"OE\": 116765, \"COb\": 8106, \"Area_left\": 868, \"considerble trees\": 96, \"considerable plants\": 48, \"Neem\": 3, \"Ash\": 1, \"Willow\": 1, \"Poplar\": 2, \"Ashok\": 2, \"Arjuna\": 1, \"Areca_palm\": 7, \"Weeping_fig\": 6, \"Grebera_Daisy\": 6, \"Aloe_vera\": 3, \"Tulsi\": 10, \"Pothos_plant\": 8}, {\"Area\": 7105, \"OE\": 119303, \"COb\": 8295, \"Area_left\": 888, \"considerble trees\": 99, \"considerable plants\": 49, \"Neem\": 4, \"Ash\": 1, \"Willow\": 1, \"Poplar\": 3, \"Ashok\": 1, \"Arjuna\": 2, \"Areca_palm\": 6, \"Weeping_fig\": 9, \"Grebera_Daisy\": 12, \"Aloe_vera\": 10, \"Tulsi\": 15, \"Pothos_plant\": 8}, {\"Area\": 7326, \"OE\": 122933, \"COb\": 8547, \"Area_left\": 916, \"considerble trees\": 102, \"considerable plants\": 51, \"Neem\": 5, \"Ash\": 2, \"Willow\": 2, \"Poplar\": 4, \"Ashok\": 2, \"Arjuna\": 3, \"Areca_palm\": 10, \"Weeping_fig\": 9, \"Grebera_Daisy\": 12, \"Aloe_vera\": 10, \"Tulsi\": 15, \"Pothos_plant\": 9}, {\"Area\": 5689, \"OE\": 95590, \"COb\": 6636, \"Area_left\": 711, \"considerble trees\": 79, \"considerable plants\": 40, \"Neem\": 5, \"Ash\": 2, \"Willow\": 2, \"Poplar\": 4, \"Ashok\": 2, \"Arjuna\": 3, \"Areca_palm\": 10, \"Weeping_fig\": 13, \"Grebera_Daisy\": 8, \"Aloe_vera\": 8, \"Tulsi\": 19, \"Pothos_plant\": 7}, {\"Area\": 7615, \"OE\": 128142, \"COb\": 8883, \"Area_left\": 952, \"considerble trees\": 106, \"considerable plants\": 53, \"Neem\": 4, \"Ash\": 3, \"Willow\": 2, \"Poplar\": 4, \"Ashok\": 2, \"Arjuna\": 3, \"Areca_palm\": 10, \"Weeping_fig\": 7, \"Grebera_Daisy\": 8, \"Aloe_vera\": 5, \"Tulsi\": 13, \"Pothos_plant\": 9}, {\"Area\": 7432, \"OE\": 124748, \"COb\": 8673, \"Area_left\": 929, \"considerble trees\": 103, \"considerable plants\": 52, \"Neem\": 4, \"Ash\": 2, \"Willow\": 2, \"Poplar\": 3, \"Ashok\": 2, \"Arjuna\": 2, \"Areca_palm\": 9, \"Weeping_fig\": 13, \"Grebera_Daisy\": 8, \"Aloe_vera\": 8, \"Tulsi\": 19, \"Pothos_plant\": 9}, {\"Area\": 3428, \"OE\": 57593, \"COb\": 4011, \"Area_left\": 428, \"considerble trees\": 48, \"considerable plants\": 24, \"Neem\": 4, \"Ash\": 3, \"Willow\": 2, \"Poplar\": 4, \"Ashok\": 2, \"Arjuna\": 3, \"Areca_palm\": 10, \"Weeping_fig\": 13, \"Grebera_Daisy\": 8, \"Aloe_vera\": 8, \"Tulsi\": 19, \"Pothos_plant\": 5}, {\"Area\": 4933, \"OE\": 82885, \"COb\": 5754, \"Area_left\": 617, \"considerble trees\": 68, \"considerable plants\": 34, \"Neem\": 4, \"Ash\": 3, \"Willow\": 2, \"Poplar\": 4, \"Ashok\": 2, \"Arjuna\": 3, \"Areca_palm\": 10, \"Weeping_fig\": 4, \"Grebera_Daisy\": 4, \"Aloe_vera\": 3, \"Tulsi\": 7, \"Pothos_plant\": 6}, {\"Area\": 5180, \"OE\": 87120, \"COb\": 6048, \"Area_left\": 648, \"considerble trees\": 72, \"considerable plants\": 36, \"Neem\": 3, \"Ash\": 1, \"Willow\": 1, \"Poplar\": 1, \"Ashok\": 0, \"Arjuna\": 1, \"Areca_palm\": 6, \"Weeping_fig\": 6, \"Grebera_Daisy\": 6, \"Aloe_vera\": 3, \"Tulsi\": 10, \"Pothos_plant\": 6}, {\"Area\": 7483, \"OE\": 125840, \"COb\": 8736, \"Area_left\": 935, \"considerble trees\": 104, \"considerable plants\": 52, \"Neem\": 4, \"Ash\": 1, \"Willow\": 1, \"Poplar\": 3, \"Ashok\": 1, \"Arjuna\": 2, \"Areca_palm\": 6, \"Weeping_fig\": 6, \"Grebera_Daisy\": 6, \"Aloe_vera\": 3, \"Tulsi\": 10, \"Pothos_plant\": 9}, {\"Area\": 5525, \"OE\": 92683, \"COb\": 6447, \"Area_left\": 691, \"considerble trees\": 77, \"considerable plants\": 38, \"Neem\": 4, \"Ash\": 1, \"Willow\": 1, \"Poplar\": 3, \"Ashok\": 1, \"Arjuna\": 2, \"Areca_palm\": 6, \"Weeping_fig\": 13, \"Grebera_Daisy\": 8, \"Aloe_vera\": 8, \"Tulsi\": 19, \"Pothos_plant\": 6}, {\"Area\": 3613, \"OE\": 60618, \"COb\": 4221, \"Area_left\": 452, \"considerble trees\": 50, \"considerable plants\": 25, \"Neem\": 4, \"Ash\": 3, \"Willow\": 2, \"Poplar\": 4, \"Ashok\": 2, \"Arjuna\": 3, \"Areca_palm\": 10, \"Weeping_fig\": 6, \"Grebera_Daisy\": 6, \"Aloe_vera\": 3, \"Tulsi\": 10, \"Pothos_plant\": 5}, {\"Area\": 2325, \"OE\": 39207, \"COb\": 2709, \"Area_left\": 291, \"considerble trees\": 32, \"considerable plants\": 16, \"Neem\": 4, \"Ash\": 1, \"Willow\": 1, \"Poplar\": 3, \"Ashok\": 1, \"Arjuna\": 2, \"Areca_palm\": 6, \"Weeping_fig\": 4, \"Grebera_Daisy\": 4, \"Aloe_vera\": 3, \"Tulsi\": 7, \"Pothos_plant\": 2}, {\"Area\": 5200, \"OE\": 87238, \"COb\": 6069, \"Area_left\": 650, \"considerble trees\": 72, \"considerable plants\": 36, \"Neem\": 3, \"Ash\": 1, \"Willow\": 1, \"Poplar\": 1, \"Ashok\": 0, \"Arjuna\": 1, \"Areca_palm\": 6, \"Weeping_fig\": 2, \"Grebera_Daisy\": 3, \"Aloe_vera\": 3, \"Tulsi\": 3, \"Pothos_plant\": 6}, {\"Area\": 2141, \"OE\": 35813, \"COb\": 2499, \"Area_left\": 268, \"considerble trees\": 30, \"considerable plants\": 15, \"Neem\": 2, \"Ash\": 0, \"Willow\": 0, \"Poplar\": 1, \"Ashok\": 0, \"Arjuna\": 0, \"Areca_palm\": 2, \"Weeping_fig\": 6, \"Grebera_Daisy\": 6, \"Aloe_vera\": 3, \"Tulsi\": 10, \"Pothos_plant\": 2}, {\"Area\": 4259, \"OE\": 71508, \"COb\": 4977, \"Area_left\": 532, \"considerble trees\": 59, \"considerable plants\": 30, \"Neem\": 4, \"Ash\": 1, \"Willow\": 1, \"Poplar\": 3, \"Ashok\": 1, \"Arjuna\": 2, \"Areca_palm\": 6, \"Weeping_fig\": 2, \"Grebera_Daisy\": 3, \"Aloe_vera\": 3, \"Tulsi\": 3, \"Pothos_plant\": 6}, {\"Area\": 7152, \"OE\": 120277, \"COb\": 8337, \"Area_left\": 894, \"considerble trees\": 99, \"considerable plants\": 50, \"Neem\": 2, \"Ash\": 0, \"Willow\": 0, \"Poplar\": 1, \"Ashok\": 0, \"Arjuna\": 0, \"Areca_palm\": 2, \"Weeping_fig\": 5, \"Grebera_Daisy\": 3, \"Aloe_vera\": 4, \"Tulsi\": 8, \"Pothos_plant\": 8}, {\"Area\": 3375, \"OE\": 56752, \"COb\": 3927, \"Area_left\": 422, \"considerble trees\": 47, \"considerable plants\": 24, \"Neem\": 3, \"Ash\": 1, \"Willow\": 1, \"Poplar\": 2, \"Ashok\": 2, \"Arjuna\": 1, \"Areca_palm\": 7, \"Weeping_fig\": 9, \"Grebera_Daisy\": 12, \"Aloe_vera\": 10, \"Tulsi\": 15, \"Pothos_plant\": 5}, {\"Area\": 6794, \"OE\": 114227, \"COb\": 7917, \"Area_left\": 849, \"considerble trees\": 94, \"considerable plants\": 47, \"Neem\": 5, \"Ash\": 2, \"Willow\": 2, \"Poplar\": 4, \"Ashok\": 2, \"Arjuna\": 3, \"Areca_palm\": 10, \"Weeping_fig\": 4, \"Grebera_Daisy\": 4, \"Aloe_vera\": 3, \"Tulsi\": 7, \"Pothos_plant\": 8}, {\"Area\": 4330, \"OE\": 72718, \"COb\": 5061, \"Area_left\": 541, \"considerble trees\": 60, \"considerable plants\": 30, \"Neem\": 3, \"Ash\": 1, \"Willow\": 1, \"Poplar\": 1, \"Ashok\": 0, \"Arjuna\": 1, \"Areca_palm\": 6, \"Weeping_fig\": 9, \"Grebera_Daisy\": 12, \"Aloe_vera\": 10, \"Tulsi\": 15, \"Pothos_plant\": 6}, {\"Area\": 7368, \"OE\": 123907, \"COb\": 8589, \"Area_left\": 921, \"considerble trees\": 102, \"considerable plants\": 51, \"Neem\": 5, \"Ash\": 2, \"Willow\": 2, \"Poplar\": 4, \"Ashok\": 2, \"Arjuna\": 3, \"Areca_palm\": 10, \"Weeping_fig\": 5, \"Grebera_Daisy\": 3, \"Aloe_vera\": 4, \"Tulsi\": 8, \"Pothos_plant\": 9}, {\"Area\": 4444, \"OE\": 74533, \"COb\": 5187, \"Area_left\": 556, \"considerble trees\": 62, \"considerable plants\": 31, \"Neem\": 3, \"Ash\": 1, \"Willow\": 1, \"Poplar\": 2, \"Ashok\": 2, \"Arjuna\": 1, \"Areca_palm\": 7, \"Weeping_fig\": 13, \"Grebera_Daisy\": 8, \"Aloe_vera\": 8, \"Tulsi\": 19, \"Pothos_plant\": 6}, {\"Area\": 3385, \"OE\": 56870, \"COb\": 3948, \"Area_left\": 423, \"considerble trees\": 47, \"considerable plants\": 24, \"Neem\": 4, \"Ash\": 3, \"Willow\": 2, \"Poplar\": 4, \"Ashok\": 2, \"Arjuna\": 3, \"Areca_palm\": 10, \"Weeping_fig\": 5, \"Grebera_Daisy\": 3, \"Aloe_vera\": 4, \"Tulsi\": 8, \"Pothos_plant\": 5}, {\"Area\": 5304, \"OE\": 89053, \"COb\": 6195, \"Area_left\": 663, \"considerble trees\": 74, \"considerable plants\": 37, \"Neem\": 3, \"Ash\": 1, \"Willow\": 1, \"Poplar\": 2, \"Ashok\": 2, \"Arjuna\": 1, \"Areca_palm\": 7, \"Weeping_fig\": 4, \"Grebera_Daisy\": 4, \"Aloe_vera\": 3, \"Tulsi\": 7, \"Pothos_plant\": 6}, {\"Area\": 3475, \"OE\": 58567, \"COb\": 4053, \"Area_left\": 434, \"considerble trees\": 48, \"considerable plants\": 24, \"Neem\": 3, \"Ash\": 1, \"Willow\": 1, \"Poplar\": 1, \"Ashok\": 0, \"Arjuna\": 1, \"Areca_palm\": 6, \"Weeping_fig\": 6, \"Grebera_Daisy\": 6, \"Aloe_vera\": 3, \"Tulsi\": 10, \"Pothos_plant\": 5}, {\"Area\": 6873, \"OE\": 115555, \"COb\": 8022, \"Area_left\": 859, \"considerble trees\": 96, \"considerable plants\": 48, \"Neem\": 4, \"Ash\": 1, \"Willow\": 1, \"Poplar\": 3, \"Ashok\": 1, \"Arjuna\": 2, \"Areca_palm\": 6, \"Weeping_fig\": 4, \"Grebera_Daisy\": 4, \"Aloe_vera\": 3, \"Tulsi\": 7, \"Pothos_plant\": 8}, {\"Area\": 2086, \"OE\": 35090, \"COb\": 2436, \"Area_left\": 261, \"considerble trees\": 29, \"considerable plants\": 14, \"Neem\": 3, \"Ash\": 1, \"Willow\": 1, \"Poplar\": 1, \"Ashok\": 0, \"Arjuna\": 1, \"Areca_palm\": 6, \"Weeping_fig\": 9, \"Grebera_Daisy\": 12, \"Aloe_vera\": 10, \"Tulsi\": 15, \"Pothos_plant\": 2}, {\"Area\": 5969, \"OE\": 100312, \"COb\": 6951, \"Area_left\": 746, \"considerble trees\": 83, \"considerable plants\": 42, \"Neem\": 5, \"Ash\": 2, \"Willow\": 2, \"Poplar\": 4, \"Ashok\": 2, \"Arjuna\": 3, \"Areca_palm\": 10, \"Weeping_fig\": 2, \"Grebera_Daisy\": 3, \"Aloe_vera\": 3, \"Tulsi\": 3, \"Pothos_plant\": 7}, {\"Area\": 6051, \"OE\": 101640, \"COb\": 7056, \"Area_left\": 756, \"considerble trees\": 84, \"considerable plants\": 42, \"Neem\": 2, \"Ash\": 0, \"Willow\": 0, \"Poplar\": 1, \"Ashok\": 0, \"Arjuna\": 0, \"Areca_palm\": 2, \"Weeping_fig\": 7, \"Grebera_Daisy\": 8, \"Aloe_vera\": 5, \"Tulsi\": 13, \"Pothos_plant\": 7}, {\"Area\": 2216, \"OE\": 37392, \"COb\": 2583, \"Area_left\": 277, \"considerble trees\": 31, \"considerable plants\": 16, \"Neem\": 4, \"Ash\": 2, \"Willow\": 2, \"Poplar\": 3, \"Ashok\": 2, \"Arjuna\": 2, \"Areca_palm\": 9, \"Weeping_fig\": 7, \"Grebera_Daisy\": 8, \"Aloe_vera\": 5, \"Tulsi\": 13, \"Pothos_plant\": 2}, {\"Area\": 7851, \"OE\": 131890, \"COb\": 9156, \"Area_left\": 981, \"considerble trees\": 109, \"considerable plants\": 54, \"Neem\": 4, \"Ash\": 2, \"Willow\": 2, \"Poplar\": 3, \"Ashok\": 2, \"Arjuna\": 2, \"Areca_palm\": 9, \"Weeping_fig\": 2, \"Grebera_Daisy\": 3, \"Aloe_vera\": 3, \"Tulsi\": 3, \"Pothos_plant\": 9}, {\"Area\": 5228, \"OE\": 87843, \"COb\": 6111, \"Area_left\": 654, \"considerble trees\": 73, \"considerable plants\": 36, \"Neem\": 2, \"Ash\": 0, \"Willow\": 0, \"Poplar\": 1, \"Ashok\": 0, \"Arjuna\": 0, \"Areca_palm\": 2, \"Weeping_fig\": 13, \"Grebera_Daisy\": 8, \"Aloe_vera\": 8, \"Tulsi\": 19, \"Pothos_plant\": 6}, {\"Area\": 3689, \"OE\": 61828, \"COb\": 4305, \"Area_left\": 461, \"considerble trees\": 51, \"considerable plants\": 26, \"Neem\": 4, \"Ash\": 3, \"Willow\": 2, \"Poplar\": 4, \"Ashok\": 2, \"Arjuna\": 3, \"Areca_palm\": 10, \"Weeping_fig\": 6, \"Grebera_Daisy\": 6, \"Aloe_vera\": 3, \"Tulsi\": 10, \"Pothos_plant\": 5}, {\"Area\": 6407, \"OE\": 107690, \"COb\": 7476, \"Area_left\": 801, \"considerble trees\": 89, \"considerable plants\": 44, \"Neem\": 4, \"Ash\": 1, \"Willow\": 1, \"Poplar\": 3, \"Ashok\": 1, \"Arjuna\": 2, \"Areca_palm\": 6, \"Weeping_fig\": 4, \"Grebera_Daisy\": 4, \"Aloe_vera\": 3, \"Tulsi\": 7, \"Pothos_plant\": 8}, {\"Area\": 7521, \"OE\": 126445, \"COb\": 8778, \"Area_left\": 940, \"considerble trees\": 104, \"considerable plants\": 52, \"Neem\": 3, \"Ash\": 1, \"Willow\": 1, \"Poplar\": 1, \"Ashok\": 0, \"Arjuna\": 1, \"Areca_palm\": 6, \"Weeping_fig\": 9, \"Grebera_Daisy\": 12, \"Aloe_vera\": 10, \"Tulsi\": 15, \"Pothos_plant\": 9}, {\"Area\": 6085, \"OE\": 102245, \"COb\": 7098, \"Area_left\": 761, \"considerble trees\": 84, \"considerable plants\": 42, \"Neem\": 5, \"Ash\": 2, \"Willow\": 2, \"Poplar\": 4, \"Ashok\": 2, \"Arjuna\": 3, \"Areca_palm\": 10, \"Weeping_fig\": 13, \"Grebera_Daisy\": 8, \"Aloe_vera\": 8, \"Tulsi\": 19, \"Pothos_plant\": 7}, {\"Area\": 3850, \"OE\": 64735, \"COb\": 4494, \"Area_left\": 481, \"considerble trees\": 54, \"considerable plants\": 27, \"Neem\": 4, \"Ash\": 3, \"Willow\": 2, \"Poplar\": 4, \"Ashok\": 2, \"Arjuna\": 3, \"Areca_palm\": 10, \"Weeping_fig\": 7, \"Grebera_Daisy\": 8, \"Aloe_vera\": 5, \"Tulsi\": 13, \"Pothos_plant\": 5}, {\"Area\": 7131, \"OE\": 119790, \"COb\": 8316, \"Area_left\": 891, \"considerble trees\": 99, \"considerable plants\": 50, \"Neem\": 4, \"Ash\": 2, \"Willow\": 2, \"Poplar\": 3, \"Ashok\": 2, \"Arjuna\": 2, \"Areca_palm\": 9, \"Weeping_fig\": 4, \"Grebera_Daisy\": 4, \"Aloe_vera\": 3, \"Tulsi\": 7, \"Pothos_plant\": 8}, {\"Area\": 4030, \"OE\": 67760, \"COb\": 4704, \"Area_left\": 504, \"considerble trees\": 56, \"considerable plants\": 28, \"Neem\": 3, \"Ash\": 1, \"Willow\": 1, \"Poplar\": 1, \"Ashok\": 0, \"Arjuna\": 1, \"Areca_palm\": 6, \"Weeping_fig\": 9, \"Grebera_Daisy\": 12, \"Aloe_vera\": 10, \"Tulsi\": 15, \"Pothos_plant\": 6}, {\"Area\": 4085, \"OE\": 68483, \"COb\": 4767, \"Area_left\": 511, \"considerble trees\": 57, \"considerable plants\": 28, \"Neem\": 5, \"Ash\": 2, \"Willow\": 2, \"Poplar\": 4, \"Ashok\": 2, \"Arjuna\": 3, \"Areca_palm\": 10, \"Weeping_fig\": 5, \"Grebera_Daisy\": 3, \"Aloe_vera\": 4, \"Tulsi\": 8, \"Pothos_plant\": 6}, {\"Area\": 2221, \"OE\": 37392, \"COb\": 2583, \"Area_left\": 278, \"considerble trees\": 31, \"considerable plants\": 16, \"Neem\": 3, \"Ash\": 1, \"Willow\": 1, \"Poplar\": 2, \"Ashok\": 2, \"Arjuna\": 1, \"Areca_palm\": 7, \"Weeping_fig\": 5, \"Grebera_Daisy\": 3, \"Aloe_vera\": 4, \"Tulsi\": 8, \"Pothos_plant\": 2}, {\"Area\": 2399, \"OE\": 40417, \"COb\": 2793, \"Area_left\": 300, \"considerble trees\": 33, \"considerable plants\": 17, \"Neem\": 3, \"Ash\": 1, \"Willow\": 1, \"Poplar\": 2, \"Ashok\": 2, \"Arjuna\": 1, \"Areca_palm\": 7, \"Weeping_fig\": 2, \"Grebera_Daisy\": 3, \"Aloe_vera\": 3, \"Tulsi\": 3, \"Pothos_plant\": 9}, {\"Area\": 7353, \"OE\": 123538, \"COb\": 8589, \"Area_left\": 919, \"considerble trees\": 102, \"considerable plants\": 51, \"Neem\": 2, \"Ash\": 0, \"Willow\": 0, \"Poplar\": 1, \"Ashok\": 0, \"Arjuna\": 0, \"Areca_palm\": 2, \"Weeping_fig\": 13, \"Grebera_Daisy\": 8, \"Aloe_vera\": 8, \"Tulsi\": 19, \"Pothos_plant\": 8}, {\"Area\": 6715, \"OE\": 113017, \"COb\": 7833, \"Area_left\": 839, \"considerble trees\": 93, \"considerable plants\": 47, \"Neem\": 4, \"Ash\": 3, \"Willow\": 2, \"Poplar\": 4, \"Ashok\": 2, \"Arjuna\": 3, \"Areca_palm\": 10, \"Weeping_fig\": 9, \"Grebera_Daisy\": 12, \"Aloe_vera\": 10, \"Tulsi\": 15, \"Pothos_plant\": 7}, {\"Area\": 6124, \"OE\": 102850, \"COb\": 7140, \"Area_left\": 766, \"considerble trees\": 85, \"considerable plants\": 42, \"Neem\": 5, \"Ash\": 2, \"Willow\": 2, \"Poplar\": 4, \"Ashok\": 2, \"Arjuna\": 3, \"Areca_palm\": 10, \"Weeping_fig\": 7, \"Grebera_Daisy\": 8, \"Aloe_vera\": 5, \"Tulsi\": 13, \"Pothos_plant\": 5}, {\"Area\": 3742, \"OE\": 62920, \"COb\": 4368, \"Area_left\": 468, \"considerble trees\": 52, \"considerable plants\": 26, \"Neem\": 4, \"Ash\": 2, \"Willow\": 2, \"Poplar\": 3, \"Ashok\": 2, \"Arjuna\": 2, \"Areca_palm\": 9, \"Weeping_fig\": 4, \"Grebera_Daisy\": 4, \"Aloe_vera\": 3, \"Tulsi\": 7, \"Pothos_plant\": 6}, {\"Area\": 4952, \"OE\": 83372, \"COb\": 5775, \"Area_left\": 619, \"considerble trees\": 69, \"considerable plants\": 34, \"Neem\": 3, \"Ash\": 1, \"Willow\": 1, \"Poplar\": 1, \"Ashok\": 0, \"Arjuna\": 1, \"Areca_palm\": 6, \"Weeping_fig\": 6, \"Grebera_Daisy\": 6, \"Aloe_vera\": 3, \"Tulsi\": 10, \"Pothos_plant\": 6}, {\"Area\": 4336, \"OE\": 72718, \"COb\": 5061, \"Area_left\": 542, \"considerble trees\": 60, \"considerable plants\": 30, \"Neem\": 4, \"Ash\": 1, \"Willow\": 1, \"Poplar\": 3, \"Ashok\": 1, \"Arjuna\": 2, \"Areca_palm\": 6, \"Weeping_fig\": 5, \"Grebera_Daisy\": 3, \"Aloe_vera\": 4, \"Tulsi\": 8, \"Pothos_plant\": 8}, {\"Area\": 7059, \"OE\": 118580, \"COb\": 8232, \"Area_left\": 882, \"considerble trees\": 98, \"considerable plants\": 49, \"Neem\": 3, \"Ash\": 1, \"Willow\": 1, \"Poplar\": 2, \"Ashok\": 2, \"Arjuna\": 1, \"Areca_palm\": 7, \"Weeping_fig\": 9, \"Grebera_Daisy\": 12, \"Aloe_vera\": 10, \"Tulsi\": 15, \"Pothos_plant\": 6}, {\"Area\": 4375, \"OE\": 73692, \"COb\": 5103, \"Area_left\": 547, \"considerble trees\": 61, \"considerable plants\": 30, \"Neem\": 5, \"Ash\": 2, \"Willow\": 2, \"Poplar\": 4, \"Ashok\": 2, \"Arjuna\": 3, \"Areca_palm\": 10, \"Weeping_fig\": 5, \"Grebera_Daisy\": 3, \"Aloe_vera\": 4, \"Tulsi\": 8, \"Pothos_plant\": 9}, {\"Area\": 7960, \"OE\": 133705, \"COb\": 9282, \"Area_left\": 995, \"considerble trees\": 110, \"considerable plants\": 55, \"Neem\": 3, \"Ash\": 1, \"Willow\": 1, \"Poplar\": 2, \"Ashok\": 2, \"Arjuna\": 1, \"Areca_palm\": 7, \"Weeping_fig\": 13, \"Grebera_Daisy\": 8, \"Aloe_vera\": 8, \"Tulsi\": 19, \"Pothos_plant\": 5}, {\"Area\": 3173, \"OE\": 53240, \"COb\": 3696, \"Area_left\": 397, \"considerble trees\": 44, \"considerable plants\": 22, \"Neem\": 4, \"Ash\": 3, \"Willow\": 2, \"Poplar\": 4, \"Ashok\": 2, \"Arjuna\": 3, \"Areca_palm\": 10, \"Weeping_fig\": 2, \"Grebera_Daisy\": 2, \"Aloe_vera\": 2, \"Tulsi\": 5, \"Pothos_plant\": 6}, {\"Area\": 5307, \"OE\": 89053, \"COb\": 6195, \"Area_left\": 663, \"considerble trees\": 74, \"considerable plants\": 37, \"Neem\": 3, \"Ash\": 1, \"Willow\": 0, \"Poplar\": 1, \"Ashok\": 0, \"Arjuna\": 1, \"Areca_palm\": 3, \"Weeping_fig\": 6, \"Grebera_Daisy\": 6, \"Aloe_vera\": 3, \"Tulsi\": 10, \"Pothos_plant\": 9}, {\"Area\": 7815, \"OE\": 131285, \"COb\": 9114, \"Area_left\": 977, \"considerble trees\": 108, \"considerable plants\": 54, \"Neem\": 4, \"Ash\": 1, \"Willow\": 1, \"Poplar\": 3, \"Ashok\": 1, \"Arjuna\": 2, \"Areca_palm\": 6, \"Weeping_fig\": 13, \"Grebera_Daisy\": 8, \"Aloe_vera\": 8, \"Tulsi\": 19, \"Pothos_plant\": 9}, {\"Area\": 7233, \"OE\": 121605, \"COb\": 8442, \"Area_left\": 904, \"considerble trees\": 100, \"considerable plants\": 50, \"Neem\": 4, \"Ash\": 3, \"Willow\": 2, \"Poplar\": 4, \"Ashok\": 2, \"Arjuna\": 3, \"Areca_palm\": 10, \"Weeping_fig\": 13, \"Grebera_Daisy\": 8, \"Aloe_vera\": 8, \"Tulsi\": 19, \"Pothos_plant\": 6}, {\"Area\": 4737, \"OE\": 79742, \"COb\": 5523, \"Area_left\": 592, \"considerble trees\": 66, \"considerable plants\": 33, \"Neem\": 4, \"Ash\": 3, \"Willow\": 2, \"Poplar\": 4, \"Ashok\": 2, \"Arjuna\": 3, \"Areca_palm\": 10, \"Weeping_fig\": 5, \"Grebera_Daisy\": 3, \"Aloe_vera\": 4, \"Tulsi\": 8, \"Pothos_plant\": 9}, {\"Area\": 7634, \"OE\": 128260, \"COb\": 8904, \"Area_left\": 954, \"considerble trees\": 106, \"considerable plants\": 53, \"Neem\": 3, \"Ash\": 1, \"Willow\": 1, \"Poplar\": 2, \"Ashok\": 2, \"Arjuna\": 1, \"Areca_palm\": 7, \"Weeping_fig\": 13, \"Grebera_Daisy\": 8, \"Aloe_vera\": 8, \"Tulsi\": 19, \"Pothos_plant\": 6}, {\"Area\": 4061, \"OE\": 68247, \"COb\": 4725, \"Area_left\": 508, \"considerble trees\": 56, \"considerable plants\": 28, \"Neem\": 4, \"Ash\": 3, \"Willow\": 2, \"Poplar\": 4, \"Ashok\": 2, \"Arjuna\": 3, \"Areca_palm\": 10, \"Weeping_fig\": 5, \"Grebera_Daisy\": 3, \"Aloe_vera\": 4, \"Tulsi\": 8, \"Pothos_plant\": 8}, {\"Area\": 7168, \"OE\": 120395, \"COb\": 8358, \"Area_left\": 896, \"considerble trees\": 100, \"considerable plants\": 50, \"Neem\": 3, \"Ash\": 1, \"Willow\": 1, \"Poplar\": 2, \"Ashok\": 2, \"Arjuna\": 1, \"Areca_palm\": 7, \"Weeping_fig\": 9, \"Grebera_Daisy\": 12, \"Aloe_vera\": 10, \"Tulsi\": 15, \"Pothos_plant\": 2}, {\"Area\": 2081, \"OE\": 34972, \"COb\": 2415, \"Area_left\": 260, \"considerble trees\": 29, \"considerable plants\": 14, \"Neem\": 5, \"Ash\": 2, \"Willow\": 2, \"Poplar\": 4, \"Ashok\": 2, \"Arjuna\": 3, \"Areca_palm\": 10, \"Weeping_fig\": 2, \"Grebera_Daisy\": 3, \"Aloe_vera\": 3, \"Tulsi\": 3, \"Pothos_plant\": 5}, {\"Area\": 2639, \"OE\": 44283, \"COb\": 3087, \"Area_left\": 330, \"considerble trees\": 37, \"considerable plants\": 18, \"Neem\": 2, \"Ash\": 0, \"Willow\": 0, \"Poplar\": 1, \"Ashok\": 0, \"Arjuna\": 0, \"Areca_palm\": 2, \"Weeping_fig\": 2, \"Grebera_Daisy\": 2, \"Aloe_vera\": 2, \"Tulsi\": 5, \"Pothos_plant\": 9}, {\"Area\": 7959, \"OE\": 133705, \"COb\": 9282, \"Area_left\": 995, \"considerble trees\": 110, \"considerable plants\": 55, \"Neem\": 3, \"Ash\": 1, \"Willow\": 0, \"Poplar\": 1, \"Ashok\": 0, \"Arjuna\": 1, \"Areca_palm\": 3, \"Weeping_fig\": 13, \"Grebera_Daisy\": 8, \"Aloe_vera\": 8, \"Tulsi\": 19, \"Pothos_plant\": 6}, {\"Area\": 4264, \"OE\": 71508, \"COb\": 4977, \"Area_left\": 533, \"considerble trees\": 59, \"considerable plants\": 30, \"Neem\": 4, \"Ash\": 3, \"Willow\": 2, \"Poplar\": 4, \"Ashok\": 2, \"Arjuna\": 3, \"Areca_palm\": 10, \"Weeping_fig\": 5, \"Grebera_Daisy\": 3, \"Aloe_vera\": 4, \"Tulsi\": 8, \"Pothos_plant\": 6}, {\"Area\": 5545, \"OE\": 93170, \"COb\": 6468, \"Area_left\": 693, \"considerble trees\": 77, \"considerable plants\": 38, \"Neem\": 3, \"Ash\": 1, \"Willow\": 1, \"Poplar\": 2, \"Ashok\": 2, \"Arjuna\": 1, \"Areca_palm\": 7, \"Weeping_fig\": 6, \"Grebera_Daisy\": 6, \"Aloe_vera\": 3, \"Tulsi\": 10, \"Pothos_plant\": 9}, {\"Area\": 7519, \"OE\": 126445, \"COb\": 8778, \"Area_left\": 940, \"considerble trees\": 104, \"considerable plants\": 52, \"Neem\": 4, \"Ash\": 1, \"Willow\": 1, \"Poplar\": 3, \"Ashok\": 1, \"Arjuna\": 2, \"Areca_palm\": 6, \"Weeping_fig\": 13, \"Grebera_Daisy\": 8, \"Aloe_vera\": 8, \"Tulsi\": 19, \"Pothos_plant\": 7}, {\"Area\": 5989, \"OE\": 100548, \"COb\": 6993, \"Area_left\": 749, \"considerble trees\": 83, \"considerable plants\": 42, \"Neem\": 4, \"Ash\": 3, \"Willow\": 2, \"Poplar\": 4, \"Ashok\": 2, \"Arjuna\": 3, \"Areca_palm\": 10, \"Weeping_fig\": 7, \"Grebera_Daisy\": 8, \"Aloe_vera\": 5, \"Tulsi\": 13, \"Pothos_plant\": 5}, {\"Area\": 3287, \"OE\": 55173, \"COb\": 3843, \"Area_left\": 411, \"considerble trees\": 46, \"considerable plants\": 23, \"Neem\": 4, \"Ash\": 2, \"Willow\": 2, \"Poplar\": 3, \"Ashok\": 2, \"Arjuna\": 2, \"Areca_palm\": 9, \"Weeping_fig\": 4, \"Grebera_Daisy\": 4, \"Aloe_vera\": 3, \"Tulsi\": 7, \"Pothos_plant\": 5}, {\"Area\": 2838, \"OE\": 47677, \"COb\": 3297, \"Area_left\": 355, \"considerble trees\": 39, \"considerable plants\": 20, \"Neem\": 3, \"Ash\": 1, \"Willow\": 1, \"Poplar\": 1, \"Ashok\": 0, \"Arjuna\": 1, \"Areca_palm\": 6, \"Weeping_fig\": 2, \"Grebera_Daisy\": 2, \"Aloe_vera\": 2, \"Tulsi\": 5, \"Pothos_plant\": 9}, {\"Area\": 7443, \"OE\": 125117, \"COb\": 8673, \"Area_left\": 930, \"considerble trees\": 103, \"considerable plants\": 52, \"Neem\": 3, \"Ash\": 1, \"Willow\": 0, \"Poplar\": 1, \"Ashok\": 0, \"Arjuna\": 1, \"Areca_palm\": 3, \"Weeping_fig\": 13, \"Grebera_Daisy\": 8, \"Aloe_vera\": 8, \"Tulsi\": 19, \"Pothos_plant\": 9}, {\"Area\": 7497, \"OE\": 125958, \"COb\": 8757, \"Area_left\": 937, \"considerble trees\": 104, \"considerable plants\": 52, \"Neem\": 4, \"Ash\": 3, \"Willow\": 2, \"Poplar\": 4, \"Ashok\": 2, \"Arjuna\": 3, \"Areca_palm\": 10, \"Weeping_fig\": 13, \"Grebera_Daisy\": 8, \"Aloe_vera\": 8, \"Tulsi\": 19, \"Pothos_plant\": 7}, {\"Area\": 6390, \"OE\": 107203, \"COb\": 7455, \"Area_left\": 799, \"considerble trees\": 89, \"considerable plants\": 44, \"Neem\": 4, \"Ash\": 3, \"Willow\": 2, \"Poplar\": 4, \"Ashok\": 2, \"Arjuna\": 3, \"Areca_palm\": 10, \"Weeping_fig\": 7, \"Grebera_Daisy\": 8, \"Aloe_vera\": 5, \"Tulsi\": 13, \"Pothos_plant\": 5}, {\"Area\": 3057, \"OE\": 51425, \"COb\": 3570, \"Area_left\": 382, \"considerble trees\": 42, \"considerable plants\": 21, \"Neem\": 4, \"Ash\": 2, \"Willow\": 2, \"Poplar\": 3, \"Ashok\": 2, \"Arjuna\": 2, \"Areca_palm\": 9, \"Weeping_fig\": 2, \"Grebera_Daisy\": 2, \"Aloe_vera\": 2, \"Tulsi\": 5, \"Pothos_plant\": 5}, {\"Area\": 2643, \"OE\": 44283, \"COb\": 3087, \"Area_left\": 330, \"considerble trees\": 37, \"considerable plants\": 18, \"Neem\": 3, \"Ash\": 1, \"Willow\": 0, \"Poplar\": 1, \"Ashok\": 0, \"Arjuna\": 1, \"Areca_palm\": 3, \"Weeping_fig\": 2, \"Grebera_Daisy\": 2, \"Aloe_vera\": 2, \"Tulsi\": 5, \"Pothos_plant\": 5}, {\"Area\": 3656, \"OE\": 61592, \"COb\": 4263, \"Area_left\": 457, \"considerble trees\": 51, \"considerable plants\": 26, \"Neem\": 3, \"Ash\": 1, \"Willow\": 0, \"Poplar\": 1, \"Ashok\": 0, \"Arjuna\": 1, \"Areca_palm\": 3, \"Weeping_fig\": 4, \"Grebera_Daisy\": 4, \"Aloe_vera\": 3, \"Tulsi\": 7, \"Pothos_plant\": 7}, {\"Area\": 6058, \"OE\": 101758, \"COb\": 7077, \"Area_left\": 757, \"considerble trees\": 84, \"considerable plants\": 42, \"Neem\": 3, \"Ash\": 1, \"Willow\": 1, \"Poplar\": 1, \"Ashok\": 0, \"Arjuna\": 1, \"Areca_palm\": 6, \"Weeping_fig\": 7, \"Grebera_Daisy\": 8, \"Aloe_vera\": 5, \"Tulsi\": 13, \"Pothos_plant\": 6}, {\"Area\": 5394, \"OE\": 90750, \"COb\": 6300, \"Area_left\": 674, \"considerble trees\": 75, \"considerable plants\": 38, \"Neem\": 4, \"Ash\": 2, \"Willow\": 2, \"Poplar\": 3, \"Ashok\": 2, \"Arjuna\": 2, \"Areca_palm\": 9, \"Weeping_fig\": 6, \"Grebera_Daisy\": 6, \"Aloe_vera\": 3, \"Tulsi\": 10, \"Pothos_plant\": 9}, {\"Area\": 7901, \"OE\": 132613, \"COb\": 9219, \"Area_left\": 988, \"considerble trees\": 110, \"considerable plants\": 55, \"Neem\": 4, \"Ash\": 1, \"Willow\": 1, \"Poplar\": 3, \"Ashok\": 1, \"Arjuna\": 2, \"Areca_palm\": 6, \"Weeping_fig\": 13, \"Grebera_Daisy\": 8, \"Aloe_vera\": 8, \"Tulsi\": 19, \"Pothos_plant\": 6}, {\"Area\": 4859, \"OE\": 81675, \"COb\": 5670, \"Area_left\": 607, \"considerble trees\": 68, \"considerable plants\": 34, \"Neem\": 4, \"Ash\": 3, \"Willow\": 2, \"Poplar\": 4, \"Ashok\": 2, \"Arjuna\": 3, \"Areca_palm\": 10, \"Weeping_fig\": 6, \"Grebera_Daisy\": 6, \"Aloe_vera\": 3, \"Tulsi\": 10, \"Pothos_plant\": 9}, {\"Area\": 7503, \"OE\": 125958, \"COb\": 8757, \"Area_left\": 938, \"considerble trees\": 104, \"considerable plants\": 52, \"Neem\": 4, \"Ash\": 1, \"Willow\": 1, \"Poplar\": 3, \"Ashok\": 1, \"Arjuna\": 2, \"Areca_palm\": 6, \"Weeping_fig\": 13, \"Grebera_Daisy\": 8, \"Aloe_vera\": 8, \"Tulsi\": 19, \"Pothos_plant\": 5}, {\"Area\": 3360, \"OE\": 56383, \"COb\": 3927, \"Area_left\": 420, \"considerble trees\": 47, \"considerable plants\": 23, \"Neem\": 4, \"Ash\": 3, \"Willow\": 2, \"Poplar\": 4, \"Ashok\": 2, \"Arjuna\": 3, \"Areca_palm\": 10, \"Weeping_fig\": 4, \"Grebera_Daisy\": 4, \"Aloe_vera\": 3, \"Tulsi\": 7, \"Pothos_plant\": 6}, {\"Area\": 4744, \"OE\": 79742, \"COb\": 5523, \"Area_left\": 593, \"considerble trees\": 66, \"considerable plants\": 33, \"Neem\": 3, \"Ash\": 1, \"Willow\": 1, \"Poplar\": 1, \"Ashok\": 0, \"Arjuna\": 1, \"Areca_palm\": 6, \"Weeping_fig\": 5, \"Grebera_Daisy\": 3, \"Aloe_vera\": 4, \"Tulsi\": 8, \"Pothos_plant\": 8}, {\"Area\": 7055, \"OE\": 118580, \"COb\": 8232, \"Area_left\": 882, \"considerble trees\": 98, \"considerable plants\": 49, \"Neem\": 3, \"Ash\": 1, \"Willow\": 1, \"Poplar\": 2, \"Ashok\": 2, \"Arjuna\": 1, \"Areca_palm\": 7, \"Weeping_fig\": 9, \"Grebera_Daisy\": 12, \"Aloe_vera\": 10, \"Tulsi\": 15, \"Pothos_plant\": 6}, {\"Area\": 4673, \"OE\": 78532, \"COb\": 5439, \"Area_left\": 584, \"considerble trees\": 65, \"considerable plants\": 32, \"Neem\": 5, \"Ash\": 2, \"Willow\": 2, \"Poplar\": 4, \"Ashok\": 2, \"Arjuna\": 3, \"Areca_palm\": 10, \"Weeping_fig\": 5, \"Grebera_Daisy\": 3, \"Aloe_vera\": 4, \"Tulsi\": 8, \"Pothos_plant\": 8}, {\"Area\": 6847, \"OE\": 115068, \"COb\": 8001, \"Area_left\": 856, \"considerble trees\": 95, \"considerable plants\": 48, \"Neem\": 3, \"Ash\": 1, \"Willow\": 1, \"Poplar\": 2, \"Ashok\": 2, \"Arjuna\": 1, \"Areca_palm\": 7, \"Weeping_fig\": 9, \"Grebera_Daisy\": 12, \"Aloe_vera\": 10, \"Tulsi\": 15, \"Pothos_plant\": 7}, {\"Area\": 6181, \"OE\": 103942, \"COb\": 7203, \"Area_left\": 773, \"considerble trees\": 86, \"considerable plants\": 43, \"Neem\": 5, \"Ash\": 2, \"Willow\": 2, \"Poplar\": 4, \"Ashok\": 2, \"Arjuna\": 3, \"Areca_palm\": 10, \"Weeping_fig\": 7, \"Grebera_Daisy\": 8, \"Aloe_vera\": 5, \"Tulsi\": 13, \"Pothos_plant\": 6}, {\"Area\": 4801, \"OE\": 80583, \"COb\": 5607, \"Area_left\": 600, \"considerble trees\": 67, \"considerable plants\": 33, \"Neem\": 4, \"Ash\": 2, \"Willow\": 2, \"Poplar\": 3, \"Ashok\": 2, \"Arjuna\": 2, \"Areca_palm\": 9, \"Weeping_fig\": 6, \"Grebera_Daisy\": 6, \"Aloe_vera\": 3, \"Tulsi\": 10, \"Pothos_plant\": 5}, {\"Area\": 5132, \"OE\": 86397, \"COb\": 5985, \"Area_left\": 642, \"considerble trees\": 71, \"considerable plants\": 36, \"Neem\": 4, \"Ash\": 1, \"Willow\": 1, \"Poplar\": 3, \"Ashok\": 1, \"Arjuna\": 2, \"Areca_palm\": 6, \"Weeping_fig\": 2, \"Grebera_Daisy\": 2, \"Aloe_vera\": 2, \"Tulsi\": 5, \"Pothos_plant\": 5}, {\"Area\": 2717, \"OE\": 45493, \"COb\": 3171, \"Area_left\": 340, \"considerble trees\": 38, \"considerable plants\": 19, \"Neem\": 3, \"Ash\": 1, \"Willow\": 0, \"Poplar\": 1, \"Ashok\": 0, \"Arjuna\": 1, \"Areca_palm\": 3, \"Weeping_fig\": 2, \"Grebera_Daisy\": 2, \"Aloe_vera\": 2, \"Tulsi\": 5, \"Pothos_plant\": 2}, {\"Area\": 2756, \"OE\": 46467, \"COb\": 3213, \"Area_left\": 344, \"considerble trees\": 38, \"considerable plants\": 19, \"Neem\": 3, \"Ash\": 1, \"Willow\": 0, \"Poplar\": 1, \"Ashok\": 0, \"Arjuna\": 1, \"Areca_palm\": 3, \"Weeping_fig\": 2, \"Grebera_Daisy\": 3, \"Aloe_vera\": 3, \"Tulsi\": 3, \"Pothos_plant\": 5}, {\"Area\": 2222, \"OE\": 37392, \"COb\": 2583, \"Area_left\": 278, \"considerble trees\": 31, \"considerable plants\": 16, \"Neem\": 2, \"Ash\": 0, \"Willow\": 0, \"Poplar\": 1, \"Ashok\": 0, \"Arjuna\": 0, \"Areca_palm\": 2, \"Weeping_fig\": 4, \"Grebera_Daisy\": 4, \"Aloe_vera\": 3, \"Tulsi\": 7, \"Pothos_plant\": 7}, {\"Area\": 3282, \"OE\": 55173, \"COb\": 3843, \"Area_left\": 410, \"considerble trees\": 46, \"considerable plants\": 23, \"Neem\": 3, \"Ash\": 1, \"Willow\": 1, \"Poplar\": 1, \"Ashok\": 0, \"Arjuna\": 1, \"Areca_palm\": 6, \"Weeping_fig\": 7, \"Grebera_Daisy\": 8, \"Aloe_vera\": 5, \"Tulsi\": 13, \"Pothos_plant\": 8}, {\"Area\": 5930, \"OE\": 99707, \"COb\": 6909, \"Area_left\": 741, \"considerble trees\": 82, \"considerable plants\": 41, \"Neem\": 4, \"Ash\": 2, \"Willow\": 2, \"Poplar\": 3, \"Ashok\": 2, \"Arjuna\": 2, \"Areca_palm\": 9, \"Weeping_fig\": 9, \"Grebera_Daisy\": 12, \"Aloe_vera\": 10, \"Tulsi\": 15, \"Pothos_plant\": 6}, {\"Area\": 6826, \"OE\": 114832, \"COb\": 7959, \"Area_left\": 853, \"considerble trees\": 95, \"considerable plants\": 48, \"Neem\": 5, \"Ash\": 2, \"Willow\": 2, \"Poplar\": 4, \"Ashok\": 2, \"Arjuna\": 3, \"Areca_palm\": 10, \"Weeping_fig\": 5, \"Grebera_Daisy\": 3, \"Aloe_vera\": 4, \"Tulsi\": 8, \"Pothos_plant\": 7}, {\"Area\": 4060, \"OE\": 68247, \"COb\": 4725, \"Area_left\": 508, \"considerble trees\": 56, \"considerable plants\": 28, \"Neem\": 3, \"Ash\": 1, \"Willow\": 1, \"Poplar\": 2, \"Ashok\": 2, \"Arjuna\": 1, \"Areca_palm\": 7, \"Weeping_fig\": 7, \"Grebera_Daisy\": 8, \"Aloe_vera\": 5, \"Tulsi\": 13, \"Pothos_plant\": 2}, {\"Area\": 6192, \"OE\": 104060, \"COb\": 7224, \"Area_left\": 774, \"considerble trees\": 86, \"considerable plants\": 43, \"Neem\": 4, \"Ash\": 2, \"Willow\": 2, \"Poplar\": 3, \"Ashok\": 2, \"Arjuna\": 2, \"Areca_palm\": 9, \"Weeping_fig\": 2, \"Grebera_Daisy\": 3, \"Aloe_vera\": 3, \"Tulsi\": 3, \"Pothos_plant\": 6}, {\"Area\": 2016, \"OE\": 33880, \"COb\": 2352, \"Area_left\": 252, \"considerble trees\": 28, \"considerable plants\": 14, \"Neem\": 2, \"Ash\": 0, \"Willow\": 0, \"Poplar\": 1, \"Ashok\": 0, \"Arjuna\": 0, \"Areca_palm\": 2, \"Weeping_fig\": 5, \"Grebera_Daisy\": 3, \"Aloe_vera\": 4, \"Tulsi\": 8, \"Pothos_plant\": 9}, {\"Area\": 4248, \"OE\": 71390, \"COb\": 4956, \"Area_left\": 531, \"considerble trees\": 59, \"considerable plants\": 30, \"Neem\": 3, \"Ash\": 1, \"Willow\": 1, \"Poplar\": 2, \"Ashok\": 2, \"Arjuna\": 1, \"Areca_palm\": 7, \"Weeping_fig\": 13, \"Grebera_Daisy\": 8, \"Aloe_vera\": 8, \"Tulsi\": 19, \"Pothos_plant\": 6}, {\"Area\": 7497, \"OE\": 125958, \"COb\": 8757, \"Area_left\": 937, \"considerble trees\": 104, \"considerable plants\": 52, \"Neem\": 4, \"Ash\": 3, \"Willow\": 2, \"Poplar\": 4, \"Ashok\": 2, \"Arjuna\": 3, \"Areca_palm\": 10, \"Weeping_fig\": 6, \"Grebera_Daisy\": 6, \"Aloe_vera\": 3, \"Tulsi\": 10, \"Pothos_plant\": 2}, {\"Area\": 5549, \"OE\": 93170, \"COb\": 6468, \"Area_left\": 694, \"considerble trees\": 77, \"considerable plants\": 38, \"Neem\": 4, \"Ash\": 1, \"Willow\": 1, \"Poplar\": 3, \"Ashok\": 1, \"Arjuna\": 2, \"Areca_palm\": 6, \"Weeping_fig\": 2, \"Grebera_Daisy\": 3, \"Aloe_vera\": 3, \"Tulsi\": 3, \"Pothos_plant\": 5}, {\"Area\": 2103, \"OE\": 35208, \"COb\": 2457, \"Area_left\": 263, \"considerble trees\": 29, \"considerable plants\": 14, \"Neem\": 2, \"Ash\": 0, \"Willow\": 0, \"Poplar\": 1, \"Ashok\": 0, \"Arjuna\": 0, \"Areca_palm\": 2, \"Weeping_fig\": 2, \"Grebera_Daisy\": 2, \"Aloe_vera\": 2, \"Tulsi\": 5, \"Pothos_plant\": 5}, {\"Area\": 2426, \"OE\": 40653, \"COb\": 2835, \"Area_left\": 303, \"considerble trees\": 34, \"considerable plants\": 17, \"Neem\": 3, \"Ash\": 1, \"Willow\": 0, \"Poplar\": 1, \"Ashok\": 0, \"Arjuna\": 1, \"Areca_palm\": 3, \"Weeping_fig\": 4, \"Grebera_Daisy\": 4, \"Aloe_vera\": 3, \"Tulsi\": 7, \"Pothos_plant\": 7}, {\"Area\": 3574, \"OE\": 60013, \"COb\": 4179, \"Area_left\": 447, \"considerble trees\": 50, \"considerable plants\": 25, \"Neem\": 3, \"Ash\": 1, \"Willow\": 1, \"Poplar\": 1, \"Ashok\": 0, \"Arjuna\": 1, \"Areca_palm\": 6, \"Weeping_fig\": 7, \"Grebera_Daisy\": 8, \"Aloe_vera\": 5, \"Tulsi\": 13, \"Pothos_plant\": 6}, {\"Area\": 6376, \"OE\": 107085, \"COb\": 7434, \"Area_left\": 797, \"considerble trees\": 88, \"considerable plants\": 44, \"Neem\": 4, \"Ash\": 2, \"Willow\": 2, \"Poplar\": 3, \"Ashok\": 2, \"Arjuna\": 2, \"Areca_palm\": 9, \"Weeping_fig\": 6, \"Grebera_Daisy\": 6, \"Aloe_vera\": 3, \"Tulsi\": 10, \"Pothos_plant\": 5}, {\"Area\": 5279, \"OE\": 88817, \"COb\": 6153, \"Area_left\": 660, \"considerble trees\": 73, \"considerable plants\": 37, \"Neem\": 4, \"Ash\": 1, \"Willow\": 1, \"Poplar\": 3, \"Ashok\": 1, \"Arjuna\": 2, \"Areca_palm\": 6, \"Weeping_fig\": 2, \"Grebera_Daisy\": 2, \"Aloe_vera\": 2, \"Tulsi\": 5, \"Pothos_plant\": 5}, {\"Area\": 2525, \"OE\": 42350, \"COb\": 2940, \"Area_left\": 316, \"considerble trees\": 35, \"considerable plants\": 18, \"Neem\": 3, \"Ash\": 1, \"Willow\": 0, \"Poplar\": 1, \"Ashok\": 0, \"Arjuna\": 1, \"Areca_palm\": 3, \"Weeping_fig\": 4, \"Grebera_Daisy\": 4, \"Aloe_vera\": 3, \"Tulsi\": 7, \"Pothos_plant\": 7}, {\"Area\": 3640, \"OE\": 61105, \"COb\": 4242, \"Area_left\": 455, \"considerble trees\": 50, \"considerable plants\": 25, \"Neem\": 3, \"Ash\": 1, \"Willow\": 1, \"Poplar\": 1, \"Ashok\": 0, \"Arjuna\": 1, \"Areca_palm\": 6, \"Weeping_fig\": 7, \"Grebera_Daisy\": 8, \"Aloe_vera\": 5, \"Tulsi\": 13, \"Pothos_plant\": 6}, {\"Area\": 5607, \"OE\": 94262, \"COb\": 6531, \"Area_left\": 701, \"considerble trees\": 78, \"considerable plants\": 39, \"Neem\": 4, \"Ash\": 2, \"Willow\": 2, \"Poplar\": 3, \"Ashok\": 2, \"Arjuna\": 2, \"Areca_palm\": 9, \"Weeping_fig\": 6, \"Grebera_Daisy\": 6, \"Aloe_vera\": 3, \"Tulsi\": 10, \"Pothos_plant\": 8}, {\"Area\": 5272, \"OE\": 88448, \"COb\": 6153, \"Area_left\": 659, \"considerble trees\": 73, \"considerable plants\": 36, \"Neem\": 4, \"Ash\": 1, \"Willow\": 1, \"Poplar\": 3, \"Ashok\": 1, \"Arjuna\": 2, \"Areca_palm\": 6, \"Weeping_fig\": 9, \"Grebera_Daisy\": 12, \"Aloe_vera\": 10, \"Tulsi\": 15, \"Pothos_plant\": 6}, {\"Area\": 6653, \"OE\": 111807, \"COb\": 7749, \"Area_left\": 832, \"considerble trees\": 92, \"considerable plants\": 46, \"Neem\": 5, \"Ash\": 2, \"Willow\": 2, \"Poplar\": 4, \"Ashok\": 2, \"Arjuna\": 3, \"Areca_palm\": 10, \"Weeping_fig\": 5, \"Grebera_Daisy\": 3, \"Aloe_vera\": 4, \"Tulsi\": 8, \"Pothos_plant\": 5}, {\"Area\": 4666, \"OE\": 78532, \"COb\": 5439, \"Area_left\": 583, \"considerble trees\": 65, \"considerable plants\": 32, \"Neem\": 3, \"Ash\": 1, \"Willow\": 1, \"Poplar\": 2, \"Ashok\": 2, \"Arjuna\": 1, \"Areca_palm\": 7, \"Weeping_fig\": 4, \"Grebera_Daisy\": 4, \"Aloe_vera\": 3, \"Tulsi\": 7, \"Pothos_plant\": 8}, {\"Area\": 3211, \"OE\": 53963, \"COb\": 3759, \"Area_left\": 401, \"considerble trees\": 45, \"considerable plants\": 22, \"Neem\": 3, \"Ash\": 1, \"Willow\": 1, \"Poplar\": 1, \"Ashok\": 0, \"Arjuna\": 1, \"Areca_palm\": 6, \"Weeping_fig\": 9, \"Grebera_Daisy\": 12, \"Aloe_vera\": 10, \"Tulsi\": 15, \"Pothos_plant\": 2}, {\"Area\": 6947, \"OE\": 116765, \"COb\": 8106, \"Area_left\": 868, \"considerble trees\": 96, \"considerable plants\": 48, \"Neem\": 5, \"Ash\": 2, \"Willow\": 2, \"Poplar\": 4, \"Ashok\": 2, \"Arjuna\": 3, \"Areca_palm\": 10, \"Weeping_fig\": 2, \"Grebera_Daisy\": 3, \"Aloe_vera\": 3, \"Tulsi\": 3, \"Pothos_plant\": 8}, {\"Area\": 2080, \"OE\": 34972, \"COb\": 2415, \"Area_left\": 260, \"considerble trees\": 29, \"considerable plants\": 14, \"Neem\": 2, \"Ash\": 0, \"Willow\": 0, \"Poplar\": 1, \"Ashok\": 0, \"Arjuna\": 0, \"Areca_palm\": 2, \"Weeping_fig\": 9, \"Grebera_Daisy\": 12, \"Aloe_vera\": 10, \"Tulsi\": 15, \"Pothos_plant\": 6}, {\"Area\": 6647, \"OE\": 111807, \"COb\": 7749, \"Area_left\": 831, \"considerble trees\": 92, \"considerable plants\": 46, \"Neem\": 5, \"Ash\": 2, \"Willow\": 2, \"Poplar\": 4, \"Ashok\": 2, \"Arjuna\": 3, \"Areca_palm\": 10, \"Weeping_fig\": 5, \"Grebera_Daisy\": 3, \"Aloe_vera\": 4, \"Tulsi\": 8, \"Pothos_plant\": 8}, {\"Area\": 4630, \"OE\": 77927, \"COb\": 5397, \"Area_left\": 579, \"considerble trees\": 64, \"considerable plants\": 32, \"Neem\": 3, \"Ash\": 1, \"Willow\": 1, \"Poplar\": 2, \"Ashok\": 2, \"Arjuna\": 1, \"Areca_palm\": 7, \"Weeping_fig\": 9, \"Grebera_Daisy\": 12, \"Aloe_vera\": 10, \"Tulsi\": 15, \"Pothos_plant\": 5}, {\"Area\": 6918, \"OE\": 116160, \"COb\": 8064, \"Area_left\": 865, \"considerble trees\": 96, \"considerable plants\": 48, \"Neem\": 5, \"Ash\": 2, \"Willow\": 2, \"Poplar\": 4, \"Ashok\": 2, \"Arjuna\": 3, \"Areca_palm\": 10, \"Weeping_fig\": 2, \"Grebera_Daisy\": 2, \"Aloe_vera\": 2, \"Tulsi\": 5, \"Pothos_plant\": 6}, {\"Area\": 6399, \"OE\": 107572, \"COb\": 7455, \"Area_left\": 800, \"considerble trees\": 89, \"considerable plants\": 44, \"Neem\": 3, \"Ash\": 1, \"Willow\": 0, \"Poplar\": 1, \"Ashok\": 0, \"Arjuna\": 1, \"Areca_palm\": 3, \"Weeping_fig\": 6, \"Grebera_Daisy\": 6, \"Aloe_vera\": 3, \"Tulsi\": 10, \"Pothos_plant\": 5}, {\"Area\": 2687, \"OE\": 45257, \"COb\": 3129, \"Area_left\": 336, \"considerble trees\": 37, \"considerable plants\": 19, \"Neem\": 4, \"Ash\": 1, \"Willow\": 1, \"Poplar\": 3, \"Ashok\": 1, \"Arjuna\": 2, \"Areca_palm\": 6, \"Weeping_fig\": 4, \"Grebera_Daisy\": 4, \"Aloe_vera\": 3, \"Tulsi\": 7, \"Pothos_plant\": 6}, {\"Area\": 4972, \"OE\": 83490, \"COb\": 5796, \"Area_left\": 622, \"considerble trees\": 69, \"considerable plants\": 34, \"Neem\": 3, \"Ash\": 1, \"Willow\": 1, \"Poplar\": 1, \"Ashok\": 0, \"Arjuna\": 1, \"Areca_palm\": 6, \"Weeping_fig\": 6, \"Grebera_Daisy\": 6, \"Aloe_vera\": 3, \"Tulsi\": 10, \"Pothos_plant\": 5}, {\"Area\": 3730, \"OE\": 62802, \"COb\": 4347, \"Area_left\": 466, \"considerble trees\": 52, \"considerable plants\": 26, \"Neem\": 4, \"Ash\": 1, \"Willow\": 1, \"Poplar\": 3, \"Ashok\": 1, \"Arjuna\": 2, \"Areca_palm\": 6, \"Weeping_fig\": 4, \"Grebera_Daisy\": 4, \"Aloe_vera\": 3, \"Tulsi\": 7, \"Pothos_plant\": 8}, {\"Area\": 5337, \"OE\": 89658, \"COb\": 6237, \"Area_left\": 667, \"considerble trees\": 74, \"considerable plants\": 37, \"Neem\": 3, \"Ash\": 1, \"Willow\": 1, \"Poplar\": 1, \"Ashok\": 0, \"Arjuna\": 1, \"Areca_palm\": 6, \"Weeping_fig\": 9, \"Grebera_Daisy\": 12, \"Aloe_vera\": 10, \"Tulsi\": 15, \"Pothos_plant\": 6}, {\"Area\": 3245, \"OE\": 54450, \"COb\": 3780, \"Area_left\": 406, \"considerble trees\": 45, \"considerable plants\": 22, \"Neem\": 5, \"Ash\": 2, \"Willow\": 2, \"Poplar\": 4, \"Ashok\": 2, \"Arjuna\": 3, \"Areca_palm\": 10, \"Weeping_fig\": 5, \"Grebera_Daisy\": 3, \"Aloe_vera\": 4, \"Tulsi\": 8, \"Pothos_plant\": 8}, {\"Area\": 6715, \"OE\": 113017, \"COb\": 7833, \"Area_left\": 839, \"considerble trees\": 93, \"considerable plants\": 47, \"Neem\": 3, \"Ash\": 1, \"Willow\": 1, \"Poplar\": 2, \"Ashok\": 2, \"Arjuna\": 1, \"Areca_palm\": 7, \"Weeping_fig\": 9, \"Grebera_Daisy\": 12, \"Aloe_vera\": 10, \"Tulsi\": 15, \"Pothos_plant\": 7}, {\"Area\": 4430, \"OE\": 74415, \"COb\": 5166, \"Area_left\": 554, \"considerble trees\": 62, \"considerable plants\": 31, \"Neem\": 5, \"Ash\": 2, \"Willow\": 2, \"Poplar\": 4, \"Ashok\": 2, \"Arjuna\": 3, \"Areca_palm\": 10, \"Weeping_fig\": 7, \"Grebera_Daisy\": 8, \"Aloe_vera\": 5, \"Tulsi\": 13, \"Pothos_plant\": 5}, {\"Area\": 6552, \"OE\": 110110, \"COb\": 7644, \"Area_left\": 819, \"considerble trees\": 91, \"considerable plants\": 46, \"Neem\": 4, \"Ash\": 2, \"Willow\": 2, \"Poplar\": 3, \"Ashok\": 2, \"Arjuna\": 2, \"Areca_palm\": 9, \"Weeping_fig\": 4, \"Grebera_Daisy\": 4, \"Aloe_vera\": 3, \"Tulsi\": 7, \"Pothos_plant\": 9}, {\"Area\": 6342, \"OE\": 106480, \"COb\": 7392, \"Area_left\": 793, \"considerble trees\": 88, \"considerable plants\": 44, \"Neem\": 3, \"Ash\": 1, \"Willow\": 1, \"Poplar\": 1, \"Ashok\": 0, \"Arjuna\": 1, \"Areca_palm\": 6, \"Weeping_fig\": 13, \"Grebera_Daisy\": 8, \"Aloe_vera\": 8, \"Tulsi\": 19, \"Pothos_plant\": 2}, {\"Area\": 3688, \"OE\": 61828, \"COb\": 4305, \"Area_left\": 461, \"considerble trees\": 51, \"considerable plants\": 26, \"Neem\": 4, \"Ash\": 3, \"Willow\": 2, \"Poplar\": 4, \"Ashok\": 2, \"Arjuna\": 3, \"Areca_palm\": 10, \"Weeping_fig\": 2, \"Grebera_Daisy\": 3, \"Aloe_vera\": 3, \"Tulsi\": 3, \"Pothos_plant\": 9}, {\"Area\": 7285, \"OE\": 122328, \"COb\": 8505, \"Area_left\": 911, \"considerble trees\": 101, \"considerable plants\": 50, \"Neem\": 2, \"Ash\": 0, \"Willow\": 0, \"Poplar\": 1, \"Ashok\": 0, \"Arjuna\": 0, \"Areca_palm\": 2, \"Weeping_fig\": 13, \"Grebera_Daisy\": 8, \"Aloe_vera\": 8, \"Tulsi\": 19, \"Pothos_plant\": 6}, {\"Area\": 2059, \"OE\": 34603, \"COb\": 2415, \"Area_left\": 257, \"considerble trees\": 29, \"considerable plants\": 14, \"Neem\": 4, \"Ash\": 3, \"Willow\": 2, \"Poplar\": 4, \"Ashok\": 2, \"Arjuna\": 3, \"Areca_palm\": 10, \"Weeping_fig\": 5, \"Grebera_Daisy\": 3, \"Aloe_vera\": 4, \"Tulsi\": 8, \"Pothos_plant\": 5}, {\"Area\": 7737, \"OE\": 130075, \"COb\": 9030, \"Area_left\": 967, \"considerble trees\": 108, \"considerable plants\": 54, \"Neem\": 3, \"Ash\": 1, \"Willow\": 1, \"Poplar\": 2, \"Ashok\": 2, \"Arjuna\": 1, \"Areca_palm\": 7, \"Weeping_fig\": 4, \"Grebera_Daisy\": 4, \"Aloe_vera\": 3, \"Tulsi\": 7, \"Pothos_plant\": 9}, {\"Area\": 4299, \"OE\": 72113, \"COb\": 5019, \"Area_left\": 537, \"considerble trees\": 60, \"considerable plants\": 30, \"Neem\": 3, \"Ash\": 1, \"Willow\": 1, \"Poplar\": 1, \"Ashok\": 0, \"Arjuna\": 1, \"Areca_palm\": 6, \"Weeping_fig\": 13, \"Grebera_Daisy\": 8, \"Aloe_vera\": 8, \"Tulsi\": 19, \"Pothos_plant\": 5}, {\"Area\": 3722, \"OE\": 62433, \"COb\": 4347, \"Area_left\": 465, \"considerble trees\": 52, \"considerable plants\": 26, \"Neem\": 4, \"Ash\": 3, \"Willow\": 2, \"Poplar\": 4, \"Ashok\": 2, \"Arjuna\": 3, \"Areca_palm\": 10, \"Weeping_fig\": 2, \"Grebera_Daisy\": 2, \"Aloe_vera\": 2, \"Tulsi\": 5, \"Pothos_plant\": 7}, {\"Area\": 7980, \"OE\": 134192, \"COb\": 9303, \"Area_left\": 998, \"considerble trees\": 111, \"considerable plants\": 56, \"Neem\": 3, \"Ash\": 1, \"Willow\": 0, \"Poplar\": 1, \"Ashok\": 0, \"Arjuna\": 1, \"Areca_palm\": 3, \"Weeping_fig\": 7, \"Grebera_Daisy\": 8, \"Aloe_vera\": 5, \"Tulsi\": 13, \"Pothos_plant\": 6}, {\"Area\": 5596, \"OE\": 93893, \"COb\": 6531, \"Area_left\": 700, \"considerble trees\": 78, \"considerable plants\": 39, \"Neem\": 4, \"Ash\": 2, \"Willow\": 2, \"Poplar\": 3, \"Ashok\": 2, \"Arjuna\": 2, \"Areca_palm\": 9, \"Weeping_fig\": 6, \"Grebera_Daisy\": 6, \"Aloe_vera\": 3, \"Tulsi\": 10, \"Pothos_plant\": 8}, {\"Area\": 2515, \"OE\": 42350, \"COb\": 2940, \"Area_left\": 314, \"considerble trees\": 35, \"considerable plants\": 18, \"Neem\": 4, \"Ash\": 1, \"Willow\": 1, \"Poplar\": 3, \"Ashok\": 1, \"Arjuna\": 2, \"Areca_palm\": 6, \"Weeping_fig\": 9, \"Grebera_Daisy\": 12, \"Aloe_vera\": 10, \"Tulsi\": 15, \"Pothos_plant\": 6}, {\"Area\": 6211, \"OE\": 104547, \"COb\": 7245, \"Area_left\": 776, \"considerble trees\": 86, \"considerable plants\": 43, \"Neem\": 5, \"Ash\": 2, \"Willow\": 2, \"Poplar\": 4, \"Ashok\": 2, \"Arjuna\": 3, \"Areca_palm\": 10, \"Weeping_fig\": 5, \"Grebera_Daisy\": 3, \"Aloe_vera\": 4, \"Tulsi\": 8, \"Pothos_plant\": 6}, {\"Area\": 5440, \"OE\": 91355, \"COb\": 6342, \"Area_left\": 680, \"considerble trees\": 76, \"considerable plants\": 38, \"Neem\": 3, \"Ash\": 1, \"Willow\": 1, \"Poplar\": 2, \"Ashok\": 2, \"Arjuna\": 1, \"Areca_palm\": 7, \"Weeping_fig\": 5, \"Grebera_Daisy\": 3, \"Aloe_vera\": 4, \"Tulsi\": 8, \"Pothos_plant\": 9}, {\"Area\": 6748, \"OE\": 113253, \"COb\": 7875, \"Area_left\": 844, \"considerble trees\": 94, \"considerable plants\": 47, \"Neem\": 3, \"Ash\": 1, \"Willow\": 1, \"Poplar\": 2, \"Ashok\": 2, \"Arjuna\": 1, \"Areca_palm\": 7, \"Weeping_fig\": 13, \"Grebera_Daisy\": 8, \"Aloe_vera\": 8, \"Tulsi\": 19, \"Pothos_plant\": 8}, {\"Area\": 4160, \"OE\": 70062, \"COb\": 4851, \"Area_left\": 520, \"considerble trees\": 58, \"considerable plants\": 29, \"Neem\": 4, \"Ash\": 3, \"Willow\": 2, \"Poplar\": 4, \"Ashok\": 2, \"Arjuna\": 3, \"Areca_palm\": 10, \"Weeping_fig\": 9, \"Grebera_Daisy\": 12, \"Aloe_vera\": 10, \"Tulsi\": 15, \"Pothos_plant\": 5}, {\"Area\": 4335, \"OE\": 72718, \"COb\": 5061, \"Area_left\": 542, \"considerble trees\": 60, \"considerable plants\": 30, \"Neem\": 5, \"Ash\": 2, \"Willow\": 2, \"Poplar\": 4, \"Ashok\": 2, \"Arjuna\": 3, \"Areca_palm\": 10, \"Weeping_fig\": 4, \"Grebera_Daisy\": 4, \"Aloe_vera\": 3, \"Tulsi\": 7, \"Pothos_plant\": 2}, {\"Area\": 7482, \"OE\": 125840, \"COb\": 8736, \"Area_left\": 935, \"considerble trees\": 104, \"considerable plants\": 52, \"Neem\": 3, \"Ash\": 1, \"Willow\": 1, \"Poplar\": 1, \"Ashok\": 0, \"Arjuna\": 1, \"Areca_palm\": 6, \"Weeping_fig\": 2, \"Grebera_Daisy\": 3, \"Aloe_vera\": 3, \"Tulsi\": 3, \"Pothos_plant\": 6}, {\"Area\": 6755, \"OE\": 113622, \"COb\": 7875, \"Area_left\": 844, \"considerble trees\": 94, \"considerable plants\": 47, \"Neem\": 2, \"Ash\": 0, \"Willow\": 0, \"Poplar\": 1, \"Ashok\": 0, \"Arjuna\": 0, \"Areca_palm\": 2, \"Weeping_fig\": 5, \"Grebera_Daisy\": 3, \"Aloe_vera\": 4, \"Tulsi\": 8, \"Pothos_plant\": 6}, {\"Area\": 3862, \"OE\": 64853, \"COb\": 4515, \"Area_left\": 483, \"considerble trees\": 54, \"considerable plants\": 27, \"Neem\": 3, \"Ash\": 1, \"Willow\": 1, \"Poplar\": 2, \"Ashok\": 2, \"Arjuna\": 1, \"Areca_palm\": 7, \"Weeping_fig\": 5, \"Grebera_Daisy\": 3, \"Aloe_vera\": 4, \"Tulsi\": 8, \"Pothos_plant\": 8}, {\"Area\": 2179, \"OE\": 36787, \"COb\": 2541, \"Area_left\": 272, \"considerble trees\": 30, \"considerable plants\": 15, \"Neem\": 3, \"Ash\": 1, \"Willow\": 1, \"Poplar\": 2, \"Ashok\": 2, \"Arjuna\": 1, \"Areca_palm\": 7, \"Weeping_fig\": 9, \"Grebera_Daisy\": 12, \"Aloe_vera\": 10, \"Tulsi\": 15, \"Pothos_plant\": 8}, {\"Area\": 4141, \"OE\": 69575, \"COb\": 4830, \"Area_left\": 518, \"considerble trees\": 58, \"considerable plants\": 29, \"Neem\": 5, \"Ash\": 2, \"Willow\": 2, \"Poplar\": 4, \"Ashok\": 2, \"Arjuna\": 3, \"Areca_palm\": 10, \"Weeping_fig\": 9, \"Grebera_Daisy\": 12, \"Aloe_vera\": 10, \"Tulsi\": 15, \"Pothos_plant\": 7}, {\"Area\": 4048, \"OE\": 67878, \"COb\": 4725, \"Area_left\": 506, \"considerble trees\": 56, \"considerable plants\": 28, \"Neem\": 5, \"Ash\": 2, \"Willow\": 2, \"Poplar\": 4, \"Ashok\": 2, \"Arjuna\": 3, \"Areca_palm\": 10, \"Weeping_fig\": 7, \"Grebera_Daisy\": 8, \"Aloe_vera\": 5, \"Tulsi\": 13, \"Pothos_plant\": 8}, {\"Area\": 6986, \"OE\": 117370, \"COb\": 8148, \"Area_left\": 873, \"considerble trees\": 97, \"considerable plants\": 48, \"Neem\": 4, \"Ash\": 2, \"Willow\": 2, \"Poplar\": 3, \"Ashok\": 2, \"Arjuna\": 2, \"Areca_palm\": 9, \"Weeping_fig\": 9, \"Grebera_Daisy\": 12, \"Aloe_vera\": 10, \"Tulsi\": 15, \"Pothos_plant\": 6}, {\"Area\": 7092, \"OE\": 119185, \"COb\": 8274, \"Area_left\": 886, \"considerble trees\": 98, \"considerable plants\": 49, \"Neem\": 5, \"Ash\": 2, \"Willow\": 2, \"Poplar\": 4, \"Ashok\": 2, \"Arjuna\": 3, \"Areca_palm\": 10, \"Weeping_fig\": 5, \"Grebera_Daisy\": 3, \"Aloe_vera\": 4, \"Tulsi\": 8, \"Pothos_plant\": 5}, {\"Area\": 6169, \"OE\": 103573, \"COb\": 7203, \"Area_left\": 771, \"considerble trees\": 86, \"considerable plants\": 43, \"Neem\": 3, \"Ash\": 1, \"Willow\": 1, \"Poplar\": 2, \"Ashok\": 2, \"Arjuna\": 1, \"Areca_palm\": 7, \"Weeping_fig\": 4, \"Grebera_Daisy\": 4, \"Aloe_vera\": 3, \"Tulsi\": 7, \"Pothos_plant\": 5}, {\"Area\": 6834, \"OE\": 114950, \"COb\": 7980, \"Area_left\": 854, \"considerble trees\": 95, \"considerable plants\": 48, \"Neem\": 3, \"Ash\": 1, \"Willow\": 1, \"Poplar\": 1, \"Ashok\": 0, \"Arjuna\": 1, \"Areca_palm\": 6, \"Weeping_fig\": 2, \"Grebera_Daisy\": 2, \"Aloe_vera\": 2, \"Tulsi\": 5, \"Pothos_plant\": 2}, {\"Area\": 4430, \"OE\": 74415, \"COb\": 5166, \"Area_left\": 554, \"considerble trees\": 62, \"considerable plants\": 31, \"Neem\": 3, \"Ash\": 1, \"Willow\": 0, \"Poplar\": 1, \"Ashok\": 0, \"Arjuna\": 1, \"Areca_palm\": 3, \"Weeping_fig\": 2, \"Grebera_Daisy\": 3, \"Aloe_vera\": 3, \"Tulsi\": 3, \"Pothos_plant\": 9}, {\"Area\": 3601, \"OE\": 60500, \"COb\": 4200, \"Area_left\": 450, \"considerble trees\": 50, \"considerable plants\": 25, \"Neem\": 2, \"Ash\": 0, \"Willow\": 0, \"Poplar\": 1, \"Ashok\": 0, \"Arjuna\": 0, \"Areca_palm\": 2, \"Weeping_fig\": 13, \"Grebera_Daisy\": 8, \"Aloe_vera\": 8, \"Tulsi\": 19, \"Pothos_plant\": 5}, {\"Area\": 3117, \"OE\": 52517, \"COb\": 3633, \"Area_left\": 390, \"considerble trees\": 43, \"considerable plants\": 22, \"Neem\": 4, \"Ash\": 3, \"Willow\": 2, \"Poplar\": 4, \"Ashok\": 2, \"Arjuna\": 3, \"Areca_palm\": 10, \"Weeping_fig\": 4, \"Grebera_Daisy\": 4, \"Aloe_vera\": 3, \"Tulsi\": 7, \"Pothos_plant\": 7}, {\"Area\": 2313, \"OE\": 38838, \"COb\": 2709, \"Area_left\": 289, \"considerble trees\": 32, \"considerable plants\": 16, \"Neem\": 3, \"Ash\": 1, \"Willow\": 1, \"Poplar\": 1, \"Ashok\": 0, \"Arjuna\": 1, \"Areca_palm\": 6, \"Weeping_fig\": 7, \"Grebera_Daisy\": 8, \"Aloe_vera\": 5, \"Tulsi\": 13, \"Pothos_plant\": 2}, {\"Area\": 7216, \"OE\": 121118, \"COb\": 8421, \"Area_left\": 902, \"considerble trees\": 100, \"considerable plants\": 50, \"Neem\": 4, \"Ash\": 2, \"Willow\": 2, \"Poplar\": 3, \"Ashok\": 2, \"Arjuna\": 2, \"Areca_palm\": 9, \"Weeping_fig\": 2, \"Grebera_Daisy\": 3, \"Aloe_vera\": 3, \"Tulsi\": 3, \"Pothos_plant\": 8}, {\"Area\": 3432, \"OE\": 57593, \"COb\": 4011, \"Area_left\": 429, \"considerble trees\": 48, \"considerable plants\": 24, \"Neem\": 2, \"Ash\": 0, \"Willow\": 0, \"Poplar\": 1, \"Ashok\": 0, \"Arjuna\": 0, \"Areca_palm\": 2, \"Weeping_fig\": 9, \"Grebera_Daisy\": 12, \"Aloe_vera\": 10, \"Tulsi\": 15, \"Pothos_plant\": 8}, {\"Area\": 5842, \"OE\": 98128, \"COb\": 6825, \"Area_left\": 730, \"considerble trees\": 81, \"considerable plants\": 40, \"Neem\": 5, \"Ash\": 2, \"Willow\": 2, \"Poplar\": 4, \"Ashok\": 2, \"Arjuna\": 3, \"Areca_palm\": 10, \"Weeping_fig\": 9, \"Grebera_Daisy\": 12, \"Aloe_vera\": 10, \"Tulsi\": 15, \"Pothos_plant\": 7}, {\"Area\": 2033, \"OE\": 33998, \"COb\": 2373, \"Area_left\": 254, \"considerble trees\": 28, \"considerable plants\": 14, \"Neem\": 5, \"Ash\": 2, \"Willow\": 2, \"Poplar\": 4, \"Ashok\": 2, \"Arjuna\": 3, \"Areca_palm\": 10, \"Weeping_fig\": 7, \"Grebera_Daisy\": 8, \"Aloe_vera\": 5, \"Tulsi\": 13, \"Pothos_plant\": 5}, {\"Area\": 6638, \"OE\": 111438, \"COb\": 7749, \"Area_left\": 830, \"considerble trees\": 92, \"considerable plants\": 46, \"Neem\": 4, \"Ash\": 2, \"Willow\": 2, \"Poplar\": 3, \"Ashok\": 2, \"Arjuna\": 2, \"Areca_palm\": 9, \"Weeping_fig\": 4, \"Grebera_Daisy\": 4, \"Aloe_vera\": 3, \"Tulsi\": 7, \"Pothos_plant\": 8}, {\"Area\": 6441, \"OE\": 108295, \"COb\": 7518, \"Area_left\": 805, \"considerble trees\": 90, \"considerable plants\": 45, \"Neem\": 3, \"Ash\": 1, \"Willow\": 1, \"Poplar\": 1, \"Ashok\": 0, \"Arjuna\": 1, \"Areca_palm\": 6, \"Weeping_fig\": 9, \"Grebera_Daisy\": 12, \"Aloe_vera\": 10, \"Tulsi\": 15, \"Pothos_plant\": 5}, {\"Area\": 6113, \"OE\": 102732, \"COb\": 7119, \"Area_left\": 764, \"considerble trees\": 85, \"considerable plants\": 42, \"Neem\": 5, \"Ash\": 2, \"Willow\": 2, \"Poplar\": 4, \"Ashok\": 2, \"Arjuna\": 3, \"Areca_palm\": 10, \"Weeping_fig\": 2, \"Grebera_Daisy\": 2, \"Aloe_vera\": 2, \"Tulsi\": 5, \"Pothos_plant\": 6}, {\"Area\": 3599, \"OE\": 60500, \"COb\": 4200, \"Area_left\": 450, \"considerble trees\": 50, \"considerable plants\": 25, \"Neem\": 3, \"Ash\": 1, \"Willow\": 0, \"Poplar\": 1, \"Ashok\": 0, \"Arjuna\": 1, \"Areca_palm\": 3, \"Weeping_fig\": 5, \"Grebera_Daisy\": 3, \"Aloe_vera\": 4, \"Tulsi\": 8, \"Pothos_plant\": 9}, {\"Area\": 7144, \"OE\": 119908, \"COb\": 8337, \"Area_left\": 893, \"considerble trees\": 99, \"considerable plants\": 50, \"Neem\": 3, \"Ash\": 1, \"Willow\": 1, \"Poplar\": 2, \"Ashok\": 2, \"Arjuna\": 1, \"Areca_palm\": 7, \"Weeping_fig\": 13, \"Grebera_Daisy\": 8, \"Aloe_vera\": 8, \"Tulsi\": 19, \"Pothos_plant\": 7}, {\"Area\": 2670, \"OE\": 44770, \"COb\": 3108, \"Area_left\": 334, \"considerble trees\": 37, \"considerable plants\": 18, \"Neem\": 4, \"Ash\": 3, \"Willow\": 2, \"Poplar\": 4, \"Ashok\": 2, \"Arjuna\": 3, \"Areca_palm\": 10, \"Weeping_fig\": 7, \"Grebera_Daisy\": 8, \"Aloe_vera\": 5, \"Tulsi\": 13, \"Pothos_plant\": 5}, {\"Area\": 4327, \"OE\": 72718, \"COb\": 5061, \"Area_left\": 541, \"considerble trees\": 60, \"considerable plants\": 30, \"Neem\": 4, \"Ash\": 2, \"Willow\": 2, \"Poplar\": 3, \"Ashok\": 2, \"Arjuna\": 2, \"Areca_palm\": 9, \"Weeping_fig\": 4, \"Grebera_Daisy\": 4, \"Aloe_vera\": 3, \"Tulsi\": 7, \"Pothos_plant\": 5}, {\"Area\": 7712, \"OE\": 129588, \"COb\": 9009, \"Area_left\": 964, \"considerble trees\": 107, \"considerable plants\": 54, \"Neem\": 3, \"Ash\": 1, \"Willow\": 1, \"Poplar\": 1, \"Ashok\": 0, \"Arjuna\": 1, \"Areca_palm\": 6, \"Weeping_fig\": 2, \"Grebera_Daisy\": 2, \"Aloe_vera\": 2, \"Tulsi\": 5, \"Pothos_plant\": 5}, {\"Area\": 6113, \"OE\": 102732, \"COb\": 7119, \"Area_left\": 764, \"considerble trees\": 85, \"considerable plants\": 42, \"Neem\": 3, \"Ash\": 1, \"Willow\": 0, \"Poplar\": 1, \"Ashok\": 0, \"Arjuna\": 1, \"Areca_palm\": 3, \"Weeping_fig\": 4, \"Grebera_Daisy\": 4, \"Aloe_vera\": 3, \"Tulsi\": 7, \"Pothos_plant\": 6}, {\"Area\": 3867, \"OE\": 64853, \"COb\": 4515, \"Area_left\": 483, \"considerble trees\": 54, \"considerable plants\": 27, \"Neem\": 3, \"Ash\": 1, \"Willow\": 1, \"Poplar\": 1, \"Ashok\": 0, \"Arjuna\": 1, \"Areca_palm\": 6, \"Weeping_fig\": 5, \"Grebera_Daisy\": 3, \"Aloe_vera\": 4, \"Tulsi\": 8, \"Pothos_plant\": 5}, {\"Area\": 2730, \"OE\": 45980, \"COb\": 3192, \"Area_left\": 341, \"considerble trees\": 38, \"considerable plants\": 19, \"Neem\": 3, \"Ash\": 1, \"Willow\": 1, \"Poplar\": 2, \"Ashok\": 2, \"Arjuna\": 1, \"Areca_palm\": 7, \"Weeping_fig\": 2, \"Grebera_Daisy\": 2, \"Aloe_vera\": 2, \"Tulsi\": 5, \"Pothos_plant\": 6}, {\"Area\": 3798, \"OE\": 63643, \"COb\": 4431, \"Area_left\": 475, \"considerble trees\": 53, \"considerable plants\": 26, \"Neem\": 3, \"Ash\": 1, \"Willow\": 0, \"Poplar\": 1, \"Ashok\": 0, \"Arjuna\": 1, \"Areca_palm\": 3, \"Weeping_fig\": 5, \"Grebera_Daisy\": 3, \"Aloe_vera\": 4, \"Tulsi\": 8, \"Pothos_plant\": 6}, {\"Area\": 4554, \"OE\": 76717, \"COb\": 5313, \"Area_left\": 569, \"considerble trees\": 63, \"considerable plants\": 32, \"Neem\": 3, \"Ash\": 1, \"Willow\": 1, \"Poplar\": 2, \"Ashok\": 2, \"Arjuna\": 1, \"Areca_palm\": 7, \"Weeping_fig\": 6, \"Grebera_Daisy\": 6, \"Aloe_vera\": 3, \"Tulsi\": 10, \"Pothos_plant\": 5}, {\"Area\": 3171, \"OE\": 53240, \"COb\": 3696, \"Area_left\": 396, \"considerble trees\": 44, \"considerable plants\": 22, \"Neem\": 4, \"Ash\": 1, \"Willow\": 1, \"Poplar\": 3, \"Ashok\": 1, \"Arjuna\": 2, \"Areca_palm\": 6, \"Weeping_fig\": 4, \"Grebera_Daisy\": 4, \"Aloe_vera\": 3, \"Tulsi\": 7, \"Pothos_plant\": 6}, {\"Area\": 4477, \"OE\": 75138, \"COb\": 5229, \"Area_left\": 560, \"considerble trees\": 62, \"considerable plants\": 31, \"Neem\": 3, \"Ash\": 1, \"Willow\": 1, \"Poplar\": 1, \"Ashok\": 0, \"Arjuna\": 1, \"Areca_palm\": 6, \"Weeping_fig\": 5, \"Grebera_Daisy\": 3, \"Aloe_vera\": 4, \"Tulsi\": 8, \"Pothos_plant\": 6}, {\"Area\": 5286, \"OE\": 88817, \"COb\": 6153, \"Area_left\": 661, \"considerble trees\": 73, \"considerable plants\": 37, \"Neem\": 3, \"Ash\": 1, \"Willow\": 1, \"Poplar\": 2, \"Ashok\": 2, \"Arjuna\": 1, \"Areca_palm\": 7, \"Weeping_fig\": 6, \"Grebera_Daisy\": 6, \"Aloe_vera\": 3, \"Tulsi\": 10, \"Pothos_plant\": 9}, {\"Area\": 3305, \"OE\": 55542, \"COb\": 3843, \"Area_left\": 413, \"considerble trees\": 46, \"considerable plants\": 23, \"Neem\": 4, \"Ash\": 1, \"Willow\": 1, \"Poplar\": 3, \"Ashok\": 1, \"Arjuna\": 2, \"Areca_palm\": 6, \"Weeping_fig\": 13, \"Grebera_Daisy\": 8, \"Aloe_vera\": 8, \"Tulsi\": 19, \"Pothos_plant\": 6}, {\"Area\": 4251, \"OE\": 71390, \"COb\": 4956, \"Area_left\": 531, \"considerble trees\": 59, \"considerable plants\": 30, \"Neem\": 4, \"Ash\": 3, \"Willow\": 2, \"Poplar\": 4, \"Ashok\": 2, \"Arjuna\": 3, \"Areca_palm\": 10, \"Weeping_fig\": 5, \"Grebera_Daisy\": 3, \"Aloe_vera\": 4, \"Tulsi\": 8, \"Pothos_plant\": 8}, {\"Area\": 5337, \"OE\": 89658, \"COb\": 6237, \"Area_left\": 667, \"considerble trees\": 74, \"considerable plants\": 37, \"Neem\": 3, \"Ash\": 1, \"Willow\": 1, \"Poplar\": 2, \"Ashok\": 2, \"Arjuna\": 1, \"Areca_palm\": 7, \"Weeping_fig\": 9, \"Grebera_Daisy\": 12, \"Aloe_vera\": 10, \"Tulsi\": 15, \"Pothos_plant\": 6}, {\"Area\": 7662, \"OE\": 128747, \"COb\": 8925, \"Area_left\": 958, \"considerble trees\": 106, \"considerable plants\": 53, \"Neem\": 5, \"Ash\": 2, \"Willow\": 2, \"Poplar\": 4, \"Ashok\": 2, \"Arjuna\": 3, \"Areca_palm\": 10, \"Weeping_fig\": 6, \"Grebera_Daisy\": 6, \"Aloe_vera\": 3, \"Tulsi\": 10, \"Pothos_plant\": 7}, {\"Area\": 4036, \"OE\": 67760, \"COb\": 4704, \"Area_left\": 504, \"considerble trees\": 56, \"considerable plants\": 28, \"Neem\": 4, \"Ash\": 1, \"Willow\": 1, \"Poplar\": 3, \"Ashok\": 1, \"Arjuna\": 2, \"Areca_palm\": 6, \"Weeping_fig\": 7, \"Grebera_Daisy\": 8, \"Aloe_vera\": 5, \"Tulsi\": 13, \"Pothos_plant\": 2}, {\"Area\": 6899, \"OE\": 116042, \"COb\": 8043, \"Area_left\": 862, \"considerble trees\": 96, \"considerable plants\": 48, \"Neem\": 4, \"Ash\": 2, \"Willow\": 2, \"Poplar\": 3, \"Ashok\": 2, \"Arjuna\": 2, \"Areca_palm\": 9, \"Weeping_fig\": 2, \"Grebera_Daisy\": 3, \"Aloe_vera\": 3, \"Tulsi\": 3, \"Pothos_plant\": 9}, {\"Area\": 4851, \"OE\": 81557, \"COb\": 5649, \"Area_left\": 606, \"considerble trees\": 67, \"considerable plants\": 34, \"Neem\": 2, \"Ash\": 0, \"Willow\": 0, \"Poplar\": 1, \"Ashok\": 0, \"Arjuna\": 0, \"Areca_palm\": 2, \"Weeping_fig\": 13, \"Grebera_Daisy\": 8, \"Aloe_vera\": 8, \"Tulsi\": 19, \"Pothos_plant\": 5}, {\"Area\": 6376, \"OE\": 107085, \"COb\": 7434, \"Area_left\": 797, \"considerble trees\": 88, \"considerable plants\": 44, \"Neem\": 4, \"Ash\": 3, \"Willow\": 2, \"Poplar\": 4, \"Ashok\": 2, \"Arjuna\": 3, \"Areca_palm\": 10, \"Weeping_fig\": 2, \"Grebera_Daisy\": 2, \"Aloe_vera\": 2, \"Tulsi\": 5, \"Pothos_plant\": 6}, {\"Area\": 2388, \"OE\": 40048, \"COb\": 2793, \"Area_left\": 298, \"considerble trees\": 33, \"considerable plants\": 16, \"Neem\": 3, \"Ash\": 1, \"Willow\": 0, \"Poplar\": 1, \"Ashok\": 0, \"Arjuna\": 1, \"Areca_palm\": 3, \"Weeping_fig\": 5, \"Grebera_Daisy\": 3, \"Aloe_vera\": 4, \"Tulsi\": 8, \"Pothos_plant\": 8}, {\"Area\": 7303, \"OE\": 122815, \"COb\": 8526, \"Area_left\": 913, \"considerble trees\": 102, \"considerable plants\": 51, \"Neem\": 3, \"Ash\": 1, \"Willow\": 1, \"Poplar\": 2, \"Ashok\": 2, \"Arjuna\": 1, \"Areca_palm\": 7, \"Weeping_fig\": 9, \"Grebera_Daisy\": 12, \"Aloe_vera\": 10, \"Tulsi\": 15, \"Pothos_plant\": 9}, {\"Area\": 3146, \"OE\": 52753, \"COb\": 3675, \"Area_left\": 393, \"considerble trees\": 44, \"considerable plants\": 22, \"Neem\": 5, \"Ash\": 2, \"Willow\": 2, \"Poplar\": 4, \"Ashok\": 2, \"Arjuna\": 3, \"Areca_palm\": 10, \"Weeping_fig\": 13, \"Grebera_Daisy\": 8, \"Aloe_vera\": 8, \"Tulsi\": 19, \"Pothos_plant\": 6}, {\"Area\": 4549, \"OE\": 76348, \"COb\": 5313, \"Area_left\": 569, \"considerble trees\": 63, \"considerable plants\": 32, \"Neem\": 4, \"Ash\": 3, \"Willow\": 2, \"Poplar\": 4, \"Ashok\": 2, \"Arjuna\": 3, \"Areca_palm\": 10, \"Weeping_fig\": 5, \"Grebera_Daisy\": 3, \"Aloe_vera\": 4, \"Tulsi\": 8, \"Pothos_plant\": 5}, {\"Area\": 7070, \"OE\": 118698, \"COb\": 8253, \"Area_left\": 884, \"considerble trees\": 98, \"considerable plants\": 49, \"Neem\": 3, \"Ash\": 1, \"Willow\": 1, \"Poplar\": 2, \"Ashok\": 2, \"Arjuna\": 1, \"Areca_palm\": 7, \"Weeping_fig\": 4, \"Grebera_Daisy\": 4, \"Aloe_vera\": 3, \"Tulsi\": 7, \"Pothos_plant\": 8}, {\"Area\": 7463, \"OE\": 125353, \"COb\": 8715, \"Area_left\": 933, \"considerble trees\": 104, \"considerable plants\": 52, \"Neem\": 3, \"Ash\": 1, \"Willow\": 1, \"Poplar\": 1, \"Ashok\": 0, \"Arjuna\": 1, \"Areca_palm\": 6, \"Weeping_fig\": 9, \"Grebera_Daisy\": 12, \"Aloe_vera\": 10, \"Tulsi\": 15, \"Pothos_plant\": 7}, {\"Area\": 4270, \"OE\": 71877, \"COb\": 4977, \"Area_left\": 534, \"considerble trees\": 59, \"considerable plants\": 30, \"Neem\": 5, \"Ash\": 2, \"Willow\": 2, \"Poplar\": 4, \"Ashok\": 2, \"Arjuna\": 3, \"Areca_palm\": 10, \"Weeping_fig\": 7, \"Grebera_Daisy\": 8, \"Aloe_vera\": 5, \"Tulsi\": 13, \"Pothos_plant\": 6}, {\"Area\": 3573, \"OE\": 60013, \"COb\": 4179, \"Area_left\": 447, \"considerble trees\": 50, \"considerable plants\": 25, \"Neem\": 4, \"Ash\": 2, \"Willow\": 2, \"Poplar\": 3, \"Ashok\": 2, \"Arjuna\": 2, \"Areca_palm\": 9, \"Weeping_fig\": 5, \"Grebera_Daisy\": 3, \"Aloe_vera\": 4, \"Tulsi\": 8, \"Pothos_plant\": 5}, {\"Area\": 7146, \"OE\": 120277, \"COb\": 8337, \"Area_left\": 893, \"considerble trees\": 99, \"considerable plants\": 50, \"Neem\": 3, \"Ash\": 1, \"Willow\": 1, \"Poplar\": 2, \"Ashok\": 2, \"Arjuna\": 1, \"Areca_palm\": 7, \"Weeping_fig\": 4, \"Grebera_Daisy\": 4, \"Aloe_vera\": 3, \"Tulsi\": 7, \"Pothos_plant\": 7}, {\"Area\": 6288, \"OE\": 105757, \"COb\": 7329, \"Area_left\": 786, \"considerble trees\": 87, \"considerable plants\": 44, \"Neem\": 3, \"Ash\": 1, \"Willow\": 1, \"Poplar\": 1, \"Ashok\": 0, \"Arjuna\": 1, \"Areca_palm\": 6, \"Weeping_fig\": 7, \"Grebera_Daisy\": 8, \"Aloe_vera\": 5, \"Tulsi\": 13, \"Pothos_plant\": 2}, {\"Area\": 4094, \"OE\": 68852, \"COb\": 4767, \"Area_left\": 512, \"considerble trees\": 57, \"considerable plants\": 28, \"Neem\": 4, \"Ash\": 2, \"Willow\": 2, \"Poplar\": 3, \"Ashok\": 2, \"Arjuna\": 2, \"Areca_palm\": 9, \"Weeping_fig\": 2, \"Grebera_Daisy\": 3, \"Aloe_vera\": 3, \"Tulsi\": 3, \"Pothos_plant\": 9}, {\"Area\": 3956, \"OE\": 66550, \"COb\": 4620, \"Area_left\": 494, \"considerble trees\": 55, \"considerable plants\": 28, \"Neem\": 2, \"Ash\": 0, \"Willow\": 0, \"Poplar\": 1, \"Ashok\": 0, \"Arjuna\": 0, \"Areca_palm\": 2, \"Weeping_fig\": 13, \"Grebera_Daisy\": 8, \"Aloe_vera\": 8, \"Tulsi\": 19, \"Pothos_plant\": 5}, {\"Area\": 5866, \"OE\": 98615, \"COb\": 6846, \"Area_left\": 733, \"considerble trees\": 82, \"considerable plants\": 41, \"Neem\": 4, \"Ash\": 3, \"Willow\": 2, \"Poplar\": 4, \"Ashok\": 2, \"Arjuna\": 3, \"Areca_palm\": 10, \"Weeping_fig\": 2, \"Grebera_Daisy\": 2, \"Aloe_vera\": 2, \"Tulsi\": 5, \"Pothos_plant\": 8}, {\"Area\": 2090, \"OE\": 35090, \"COb\": 2436, \"Area_left\": 261, \"considerble trees\": 29, \"considerable plants\": 14, \"Neem\": 3, \"Ash\": 1, \"Willow\": 0, \"Poplar\": 1, \"Ashok\": 0, \"Arjuna\": 1, \"Areca_palm\": 3, \"Weeping_fig\": 9, \"Grebera_Daisy\": 12, \"Aloe_vera\": 10, \"Tulsi\": 15, \"Pothos_plant\": 7}, {\"Area\": 7341, \"OE\": 123420, \"COb\": 8568, \"Area_left\": 918, \"considerble trees\": 102, \"considerable plants\": 51, \"Neem\": 5, \"Ash\": 2, \"Willow\": 2, \"Poplar\": 4, \"Ashok\": 2, \"Arjuna\": 3, \"Areca_palm\": 10, \"Weeping_fig\": 7, \"Grebera_Daisy\": 8, \"Aloe_vera\": 5, \"Tulsi\": 13, \"Pothos_plant\": 6}, {\"Area\": 2544, \"OE\": 42837, \"COb\": 2961, \"Area_left\": 318, \"considerble trees\": 35, \"considerable plants\": 18, \"Neem\": 4, \"Ash\": 2, \"Willow\": 2, \"Poplar\": 3, \"Ashok\": 2, \"Arjuna\": 2, \"Areca_palm\": 9, \"Weeping_fig\": 5, \"Grebera_Daisy\": 3, \"Aloe_vera\": 4, \"Tulsi\": 8, \"Pothos_plant\": 7}, {\"Area\": 6910, \"OE\": 116160, \"COb\": 8064, \"Area_left\": 864, \"considerble trees\": 96, \"considerable plants\": 48, \"Neem\": 3, \"Ash\": 1, \"Willow\": 1, \"Poplar\": 2, \"Ashok\": 2, \"Arjuna\": 1, \"Areca_palm\": 7, \"Weeping_fig\": 7, \"Grebera_Daisy\": 8, \"Aloe_vera\": 5, \"Tulsi\": 13, \"Pothos_plant\": 8}, {\"Area\": 6156, \"OE\": 103455, \"COb\": 7182, \"Area_left\": 770, \"considerble trees\": 86, \"considerable plants\": 43, \"Neem\": 4, \"Ash\": 2, \"Willow\": 2, \"Poplar\": 3, \"Ashok\": 2, \"Arjuna\": 2, \"Areca_palm\": 9, \"Weeping_fig\": 9, \"Grebera_Daisy\": 12, \"Aloe_vera\": 10, \"Tulsi\": 15, \"Pothos_plant\": 9}, {\"Area\": 4636, \"OE\": 77927, \"COb\": 5397, \"Area_left\": 580, \"considerble trees\": 64, \"considerable plants\": 32, \"Neem\": 5, \"Ash\": 2, \"Willow\": 2, \"Poplar\": 4, \"Ashok\": 2, \"Arjuna\": 3, \"Areca_palm\": 10, \"Weeping_fig\": 13, \"Grebera_Daisy\": 8, \"Aloe_vera\": 8, \"Tulsi\": 19, \"Pothos_plant\": 9}, {\"Area\": 5887, \"OE\": 99102, \"COb\": 6867, \"Area_left\": 736, \"considerble trees\": 82, \"considerable plants\": 41, \"Neem\": 4, \"Ash\": 3, \"Willow\": 2, \"Poplar\": 4, \"Ashok\": 2, \"Arjuna\": 3, \"Areca_palm\": 10, \"Weeping_fig\": 13, \"Grebera_Daisy\": 8, \"Aloe_vera\": 8, \"Tulsi\": 19, \"Pothos_plant\": 9}, {\"Area\": 6475, \"OE\": 108900, \"COb\": 7560, \"Area_left\": 809, \"considerble trees\": 90, \"considerable plants\": 45, \"Neem\": 4, \"Ash\": 3, \"Willow\": 2, \"Poplar\": 4, \"Ashok\": 2, \"Arjuna\": 3, \"Areca_palm\": 10, \"Weeping_fig\": 13, \"Grebera_Daisy\": 8, \"Aloe_vera\": 8, \"Tulsi\": 19, \"Pothos_plant\": 7}, {\"Area\": 7922, \"OE\": 133100, \"COb\": 9240, \"Area_left\": 990, \"considerble trees\": 110, \"considerable plants\": 55, \"Neem\": 4, \"Ash\": 3, \"Willow\": 2, \"Poplar\": 4, \"Ashok\": 2, \"Arjuna\": 3, \"Areca_palm\": 10, \"Weeping_fig\": 7, \"Grebera_Daisy\": 8, \"Aloe_vera\": 5, \"Tulsi\": 13, \"Pothos_plant\": 5}, {\"Area\": 7969, \"OE\": 133823, \"COb\": 9303, \"Area_left\": 996, \"considerble trees\": 111, \"considerable plants\": 55, \"Neem\": 4, \"Ash\": 2, \"Willow\": 2, \"Poplar\": 3, \"Ashok\": 2, \"Arjuna\": 2, \"Areca_palm\": 9, \"Weeping_fig\": 4, \"Grebera_Daisy\": 4, \"Aloe_vera\": 3, \"Tulsi\": 7, \"Pothos_plant\": 5}, {\"Area\": 7682, \"OE\": 128983, \"COb\": 8967, \"Area_left\": 960, \"considerble trees\": 107, \"considerable plants\": 53, \"Neem\": 3, \"Ash\": 1, \"Willow\": 1, \"Poplar\": 1, \"Ashok\": 0, \"Arjuna\": 1, \"Areca_palm\": 6, \"Weeping_fig\": 4, \"Grebera_Daisy\": 4, \"Aloe_vera\": 3, \"Tulsi\": 7, \"Pothos_plant\": 6}, {\"Area\": 5686, \"OE\": 95590, \"COb\": 6636, \"Area_left\": 711, \"considerble trees\": 79, \"considerable plants\": 40, \"Neem\": 3, \"Ash\": 1, \"Willow\": 1, \"Poplar\": 1, \"Ashok\": 0, \"Arjuna\": 1, \"Areca_palm\": 6, \"Weeping_fig\": 6, \"Grebera_Daisy\": 6, \"Aloe_vera\": 3, \"Tulsi\": 10, \"Pothos_plant\": 8}, {\"Area\": 3453, \"OE\": 58080, \"COb\": 4032, \"Area_left\": 432, \"considerble trees\": 48, \"considerable plants\": 24, \"Neem\": 4, \"Ash\": 1, \"Willow\": 1, \"Poplar\": 3, \"Ashok\": 1, \"Arjuna\": 2, \"Areca_palm\": 6, \"Weeping_fig\": 9, \"Grebera_Daisy\": 12, \"Aloe_vera\": 10, \"Tulsi\": 15, \"Pothos_plant\": 8}, {\"Area\": 3450, \"OE\": 58080, \"COb\": 4032, \"Area_left\": 431, \"considerble trees\": 48, \"considerable plants\": 24, \"Neem\": 5, \"Ash\": 2, \"Willow\": 2, \"Poplar\": 4, \"Ashok\": 2, \"Arjuna\": 3, \"Areca_palm\": 10, \"Weeping_fig\": 9, \"Grebera_Daisy\": 12, \"Aloe_vera\": 10, \"Tulsi\": 15, \"Pothos_plant\": 9}, {\"Area\": 5418, \"OE\": 91237, \"COb\": 6321, \"Area_left\": 677, \"considerble trees\": 75, \"considerable plants\": 38, \"Neem\": 5, \"Ash\": 2, \"Willow\": 2, \"Poplar\": 4, \"Ashok\": 2, \"Arjuna\": 3, \"Areca_palm\": 10, \"Weeping_fig\": 13, \"Grebera_Daisy\": 8, \"Aloe_vera\": 8, \"Tulsi\": 19, \"Pothos_plant\": 8}, {\"Area\": 6811, \"OE\": 114463, \"COb\": 7959, \"Area_left\": 851, \"considerble trees\": 95, \"considerable plants\": 47, \"Neem\": 4, \"Ash\": 3, \"Willow\": 2, \"Poplar\": 4, \"Ashok\": 2, \"Arjuna\": 3, \"Areca_palm\": 10, \"Weeping_fig\": 9, \"Grebera_Daisy\": 12, \"Aloe_vera\": 10, \"Tulsi\": 15, \"Pothos_plant\": 7}, {\"Area\": 7027, \"OE\": 118093, \"COb\": 8211, \"Area_left\": 878, \"considerble trees\": 98, \"considerable plants\": 49, \"Neem\": 5, \"Ash\": 2, \"Willow\": 2, \"Poplar\": 4, \"Ashok\": 2, \"Arjuna\": 3, \"Areca_palm\": 10, \"Weeping_fig\": 7, \"Grebera_Daisy\": 8, \"Aloe_vera\": 5, \"Tulsi\": 13, \"Pothos_plant\": 8}, {\"Area\": 7833, \"OE\": 131772, \"COb\": 9135, \"Area_left\": 979, \"considerble trees\": 109, \"considerable plants\": 54, \"Neem\": 4, \"Ash\": 2, \"Willow\": 2, \"Poplar\": 3, \"Ashok\": 2, \"Arjuna\": 2, \"Areca_palm\": 9, \"Weeping_fig\": 9, \"Grebera_Daisy\": 12, \"Aloe_vera\": 10, \"Tulsi\": 15, \"Pothos_plant\": 5}, {\"Area\": 6807, \"OE\": 114345, \"COb\": 7938, \"Area_left\": 851, \"considerble trees\": 94, \"considerable plants\": 47, \"Neem\": 5, \"Ash\": 2, \"Willow\": 2, \"Poplar\": 4, \"Ashok\": 2, \"Arjuna\": 3, \"Areca_palm\": 10, \"Weeping_fig\": 2, \"Grebera_Daisy\": 2, \"Aloe_vera\": 2, \"Tulsi\": 5, \"Pothos_plant\": 5}, {\"Area\": 5634, \"OE\": 94867, \"COb\": 6573, \"Area_left\": 704, \"considerble trees\": 78, \"considerable plants\": 39, \"Neem\": 3, \"Ash\": 1, \"Willow\": 0, \"Poplar\": 1, \"Ashok\": 0, \"Arjuna\": 1, \"Areca_palm\": 3, \"Weeping_fig\": 2, \"Grebera_Daisy\": 2, \"Aloe_vera\": 2, \"Tulsi\": 5, \"Pothos_plant\": 5}, {\"Area\": 6634, \"OE\": 111438, \"COb\": 7749, \"Area_left\": 829, \"considerble trees\": 92, \"considerable plants\": 46, \"Neem\": 3, \"Ash\": 1, \"Willow\": 0, \"Poplar\": 1, \"Ashok\": 0, \"Arjuna\": 1, \"Areca_palm\": 3, \"Weeping_fig\": 2, \"Grebera_Daisy\": 2, \"Aloe_vera\": 2, \"Tulsi\": 5, \"Pothos_plant\": 2}, {\"Area\": 2826, \"OE\": 47677, \"COb\": 3297, \"Area_left\": 353, \"considerble trees\": 39, \"considerable plants\": 20, \"Neem\": 3, \"Ash\": 1, \"Willow\": 0, \"Poplar\": 1, \"Ashok\": 0, \"Arjuna\": 1, \"Areca_palm\": 3, \"Weeping_fig\": 2, \"Grebera_Daisy\": 3, \"Aloe_vera\": 3, \"Tulsi\": 3, \"Pothos_plant\": 2}, {\"Area\": 2866, \"OE\": 48282, \"COb\": 3339, \"Area_left\": 358, \"considerble trees\": 40, \"considerable plants\": 20, \"Neem\": 2, \"Ash\": 0, \"Willow\": 0, \"Poplar\": 1, \"Ashok\": 0, \"Arjuna\": 0, \"Areca_palm\": 2, \"Weeping_fig\": 2, \"Grebera_Daisy\": 3, \"Aloe_vera\": 3, \"Tulsi\": 3, \"Pothos_plant\": 5}, {\"Area\": 2763, \"OE\": 46467, \"COb\": 3213, \"Area_left\": 345, \"considerble trees\": 38, \"considerable plants\": 19, \"Neem\": 2, \"Ash\": 0, \"Willow\": 0, \"Poplar\": 1, \"Ashok\": 0, \"Arjuna\": 0, \"Areca_palm\": 2, \"Weeping_fig\": 2, \"Grebera_Daisy\": 2, \"Aloe_vera\": 2, \"Tulsi\": 5, \"Pothos_plant\": 5}, {\"Area\": 2171, \"OE\": 36418, \"COb\": 2541, \"Area_left\": 271, \"considerble trees\": 30, \"considerable plants\": 15, \"Neem\": 3, \"Ash\": 1, \"Willow\": 0, \"Poplar\": 1, \"Ashok\": 0, \"Arjuna\": 1, \"Areca_palm\": 3, \"Weeping_fig\": 2, \"Grebera_Daisy\": 2, \"Aloe_vera\": 2, \"Tulsi\": 5, \"Pothos_plant\": 5}, {\"Area\": 2164, \"OE\": 36300, \"COb\": 2520, \"Area_left\": 270, \"considerble trees\": 30, \"considerable plants\": 15, \"Neem\": 3, \"Ash\": 1, \"Willow\": 0, \"Poplar\": 1, \"Ashok\": 0, \"Arjuna\": 1, \"Areca_palm\": 3, \"Weeping_fig\": 2, \"Grebera_Daisy\": 2, \"Aloe_vera\": 2, \"Tulsi\": 5, \"Pothos_plant\": 5}, {\"Area\": 3045, \"OE\": 51307, \"COb\": 3549, \"Area_left\": 381, \"considerble trees\": 42, \"considerable plants\": 21, \"Neem\": 3, \"Ash\": 1, \"Willow\": 0, \"Poplar\": 1, \"Ashok\": 0, \"Arjuna\": 1, \"Areca_palm\": 3, \"Weeping_fig\": 4, \"Grebera_Daisy\": 4, \"Aloe_vera\": 3, \"Tulsi\": 7, \"Pothos_plant\": 6}, {\"Area\": 2990, \"OE\": 50215, \"COb\": 3486, \"Area_left\": 374, \"considerble trees\": 42, \"considerable plants\": 21, \"Neem\": 3, \"Ash\": 1, \"Willow\": 1, \"Poplar\": 1, \"Ashok\": 0, \"Arjuna\": 1, \"Areca_palm\": 6, \"Weeping_fig\": 5, \"Grebera_Daisy\": 3, \"Aloe_vera\": 4, \"Tulsi\": 8, \"Pothos_plant\": 2}, {\"Area\": 2689, \"OE\": 45257, \"COb\": 3129, \"Area_left\": 336, \"considerble trees\": 37, \"considerable plants\": 19, \"Neem\": 3, \"Ash\": 1, \"Willow\": 1, \"Poplar\": 2, \"Ashok\": 2, \"Arjuna\": 1, \"Areca_palm\": 7, \"Weeping_fig\": 2, \"Grebera_Daisy\": 3, \"Aloe_vera\": 3, \"Tulsi\": 3, \"Pothos_plant\": 8}, {\"Area\": 3258, \"OE\": 54937, \"COb\": 3801, \"Area_left\": 407, \"considerble trees\": 45, \"considerable plants\": 23, \"Neem\": 2, \"Ash\": 0, \"Willow\": 0, \"Poplar\": 1, \"Ashok\": 0, \"Arjuna\": 0, \"Areca_palm\": 2, \"Weeping_fig\": 9, \"Grebera_Daisy\": 12, \"Aloe_vera\": 10, \"Tulsi\": 15, \"Pothos_plant\": 6}, {\"Area\": 4702, \"OE\": 79137, \"COb\": 5481, \"Area_left\": 588, \"considerble trees\": 65, \"considerable plants\": 33, \"Neem\": 5, \"Ash\": 2, \"Willow\": 2, \"Poplar\": 4, \"Ashok\": 2, \"Arjuna\": 3, \"Areca_palm\": 10, \"Weeping_fig\": 6, \"Grebera_Daisy\": 6, \"Aloe_vera\": 3, \"Tulsi\": 10, \"Pothos_plant\": 9}, {\"Area\": 2330, \"OE\": 39207, \"COb\": 2709, \"Area_left\": 291, \"considerble trees\": 32, \"considerable plants\": 16, \"Neem\": 4, \"Ash\": 1, \"Willow\": 1, \"Poplar\": 3, \"Ashok\": 1, \"Arjuna\": 2, \"Areca_palm\": 6, \"Weeping_fig\": 13, \"Grebera_Daisy\": 8, \"Aloe_vera\": 8, \"Tulsi\": 19, \"Pothos_plant\": 5}, {\"Area\": 6426, \"OE\": 108177, \"COb\": 7497, \"Area_left\": 803, \"considerble trees\": 89, \"considerable plants\": 45, \"Neem\": 4, \"Ash\": 3, \"Willow\": 2, \"Poplar\": 4, \"Ashok\": 2, \"Arjuna\": 3, \"Areca_palm\": 10, \"Weeping_fig\": 4, \"Grebera_Daisy\": 4, \"Aloe_vera\": 3, \"Tulsi\": 7, \"Pothos_plant\": 8}, {\"Area\": 5480, \"OE\": 92078, \"COb\": 6405, \"Area_left\": 685, \"considerble trees\": 76, \"considerable plants\": 38, \"Neem\": 3, \"Ash\": 1, \"Willow\": 1, \"Poplar\": 1, \"Ashok\": 0, \"Arjuna\": 1, \"Areca_palm\": 6, \"Weeping_fig\": 9, \"Grebera_Daisy\": 12, \"Aloe_vera\": 10, \"Tulsi\": 15, \"Pothos_plant\": 9}, {\"Area\": 7542, \"OE\": 126563, \"COb\": 8799, \"Area_left\": 943, \"considerble trees\": 105, \"considerable plants\": 52, \"Neem\": 5, \"Ash\": 2, \"Willow\": 2, \"Poplar\": 4, \"Ashok\": 2, \"Arjuna\": 3, \"Areca_palm\": 10, \"Weeping_fig\": 13, \"Grebera_Daisy\": 8, \"Aloe_vera\": 8, \"Tulsi\": 19, \"Pothos_plant\": 2}, {\"Area\": 3630, \"OE\": 60987, \"COb\": 4221, \"Area_left\": 454, \"considerble trees\": 50, \"considerable plants\": 25, \"Neem\": 4, \"Ash\": 3, \"Willow\": 2, \"Poplar\": 4, \"Ashok\": 2, \"Arjuna\": 3, \"Areca_palm\": 10, \"Weeping_fig\": 2, \"Grebera_Daisy\": 3, \"Aloe_vera\": 3, \"Tulsi\": 3, \"Pothos_plant\": 5}, {\"Area\": 6537, \"OE\": 109992, \"COb\": 7623, \"Area_left\": 817, \"considerble trees\": 91, \"considerable plants\": 46, \"Neem\": 2, \"Ash\": 0, \"Willow\": 0, \"Poplar\": 1, \"Ashok\": 0, \"Arjuna\": 0, \"Areca_palm\": 2, \"Weeping_fig\": 4, \"Grebera_Daisy\": 4, \"Aloe_vera\": 3, \"Tulsi\": 7, \"Pothos_plant\": 8}, {\"Area\": 7831, \"OE\": 131772, \"COb\": 9135, \"Area_left\": 979, \"considerble trees\": 109, \"considerable plants\": 54, \"Neem\": 3, \"Ash\": 1, \"Willow\": 1, \"Poplar\": 1, \"Ashok\": 0, \"Arjuna\": 1, \"Areca_palm\": 6, \"Weeping_fig\": 9, \"Grebera_Daisy\": 12, \"Aloe_vera\": 10, \"Tulsi\": 15, \"Pothos_plant\": 2}, {\"Area\": 2016, \"OE\": 33880, \"COb\": 2352, \"Area_left\": 252, \"considerble trees\": 28, \"considerable plants\": 14, \"Neem\": 5, \"Ash\": 2, \"Willow\": 2, \"Poplar\": 4, \"Ashok\": 2, \"Arjuna\": 3, \"Areca_palm\": 10, \"Weeping_fig\": 2, \"Grebera_Daisy\": 3, \"Aloe_vera\": 3, \"Tulsi\": 3, \"Pothos_plant\": 9}, {\"Area\": 3782, \"OE\": 63525, \"COb\": 4410, \"Area_left\": 473, \"considerble trees\": 52, \"considerable plants\": 26, \"Neem\": 2, \"Ash\": 0, \"Willow\": 0, \"Poplar\": 1, \"Ashok\": 0, \"Arjuna\": 0, \"Areca_palm\": 2, \"Weeping_fig\": 13, \"Grebera_Daisy\": 8, \"Aloe_vera\": 8, \"Tulsi\": 19, \"Pothos_plant\": 5}, {\"Area\": 6453, \"OE\": 108413, \"COb\": 7539, \"Area_left\": 807, \"considerble trees\": 90, \"considerable plants\": 45, \"Neem\": 4, \"Ash\": 3, \"Willow\": 2, \"Poplar\": 4, \"Ashok\": 2, \"Arjuna\": 3, \"Areca_palm\": 10, \"Weeping_fig\": 4, \"Grebera_Daisy\": 4, \"Aloe_vera\": 3, \"Tulsi\": 7, \"Pothos_plant\": 7}, {\"Area\": 2139, \"OE\": 35813, \"COb\": 2499, \"Area_left\": 267, \"considerble trees\": 30, \"considerable plants\": 15, \"Neem\": 3, \"Ash\": 1, \"Willow\": 1, \"Poplar\": 1, \"Ashok\": 0, \"Arjuna\": 1, \"Areca_palm\": 6, \"Weeping_fig\": 7, \"Grebera_Daisy\": 8, \"Aloe_vera\": 5, \"Tulsi\": 13, \"Pothos_plant\": 5}, {\"Area\": 7756, \"OE\": 130193, \"COb\": 9051, \"Area_left\": 970, \"considerble trees\": 108, \"considerable plants\": 54, \"Neem\": 4, \"Ash\": 2, \"Willow\": 2, \"Poplar\": 3, \"Ashok\": 2, \"Arjuna\": 2, \"Areca_palm\": 9, \"Weeping_fig\": 2, \"Grebera_Daisy\": 2, \"Aloe_vera\": 2, \"Tulsi\": 5, \"Pothos_plant\": 6}, {\"Area\": 3500, \"OE\": 58803, \"COb\": 4095, \"Area_left\": 438, \"considerble trees\": 49, \"considerable plants\": 24, \"Neem\": 3, \"Ash\": 1, \"Willow\": 0, \"Poplar\": 1, \"Ashok\": 0, \"Arjuna\": 1, \"Areca_palm\": 3, \"Weeping_fig\": 5, \"Grebera_Daisy\": 3, \"Aloe_vera\": 4, \"Tulsi\": 8, \"Pothos_plant\": 8}, {\"Area\": 5830, \"OE\": 98010, \"COb\": 6804, \"Area_left\": 729, \"considerble trees\": 81, \"considerable plants\": 40, \"Neem\": 3, \"Ash\": 1, \"Willow\": 1, \"Poplar\": 2, \"Ashok\": 2, \"Arjuna\": 1, \"Areca_palm\": 7, \"Weeping_fig\": 9, \"Grebera_Daisy\": 12, \"Aloe_vera\": 10, \"Tulsi\": 15, \"Pothos_plant\": 6}, {\"Area\": 2566, \"OE\": 43073, \"COb\": 3003, \"Area_left\": 321, \"considerble trees\": 36, \"considerable plants\": 18, \"Neem\": 5, \"Ash\": 2, \"Willow\": 2, \"Poplar\": 4, \"Ashok\": 2, \"Arjuna\": 3, \"Areca_palm\": 10, \"Weeping_fig\": 5, \"Grebera_Daisy\": 3, \"Aloe_vera\": 4, \"Tulsi\": 8, \"Pothos_plant\": 9}, {\"Area\": 4378, \"OE\": 73692, \"COb\": 5103, \"Area_left\": 547, \"considerble trees\": 61, \"considerable plants\": 30, \"Neem\": 3, \"Ash\": 1, \"Willow\": 1, \"Poplar\": 2, \"Ashok\": 2, \"Arjuna\": 1, \"Areca_palm\": 7, \"Weeping_fig\": 13, \"Grebera_Daisy\": 8, \"Aloe_vera\": 8, \"Tulsi\": 19, \"Pothos_plant\": 9}, {\"Area\": 6666, \"OE\": 112043, \"COb\": 7791, \"Area_left\": 833, \"considerble trees\": 93, \"considerable plants\": 46, \"Neem\": 4, \"Ash\": 3, \"Willow\": 2, \"Poplar\": 4, \"Ashok\": 2, \"Arjuna\": 3, \"Areca_palm\": 10, \"Weeping_fig\": 13, \"Grebera_Daisy\": 8, \"Aloe_vera\": 8, \"Tulsi\": 19, \"Pothos_plant\": 2}, {\"Area\": 4069, \"OE\": 68365, \"COb\": 4746, \"Area_left\": 509, \"considerble trees\": 56, \"considerable plants\": 28, \"Neem\": 4, \"Ash\": 3, \"Willow\": 2, \"Poplar\": 4, \"Ashok\": 2, \"Arjuna\": 3, \"Areca_palm\": 10, \"Weeping_fig\": 2, \"Grebera_Daisy\": 3, \"Aloe_vera\": 3, \"Tulsi\": 3, \"Pothos_plant\": 5}, {\"Area\": 7820, \"OE\": 131403, \"COb\": 9135, \"Area_left\": 978, \"considerble trees\": 109, \"considerable plants\": 54, \"Neem\": 2, \"Ash\": 0, \"Willow\": 0, \"Poplar\": 1, \"Ashok\": 0, \"Arjuna\": 0, \"Areca_palm\": 2, \"Weeping_fig\": 4, \"Grebera_Daisy\": 4, \"Aloe_vera\": 3, \"Tulsi\": 7, \"Pothos_plant\": 5}, {\"Area\": 7372, \"OE\": 123907, \"COb\": 8589, \"Area_left\": 922, \"considerble trees\": 102, \"considerable plants\": 51, \"Neem\": 3, \"Ash\": 1, \"Willow\": 1, \"Poplar\": 1, \"Ashok\": 0, \"Arjuna\": 1, \"Areca_palm\": 6, \"Weeping_fig\": 2, \"Grebera_Daisy\": 2, \"Aloe_vera\": 2, \"Tulsi\": 5, \"Pothos_plant\": 5}, {\"Area\": 2280, \"OE\": 38233, \"COb\": 2667, \"Area_left\": 285, \"considerble trees\": 32, \"considerable plants\": 16, \"Neem\": 3, \"Ash\": 1, \"Willow\": 0, \"Poplar\": 1, \"Ashok\": 0, \"Arjuna\": 1, \"Areca_palm\": 3, \"Weeping_fig\": 4, \"Grebera_Daisy\": 4, \"Aloe_vera\": 3, \"Tulsi\": 7, \"Pothos_plant\": 7}, {\"Area\": 3289, \"OE\": 55173, \"COb\": 3843, \"Area_left\": 411, \"considerble trees\": 46, \"considerable plants\": 23, \"Neem\": 3, \"Ash\": 1, \"Willow\": 1, \"Poplar\": 1, \"Ashok\": 0, \"Arjuna\": 1, \"Areca_palm\": 6, \"Weeping_fig\": 7, \"Grebera_Daisy\": 8, \"Aloe_vera\": 5, \"Tulsi\": 13, \"Pothos_plant\": 6}, {\"Area\": 2881, \"OE\": 48400, \"COb\": 3360, \"Area_left\": 360, \"considerble trees\": 40, \"considerable plants\": 20, \"Neem\": 4, \"Ash\": 2, \"Willow\": 2, \"Poplar\": 3, \"Ashok\": 2, \"Arjuna\": 2, \"Areca_palm\": 9, \"Weeping_fig\": 5, \"Grebera_Daisy\": 3, \"Aloe_vera\": 4, \"Tulsi\": 8, \"Pothos_plant\": 9}, {\"Area\": 3865, \"OE\": 64853, \"COb\": 4515, \"Area_left\": 483, \"considerble trees\": 54, \"considerable plants\": 27, \"Neem\": 3, \"Ash\": 1, \"Willow\": 1, \"Poplar\": 2, \"Ashok\": 2, \"Arjuna\": 1, \"Areca_palm\": 7, \"Weeping_fig\": 13, \"Grebera_Daisy\": 8, \"Aloe_vera\": 8, \"Tulsi\": 19, \"Pothos_plant\": 5}, {\"Area\": 5871, \"OE\": 98615, \"COb\": 6846, \"Area_left\": 734, \"considerble trees\": 82, \"considerable plants\": 41, \"Neem\": 4, \"Ash\": 3, \"Willow\": 2, \"Poplar\": 4, \"Ashok\": 2, \"Arjuna\": 3, \"Areca_palm\": 10, \"Weeping_fig\": 4, \"Grebera_Daisy\": 4, \"Aloe_vera\": 3, \"Tulsi\": 7, \"Pothos_plant\": 5}, {\"Area\": 4510, \"OE\": 75743, \"COb\": 5271, \"Area_left\": 564, \"considerble trees\": 63, \"considerable plants\": 31, \"Neem\": 3, \"Ash\": 1, \"Willow\": 1, \"Poplar\": 1, \"Ashok\": 0, \"Arjuna\": 1, \"Areca_palm\": 6, \"Weeping_fig\": 2, \"Grebera_Daisy\": 2, \"Aloe_vera\": 2, \"Tulsi\": 5, \"Pothos_plant\": 8}, {\"Area\": 7727, \"OE\": 129957, \"COb\": 9009, \"Area_left\": 966, \"considerble trees\": 107, \"considerable plants\": 54, \"Neem\": 3, \"Ash\": 1, \"Willow\": 0, \"Poplar\": 1, \"Ashok\": 0, \"Arjuna\": 1, \"Areca_palm\": 3, \"Weeping_fig\": 9, \"Grebera_Daisy\": 12, \"Aloe_vera\": 10, \"Tulsi\": 15, \"Pothos_plant\": 6}, {\"Area\": 3483, \"OE\": 58567, \"COb\": 4053, \"Area_left\": 435, \"considerble trees\": 48, \"considerable plants\": 24, \"Neem\": 5, \"Ash\": 2, \"Willow\": 2, \"Poplar\": 4, \"Ashok\": 2, \"Arjuna\": 3, \"Areca_palm\": 10, \"Weeping_fig\": 6, \"Grebera_Daisy\": 6, \"Aloe_vera\": 3, \"Tulsi\": 10, \"Pothos_plant\": 7}, {\"Area\": 2820, \"OE\": 47308, \"COb\": 3297, \"Area_left\": 352, \"considerble trees\": 39, \"considerable plants\": 20, \"Neem\": 4, \"Ash\": 1, \"Willow\": 1, \"Poplar\": 3, \"Ashok\": 1, \"Arjuna\": 2, \"Areca_palm\": 6, \"Weeping_fig\": 7, \"Grebera_Daisy\": 8, \"Aloe_vera\": 5, \"Tulsi\": 13, \"Pothos_plant\": 5}, {\"Area\": 6411, \"OE\": 107690, \"COb\": 7476, \"Area_left\": 801, \"considerble trees\": 89, \"considerable plants\": 44, \"Neem\": 4, \"Ash\": 2, \"Willow\": 2, \"Poplar\": 3, \"Ashok\": 2, \"Arjuna\": 2, \"Areca_palm\": 9, \"Weeping_fig\": 2, \"Grebera_Daisy\": 2, \"Aloe_vera\": 2, \"Tulsi\": 5, \"Pothos_plant\": 6}, {\"Area\": 4945, \"OE\": 83003, \"COb\": 5775, \"Area_left\": 618, \"considerble trees\": 69, \"considerable plants\": 34, \"Neem\": 3, \"Ash\": 1, \"Willow\": 0, \"Poplar\": 1, \"Ashok\": 0, \"Arjuna\": 1, \"Areca_palm\": 3, \"Weeping_fig\": 5, \"Grebera_Daisy\": 3, \"Aloe_vera\": 4, \"Tulsi\": 8, \"Pothos_plant\": 6}, {\"Area\": 5657, \"OE\": 94985, \"COb\": 6594, \"Area_left\": 707, \"considerble trees\": 78, \"considerable plants\": 39, \"Neem\": 3, \"Ash\": 1, \"Willow\": 1, \"Poplar\": 2, \"Ashok\": 2, \"Arjuna\": 1, \"Areca_palm\": 7, \"Weeping_fig\": 6, \"Grebera_Daisy\": 6, \"Aloe_vera\": 3, \"Tulsi\": 10, \"Pothos_plant\": 2}, {\"Area\": 2442, \"OE\": 41140, \"COb\": 2856, \"Area_left\": 305, \"considerble trees\": 34, \"considerable plants\": 17, \"Neem\": 4, \"Ash\": 1, \"Willow\": 1, \"Poplar\": 3, \"Ashok\": 1, \"Arjuna\": 2, \"Areca_palm\": 6, \"Weeping_fig\": 2, \"Grebera_Daisy\": 3, \"Aloe_vera\": 3, \"Tulsi\": 3, \"Pothos_plant\": 6}, {\"Area\": 6403, \"OE\": 107690, \"COb\": 7476, \"Area_left\": 800, \"considerble trees\": 89, \"considerable plants\": 44, \"Neem\": 2, \"Ash\": 0, \"Willow\": 0, \"Poplar\": 1, \"Ashok\": 0, \"Arjuna\": 0, \"Areca_palm\": 2, \"Weeping_fig\": 6, \"Grebera_Daisy\": 6, \"Aloe_vera\": 3, \"Tulsi\": 10, \"Pothos_plant\": 2}, {\"Area\": 4690, \"OE\": 78768, \"COb\": 5481, \"Area_left\": 586, \"considerble trees\": 65, \"considerable plants\": 32, \"Neem\": 4, \"Ash\": 1, \"Willow\": 1, \"Poplar\": 3, \"Ashok\": 1, \"Arjuna\": 2, \"Areca_palm\": 6, \"Weeping_fig\": 2, \"Grebera_Daisy\": 3, \"Aloe_vera\": 3, \"Tulsi\": 3, \"Pothos_plant\": 8}, {\"Area\": 5004, \"OE\": 84095, \"COb\": 5838, \"Area_left\": 626, \"considerble trees\": 70, \"considerable plants\": 35, \"Neem\": 2, \"Ash\": 0, \"Willow\": 0, \"Poplar\": 1, \"Ashok\": 0, \"Arjuna\": 0, \"Areca_palm\": 2, \"Weeping_fig\": 9, \"Grebera_Daisy\": 12, \"Aloe_vera\": 10, \"Tulsi\": 15, \"Pothos_plant\": 5}, {\"Area\": 2210, \"OE\": 37023, \"COb\": 2583, \"Area_left\": 276, \"considerble trees\": 31, \"considerable plants\": 15, \"Neem\": 5, \"Ash\": 2, \"Willow\": 2, \"Poplar\": 4, \"Ashok\": 2, \"Arjuna\": 3, \"Areca_palm\": 10, \"Weeping_fig\": 4, \"Grebera_Daisy\": 4, \"Aloe_vera\": 3, \"Tulsi\": 7, \"Pothos_plant\": 7}, {\"Area\": 5010, \"OE\": 84213, \"COb\": 5859, \"Area_left\": 626, \"considerble trees\": 70, \"considerable plants\": 35, \"Neem\": 3, \"Ash\": 1, \"Willow\": 1, \"Poplar\": 1, \"Ashok\": 0, \"Arjuna\": 1, \"Areca_palm\": 6, \"Weeping_fig\": 7, \"Grebera_Daisy\": 8, \"Aloe_vera\": 5, \"Tulsi\": 13, \"Pothos_plant\": 6}, {\"Area\": 2349, \"OE\": 39443, \"COb\": 2751, \"Area_left\": 294, \"considerble trees\": 33, \"considerable plants\": 16, \"Neem\": 4, \"Ash\": 2, \"Willow\": 2, \"Poplar\": 3, \"Ashok\": 2, \"Arjuna\": 2, \"Areca_palm\": 9, \"Weeping_fig\": 6, \"Grebera_Daisy\": 6, \"Aloe_vera\": 3, \"Tulsi\": 10, \"Pothos_plant\": 6}, {\"Area\": 6487, \"OE\": 109018, \"COb\": 7581, \"Area_left\": 811, \"considerble trees\": 90, \"considerable plants\": 45, \"Neem\": 4, \"Ash\": 1, \"Willow\": 1, \"Poplar\": 3, \"Ashok\": 1, \"Arjuna\": 2, \"Areca_palm\": 6, \"Weeping_fig\": 6, \"Grebera_Daisy\": 6, \"Aloe_vera\": 3, \"Tulsi\": 10, \"Pothos_plant\": 6}, {\"Area\": 3519, \"OE\": 59172, \"COb\": 4095, \"Area_left\": 440, \"considerble trees\": 49, \"considerable plants\": 24, \"Neem\": 4, \"Ash\": 1, \"Willow\": 1, \"Poplar\": 3, \"Ashok\": 1, \"Arjuna\": 2, \"Areca_palm\": 6, \"Weeping_fig\": 5, \"Grebera_Daisy\": 3, \"Aloe_vera\": 4, \"Tulsi\": 8, \"Pothos_plant\": 6}, {\"Area\": 5828, \"OE\": 98010, \"COb\": 6804, \"Area_left\": 728, \"considerble trees\": 81, \"considerable plants\": 40, \"Neem\": 3, \"Ash\": 1, \"Willow\": 1, \"Poplar\": 2, \"Ashok\": 2, \"Arjuna\": 1, \"Areca_palm\": 7, \"Weeping_fig\": 5, \"Grebera_Daisy\": 3, \"Aloe_vera\": 4, \"Tulsi\": 8, \"Pothos_plant\": 8}, {\"Area\": 5582, \"OE\": 93775, \"COb\": 6510, \"Area_left\": 698, \"considerble trees\": 78, \"considerable plants\": 39, \"Neem\": 3, \"Ash\": 1, \"Willow\": 1, \"Poplar\": 2, \"Ashok\": 2, \"Arjuna\": 1, \"Areca_palm\": 7, \"Weeping_fig\": 9, \"Grebera_Daisy\": 12, \"Aloe_vera\": 10, \"Tulsi\": 15, \"Pothos_plant\": 8}, {\"Area\": 5441, \"OE\": 91355, \"COb\": 6342, \"Area_left\": 680, \"considerble trees\": 76, \"considerable plants\": 38, \"Neem\": 5, \"Ash\": 2, \"Willow\": 2, \"Poplar\": 4, \"Ashok\": 2, \"Arjuna\": 3, \"Areca_palm\": 10, \"Weeping_fig\": 9, \"Grebera_Daisy\": 12, \"Aloe_vera\": 10, \"Tulsi\": 15, \"Pothos_plant\": 9}, {\"Area\": 4367, \"OE\": 73323, \"COb\": 5103, \"Area_left\": 546, \"considerble trees\": 61, \"considerable plants\": 30, \"Neem\": 5, \"Ash\": 2, \"Willow\": 2, \"Poplar\": 4, \"Ashok\": 2, \"Arjuna\": 3, \"Areca_palm\": 10, \"Weeping_fig\": 13, \"Grebera_Daisy\": 8, \"Aloe_vera\": 8, \"Tulsi\": 19, \"Pothos_plant\": 6}, {\"Area\": 4631, \"OE\": 77927, \"COb\": 5397, \"Area_left\": 579, \"considerble trees\": 64, \"considerable plants\": 32, \"Neem\": 4, \"Ash\": 3, \"Willow\": 2, \"Poplar\": 4, \"Ashok\": 2, \"Arjuna\": 3, \"Areca_palm\": 10, \"Weeping_fig\": 6, \"Grebera_Daisy\": 6, \"Aloe_vera\": 3, \"Tulsi\": 10, \"Pothos_plant\": 5}, {\"Area\": 6558, \"OE\": 110110, \"COb\": 7644, \"Area_left\": 820, \"considerble trees\": 91, \"considerable plants\": 46, \"Neem\": 4, \"Ash\": 1, \"Willow\": 1, \"Poplar\": 3, \"Ashok\": 1, \"Arjuna\": 2, \"Areca_palm\": 6, \"Weeping_fig\": 2, \"Grebera_Daisy\": 2, \"Aloe_vera\": 2, \"Tulsi\": 5, \"Pothos_plant\": 6}, {\"Area\": 7132, \"OE\": 119790, \"COb\": 8316, \"Area_left\": 892, \"considerble trees\": 99, \"considerable plants\": 50, \"Neem\": 3, \"Ash\": 1, \"Willow\": 0, \"Poplar\": 1, \"Ashok\": 0, \"Arjuna\": 1, \"Areca_palm\": 3, \"Weeping_fig\": 6, \"Grebera_Daisy\": 6, \"Aloe_vera\": 3, \"Tulsi\": 10, \"Pothos_plant\": 9}, {\"Area\": 7276, \"OE\": 122210, \"COb\": 8484, \"Area_left\": 910, \"considerble trees\": 101, \"considerable plants\": 50, \"Neem\": 4, \"Ash\": 1, \"Willow\": 1, \"Poplar\": 3, \"Ashok\": 1, \"Arjuna\": 2, \"Areca_palm\": 6, \"Weeping_fig\": 13, \"Grebera_Daisy\": 8, \"Aloe_vera\": 8, \"Tulsi\": 19, \"Pothos_plant\": 6}, {\"Area\": 5404, \"OE\": 90750, \"COb\": 6300, \"Area_left\": 676, \"considerble trees\": 75, \"considerable plants\": 38, \"Neem\": 4, \"Ash\": 3, \"Willow\": 2, \"Poplar\": 4, \"Ashok\": 2, \"Arjuna\": 3, \"Areca_palm\": 10, \"Weeping_fig\": 6, \"Grebera_Daisy\": 6, \"Aloe_vera\": 3, \"Tulsi\": 10, \"Pothos_plant\": 6}, {\"Area\": 3161, \"OE\": 53122, \"COb\": 3675, \"Area_left\": 395, \"considerble trees\": 44, \"considerable plants\": 22, \"Neem\": 4, \"Ash\": 1, \"Willow\": 1, \"Poplar\": 3, \"Ashok\": 1, \"Arjuna\": 2, \"Areca_palm\": 6, \"Weeping_fig\": 6, \"Grebera_Daisy\": 6, \"Aloe_vera\": 3, \"Tulsi\": 10, \"Pothos_plant\": 6}, {\"Area\": 5507, \"OE\": 92565, \"COb\": 6426, \"Area_left\": 688, \"considerble trees\": 76, \"considerable plants\": 38, \"Neem\": 4, \"Ash\": 1, \"Willow\": 1, \"Poplar\": 3, \"Ashok\": 1, \"Arjuna\": 2, \"Areca_palm\": 6, \"Weeping_fig\": 6, \"Grebera_Daisy\": 6, \"Aloe_vera\": 3, \"Tulsi\": 10, \"Pothos_plant\": 8}, {\"Area\": 7509, \"OE\": 126327, \"COb\": 8757, \"Area_left\": 939, \"considerble trees\": 104, \"considerable plants\": 52, \"Neem\": 4, \"Ash\": 1, \"Willow\": 1, \"Poplar\": 3, \"Ashok\": 1, \"Arjuna\": 2, \"Areca_palm\": 6, \"Weeping_fig\": 9, \"Grebera_Daisy\": 12, \"Aloe_vera\": 10, \"Tulsi\": 15, \"Pothos_plant\": 8}, {\"Area\": 5517, \"OE\": 92683, \"COb\": 6447, \"Area_left\": 690, \"considerble trees\": 77, \"considerable plants\": 38, \"Neem\": 5, \"Ash\": 2, \"Willow\": 2, \"Poplar\": 4, \"Ashok\": 2, \"Arjuna\": 3, \"Areca_palm\": 10, \"Weeping_fig\": 9, \"Grebera_Daisy\": 12, \"Aloe_vera\": 10, \"Tulsi\": 15, \"Pothos_plant\": 7}, {\"Area\": 5335, \"OE\": 89658, \"COb\": 6237, \"Area_left\": 667, \"considerble trees\": 74, \"considerable plants\": 37, \"Neem\": 5, \"Ash\": 2, \"Willow\": 2, \"Poplar\": 4, \"Ashok\": 2, \"Arjuna\": 3, \"Areca_palm\": 10, \"Weeping_fig\": 7, \"Grebera_Daisy\": 8, \"Aloe_vera\": 5, \"Tulsi\": 13, \"Pothos_plant\": 5}, {\"Area\": 5498, \"OE\": 92447, \"COb\": 6405, \"Area_left\": 687, \"considerble trees\": 76, \"considerable plants\": 38, \"Neem\": 4, \"Ash\": 2, \"Willow\": 2, \"Poplar\": 3, \"Ashok\": 2, \"Arjuna\": 2, \"Areca_palm\": 9, \"Weeping_fig\": 2, \"Grebera_Daisy\": 2, \"Aloe_vera\": 2, \"Tulsi\": 5, \"Pothos_plant\": 5}, {\"Area\": 6732, \"OE\": 113135, \"COb\": 7854, \"Area_left\": 842, \"considerble trees\": 94, \"considerable plants\": 47, \"Neem\": 3, \"Ash\": 1, \"Willow\": 0, \"Poplar\": 1, \"Ashok\": 0, \"Arjuna\": 1, \"Areca_palm\": 3, \"Weeping_fig\": 2, \"Grebera_Daisy\": 2, \"Aloe_vera\": 2, \"Tulsi\": 5, \"Pothos_plant\": 6}, {\"Area\": 7146, \"OE\": 120277, \"COb\": 8337, \"Area_left\": 893, \"considerble trees\": 99, \"considerable plants\": 50, \"Neem\": 3, \"Ash\": 1, \"Willow\": 0, \"Poplar\": 1, \"Ashok\": 0, \"Arjuna\": 1, \"Areca_palm\": 3, \"Weeping_fig\": 6, \"Grebera_Daisy\": 6, \"Aloe_vera\": 3, \"Tulsi\": 10, \"Pothos_plant\": 5}, {\"Area\": 5987, \"OE\": 100548, \"COb\": 6993, \"Area_left\": 748, \"considerble trees\": 83, \"considerable plants\": 42, \"Neem\": 4, \"Ash\": 1, \"Willow\": 1, \"Poplar\": 3, \"Ashok\": 1, \"Arjuna\": 2, \"Areca_palm\": 6, \"Weeping_fig\": 4, \"Grebera_Daisy\": 4, \"Aloe_vera\": 3, \"Tulsi\": 7, \"Pothos_plant\": 5}, {\"Area\": 2941, \"OE\": 49492, \"COb\": 3423, \"Area_left\": 368, \"considerble trees\": 41, \"considerable plants\": 20, \"Neem\": 3, \"Ash\": 1, \"Willow\": 1, \"Poplar\": 1, \"Ashok\": 0, \"Arjuna\": 1, \"Areca_palm\": 6, \"Weeping_fig\": 4, \"Grebera_Daisy\": 4, \"Aloe_vera\": 3, \"Tulsi\": 7, \"Pothos_plant\": 2}, {\"Area\": 2660, \"OE\": 44770, \"COb\": 3108, \"Area_left\": 332, \"considerble trees\": 37, \"considerable plants\": 18, \"Neem\": 3, \"Ash\": 1, \"Willow\": 1, \"Poplar\": 1, \"Ashok\": 0, \"Arjuna\": 1, \"Areca_palm\": 6, \"Weeping_fig\": 2, \"Grebera_Daisy\": 3, \"Aloe_vera\": 3, \"Tulsi\": 3, \"Pothos_plant\": 8}, {\"Area\": 5593, \"OE\": 93893, \"COb\": 6531, \"Area_left\": 699, \"considerble trees\": 78, \"considerable plants\": 39, \"Neem\": 2, \"Ash\": 0, \"Willow\": 0, \"Poplar\": 1, \"Ashok\": 0, \"Arjuna\": 0, \"Areca_palm\": 2, \"Weeping_fig\": 9, \"Grebera_Daisy\": 12, \"Aloe_vera\": 10, \"Tulsi\": 15, \"Pothos_plant\": 8}, {\"Area\": 3956, \"OE\": 66550, \"COb\": 4620, \"Area_left\": 494, \"considerble trees\": 55, \"considerable plants\": 28, \"Neem\": 5, \"Ash\": 2, \"Willow\": 2, \"Poplar\": 4, \"Ashok\": 2, \"Arjuna\": 3, \"Areca_palm\": 10, \"Weeping_fig\": 9, \"Grebera_Daisy\": 12, \"Aloe_vera\": 10, \"Tulsi\": 15, \"Pothos_plant\": 5}, {\"Area\": 3807, \"OE\": 64012, \"COb\": 4431, \"Area_left\": 476, \"considerble trees\": 53, \"considerable plants\": 26, \"Neem\": 5, \"Ash\": 2, \"Willow\": 2, \"Poplar\": 4, \"Ashok\": 2, \"Arjuna\": 3, \"Areca_palm\": 10, \"Weeping_fig\": 2, \"Grebera_Daisy\": 2, \"Aloe_vera\": 2, \"Tulsi\": 5, \"Pothos_plant\": 5}, {\"Area\": 2096, \"OE\": 35208, \"COb\": 2457, \"Area_left\": 262, \"considerble trees\": 29, \"considerable plants\": 14, \"Neem\": 3, \"Ash\": 1, \"Willow\": 0, \"Poplar\": 1, \"Ashok\": 0, \"Arjuna\": 1, \"Areca_palm\": 3, \"Weeping_fig\": 2, \"Grebera_Daisy\": 2, \"Aloe_vera\": 2, \"Tulsi\": 5, \"Pothos_plant\": 6}, {\"Area\": 6949, \"OE\": 116765, \"COb\": 8106, \"Area_left\": 869, \"considerble trees\": 96, \"considerable plants\": 48, \"Neem\": 3, \"Ash\": 1, \"Willow\": 0, \"Poplar\": 1, \"Ashok\": 0, \"Arjuna\": 1, \"Areca_palm\": 3, \"Weeping_fig\": 6, \"Grebera_Daisy\": 6, \"Aloe_vera\": 3, \"Tulsi\": 10, \"Pothos_plant\": 9}, {\"Area\": 6538, \"OE\": 109992, \"COb\": 7623, \"Area_left\": 817, \"considerble trees\": 91, \"considerable plants\": 46, \"Neem\": 4, \"Ash\": 1, \"Willow\": 1, \"Poplar\": 3, \"Ashok\": 1, \"Arjuna\": 2, \"Areca_palm\": 6, \"Weeping_fig\": 13, \"Grebera_Daisy\": 8, \"Aloe_vera\": 8, \"Tulsi\": 19, \"Pothos_plant\": 9}, {\"Area\": 3086, \"OE\": 51912, \"COb\": 3591, \"Area_left\": 386, \"considerble trees\": 43, \"considerable plants\": 22, \"Neem\": 4, \"Ash\": 3, \"Willow\": 2, \"Poplar\": 4, \"Ashok\": 2, \"Arjuna\": 3, \"Areca_palm\": 10, \"Weeping_fig\": 13, \"Grebera_Daisy\": 8, \"Aloe_vera\": 8, \"Tulsi\": 19, \"Pothos_plant\": 2}, {\"Area\": 2673, \"OE\": 44888, \"COb\": 3129, \"Area_left\": 334, \"considerble trees\": 37, \"considerable plants\": 18, \"Neem\": 4, \"Ash\": 3, \"Willow\": 2, \"Poplar\": 4, \"Ashok\": 2, \"Arjuna\": 3, \"Areca_palm\": 10, \"Weeping_fig\": 2, \"Grebera_Daisy\": 3, \"Aloe_vera\": 3, \"Tulsi\": 3, \"Pothos_plant\": 6}, {\"Area\": 5323, \"OE\": 89540, \"COb\": 6216, \"Area_left\": 665, \"considerble trees\": 74, \"considerable plants\": 37, \"Neem\": 2, \"Ash\": 0, \"Willow\": 0, \"Poplar\": 1, \"Ashok\": 0, \"Arjuna\": 0, \"Areca_palm\": 2, \"Weeping_fig\": 6, \"Grebera_Daisy\": 6, \"Aloe_vera\": 3, \"Tulsi\": 10, \"Pothos_plant\": 5}, {\"Area\": 7405, \"OE\": 124512, \"COb\": 8631, \"Area_left\": 926, \"considerble trees\": 103, \"considerable plants\": 52, \"Neem\": 4, \"Ash\": 1, \"Willow\": 1, \"Poplar\": 3, \"Ashok\": 1, \"Arjuna\": 2, \"Areca_palm\": 6, \"Weeping_fig\": 2, \"Grebera_Daisy\": 2, \"Aloe_vera\": 2, \"Tulsi\": 5, \"Pothos_plant\": 6}, {\"Area\": 7595, \"OE\": 127655, \"COb\": 8862, \"Area_left\": 949, \"considerble trees\": 106, \"considerable plants\": 53, \"Neem\": 3, \"Ash\": 1, \"Willow\": 0, \"Poplar\": 1, \"Ashok\": 0, \"Arjuna\": 1, \"Areca_palm\": 3, \"Weeping_fig\": 6, \"Grebera_Daisy\": 6, \"Aloe_vera\": 3, \"Tulsi\": 10, \"Pothos_plant\": 5}, {\"Area\": 2233, \"OE\": 37510, \"COb\": 2604, \"Area_left\": 279, \"considerble trees\": 31, \"considerable plants\": 16, \"Neem\": 4, \"Ash\": 1, \"Willow\": 1, \"Poplar\": 3, \"Ashok\": 1, \"Arjuna\": 2, \"Areca_palm\": 6, \"Weeping_fig\": 4, \"Grebera_Daisy\": 4, \"Aloe_vera\": 3, \"Tulsi\": 7, \"Pothos_plant\": 6}, {\"Area\": 5396, \"OE\": 90750, \"COb\": 6300, \"Area_left\": 674, \"considerble trees\": 75, \"considerable plants\": 38, \"Neem\": 3, \"Ash\": 1, \"Willow\": 1, \"Poplar\": 1, \"Ashok\": 0, \"Arjuna\": 1, \"Areca_palm\": 6, \"Weeping_fig\": 5, \"Grebera_Daisy\": 3, \"Aloe_vera\": 4, \"Tulsi\": 8, \"Pothos_plant\": 5}, {\"Area\": 2514, \"OE\": 42350, \"COb\": 2940, \"Area_left\": 314, \"considerble trees\": 35, \"considerable plants\": 18, \"Neem\": 3, \"Ash\": 1, \"Willow\": 1, \"Poplar\": 2, \"Ashok\": 2, \"Arjuna\": 1, \"Areca_palm\": 7, \"Weeping_fig\": 2, \"Grebera_Daisy\": 2, \"Aloe_vera\": 2, \"Tulsi\": 5, \"Pothos_plant\": 7}, {\"Area\": 5247, \"OE\": 88212, \"COb\": 6111, \"Area_left\": 656, \"considerble trees\": 73, \"considerable plants\": 36, \"Neem\": 3, \"Ash\": 1, \"Willow\": 0, \"Poplar\": 1, \"Ashok\": 0, \"Arjuna\": 1, \"Areca_palm\": 3, \"Weeping_fig\": 7, \"Grebera_Daisy\": 8, \"Aloe_vera\": 5, \"Tulsi\": 13, \"Pothos_plant\": 6}, {\"Area\": 3308, \"OE\": 55660, \"COb\": 3864, \"Area_left\": 414, \"considerble trees\": 46, \"considerable plants\": 23, \"Neem\": 4, \"Ash\": 2, \"Willow\": 2, \"Poplar\": 3, \"Ashok\": 2, \"Arjuna\": 2, \"Areca_palm\": 9, \"Weeping_fig\": 6, \"Grebera_Daisy\": 6, \"Aloe_vera\": 3, \"Tulsi\": 10, \"Pothos_plant\": 6}, {\"Area\": 4107, \"OE\": 68970, \"COb\": 4788, \"Area_left\": 513, \"considerble trees\": 57, \"considerable plants\": 28, \"Neem\": 4, \"Ash\": 1, \"Willow\": 1, \"Poplar\": 3, \"Ashok\": 1, \"Arjuna\": 2, \"Areca_palm\": 6, \"Weeping_fig\": 5, \"Grebera_Daisy\": 3, \"Aloe_vera\": 4, \"Tulsi\": 8, \"Pothos_plant\": 5}, {\"Area\": 2867, \"OE\": 48282, \"COb\": 3339, \"Area_left\": 358, \"considerble trees\": 40, \"considerable plants\": 20, \"Neem\": 3, \"Ash\": 1, \"Willow\": 1, \"Poplar\": 2, \"Ashok\": 2, \"Arjuna\": 1, \"Areca_palm\": 7, \"Weeping_fig\": 4, \"Grebera_Daisy\": 4, \"Aloe_vera\": 3, \"Tulsi\": 7, \"Pothos_plant\": 6}, {\"Area\": 6349, \"OE\": 106598, \"COb\": 7413, \"Area_left\": 794, \"considerble trees\": 88, \"considerable plants\": 44, \"Neem\": 3, \"Ash\": 1, \"Willow\": 1, \"Poplar\": 1, \"Ashok\": 0, \"Arjuna\": 1, \"Areca_palm\": 6, \"Weeping_fig\": 6, \"Grebera_Daisy\": 6, \"Aloe_vera\": 3, \"Tulsi\": 10, \"Pothos_plant\": 9}, {\"Area\": 5549, \"OE\": 93170, \"COb\": 6468, \"Area_left\": 694, \"considerble trees\": 77, \"considerable plants\": 38, \"Neem\": 4, \"Ash\": 1, \"Willow\": 1, \"Poplar\": 3, \"Ashok\": 1, \"Arjuna\": 2, \"Areca_palm\": 6, \"Weeping_fig\": 13, \"Grebera_Daisy\": 8, \"Aloe_vera\": 8, \"Tulsi\": 19, \"Pothos_plant\": 5}, {\"Area\": 4634, \"OE\": 77927, \"COb\": 5397, \"Area_left\": 579, \"considerble trees\": 64, \"considerable plants\": 32, \"Neem\": 4, \"Ash\": 3, \"Willow\": 2, \"Poplar\": 4, \"Ashok\": 2, \"Arjuna\": 3, \"Areca_palm\": 10, \"Weeping_fig\": 4, \"Grebera_Daisy\": 4, \"Aloe_vera\": 3, \"Tulsi\": 7, \"Pothos_plant\": 6}, {\"Area\": 3888, \"OE\": 65340, \"COb\": 4536, \"Area_left\": 486, \"considerble trees\": 54, \"considerable plants\": 27, \"Neem\": 3, \"Ash\": 1, \"Willow\": 1, \"Poplar\": 1, \"Ashok\": 0, \"Arjuna\": 1, \"Areca_palm\": 6, \"Weeping_fig\": 5, \"Grebera_Daisy\": 3, \"Aloe_vera\": 4, \"Tulsi\": 8, \"Pothos_plant\": 5}, {\"Area\": 5547, \"OE\": 93170, \"COb\": 6468, \"Area_left\": 693, \"considerble trees\": 77, \"considerable plants\": 38, \"Neem\": 3, \"Ash\": 1, \"Willow\": 1, \"Poplar\": 2, \"Ashok\": 2, \"Arjuna\": 1, \"Areca_palm\": 7, \"Weeping_fig\": 2, \"Grebera_Daisy\": 2, \"Aloe_vera\": 2, \"Tulsi\": 5, \"Pothos_plant\": 8}, {\"Area\": 7823, \"OE\": 131403, \"COb\": 9135, \"Area_left\": 978, \"considerble trees\": 109, \"considerable plants\": 54, \"Neem\": 3, \"Ash\": 1, \"Willow\": 0, \"Poplar\": 1, \"Ashok\": 0, \"Arjuna\": 1, \"Areca_palm\": 3, \"Weeping_fig\": 9, \"Grebera_Daisy\": 12, \"Aloe_vera\": 10, \"Tulsi\": 15, \"Pothos_plant\": 5}, {\"Area\": 3419, \"OE\": 57475, \"COb\": 3990, \"Area_left\": 427, \"considerble trees\": 48, \"considerable plants\": 24, \"Neem\": 5, \"Ash\": 2, \"Willow\": 2, \"Poplar\": 4, \"Ashok\": 2, \"Arjuna\": 3, \"Areca_palm\": 10, \"Weeping_fig\": 2, \"Grebera_Daisy\": 2, \"Aloe_vera\": 2, \"Tulsi\": 5, \"Pothos_plant\": 6}, {\"Area\": 4267, \"OE\": 71877, \"COb\": 4977, \"Area_left\": 533, \"considerble trees\": 59, \"considerable plants\": 30, \"Neem\": 3, \"Ash\": 1, \"Willow\": 0, \"Poplar\": 1, \"Ashok\": 0, \"Arjuna\": 1, \"Areca_palm\": 3, \"Weeping_fig\": 6, \"Grebera_Daisy\": 6, \"Aloe_vera\": 3, \"Tulsi\": 10, \"Pothos_plant\": 2}, {\"Area\": 3194, \"OE\": 53727, \"COb\": 3717, \"Area_left\": 399, \"considerble trees\": 44, \"considerable plants\": 22, \"Neem\": 4, \"Ash\": 1, \"Willow\": 1, \"Poplar\": 3, \"Ashok\": 1, \"Arjuna\": 2, \"Areca_palm\": 6, \"Weeping_fig\": 2, \"Grebera_Daisy\": 3, \"Aloe_vera\": 3, \"Tulsi\": 3, \"Pothos_plant\": 8}, {\"Area\": 7118, \"OE\": 119672, \"COb\": 8295, \"Area_left\": 890, \"considerble trees\": 99, \"considerable plants\": 50, \"Neem\": 2, \"Ash\": 0, \"Willow\": 0, \"Poplar\": 1, \"Ashok\": 0, \"Arjuna\": 0, \"Areca_palm\": 2, \"Weeping_fig\": 9, \"Grebera_Daisy\": 12, \"Aloe_vera\": 10, \"Tulsi\": 15, \"Pothos_plant\": 6}, {\"Area\": 3002, \"OE\": 50333, \"COb\": 3507, \"Area_left\": 375, \"considerble trees\": 42, \"considerable plants\": 21, \"Neem\": 5, \"Ash\": 2, \"Willow\": 2, \"Poplar\": 4, \"Ashok\": 2, \"Arjuna\": 3, \"Areca_palm\": 10, \"Weeping_fig\": 5, \"Grebera_Daisy\": 3, \"Aloe_vera\": 4, \"Tulsi\": 8, \"Pothos_plant\": 8}, {\"Area\": 5280, \"OE\": 88817, \"COb\": 6153, \"Area_left\": 660, \"considerble trees\": 73, \"considerable plants\": 37, \"Neem\": 3, \"Ash\": 1, \"Willow\": 1, \"Poplar\": 2, \"Ashok\": 2, \"Arjuna\": 1, \"Areca_palm\": 7, \"Weeping_fig\": 9, \"Grebera_Daisy\": 12, \"Aloe_vera\": 10, \"Tulsi\": 15, \"Pothos_plant\": 8}, {\"Area\": 2281, \"OE\": 38233, \"COb\": 2667, \"Area_left\": 285, \"considerble trees\": 32, \"considerable plants\": 16, \"Neem\": 5, \"Ash\": 2, \"Willow\": 2, \"Poplar\": 4, \"Ashok\": 2, \"Arjuna\": 3, \"Areca_palm\": 10, \"Weeping_fig\": 9, \"Grebera_Daisy\": 12, \"Aloe_vera\": 10, \"Tulsi\": 15, \"Pothos_plant\": 7}, {\"Area\": 6661, \"OE\": 111925, \"COb\": 7770, \"Area_left\": 833, \"considerble trees\": 92, \"considerable plants\": 46, \"Neem\": 5, \"Ash\": 2, \"Willow\": 2, \"Poplar\": 4, \"Ashok\": 2, \"Arjuna\": 3, \"Areca_palm\": 10, \"Weeping_fig\": 7, \"Grebera_Daisy\": 8, \"Aloe_vera\": 5, \"Tulsi\": 13, \"Pothos_plant\": 7}, {\"Area\": 4577, \"OE\": 76835, \"COb\": 5334, \"Area_left\": 572, \"considerble trees\": 64, \"considerable plants\": 32, \"Neem\": 4, \"Ash\": 2, \"Willow\": 2, \"Poplar\": 3, \"Ashok\": 2, \"Arjuna\": 2, \"Areca_palm\": 9, \"Weeping_fig\": 7, \"Grebera_Daisy\": 8, \"Aloe_vera\": 5, \"Tulsi\": 13, \"Pothos_plant\": 6}, {\"Area\": 7065, \"OE\": 118698, \"COb\": 8253, \"Area_left\": 883, \"considerble trees\": 98, \"considerable plants\": 49, \"Neem\": 4, \"Ash\": 2, \"Willow\": 2, \"Poplar\": 3, \"Ashok\": 2, \"Arjuna\": 2, \"Areca_palm\": 9, \"Weeping_fig\": 5, \"Grebera_Daisy\": 3, \"Aloe_vera\": 4, \"Tulsi\": 8, \"Pothos_plant\": 7}, {\"Area\": 7187, \"OE\": 120882, \"COb\": 8379, \"Area_left\": 898, \"considerble trees\": 100, \"considerable plants\": 50, \"Neem\": 3, \"Ash\": 1, \"Willow\": 1, \"Poplar\": 2, \"Ashok\": 2, \"Arjuna\": 1, \"Areca_palm\": 7, \"Weeping_fig\": 7, \"Grebera_Daisy\": 8, \"Aloe_vera\": 5, \"Tulsi\": 13, \"Pothos_plant\": 6}, {\"Area\": 5933, \"OE\": 99707, \"COb\": 6909, \"Area_left\": 742, \"considerble trees\": 82, \"considerable plants\": 41, \"Neem\": 4, \"Ash\": 2, \"Willow\": 2, \"Poplar\": 3, \"Ashok\": 2, \"Arjuna\": 2, \"Areca_palm\": 9, \"Weeping_fig\": 5, \"Grebera_Daisy\": 3, \"Aloe_vera\": 4, \"Tulsi\": 8, \"Pothos_plant\": 7}, {\"Area\": 5886, \"OE\": 98733, \"COb\": 6867, \"Area_left\": 736, \"considerble trees\": 82, \"considerable plants\": 41, \"Neem\": 3, \"Ash\": 1, \"Willow\": 1, \"Poplar\": 2, \"Ashok\": 2, \"Arjuna\": 1, \"Areca_palm\": 7, \"Weeping_fig\": 7, \"Grebera_Daisy\": 8, \"Aloe_vera\": 5, \"Tulsi\": 13, \"Pothos_plant\": 6}, {\"Area\": 4766, \"OE\": 79978, \"COb\": 5565, \"Area_left\": 596, \"considerble trees\": 66, \"considerable plants\": 33, \"Neem\": 4, \"Ash\": 2, \"Willow\": 2, \"Poplar\": 3, \"Ashok\": 2, \"Arjuna\": 2, \"Areca_palm\": 9, \"Weeping_fig\": 6, \"Grebera_Daisy\": 6, \"Aloe_vera\": 3, \"Tulsi\": 10, \"Pothos_plant\": 9}, {\"Area\": 5795, \"OE\": 97405, \"COb\": 6762, \"Area_left\": 724, \"considerble trees\": 80, \"considerable plants\": 40, \"Neem\": 4, \"Ash\": 1, \"Willow\": 1, \"Poplar\": 3, \"Ashok\": 1, \"Arjuna\": 2, \"Areca_palm\": 6, \"Weeping_fig\": 13, \"Grebera_Daisy\": 8, \"Aloe_vera\": 8, \"Tulsi\": 19, \"Pothos_plant\": 9}, {\"Area\": 4340, \"OE\": 73087, \"COb\": 5061, \"Area_left\": 542, \"considerble trees\": 60, \"considerable plants\": 30, \"Neem\": 4, \"Ash\": 3, \"Willow\": 2, \"Poplar\": 4, \"Ashok\": 2, \"Arjuna\": 3, \"Areca_palm\": 10, \"Weeping_fig\": 13, \"Grebera_Daisy\": 8, \"Aloe_vera\": 8, \"Tulsi\": 19, \"Pothos_plant\": 8}, {\"Area\": 6007, \"OE\": 101035, \"COb\": 7014, \"Area_left\": 751, \"considerble trees\": 84, \"considerable plants\": 42, \"Neem\": 4, \"Ash\": 3, \"Willow\": 2, \"Poplar\": 4, \"Ashok\": 2, \"Arjuna\": 3, \"Areca_palm\": 10, \"Weeping_fig\": 9, \"Grebera_Daisy\": 12, \"Aloe_vera\": 10, \"Tulsi\": 15, \"Pothos_plant\": 9}, {\"Area\": 5473, \"OE\": 91960, \"COb\": 6384, \"Area_left\": 684, \"considerble trees\": 76, \"considerable plants\": 38, \"Neem\": 5, \"Ash\": 2, \"Willow\": 2, \"Poplar\": 4, \"Ashok\": 2, \"Arjuna\": 3, \"Areca_palm\": 10, \"Weeping_fig\": 13, \"Grebera_Daisy\": 8, \"Aloe_vera\": 8, \"Tulsi\": 19, \"Pothos_plant\": 9}, {\"Area\": 7541, \"OE\": 126563, \"COb\": 8799, \"Area_left\": 943, \"considerble trees\": 105, \"considerable plants\": 52, \"Neem\": 4, \"Ash\": 3, \"Willow\": 2, \"Poplar\": 4, \"Ashok\": 2, \"Arjuna\": 3, \"Areca_palm\": 10, \"Weeping_fig\": 13, \"Grebera_Daisy\": 8, \"Aloe_vera\": 8, \"Tulsi\": 19, \"Pothos_plant\": 8}, {\"Area\": 7618, \"OE\": 128142, \"COb\": 8883, \"Area_left\": 952, \"considerble trees\": 106, \"considerable plants\": 53, \"Neem\": 4, \"Ash\": 3, \"Willow\": 2, \"Poplar\": 4, \"Ashok\": 2, \"Arjuna\": 3, \"Areca_palm\": 10, \"Weeping_fig\": 9, \"Grebera_Daisy\": 12, \"Aloe_vera\": 10, \"Tulsi\": 15, \"Pothos_plant\": 2}, {\"Area\": 7152, \"OE\": 120277, \"COb\": 8337, \"Area_left\": 894, \"considerble trees\": 99, \"considerable plants\": 50, \"Neem\": 5, \"Ash\": 2, \"Willow\": 2, \"Poplar\": 4, \"Ashok\": 2, \"Arjuna\": 3, \"Areca_palm\": 10, \"Weeping_fig\": 2, \"Grebera_Daisy\": 3, \"Aloe_vera\": 3, \"Tulsi\": 3, \"Pothos_plant\": 5}, {\"Area\": 7622, \"OE\": 128142, \"COb\": 8883, \"Area_left\": 953, \"considerble trees\": 106, \"considerable plants\": 53, \"Neem\": 2, \"Ash\": 0, \"Willow\": 0, \"Poplar\": 1, \"Ashok\": 0, \"Arjuna\": 0, \"Areca_palm\": 2, \"Weeping_fig\": 2, \"Grebera_Daisy\": 2, \"Aloe_vera\": 2, \"Tulsi\": 5, \"Pothos_plant\": 8}, {\"Area\": 7781, \"OE\": 130680, \"COb\": 9072, \"Area_left\": 973, \"considerble trees\": 108, \"considerable plants\": 54, \"Neem\": 3, \"Ash\": 1, \"Willow\": 0, \"Poplar\": 1, \"Ashok\": 0, \"Arjuna\": 1, \"Areca_palm\": 3, \"Weeping_fig\": 9, \"Grebera_Daisy\": 12, \"Aloe_vera\": 10, \"Tulsi\": 15, \"Pothos_plant\": 5}, {\"Area\": 6581, \"OE\": 110597, \"COb\": 7665, \"Area_left\": 823, \"considerble trees\": 91, \"considerable plants\": 46, \"Neem\": 5, \"Ash\": 2, \"Willow\": 2, \"Poplar\": 4, \"Ashok\": 2, \"Arjuna\": 3, \"Areca_palm\": 10, \"Weeping_fig\": 2, \"Grebera_Daisy\": 2, \"Aloe_vera\": 2, \"Tulsi\": 5, \"Pothos_plant\": 8}, {\"Area\": 2344, \"OE\": 39325, \"COb\": 2730, \"Area_left\": 293, \"considerble trees\": 32, \"considerable plants\": 16, \"Neem\": 3, \"Ash\": 1, \"Willow\": 0, \"Poplar\": 1, \"Ashok\": 0, \"Arjuna\": 1, \"Areca_palm\": 3, \"Weeping_fig\": 9, \"Grebera_Daisy\": 12, \"Aloe_vera\": 10, \"Tulsi\": 15, \"Pothos_plant\": 5}, {\"Area\": 2977, \"OE\": 50097, \"COb\": 3465, \"Area_left\": 372, \"considerble trees\": 41, \"considerable plants\": 21, \"Neem\": 5, \"Ash\": 2, \"Willow\": 2, \"Poplar\": 4, \"Ashok\": 2, \"Arjuna\": 3, \"Areca_palm\": 10, \"Weeping_fig\": 2, \"Grebera_Daisy\": 2, \"Aloe_vera\": 2, \"Tulsi\": 5, \"Pothos_plant\": 6}, {\"Area\": 6765, \"OE\": 113740, \"COb\": 7896, \"Area_left\": 846, \"considerble trees\": 94, \"considerable plants\": 47, \"Neem\": 3, \"Ash\": 1, \"Willow\": 0, \"Poplar\": 1, \"Ashok\": 0, \"Arjuna\": 1, \"Areca_palm\": 3, \"Weeping_fig\": 5, \"Grebera_Daisy\": 3, \"Aloe_vera\": 4, \"Tulsi\": 8, \"Pothos_plant\": 8}, {\"Area\": 2720, \"OE\": 45862, \"COb\": 3171, \"Area_left\": 340, \"considerble trees\": 38, \"considerable plants\": 19, \"Neem\": 3, \"Ash\": 1, \"Willow\": 1, \"Poplar\": 2, \"Ashok\": 2, \"Arjuna\": 1, \"Areca_palm\": 7, \"Weeping_fig\": 9, \"Grebera_Daisy\": 12, \"Aloe_vera\": 10, \"Tulsi\": 15, \"Pothos_plant\": 6}, {\"Area\": 6667, \"OE\": 112043, \"COb\": 7791, \"Area_left\": 833, \"considerble trees\": 93, \"considerable plants\": 46, \"Neem\": 5, \"Ash\": 2, \"Willow\": 2, \"Poplar\": 4, \"Ashok\": 2, \"Arjuna\": 3, \"Areca_palm\": 10, \"Weeping_fig\": 6, \"Grebera_Daisy\": 6, \"Aloe_vera\": 3, \"Tulsi\": 10, \"Pothos_plant\": 5}, {\"Area\": 3088, \"OE\": 51912, \"COb\": 3591, \"Area_left\": 386, \"considerble trees\": 43, \"considerable plants\": 22, \"Neem\": 4, \"Ash\": 1, \"Willow\": 1, \"Poplar\": 3, \"Ashok\": 1, \"Arjuna\": 2, \"Areca_palm\": 6, \"Weeping_fig\": 4, \"Grebera_Daisy\": 4, \"Aloe_vera\": 3, \"Tulsi\": 7, \"Pothos_plant\": 6}, {\"Area\": 4771, \"OE\": 80347, \"COb\": 5565, \"Area_left\": 596, \"considerble trees\": 66, \"considerable plants\": 33, \"Neem\": 3, \"Ash\": 1, \"Willow\": 1, \"Poplar\": 1, \"Ashok\": 0, \"Arjuna\": 1, \"Areca_palm\": 6, \"Weeping_fig\": 6, \"Grebera_Daisy\": 6, \"Aloe_vera\": 3, \"Tulsi\": 10, \"Pothos_plant\": 5}, {\"Area\": 6828, \"OE\": 114832, \"COb\": 7959, \"Area_left\": 854, \"considerble trees\": 95, \"considerable plants\": 48, \"Neem\": 4, \"Ash\": 1, \"Willow\": 1, \"Poplar\": 3, \"Ashok\": 1, \"Arjuna\": 2, \"Areca_palm\": 6, \"Weeping_fig\": 4, \"Grebera_Daisy\": 4, \"Aloe_vera\": 3, \"Tulsi\": 7, \"Pothos_plant\": 9}, {\"Area\": 5202, \"OE\": 87607, \"COb\": 6069, \"Area_left\": 650, \"considerble trees\": 72, \"considerable plants\": 36, \"Neem\": 3, \"Ash\": 1, \"Willow\": 1, \"Poplar\": 1, \"Ashok\": 0, \"Arjuna\": 1, \"Areca_palm\": 6, \"Weeping_fig\": 13, \"Grebera_Daisy\": 8, \"Aloe_vera\": 8, \"Tulsi\": 19, \"Pothos_plant\": 6}, {\"Area\": 3440, \"OE\": 57962, \"COb\": 4011, \"Area_left\": 430, \"considerble trees\": 48, \"considerable plants\": 24, \"Neem\": 4, \"Ash\": 3, \"Willow\": 2, \"Poplar\": 4, \"Ashok\": 2, \"Arjuna\": 3, \"Areca_palm\": 10, \"Weeping_fig\": 6, \"Grebera_Daisy\": 6, \"Aloe_vera\": 3, \"Tulsi\": 10, \"Pothos_plant\": 2}, {\"Area\": 5547, \"OE\": 93170, \"COb\": 6468, \"Area_left\": 693, \"considerble trees\": 77, \"considerable plants\": 38, \"Neem\": 4, \"Ash\": 1, \"Willow\": 1, \"Poplar\": 3, \"Ashok\": 1, \"Arjuna\": 2, \"Areca_palm\": 6, \"Weeping_fig\": 2, \"Grebera_Daisy\": 3, \"Aloe_vera\": 3, \"Tulsi\": 3, \"Pothos_plant\": 5}, {\"Area\": 3683, \"OE\": 61828, \"COb\": 4305, \"Area_left\": 460, \"considerble trees\": 51, \"considerable plants\": 26, \"Neem\": 2, \"Ash\": 0, \"Willow\": 0, \"Poplar\": 1, \"Ashok\": 0, \"Arjuna\": 0, \"Areca_palm\": 2, \"Weeping_fig\": 2, \"Grebera_Daisy\": 2, \"Aloe_vera\": 2, \"Tulsi\": 5, \"Pothos_plant\": 6}, {\"Area\": 7445, \"OE\": 125117, \"COb\": 8673, \"Area_left\": 931, \"considerble trees\": 103, \"considerable plants\": 52, \"Neem\": 3, \"Ash\": 1, \"Willow\": 0, \"Poplar\": 1, \"Ashok\": 0, \"Arjuna\": 1, \"Areca_palm\": 3, \"Weeping_fig\": 6, \"Grebera_Daisy\": 6, \"Aloe_vera\": 3, \"Tulsi\": 10, \"Pothos_plant\": 5}, {\"Area\": 5535, \"OE\": 93052, \"COb\": 6447, \"Area_left\": 692, \"considerble trees\": 77, \"considerable plants\": 38, \"Neem\": 4, \"Ash\": 1, \"Willow\": 1, \"Poplar\": 3, \"Ashok\": 1, \"Arjuna\": 2, \"Areca_palm\": 6, \"Weeping_fig\": 4, \"Grebera_Daisy\": 4, \"Aloe_vera\": 3, \"Tulsi\": 7, \"Pothos_plant\": 7}, {\"Area\": 2201, \"OE\": 36905, \"COb\": 2562, \"Area_left\": 275, \"considerble trees\": 30, \"considerable plants\": 15, \"Neem\": 3, \"Ash\": 1, \"Willow\": 1, \"Poplar\": 1, \"Ashok\": 0, \"Arjuna\": 1, \"Areca_palm\": 6, \"Weeping_fig\": 7, \"Grebera_Daisy\": 8, \"Aloe_vera\": 5, \"Tulsi\": 13, \"Pothos_plant\": 9}, {\"Area\": 2446, \"OE\": 41140, \"COb\": 2856, \"Area_left\": 306, \"considerble trees\": 34, \"considerable plants\": 17, \"Neem\": 4, \"Ash\": 2, \"Willow\": 2, \"Poplar\": 3, \"Ashok\": 2, \"Arjuna\": 2, \"Areca_palm\": 9, \"Weeping_fig\": 13, \"Grebera_Daisy\": 8, \"Aloe_vera\": 8, \"Tulsi\": 19, \"Pothos_plant\": 5}, {\"Area\": 5452, \"OE\": 91473, \"COb\": 6363, \"Area_left\": 682, \"considerble trees\": 76, \"considerable plants\": 38, \"Neem\": 4, \"Ash\": 3, \"Willow\": 2, \"Poplar\": 4, \"Ashok\": 2, \"Arjuna\": 3, \"Areca_palm\": 10, \"Weeping_fig\": 2, \"Grebera_Daisy\": 2, \"Aloe_vera\": 2, \"Tulsi\": 5, \"Pothos_plant\": 6}, {\"Area\": 3717, \"OE\": 62433, \"COb\": 4347, \"Area_left\": 465, \"considerble trees\": 52, \"considerable plants\": 26, \"Neem\": 3, \"Ash\": 1, \"Willow\": 0, \"Poplar\": 1, \"Ashok\": 0, \"Arjuna\": 1, \"Areca_palm\": 3, \"Weeping_fig\": 6, \"Grebera_Daisy\": 6, \"Aloe_vera\": 3, \"Tulsi\": 10, \"Pothos_plant\": 7}, {\"Area\": 5854, \"OE\": 98497, \"COb\": 6825, \"Area_left\": 732, \"considerble trees\": 81, \"considerable plants\": 41, \"Neem\": 4, \"Ash\": 1, \"Willow\": 1, \"Poplar\": 3, \"Ashok\": 1, \"Arjuna\": 2, \"Areca_palm\": 6, \"Weeping_fig\": 7, \"Grebera_Daisy\": 8, \"Aloe_vera\": 5, \"Tulsi\": 13, \"Pothos_plant\": 5}, {\"Area\": 7248, \"OE\": 121723, \"COb\": 8463, \"Area_left\": 906, \"considerble trees\": 101, \"considerable plants\": 50, \"Neem\": 4, \"Ash\": 2, \"Willow\": 2, \"Poplar\": 3, \"Ashok\": 2, \"Arjuna\": 2, \"Areca_palm\": 9, \"Weeping_fig\": 2, \"Grebera_Daisy\": 2, \"Aloe_vera\": 2, \"Tulsi\": 5, \"Pothos_plant\": 5}, {\"Area\": 2484, \"OE\": 41745, \"COb\": 2898, \"Area_left\": 310, \"considerble trees\": 34, \"considerable plants\": 17, \"Neem\": 3, \"Ash\": 1, \"Willow\": 0, \"Poplar\": 1, \"Ashok\": 0, \"Arjuna\": 1, \"Areca_palm\": 3, \"Weeping_fig\": 4, \"Grebera_Daisy\": 4, \"Aloe_vera\": 3, \"Tulsi\": 7, \"Pothos_plant\": 5}, {\"Area\": 5544, \"OE\": 93170, \"COb\": 6468, \"Area_left\": 693, \"considerble trees\": 77, \"considerable plants\": 38, \"Neem\": 3, \"Ash\": 1, \"Willow\": 1, \"Poplar\": 1, \"Ashok\": 0, \"Arjuna\": 1, \"Areca_palm\": 6, \"Weeping_fig\": 4, \"Grebera_Daisy\": 4, \"Aloe_vera\": 3, \"Tulsi\": 7, \"Pothos_plant\": 6}, {\"Area\": 6310, \"OE\": 105993, \"COb\": 7371, \"Area_left\": 789, \"considerble trees\": 88, \"considerable plants\": 44, \"Neem\": 3, \"Ash\": 1, \"Willow\": 1, \"Poplar\": 1, \"Ashok\": 0, \"Arjuna\": 1, \"Areca_palm\": 6, \"Weeping_fig\": 5, \"Grebera_Daisy\": 3, \"Aloe_vera\": 4, \"Tulsi\": 8, \"Pothos_plant\": 8}, {\"Area\": 2421, \"OE\": 40653, \"COb\": 2835, \"Area_left\": 303, \"considerble trees\": 34, \"considerable plants\": 17, \"Neem\": 3, \"Ash\": 1, \"Willow\": 1, \"Poplar\": 2, \"Ashok\": 2, \"Arjuna\": 1, \"Areca_palm\": 7, \"Weeping_fig\": 9, \"Grebera_Daisy\": 12, \"Aloe_vera\": 10, \"Tulsi\": 15, \"Pothos_plant\": 7}, {\"Area\": 3403, \"OE\": 57357, \"COb\": 3969, \"Area_left\": 425, \"considerble trees\": 47, \"considerable plants\": 24, \"Neem\": 5, \"Ash\": 2, \"Willow\": 2, \"Poplar\": 4, \"Ashok\": 2, \"Arjuna\": 3, \"Areca_palm\": 10, \"Weeping_fig\": 7, \"Grebera_Daisy\": 8, \"Aloe_vera\": 5, \"Tulsi\": 13, \"Pothos_plant\": 6}, {\"Area\": 3563, \"OE\": 59895, \"COb\": 4158, \"Area_left\": 445, \"considerble trees\": 50, \"considerable plants\": 25, \"Neem\": 4, \"Ash\": 2, \"Willow\": 2, \"Poplar\": 3, \"Ashok\": 2, \"Arjuna\": 2, \"Areca_palm\": 9, \"Weeping_fig\": 5, \"Grebera_Daisy\": 3, \"Aloe_vera\": 4, \"Tulsi\": 8, \"Pothos_plant\": 7}, {\"Area\": 4618, \"OE\": 77558, \"COb\": 5397, \"Area_left\": 577, \"considerble trees\": 64, \"considerable plants\": 32, \"Neem\": 3, \"Ash\": 1, \"Willow\": 1, \"Poplar\": 2, \"Ashok\": 2, \"Arjuna\": 1, \"Areca_palm\": 7, \"Weeping_fig\": 7, \"Grebera_Daisy\": 8, \"Aloe_vera\": 5, \"Tulsi\": 13, \"Pothos_plant\": 6}, {\"Area\": 6471, \"OE\": 108782, \"COb\": 7539, \"Area_left\": 809, \"considerble trees\": 90, \"considerable plants\": 45, \"Neem\": 4, \"Ash\": 2, \"Willow\": 2, \"Poplar\": 3, \"Ashok\": 2, \"Arjuna\": 2, \"Areca_palm\": 9, \"Weeping_fig\": 5, \"Grebera_Daisy\": 3, \"Aloe_vera\": 4, \"Tulsi\": 8, \"Pothos_plant\": 5}, {\"Area\": 5815, \"OE\": 97892, \"COb\": 6783, \"Area_left\": 727, \"considerble trees\": 81, \"considerable plants\": 40, \"Neem\": 3, \"Ash\": 1, \"Willow\": 1, \"Poplar\": 2, \"Ashok\": 2, \"Arjuna\": 1, \"Areca_palm\": 7, \"Weeping_fig\": 4, \"Grebera_Daisy\": 4, \"Aloe_vera\": 3, \"Tulsi\": 7, \"Pothos_plant\": 5}, {\"Area\": 4262, \"OE\": 71508, \"COb\": 4977, \"Area_left\": 533, \"considerble trees\": 59, \"considerable plants\": 30, \"Neem\": 3, \"Ash\": 1, \"Willow\": 1, \"Poplar\": 1, \"Ashok\": 0, \"Arjuna\": 1, \"Areca_palm\": 6, \"Weeping_fig\": 2, \"Grebera_Daisy\": 2, \"Aloe_vera\": 2, \"Tulsi\": 5, \"Pothos_plant\": 5}, {\"Area\": 5977, \"OE\": 100430, \"COb\": 6972, \"Area_left\": 747, \"considerble trees\": 83, \"considerable plants\": 42, \"Neem\": 3, \"Ash\": 1, \"Willow\": 0, \"Poplar\": 1, \"Ashok\": 0, \"Arjuna\": 1, \"Areca_palm\": 3, \"Weeping_fig\": 2, \"Grebera_Daisy\": 2, \"Aloe_vera\": 2, \"Tulsi\": 5, \"Pothos_plant\": 6}, {\"Area\": 4346, \"OE\": 73087, \"COb\": 5061, \"Area_left\": 543, \"considerble trees\": 60, \"considerable plants\": 30, \"Neem\": 3, \"Ash\": 1, \"Willow\": 0, \"Poplar\": 1, \"Ashok\": 0, \"Arjuna\": 1, \"Areca_palm\": 3, \"Weeping_fig\": 5, \"Grebera_Daisy\": 3, \"Aloe_vera\": 4, \"Tulsi\": 8, \"Pothos_plant\": 5}, {\"Area\": 3466, \"OE\": 58198, \"COb\": 4053, \"Area_left\": 433, \"considerble trees\": 48, \"considerable plants\": 24, \"Neem\": 3, \"Ash\": 1, \"Willow\": 1, \"Poplar\": 2, \"Ashok\": 2, \"Arjuna\": 1, \"Areca_palm\": 7, \"Weeping_fig\": 4, \"Grebera_Daisy\": 4, \"Aloe_vera\": 3, \"Tulsi\": 7, \"Pothos_plant\": 5}, {\"Area\": 2899, \"OE\": 48887, \"COb\": 3381, \"Area_left\": 362, \"considerble trees\": 40, \"considerable plants\": 20, \"Neem\": 3, \"Ash\": 1, \"Willow\": 1, \"Poplar\": 1, \"Ashok\": 0, \"Arjuna\": 1, \"Areca_palm\": 6, \"Weeping_fig\": 2, \"Grebera_Daisy\": 2, \"Aloe_vera\": 2, \"Tulsi\": 5, \"Pothos_plant\": 6}, {\"Area\": 2905, \"OE\": 48887, \"COb\": 3381, \"Area_left\": 363, \"considerble trees\": 40, \"considerable plants\": 20, \"Neem\": 3, \"Ash\": 1, \"Willow\": 0, \"Poplar\": 1, \"Ashok\": 0, \"Arjuna\": 1, \"Areca_palm\": 3, \"Weeping_fig\": 5, \"Grebera_Daisy\": 3, \"Aloe_vera\": 4, \"Tulsi\": 8, \"Pothos_plant\": 9}, {\"Area\": 4234, \"OE\": 71272, \"COb\": 4935, \"Area_left\": 529, \"considerble trees\": 59, \"considerable plants\": 30, \"Neem\": 3, \"Ash\": 1, \"Willow\": 1, \"Poplar\": 2, \"Ashok\": 2, \"Arjuna\": 1, \"Areca_palm\": 7, \"Weeping_fig\": 13, \"Grebera_Daisy\": 8, \"Aloe_vera\": 8, \"Tulsi\": 19, \"Pothos_plant\": 6}, {\"Area\": 3520, \"OE\": 59172, \"COb\": 4095, \"Area_left\": 440, \"considerble trees\": 49, \"considerable plants\": 24, \"Neem\": 4, \"Ash\": 3, \"Willow\": 2, \"Poplar\": 4, \"Ashok\": 2, \"Arjuna\": 3, \"Areca_palm\": 10, \"Weeping_fig\": 5, \"Grebera_Daisy\": 3, \"Aloe_vera\": 4, \"Tulsi\": 8, \"Pothos_plant\": 5}, {\"Area\": 2951, \"OE\": 49610, \"COb\": 3444, \"Area_left\": 369, \"considerble trees\": 41, \"considerable plants\": 20, \"Neem\": 3, \"Ash\": 1, \"Willow\": 1, \"Poplar\": 2, \"Ashok\": 2, \"Arjuna\": 1, \"Areca_palm\": 7, \"Weeping_fig\": 2, \"Grebera_Daisy\": 2, \"Aloe_vera\": 2, \"Tulsi\": 5, \"Pothos_plant\": 6}, {\"Area\": 4508, \"OE\": 75743, \"COb\": 5271, \"Area_left\": 564, \"considerble trees\": 63, \"considerable plants\": 31, \"Neem\": 3, \"Ash\": 1, \"Willow\": 0, \"Poplar\": 1, \"Ashok\": 0, \"Arjuna\": 1, \"Areca_palm\": 3, \"Weeping_fig\": 6, \"Grebera_Daisy\": 6, \"Aloe_vera\": 3, \"Tulsi\": 10, \"Pothos_plant\": 9}, {\"Area\": 7364, \"OE\": 123907, \"COb\": 8589, \"Area_left\": 920, \"considerble trees\": 102, \"considerable plants\": 51, \"Neem\": 4, \"Ash\": 1, \"Willow\": 1, \"Poplar\": 3, \"Ashok\": 1, \"Arjuna\": 2, \"Areca_palm\": 6, \"Weeping_fig\": 13, \"Grebera_Daisy\": 8, \"Aloe_vera\": 8, \"Tulsi\": 19, \"Pothos_plant\": 9}, {\"Area\": 5604, \"OE\": 94262, \"COb\": 6531, \"Area_left\": 700, \"considerble trees\": 78, \"considerable plants\": 39, \"Neem\": 4, \"Ash\": 3, \"Willow\": 2, \"Poplar\": 4, \"Ashok\": 2, \"Arjuna\": 3, \"Areca_palm\": 10, \"Weeping_fig\": 13, \"Grebera_Daisy\": 8, \"Aloe_vera\": 8, \"Tulsi\": 19, \"Pothos_plant\": 6}, {\"Area\": 4601, \"OE\": 77322, \"COb\": 5355, \"Area_left\": 575, \"considerble trees\": 64, \"considerable plants\": 32, \"Neem\": 4, \"Ash\": 3, \"Willow\": 2, \"Poplar\": 4, \"Ashok\": 2, \"Arjuna\": 3, \"Areca_palm\": 10, \"Weeping_fig\": 5, \"Grebera_Daisy\": 3, \"Aloe_vera\": 4, \"Tulsi\": 8, \"Pothos_plant\": 2}, {\"Area\": 2517, \"OE\": 42350, \"COb\": 2940, \"Area_left\": 315, \"considerble trees\": 35, \"considerable plants\": 18, \"Neem\": 3, \"Ash\": 1, \"Willow\": 1, \"Poplar\": 2, \"Ashok\": 2, \"Arjuna\": 1, \"Areca_palm\": 7, \"Weeping_fig\": 2, \"Grebera_Daisy\": 3, \"Aloe_vera\": 3, \"Tulsi\": 3, \"Pothos_plant\": 5}, {\"Area\": 5146, \"OE\": 86515, \"COb\": 6006, \"Area_left\": 643, \"considerble trees\": 72, \"considerable plants\": 36, \"Neem\": 2, \"Ash\": 0, \"Willow\": 0, \"Poplar\": 1, \"Ashok\": 0, \"Arjuna\": 0, \"Areca_palm\": 2, \"Weeping_fig\": 0, \"Grebera_Daisy\": 7, \"Aloe_vera\": 7, \"Tulsi\": 5, \"Pothos_plant\": 6}, {\"Area\": 7517, \"OE\": 126327, \"COb\": 8757, \"Area_left\": 940, \"considerble trees\": 104, \"considerable plants\": 52, \"Neem\": 4, \"Ash\": 1, \"Willow\": 1, \"Poplar\": 4, \"Ashok\": 1, \"Arjuna\": 1, \"Areca_palm\": 9, \"Weeping_fig\": 8, \"Grebera_Daisy\": 9, \"Aloe_vera\": 7, \"Tulsi\": 15, \"Pothos_plant\": 8}, {\"Area\": 7269, \"OE\": 122210, \"COb\": 8484, \"Area_left\": 909, \"considerble trees\": 101, \"considerable plants\": 50, \"Neem\": 4, \"Ash\": 1, \"Willow\": 2, \"Poplar\": 3, \"Ashok\": 1, \"Arjuna\": 1, \"Areca_palm\": 4, \"Weeping_fig\": 9, \"Grebera_Daisy\": 7, \"Aloe_vera\": 8, \"Tulsi\": 5, \"Pothos_plant\": 5}, {\"Area\": 4637, \"OE\": 77927, \"COb\": 5397, \"Area_left\": 580, \"considerble trees\": 64, \"considerable plants\": 32, \"Neem\": 3, \"Ash\": 1, \"Willow\": 1, \"Poplar\": 2, \"Ashok\": 1, \"Arjuna\": 0, \"Areca_palm\": 5, \"Weeping_fig\": 6, \"Grebera_Daisy\": 5, \"Aloe_vera\": 5, \"Tulsi\": 6, \"Pothos_plant\": 8}, {\"Area\": 2000, \"OE\": 33762, \"COb\": 2331, \"Area_left\": 250, \"considerble trees\": 28, \"considerable plants\": 14, \"Neem\": 2, \"Ash\": 0, \"Willow\": 0, \"Poplar\": 3, \"Ashok\": 0, \"Arjuna\": 0, \"Areca_palm\": 5, \"Weeping_fig\": 4, \"Grebera_Daisy\": 3, \"Aloe_vera\": 3, \"Tulsi\": 2, \"Pothos_plant\": 4}]}}, {\"actions\": false, \"mode\": \"vega-lite\"});\n",
       "</script>"
      ],
      "text/plain": [
       "alt.Chart(...)"
      ]
     },
     "execution_count": 27,
     "metadata": {},
     "output_type": "execute_result"
    }
   ],
   "source": [
    "_deepnote_run_altair(data, \"\"\"{\"$schema\":\"https://vega.github.io/schema/vega-lite/v4.json\",\"mark\":{\"type\":\"bar\",\"tooltip\":true},\"height\":220,\"autosize\":{\"type\":\"fit\"},\"data\":{\"name\":\"placeholder\"},\"encoding\":{\"x\":{\"field\":\"Area\",\"type\":\"quantitative\",\"sort\":null,\"scale\":{\"type\":\"linear\",\"zero\":false}},\"y\":{\"field\":\"Area_left\",\"type\":\"quantitative\",\"sort\":null,\"scale\":{\"type\":\"linear\",\"zero\":true}},\"color\":{\"field\":\"\",\"type\":\"nominal\",\"sort\":null,\"scale\":{\"type\":\"linear\",\"zero\":false}}}}\"\"\")"
   ]
  },
  {
   "cell_type": "code",
   "execution_count": 7,
   "metadata": {
    "cell_id": "00005-98f9ed6d-e498-4349-8775-43ec349abf96",
    "deepnote_cell_height": 270.08331298828125,
    "deepnote_cell_type": "code",
    "deepnote_to_be_reexecuted": false,
    "execution_millis": 580,
    "execution_start": 1662784486331,
    "source_hash": "a9a90b10"
   },
   "outputs": [
    {
     "name": "stdout",
     "output_type": "stream",
     "text": [
      "X: (500, 4)\n",
      "Y: (500, 2)\n"
     ]
    }
   ],
   "source": [
    "          \n",
    "# data = pd.DataFrame(data)\n",
    "X=data.iloc[:,0:4].values\n",
    "Y=data[['considerble trees','considerable plants']]\n",
    "print(\"X:\",X.shape)\n",
    "print(\"Y:\",Y.shape)\n",
    "X_train, X_test, y_train, y_test = train_test_split(\n",
    "    X,Y, test_size=0.33, random_state=42)\n"
   ]
  },
  {
   "cell_type": "code",
   "execution_count": 8,
   "metadata": {
    "cell_id": "00006-14940b8f-0ad2-4da0-a7e9-20ca10957b6a",
    "deepnote_cell_height": 201.8333282470703,
    "deepnote_cell_type": "code",
    "deepnote_to_be_reexecuted": false,
    "execution_millis": 0,
    "execution_start": 1662784486332,
    "source_hash": "1a6b2c35"
   },
   "outputs": [],
   "source": [
    "scaler=StandardScaler()\n",
    "X_train_sacled=scaler.fit_transform(X_train)\n",
    "X_test_scaled=scaler.transform(X_test)\n",
    "\n",
    "\n",
    "Y_scaled_train=scaler.fit_transform(y_train)\n",
    "Y_scaled_test=scaler.fit_transform(y_test)\n"
   ]
  },
  {
   "cell_type": "code",
   "execution_count": 9,
   "metadata": {
    "cell_id": "00007-7cd3a743-8433-4730-8b56-616ce6d18e3e",
    "deepnote_cell_height": 273.83331298828125,
    "deepnote_cell_type": "code",
    "deepnote_to_be_reexecuted": false,
    "execution_millis": 0,
    "execution_start": 1662784486333,
    "source_hash": "c9a1c7c4"
   },
   "outputs": [],
   "source": [
    "def show_(X_test_scaled,y_test_predict,y_mse,y_r2_):\n",
    "    plt.figure(figsize=(8,6))\n",
    "    \n",
    "\n",
    "    plt.scatter(y_test_predict[name],Y_scaled_test)\n",
    "    plt.title(name)\n",
    "    plt.xlabel(\"Actual\")\n",
    "    plt.ylabel(\"predicted\")\n",
    "    plt.show()\n",
    "    print('RMSE for ',name,' is         :',y_mse[name])\n",
    "    print('r2_score for ',name,' is     :',y_r2_[name])\n",
    "    print(\"score\",name, 'is             :',score[name])"
   ]
  },
  {
   "cell_type": "code",
   "execution_count": 10,
   "metadata": {
    "cell_id": "00008-bac5dbff-5544-468a-9a1e-724b10e9386e",
    "deepnote_cell_height": 296.83331298828125,
    "deepnote_cell_type": "code",
    "deepnote_to_be_reexecuted": false,
    "execution_millis": 3,
    "execution_start": 1662784486334,
    "source_hash": "10b9686d"
   },
   "outputs": [],
   "source": [
    "\n",
    "ESTIMATORS = {\n",
    "    \"K-nn\": KNeighborsRegressor(leaf_size=60,p=1,n_neighbors=29,n_jobs=1,weights='uniform',algorithm='brute'), \n",
    "    \"Linear regression\": LinearRegression(),\n",
    "    \"Ridge\": RidgeCV(),\n",
    "    \"Lasso\": Lasso(),\n",
    "    \"ElasticNet\": ElasticNet(random_state=0),\n",
    "    \"RandomForestRegressor\": RandomForestRegressor(max_depth=4, random_state=2),\n",
    "    \"Decision Tree Regressor\":DecisionTreeRegressor(max_depth=5),\n",
    "    \"MultiO/P GBR\" :MultiOutputRegressor(GradientBoostingRegressor(n_estimators=5)),\n",
    "    \"MultiO/P AdaB\" :MultiOutputRegressor(AdaBoostRegressor(n_estimators=5)),\n",
    "\n",
    "}"
   ]
  },
  {
   "cell_type": "code",
   "execution_count": 11,
   "metadata": {
    "cell_id": "00009-6df51f4f-2ff3-4308-9061-caed9be962de",
    "deepnote_cell_height": 312.75,
    "deepnote_cell_type": "code",
    "deepnote_output_heights": [
     59
    ],
    "deepnote_to_be_reexecuted": false,
    "execution_millis": 562,
    "execution_start": 1662784486350,
    "source_hash": "df9521db"
   },
   "outputs": [
    {
     "data": {
      "text/html": [
       "<style>#sk-container-id-1 {color: black;background-color: white;}#sk-container-id-1 pre{padding: 0;}#sk-container-id-1 div.sk-toggleable {background-color: white;}#sk-container-id-1 label.sk-toggleable__label {cursor: pointer;display: block;width: 100%;margin-bottom: 0;padding: 0.3em;box-sizing: border-box;text-align: center;}#sk-container-id-1 label.sk-toggleable__label-arrow:before {content: \"▸\";float: left;margin-right: 0.25em;color: #696969;}#sk-container-id-1 label.sk-toggleable__label-arrow:hover:before {color: black;}#sk-container-id-1 div.sk-estimator:hover label.sk-toggleable__label-arrow:before {color: black;}#sk-container-id-1 div.sk-toggleable__content {max-height: 0;max-width: 0;overflow: hidden;text-align: left;background-color: #f0f8ff;}#sk-container-id-1 div.sk-toggleable__content pre {margin: 0.2em;color: black;border-radius: 0.25em;background-color: #f0f8ff;}#sk-container-id-1 input.sk-toggleable__control:checked~div.sk-toggleable__content {max-height: 200px;max-width: 100%;overflow: auto;}#sk-container-id-1 input.sk-toggleable__control:checked~label.sk-toggleable__label-arrow:before {content: \"▾\";}#sk-container-id-1 div.sk-estimator input.sk-toggleable__control:checked~label.sk-toggleable__label {background-color: #d4ebff;}#sk-container-id-1 div.sk-label input.sk-toggleable__control:checked~label.sk-toggleable__label {background-color: #d4ebff;}#sk-container-id-1 input.sk-hidden--visually {border: 0;clip: rect(1px 1px 1px 1px);clip: rect(1px, 1px, 1px, 1px);height: 1px;margin: -1px;overflow: hidden;padding: 0;position: absolute;width: 1px;}#sk-container-id-1 div.sk-estimator {font-family: monospace;background-color: #f0f8ff;border: 1px dotted black;border-radius: 0.25em;box-sizing: border-box;margin-bottom: 0.5em;}#sk-container-id-1 div.sk-estimator:hover {background-color: #d4ebff;}#sk-container-id-1 div.sk-parallel-item::after {content: \"\";width: 100%;border-bottom: 1px solid gray;flex-grow: 1;}#sk-container-id-1 div.sk-label:hover label.sk-toggleable__label {background-color: #d4ebff;}#sk-container-id-1 div.sk-serial::before {content: \"\";position: absolute;border-left: 1px solid gray;box-sizing: border-box;top: 0;bottom: 0;left: 50%;z-index: 0;}#sk-container-id-1 div.sk-serial {display: flex;flex-direction: column;align-items: center;background-color: white;padding-right: 0.2em;padding-left: 0.2em;position: relative;}#sk-container-id-1 div.sk-item {position: relative;z-index: 1;}#sk-container-id-1 div.sk-parallel {display: flex;align-items: stretch;justify-content: center;background-color: white;position: relative;}#sk-container-id-1 div.sk-item::before, #sk-container-id-1 div.sk-parallel-item::before {content: \"\";position: absolute;border-left: 1px solid gray;box-sizing: border-box;top: 0;bottom: 0;left: 50%;z-index: -1;}#sk-container-id-1 div.sk-parallel-item {display: flex;flex-direction: column;z-index: 1;position: relative;background-color: white;}#sk-container-id-1 div.sk-parallel-item:first-child::after {align-self: flex-end;width: 50%;}#sk-container-id-1 div.sk-parallel-item:last-child::after {align-self: flex-start;width: 50%;}#sk-container-id-1 div.sk-parallel-item:only-child::after {width: 0;}#sk-container-id-1 div.sk-dashed-wrapped {border: 1px dashed gray;margin: 0 0.4em 0.5em 0.4em;box-sizing: border-box;padding-bottom: 0.4em;background-color: white;}#sk-container-id-1 div.sk-label label {font-family: monospace;font-weight: bold;display: inline-block;line-height: 1.2em;}#sk-container-id-1 div.sk-label-container {text-align: center;}#sk-container-id-1 div.sk-container {/* jupyter's `normalize.less` sets `[hidden] { display: none; }` but bootstrap.min.css set `[hidden] { display: none !important; }` so we also need the `!important` here to be able to override the default hidden behavior on the sphinx rendered scikit-learn.org. See: https://github.com/scikit-learn/scikit-learn/issues/21755 */display: inline-block !important;position: relative;}#sk-container-id-1 div.sk-text-repr-fallback {display: none;}</style><div id=\"sk-container-id-1\" class=\"sk-top-container\"><div class=\"sk-text-repr-fallback\"><pre>LinearRegression()</pre><b>In a Jupyter environment, please rerun this cell to show the HTML representation or trust the notebook. <br />On GitHub, the HTML representation is unable to render, please try loading this page with nbviewer.org.</b></div><div class=\"sk-container\" hidden><div class=\"sk-item\"><div class=\"sk-estimator sk-toggleable\"><input class=\"sk-toggleable__control sk-hidden--visually\" id=\"sk-estimator-id-1\" type=\"checkbox\" checked><label for=\"sk-estimator-id-1\" class=\"sk-toggleable__label sk-toggleable__label-arrow\">LinearRegression</label><div class=\"sk-toggleable__content\"><pre>LinearRegression()</pre></div></div></div></div></div>"
      ],
      "text/plain": [
       "LinearRegression()"
      ]
     },
     "execution_count": 11,
     "metadata": {},
     "output_type": "execute_result"
    }
   ],
   "source": [
    "\n",
    "model=LinearRegression()\n",
    "model.fit(X_train_sacled,y_train)\n",
    "\n",
    "\n",
    "# importance=pd.DataFrame(data={\n",
    "#     \"Attribute\":X_train.columns,\n",
    "#     \"Importance\":model.coef_[0]\n",
    "# })\n",
    "# importance=importance.sort_values(by=\"Importance\",ascending=False)"
   ]
  },
  {
   "cell_type": "code",
   "execution_count": 12,
   "metadata": {
    "cell_id": "00010-544a3c55-429b-44e6-8694-f1e076eeff98",
    "deepnote_cell_height": 147.8333282470703,
    "deepnote_cell_type": "code",
    "deepnote_to_be_reexecuted": false,
    "execution_millis": 1,
    "execution_start": 1662784486351,
    "source_hash": "90870bd6"
   },
   "outputs": [],
   "source": [
    "# importance=pd.DataFrame(data={\n",
    "#     \"Attribute\":x_train.columns,\n",
    "#     \"Importance\":model.coef_[0]\n",
    "# })\n",
    "# importance=importance.sort_values(by=\"Importance\",ascending=False)"
   ]
  },
  {
   "cell_type": "code",
   "execution_count": 13,
   "metadata": {
    "cell_id": "00011-13faf8db-3481-4381-b394-5dc4f3a43064",
    "deepnote_cell_height": 129.8333282470703,
    "deepnote_cell_type": "code",
    "deepnote_to_be_reexecuted": false,
    "execution_millis": 2,
    "execution_start": 1662784486355,
    "source_hash": "1f045964"
   },
   "outputs": [],
   "source": [
    "y_test_predict = dict()\n",
    "y_mse = dict()\n",
    "y_r2_=dict()\n",
    "score=dict()"
   ]
  },
  {
   "cell_type": "code",
   "execution_count": 14,
   "metadata": {
    "cell_id": "00012-136ccdaf-904b-40f5-bffb-102d387d9e6e",
    "deepnote_cell_height": 4703.33349609375,
    "deepnote_cell_type": "code",
    "deepnote_output_heights": [
     388,
     null,
     388,
     null,
     388,
     null,
     388,
     null,
     388,
     null,
     388,
     null,
     388,
     null,
     388,
     null,
     388
    ],
    "deepnote_to_be_reexecuted": false,
    "execution_millis": 2128,
    "execution_start": 1662784486358,
    "scrolled": false,
    "source_hash": "113f1b92"
   },
   "outputs": [
    {
     "data": {
      "image/png": "[encoded data removed]",
      "text/plain": [
       "<Figure size 576x432 with 1 Axes>"
      ]
     },
     "metadata": {
      "image/png": {
       "height": 387,
       "width": 506
      },
      "needs_background": "light"
     },
     "output_type": "display_data"
    },
    {
     "name": "stdout",
     "output_type": "stream",
     "text": [
      "RMSE for  K-nn  is         : 0.0020769558198155957\n",
      "r2_score for  K-nn  is     : 0.9979230441801844\n",
      "score K-nn is             : 0.9979230441801844\n"
     ]
    },
    {
     "data": {
      "image/png": "[encoded data removed]",
      "text/plain": [
       "<Figure size 576x432 with 1 Axes>"
      ]
     },
     "metadata": {
      "image/png": {
       "height": 387,
       "width": 506
      },
      "needs_background": "light"
     },
     "output_type": "display_data"
    },
    {
     "name": "stdout",
     "output_type": "stream",
     "text": [
      "RMSE for  Linear regression  is         : 0.0008679388975576905\n",
      "r2_score for  Linear regression  is     : 0.9991320611024423\n",
      "score Linear regression is             : 0.9991320611024423\n"
     ]
    },
    {
     "data": {
      "image/png": "[encoded data removed]",
      "text/plain": [
       "<Figure size 576x432 with 1 Axes>"
      ]
     },
     "metadata": {
      "image/png": {
       "height": 387,
       "width": 506
      },
      "needs_background": "light"
     },
     "output_type": "display_data"
    },
    {
     "name": "stdout",
     "output_type": "stream",
     "text": [
      "RMSE for  Ridge  is         : 0.0008833729422259848\n",
      "r2_score for  Ridge  is     : 0.999116627057774\n",
      "score Ridge is             : 0.999116627057774\n"
     ]
    },
    {
     "data": {
      "image/png": "[encoded data removed]",
      "text/plain": [
       "<Figure size 576x432 with 1 Axes>"
      ]
     },
     "metadata": {
      "image/png": {
       "height": 387,
       "width": 506
      },
      "needs_background": "light"
     },
     "output_type": "display_data"
    },
    {
     "name": "stdout",
     "output_type": "stream",
     "text": [
      "RMSE for  Lasso  is         : 1.0\n",
      "r2_score for  Lasso  is     : -3.3306690738754696e-16\n",
      "score Lasso is             : -3.3306690738754696e-16\n"
     ]
    },
    {
     "data": {
      "image/png": "[encoded data removed]",
      "text/plain": [
       "<Figure size 576x432 with 1 Axes>"
      ]
     },
     "metadata": {
      "image/png": {
       "height": 387,
       "width": 510
      },
      "needs_background": "light"
     },
     "output_type": "display_data"
    },
    {
     "name": "stdout",
     "output_type": "stream",
     "text": [
      "RMSE for  ElasticNet  is         : 0.3091724598384487\n",
      "r2_score for  ElasticNet  is     : 0.6908275401615511\n",
      "score ElasticNet is             : 0.6908275401615511\n"
     ]
    },
    {
     "data": {
      "image/png": "[encoded data removed]",
      "text/plain": [
       "<Figure size 576x432 with 1 Axes>"
      ]
     },
     "metadata": {
      "image/png": {
       "height": 387,
       "width": 506
      },
      "needs_background": "light"
     },
     "output_type": "display_data"
    },
    {
     "name": "stdout",
     "output_type": "stream",
     "text": [
      "RMSE for  RandomForestRegressor  is         : 0.001977175791169506\n",
      "r2_score for  RandomForestRegressor  is     : 0.9980228242088305\n",
      "score RandomForestRegressor is             : 0.9980228242088305\n"
     ]
    },
    {
     "data": {
      "image/png": "[encoded data removed]",
      "text/plain": [
       "<Figure size 576x432 with 1 Axes>"
      ]
     },
     "metadata": {
      "image/png": {
       "height": 387,
       "width": 506
      },
      "needs_background": "light"
     },
     "output_type": "display_data"
    },
    {
     "name": "stdout",
     "output_type": "stream",
     "text": [
      "RMSE for  Decision Tree Regressor  is         : 0.0017853931960591716\n",
      "r2_score for  Decision Tree Regressor  is     : 0.9982146068039408\n",
      "score Decision Tree Regressor is             : 0.9982146068039408\n"
     ]
    },
    {
     "data": {
      "image/png": "[encoded data removed]",
      "text/plain": [
       "<Figure size 576x432 with 1 Axes>"
      ]
     },
     "metadata": {
      "image/png": {
       "height": 387,
       "width": 506
      },
      "needs_background": "light"
     },
     "output_type": "display_data"
    },
    {
     "name": "stdout",
     "output_type": "stream",
     "text": [
      "RMSE for  MultiO/P GBR  is         : 0.35937609440876966\n",
      "r2_score for  MultiO/P GBR  is     : 0.6406239055912302\n",
      "score MultiO/P GBR is             : 0.6406239055912302\n"
     ]
    },
    {
     "data": {
      "image/png": "[encoded data removed]",
      "text/plain": [
       "<Figure size 576x432 with 1 Axes>"
      ]
     },
     "metadata": {
      "image/png": {
       "height": 387,
       "width": 506
      },
      "needs_background": "light"
     },
     "output_type": "display_data"
    },
    {
     "name": "stdout",
     "output_type": "stream",
     "text": [
      "RMSE for  MultiO/P AdaB  is         : 0.011277586359266198\n",
      "r2_score for  MultiO/P AdaB  is     : 0.9887224136407338\n",
      "score MultiO/P AdaB is             : 0.9887224136407338\n"
     ]
    }
   ],
   "source": [
    "for name,estimator in ESTIMATORS.items():\n",
    "    estimator.fit(X_train_sacled,Y_scaled_train)\n",
    "    y_test_predict[name]= estimator.predict(X_test_scaled)    \n",
    "    y_mse[name]=mean_squared_error(Y_scaled_test,estimator.predict(X_test_scaled))\n",
    "    y_r2_[name]=r2_score(Y_scaled_test,estimator.predict(X_test_scaled))\n",
    "    score[name]=estimator.score(X_test_scaled,Y_scaled_test)\n",
    "    show_(X_test_scaled,y_test_predict,y_mse,y_r2_)"
   ]
  },
  {
   "cell_type": "markdown",
   "metadata": {
    "cell_id": "00013-9eeb3e8a-9a3b-4bf9-a67e-95f0749647c8",
    "deepnote_cell_height": 81.83332824707031,
    "deepnote_cell_type": "markdown"
   },
   "source": [
    "\n",
    "# HYPER PARAMETER TUNIG"
   ]
  },
  {
   "cell_type": "code",
   "execution_count": 15,
   "metadata": {
    "cell_id": "00014-a7302e8f-3f6d-49c5-9fc2-f1ce4b538159",
    "deepnote_cell_height": 168.75,
    "deepnote_cell_type": "code",
    "deepnote_output_heights": [
     59
    ],
    "deepnote_to_be_reexecuted": false,
    "execution_millis": 3,
    "execution_start": 1662784488487,
    "source_hash": "340e9ffd"
   },
   "outputs": [
    {
     "data": {
      "text/html": [
       "<style>#sk-container-id-2 {color: black;background-color: white;}#sk-container-id-2 pre{padding: 0;}#sk-container-id-2 div.sk-toggleable {background-color: white;}#sk-container-id-2 label.sk-toggleable__label {cursor: pointer;display: block;width: 100%;margin-bottom: 0;padding: 0.3em;box-sizing: border-box;text-align: center;}#sk-container-id-2 label.sk-toggleable__label-arrow:before {content: \"▸\";float: left;margin-right: 0.25em;color: #696969;}#sk-container-id-2 label.sk-toggleable__label-arrow:hover:before {color: black;}#sk-container-id-2 div.sk-estimator:hover label.sk-toggleable__label-arrow:before {color: black;}#sk-container-id-2 div.sk-toggleable__content {max-height: 0;max-width: 0;overflow: hidden;text-align: left;background-color: #f0f8ff;}#sk-container-id-2 div.sk-toggleable__content pre {margin: 0.2em;color: black;border-radius: 0.25em;background-color: #f0f8ff;}#sk-container-id-2 input.sk-toggleable__control:checked~div.sk-toggleable__content {max-height: 200px;max-width: 100%;overflow: auto;}#sk-container-id-2 input.sk-toggleable__control:checked~label.sk-toggleable__label-arrow:before {content: \"▾\";}#sk-container-id-2 div.sk-estimator input.sk-toggleable__control:checked~label.sk-toggleable__label {background-color: #d4ebff;}#sk-container-id-2 div.sk-label input.sk-toggleable__control:checked~label.sk-toggleable__label {background-color: #d4ebff;}#sk-container-id-2 input.sk-hidden--visually {border: 0;clip: rect(1px 1px 1px 1px);clip: rect(1px, 1px, 1px, 1px);height: 1px;margin: -1px;overflow: hidden;padding: 0;position: absolute;width: 1px;}#sk-container-id-2 div.sk-estimator {font-family: monospace;background-color: #f0f8ff;border: 1px dotted black;border-radius: 0.25em;box-sizing: border-box;margin-bottom: 0.5em;}#sk-container-id-2 div.sk-estimator:hover {background-color: #d4ebff;}#sk-container-id-2 div.sk-parallel-item::after {content: \"\";width: 100%;border-bottom: 1px solid gray;flex-grow: 1;}#sk-container-id-2 div.sk-label:hover label.sk-toggleable__label {background-color: #d4ebff;}#sk-container-id-2 div.sk-serial::before {content: \"\";position: absolute;border-left: 1px solid gray;box-sizing: border-box;top: 0;bottom: 0;left: 50%;z-index: 0;}#sk-container-id-2 div.sk-serial {display: flex;flex-direction: column;align-items: center;background-color: white;padding-right: 0.2em;padding-left: 0.2em;position: relative;}#sk-container-id-2 div.sk-item {position: relative;z-index: 1;}#sk-container-id-2 div.sk-parallel {display: flex;align-items: stretch;justify-content: center;background-color: white;position: relative;}#sk-container-id-2 div.sk-item::before, #sk-container-id-2 div.sk-parallel-item::before {content: \"\";position: absolute;border-left: 1px solid gray;box-sizing: border-box;top: 0;bottom: 0;left: 50%;z-index: -1;}#sk-container-id-2 div.sk-parallel-item {display: flex;flex-direction: column;z-index: 1;position: relative;background-color: white;}#sk-container-id-2 div.sk-parallel-item:first-child::after {align-self: flex-end;width: 50%;}#sk-container-id-2 div.sk-parallel-item:last-child::after {align-self: flex-start;width: 50%;}#sk-container-id-2 div.sk-parallel-item:only-child::after {width: 0;}#sk-container-id-2 div.sk-dashed-wrapped {border: 1px dashed gray;margin: 0 0.4em 0.5em 0.4em;box-sizing: border-box;padding-bottom: 0.4em;background-color: white;}#sk-container-id-2 div.sk-label label {font-family: monospace;font-weight: bold;display: inline-block;line-height: 1.2em;}#sk-container-id-2 div.sk-label-container {text-align: center;}#sk-container-id-2 div.sk-container {/* jupyter's `normalize.less` sets `[hidden] { display: none; }` but bootstrap.min.css set `[hidden] { display: none !important; }` so we also need the `!important` here to be able to override the default hidden behavior on the sphinx rendered scikit-learn.org. See: https://github.com/scikit-learn/scikit-learn/issues/21755 */display: inline-block !important;position: relative;}#sk-container-id-2 div.sk-text-repr-fallback {display: none;}</style><div id=\"sk-container-id-2\" class=\"sk-top-container\"><div class=\"sk-text-repr-fallback\"><pre>KNeighborsRegressor()</pre><b>In a Jupyter environment, please rerun this cell to show the HTML representation or trust the notebook. <br />On GitHub, the HTML representation is unable to render, please try loading this page with nbviewer.org.</b></div><div class=\"sk-container\" hidden><div class=\"sk-item\"><div class=\"sk-estimator sk-toggleable\"><input class=\"sk-toggleable__control sk-hidden--visually\" id=\"sk-estimator-id-2\" type=\"checkbox\" checked><label for=\"sk-estimator-id-2\" class=\"sk-toggleable__label sk-toggleable__label-arrow\">KNeighborsRegressor</label><div class=\"sk-toggleable__content\"><pre>KNeighborsRegressor()</pre></div></div></div></div></div>"
      ],
      "text/plain": [
       "KNeighborsRegressor()"
      ]
     },
     "execution_count": 15,
     "metadata": {},
     "output_type": "execute_result"
    }
   ],
   "source": [
    "clf123=KNeighborsRegressor()\n",
    "clf123.fit(X_train_sacled,Y_scaled_train)"
   ]
  },
  {
   "cell_type": "code",
   "execution_count": 16,
   "metadata": {
    "cell_id": "00015-b994fef7-834e-4632-b2e2-897e58cb6171",
    "deepnote_cell_height": 630.6666870117188,
    "deepnote_cell_type": "code",
    "deepnote_output_heights": [
     380
    ],
    "deepnote_to_be_reexecuted": false,
    "execution_millis": 29,
    "execution_start": 1662784488493,
    "source_hash": "18112065"
   },
   "outputs": [
    {
     "data": {
      "application/vnd.deepnote.dataframe.v3+json": {
       "column_count": 2,
       "columns": [
        {
         "dtype": "float64",
         "name": "considerble trees",
         "stats": {
          "histogram": [
           {
            "bin_end": -1.3506019476623694,
            "bin_start": -1.6792533837820074,
            "count": 18
           },
           {
            "bin_end": -1.0219505115427312,
            "bin_start": -1.3506019476623694,
            "count": 14
           },
           {
            "bin_end": -0.6932990754230932,
            "bin_start": -1.0219505115427312,
            "count": 16
           },
           {
            "bin_end": -0.36464763930345523,
            "bin_start": -0.6932990754230932,
            "count": 18
           },
           {
            "bin_end": -0.035996203183817244,
            "bin_start": -0.36464763930345523,
            "count": 13
           },
           {
            "bin_end": 0.29265523293582096,
            "bin_start": -0.035996203183817244,
            "count": 19
           },
           {
            "bin_end": 0.621306669055459,
            "bin_start": 0.29265523293582096,
            "count": 16
           },
           {
            "bin_end": 0.9499581051750969,
            "bin_start": 0.621306669055459,
            "count": 10
           },
           {
            "bin_end": 1.278609541294735,
            "bin_start": 0.9499581051750969,
            "count": 17
           },
           {
            "bin_end": 1.607260977414373,
            "bin_start": 1.278609541294735,
            "count": 24
           }
          ],
          "max": "1.607260977414373",
          "min": "-1.6792533837820074",
          "nan_count": 0,
          "unique_count": 122
         }
        },
        {
         "dtype": "float64",
         "name": "onsiderable plants",
         "stats": {
          "histogram": [
           {
            "bin_end": -1.3896277719403767,
            "bin_start": -1.7198919215811075,
            "count": 15
           },
           {
            "bin_end": -1.0593636222996459,
            "bin_start": -1.3896277719403767,
            "count": 16
           },
           {
            "bin_end": -0.7290994726589151,
            "bin_start": -1.0593636222996459,
            "count": 17
           },
           {
            "bin_end": -0.39883532301818425,
            "bin_start": -0.7290994726589151,
            "count": 18
           },
           {
            "bin_end": -0.06857117337745344,
            "bin_start": -0.39883532301818425,
            "count": 13
           },
           {
            "bin_end": 0.26169297626327737,
            "bin_start": -0.06857117337745344,
            "count": 19
           },
           {
            "bin_end": 0.5919571259040084,
            "bin_start": 0.26169297626327737,
            "count": 16
           },
           {
            "bin_end": 0.922221275544739,
            "bin_start": 0.5919571259040084,
            "count": 10
           },
           {
            "bin_end": 1.2524854251854696,
            "bin_start": 0.922221275544739,
            "count": 17
           },
           {
            "bin_end": 1.5827495748262006,
            "bin_start": 1.2524854251854696,
            "count": 24
           }
          ],
          "max": "1.5827495748262006",
          "min": "-1.7198919215811075",
          "nan_count": 0,
          "unique_count": 92
         }
        },
        {
         "dtype": "int64",
         "name": "_deepnote_index_column"
        }
       ],
       "row_count": 165,
       "rows": [
        {
         "_deepnote_index_column": "0",
         "considerble trees": "1.5745593419795831",
         "onsiderable plants": "1.5500501540696925"
        },
        {
         "_deepnote_index_column": "1",
         "considerble trees": "-0.4365912372599928",
         "onsiderable plants": "-0.4119150913207875"
        },
        {
         "_deepnote_index_column": "2",
         "considerble trees": "0.3318971954575686",
         "onsiderable plants": "0.3401715860788965"
        },
        {
         "_deepnote_index_column": "3",
         "considerble trees": "-0.5673977789991522",
         "onsiderable plants": "-0.5754121951033274"
        },
        {
         "_deepnote_index_column": "4",
         "considerble trees": "0.2174414714358041",
         "onsiderable plants": "0.24207332380937255"
        },
        {
         "_deepnote_index_column": "5",
         "considerble trees": "0.25831851572929143",
         "onsiderable plants": "0.24207332380937255"
        },
        {
         "_deepnote_index_column": "6",
         "considerble trees": "-0.19950438035776646",
         "onsiderable plants": "-0.21571856678173945"
        },
        {
         "_deepnote_index_column": "7",
         "considerble trees": "-0.027820794325119753",
         "onsiderable plants": "-0.052221462999199456"
        },
        {
         "_deepnote_index_column": "8",
         "considerble trees": "-0.9352911776405382",
         "onsiderable plants": "-0.9187561130466614"
        },
        {
         "_deepnote_index_column": "9",
         "considerble trees": "1.5500331154034905",
         "onsiderable plants": "1.5500501540696925"
        }
       ]
      },
      "text/html": [
       "<div>\n",
       "<style scoped>\n",
       "    .dataframe tbody tr th:only-of-type {\n",
       "        vertical-align: middle;\n",
       "    }\n",
       "\n",
       "    .dataframe tbody tr th {\n",
       "        vertical-align: top;\n",
       "    }\n",
       "\n",
       "    .dataframe thead th {\n",
       "        text-align: right;\n",
       "    }\n",
       "</style>\n",
       "<table border=\"1\" class=\"dataframe\">\n",
       "  <thead>\n",
       "    <tr style=\"text-align: right;\">\n",
       "      <th></th>\n",
       "      <th>considerble trees</th>\n",
       "      <th>onsiderable plants</th>\n",
       "    </tr>\n",
       "  </thead>\n",
       "  <tbody>\n",
       "    <tr>\n",
       "      <th>0</th>\n",
       "      <td>1.574559</td>\n",
       "      <td>1.550050</td>\n",
       "    </tr>\n",
       "    <tr>\n",
       "      <th>1</th>\n",
       "      <td>-0.436591</td>\n",
       "      <td>-0.411915</td>\n",
       "    </tr>\n",
       "    <tr>\n",
       "      <th>2</th>\n",
       "      <td>0.331897</td>\n",
       "      <td>0.340172</td>\n",
       "    </tr>\n",
       "    <tr>\n",
       "      <th>3</th>\n",
       "      <td>-0.567398</td>\n",
       "      <td>-0.575412</td>\n",
       "    </tr>\n",
       "    <tr>\n",
       "      <th>4</th>\n",
       "      <td>0.217441</td>\n",
       "      <td>0.242073</td>\n",
       "    </tr>\n",
       "    <tr>\n",
       "      <th>...</th>\n",
       "      <td>...</td>\n",
       "      <td>...</td>\n",
       "    </tr>\n",
       "    <tr>\n",
       "      <th>160</th>\n",
       "      <td>-1.368588</td>\n",
       "      <td>-1.392898</td>\n",
       "    </tr>\n",
       "    <tr>\n",
       "      <th>161</th>\n",
       "      <td>0.470879</td>\n",
       "      <td>0.454620</td>\n",
       "    </tr>\n",
       "    <tr>\n",
       "      <th>162</th>\n",
       "      <td>-0.910765</td>\n",
       "      <td>-0.902406</td>\n",
       "    </tr>\n",
       "    <tr>\n",
       "      <th>163</th>\n",
       "      <td>-0.567398</td>\n",
       "      <td>-0.575412</td>\n",
       "    </tr>\n",
       "    <tr>\n",
       "      <th>164</th>\n",
       "      <td>1.141263</td>\n",
       "      <td>1.141307</td>\n",
       "    </tr>\n",
       "  </tbody>\n",
       "</table>\n",
       "<p>165 rows × 2 columns</p>\n",
       "</div>"
      ],
      "text/plain": [
       "     considerble trees  onsiderable plants\n",
       "0             1.574559            1.550050\n",
       "1            -0.436591           -0.411915\n",
       "2             0.331897            0.340172\n",
       "3            -0.567398           -0.575412\n",
       "4             0.217441            0.242073\n",
       "..                 ...                 ...\n",
       "160          -1.368588           -1.392898\n",
       "161           0.470879            0.454620\n",
       "162          -0.910765           -0.902406\n",
       "163          -0.567398           -0.575412\n",
       "164           1.141263            1.141307\n",
       "\n",
       "[165 rows x 2 columns]"
      ]
     },
     "execution_count": 16,
     "metadata": {},
     "output_type": "execute_result"
    }
   ],
   "source": [
    "pred=pd.DataFrame(clf123.predict(X_test_scaled))\n",
    "pred.columns = ['considerble trees', 'onsiderable plants']\n",
    "pred"
   ]
  },
  {
   "cell_type": "code",
   "execution_count": 19,
   "metadata": {
    "cell_id": "618deb55bab446578d477c2110fadd6d",
    "deepnote_cell_type": "visualization",
    "deepnote_to_be_reexecuted": false,
    "deepnote_variable_name": "pred",
    "deepnote_visualization_spec": {
     "$schema": "https://vega.github.io/schema/vega-lite/v4.json",
     "autosize": {
      "type": "fit"
     },
     "data": {
      "name": "placeholder"
     },
     "encoding": {
      "color": {
       "field": "",
       "scale": {
        "type": "linear",
        "zero": false
       },
       "sort": null,
       "type": "nominal"
      },
      "x": {
       "field": "considerble trees",
       "scale": {
        "type": "linear",
        "zero": false
       },
       "sort": null,
       "type": "quantitative"
      },
      "y": {
       "field": "onsiderable plants",
       "scale": {
        "type": "linear",
        "zero": false
       },
       "sort": null,
       "type": "quantitative"
      }
     },
     "height": 220,
     "mark": {
      "tooltip": true,
      "type": "line"
     }
    },
    "execution_millis": 44,
    "execution_start": 1662784544069,
    "source_hash": "b7703133"
   },
   "outputs": [
    {
     "data": {
      "text/html": [
       "\n",
       "<div id=\"altair-viz-31a658bc7dda485a841becbdf8a3526d\"></div>\n",
       "<script type=\"text/javascript\">\n",
       "  (function(spec, embedOpt){\n",
       "    let outputDiv = document.currentScript.previousElementSibling;\n",
       "    if (outputDiv.id !== \"altair-viz-31a658bc7dda485a841becbdf8a3526d\") {\n",
       "      outputDiv = document.getElementById(\"altair-viz-31a658bc7dda485a841becbdf8a3526d\");\n",
       "    }\n",
       "    const paths = {\n",
       "      \"vega\": \"https://cdn.jsdelivr.net/npm//vega@5?noext\",\n",
       "      \"vega-lib\": \"https://cdn.jsdelivr.net/npm//vega-lib?noext\",\n",
       "      \"vega-lite\": \"https://cdn.jsdelivr.net/npm//vega-lite@4.8.1?noext\",\n",
       "      \"vega-embed\": \"https://cdn.jsdelivr.net/npm//vega-embed@6?noext\",\n",
       "    };\n",
       "\n",
       "    function loadScript(lib) {\n",
       "      return new Promise(function(resolve, reject) {\n",
       "        var s = document.createElement('script');\n",
       "        s.src = paths[lib];\n",
       "        s.async = true;\n",
       "        s.onload = () => resolve(paths[lib]);\n",
       "        s.onerror = () => reject(`Error loading script: ${paths[lib]}`);\n",
       "        document.getElementsByTagName(\"head\")[0].appendChild(s);\n",
       "      });\n",
       "    }\n",
       "\n",
       "    function showError(err) {\n",
       "      outputDiv.innerHTML = `<div class=\"error\" style=\"color:red;\">${err}</div>`;\n",
       "      throw err;\n",
       "    }\n",
       "\n",
       "    function displayChart(vegaEmbed) {\n",
       "      vegaEmbed(outputDiv, spec, embedOpt)\n",
       "        .catch(err => showError(`Javascript Error: ${err.message}<br>This usually means there's a typo in your chart specification. See the javascript console for the full traceback.`));\n",
       "    }\n",
       "\n",
       "    if(typeof define === \"function\" && define.amd) {\n",
       "      requirejs.config({paths});\n",
       "      require([\"vega-embed\"], displayChart, err => showError(`Error loading script: ${err.message}`));\n",
       "    } else if (typeof vegaEmbed === \"function\") {\n",
       "      displayChart(vegaEmbed);\n",
       "    } else {\n",
       "      loadScript(\"vega\")\n",
       "        .then(() => loadScript(\"vega-lite\"))\n",
       "        .then(() => loadScript(\"vega-embed\"))\n",
       "        .catch(showError)\n",
       "        .then(() => displayChart(vegaEmbed));\n",
       "    }\n",
       "  })({\"config\": {\"view\": {\"continuousWidth\": 400, \"continuousHeight\": 300}, \"area\": {\"fill\": \"#51C0E9\"}, \"axis\": {\"labelFont\": \"Inter, sans-serif\", \"labelFontSize\": 12, \"labelFontWeight\": \"normal\", \"labelLimit\": 60, \"labelOverlap\": \"greedy\", \"titleFont\": \"Inter, sans-serif\", \"titleFontSize\": 12, \"titleFontWeight\": \"bold\"}, \"background\": \"#ffffff\", \"legend\": {\"labelFont\": \"Inter, sans-serif\", \"labelFontSize\": 12, \"titleFont\": \"Inter, sans-serif\", \"titleFontSize\": 12, \"titleFontWeight\": \"bold\"}, \"line\": {\"stroke\": \"#51C0E9\", \"strokeWidth\": 2}, \"rect\": {\"fill\": \"#51C0E9\"}, \"title\": {\"anchor\": \"start\", \"color\": \"#000000\", \"font\": \"Inter, sans-serif\", \"fontSize\": 22, \"fontWeight\": \"normal\"}}, \"data\": {\"name\": \"data-1293cb019601ffe3f779b3a0575102f8\"}, \"mark\": {\"type\": \"line\", \"tooltip\": true}, \"autosize\": {\"type\": \"fit\"}, \"encoding\": {\"color\": {\"type\": \"nominal\", \"field\": \"\", \"scale\": {\"type\": \"linear\", \"zero\": false}, \"sort\": null}, \"x\": {\"type\": \"quantitative\", \"field\": \"considerble trees\", \"scale\": {\"type\": \"linear\", \"zero\": false}, \"sort\": null}, \"y\": {\"type\": \"quantitative\", \"field\": \"onsiderable plants\", \"scale\": {\"type\": \"linear\", \"zero\": false}, \"sort\": null}}, \"height\": 300, \"width\": \"container\", \"$schema\": \"https://vega.github.io/schema/vega-lite/v4.json\", \"datasets\": {\"data-1293cb019601ffe3f779b3a0575102f8\": [{\"considerble trees\": 1.5745593419795831, \"onsiderable plants\": 1.5500501540696925}, {\"considerble trees\": -0.4365912372599928, \"onsiderable plants\": -0.4119150913207875}, {\"considerble trees\": 0.3318971954575686, \"onsiderable plants\": 0.3401715860788965}, {\"considerble trees\": -0.5673977789991522, \"onsiderable plants\": -0.5754121951033274}, {\"considerble trees\": 0.2174414714358041, \"onsiderable plants\": 0.24207332380937255}, {\"considerble trees\": 0.25831851572929143, \"onsiderable plants\": 0.24207332380937255}, {\"considerble trees\": -0.19950438035776646, \"onsiderable plants\": -0.21571856678173945}, {\"considerble trees\": -0.027820794325119753, \"onsiderable plants\": -0.052221462999199456}, {\"considerble trees\": -0.9352911776405382, \"onsiderable plants\": -0.9187561130466614}, {\"considerble trees\": 1.5500331154034905, \"onsiderable plants\": 1.5500501540696925}, {\"considerble trees\": -1.3522370294341086, \"onsiderable plants\": -1.3601982932595194}, {\"considerble trees\": -0.11775029177079184, \"onsiderable plants\": -0.11762030451221546}, {\"considerble trees\": -0.6818535030209167, \"onsiderable plants\": -0.6898601677511055}, {\"considerble trees\": -1.5566222509015453, \"onsiderable plants\": -1.5563948177985676}, {\"considerble trees\": -1.2623075319884365, \"onsiderable plants\": -1.2457503206117415}, {\"considerble trees\": -0.24038142465125376, \"onsiderable plants\": -0.24841798753824745}, {\"considerble trees\": 0.06210870312055233, \"onsiderable plants\": 0.062226509648578544}, {\"considerble trees\": 0.4218266929032407, \"onsiderable plants\": 0.40557042759191253}, {\"considerble trees\": 0.6262119143706772, \"onsiderable plants\": 0.6017669521309605}, {\"considerble trees\": 1.0758594015990375, \"onsiderable plants\": 1.0595588427220726}, {\"considerble trees\": -0.297609286662136, \"onsiderable plants\": -0.2811174082947555}, {\"considerble trees\": 1.3129462585012641, \"onsiderable plants\": 1.3211542087741366}, {\"considerble trees\": -1.3522370294341086, \"onsiderable plants\": -1.3601982932595196}, {\"considerble trees\": 0.44635291947933303, \"onsiderable plants\": 0.4219201379701666}, {\"considerble trees\": -1.344061620575411, \"onsiderable plants\": -1.3438485828812654}, {\"considerble trees\": -0.9025895422057483, \"onsiderable plants\": -0.9024064026684074}, {\"considerble trees\": 1.2720692142077767, \"onsiderable plants\": 1.2394056568828664}, {\"considerble trees\": 0.6343873232293747, \"onsiderable plants\": 0.6181166625092145}, {\"considerble trees\": 1.5663839331208855, \"onsiderable plants\": 1.5500501540696925}, {\"considerble trees\": -1.2459567142710415, \"onsiderable plants\": -1.2294006102334876}, {\"considerble trees\": -1.4912189800319655, \"onsiderable plants\": -1.4909959762855514}, {\"considerble trees\": -1.6383763394885196, \"onsiderable plants\": -1.6381433696898378}, {\"considerble trees\": 0.47087914605542547, \"onsiderable plants\": 0.4546195587266745}, {\"considerble trees\": 1.468279026816516, \"onsiderable plants\": 1.4683016021784225}, {\"considerble trees\": 0.4218266929032407, \"onsiderable plants\": 0.40557042759191253}, {\"considerble trees\": -1.2623075319884365, \"onsiderable plants\": -1.2457503206117415}, {\"considerble trees\": 0.8387725446968112, \"onsiderable plants\": 0.8633623181830246}, {\"considerble trees\": 0.48722996377282046, \"onsiderable plants\": 0.48731897948318253}, {\"considerble trees\": 1.0104561307294582, \"onsiderable plants\": 1.0268594219655647}, {\"considerble trees\": 1.5336822976860955, \"onsiderable plants\": 1.5500501540696925}, {\"considerble trees\": 0.4463529194793331, \"onsiderable plants\": 0.4219201379701666}, {\"considerble trees\": 1.255718396490382, \"onsiderable plants\": 1.2230559465046125}, {\"considerble trees\": -1.213255078836252, \"onsiderable plants\": -1.2294006102334876}, {\"considerble trees\": 1.3701741205121465, \"onsiderable plants\": 1.3865530502871526}, {\"considerble trees\": 0.6180365055119798, \"onsiderable plants\": 0.5854172417527065}, {\"considerble trees\": -0.14227651834688423, \"onsiderable plants\": -0.13397001489046945}, {\"considerble trees\": -0.7309059561731015, \"onsiderable plants\": -0.7389092988858674}, {\"considerble trees\": 0.9614036775772734, \"onsiderable plants\": 0.9778102908308026}, {\"considerble trees\": -1.60567470405373, \"onsiderable plants\": -1.5890942385550755}, {\"considerble trees\": 1.5745593419795831, \"onsiderable plants\": 1.5500501540696925}, {\"considerble trees\": -0.1504519272055817, \"onsiderable plants\": -0.15031972526872345}, {\"considerble trees\": 0.5281070080663077, \"onsiderable plants\": 0.5527178209961986}, {\"considerble trees\": -1.6547271572059146, \"onsiderable plants\": -1.6708427904463456}, {\"considerble trees\": -1.1151501725318822, \"onsiderable plants\": -1.0986029272074553}, {\"considerble trees\": 1.607260977414373, \"onsiderable plants\": 1.5827495748262006}, {\"considerble trees\": 0.27466933344668637, \"onsiderable plants\": 0.24207332380937255}, {\"considerble trees\": 0.09481033855534218, \"onsiderable plants\": 0.07857622002683254}, {\"considerble trees\": -0.14227651834688423, \"onsiderable plants\": -0.13397001489046945}, {\"considerble trees\": -1.3358862117167138, \"onsiderable plants\": -1.3274988725030115}, {\"considerble trees\": 1.1330872636099198, \"onsiderable plants\": 1.1413073946133425}, {\"considerble trees\": -1.4421665268797808, \"onsiderable plants\": -1.4092474243942814}, {\"considerble trees\": -0.5673977789991522, \"onsiderable plants\": -0.5754121951033274}, {\"considerble trees\": 0.340072604316266, \"onsiderable plants\": 0.3565212964571506}, {\"considerble trees\": -0.40388960182520306, \"onsiderable plants\": -0.4119150913207875}, {\"considerble trees\": -1.3522370294341086, \"onsiderable plants\": -1.3601982932595194}, {\"considerble trees\": 0.8387725446968112, \"onsiderable plants\": 0.8633623181830246}, {\"considerble trees\": 0.871474180131601, \"onsiderable plants\": 0.8960617389395326}, {\"considerble trees\": -1.0824485370970922, \"onsiderable plants\": -1.0659035064509474}, {\"considerble trees\": -1.0006944485101177, \"onsiderable plants\": -1.0005046649379314}, {\"considerble trees\": 1.2720692142077767, \"onsiderable plants\": 1.2394056568828664}, {\"considerble trees\": 0.797895500403324, \"onsiderable plants\": 0.7979634766700086}, {\"considerble trees\": -0.9843436307927229, \"onsiderable plants\": -0.9841549545596775}, {\"considerble trees\": 0.6016856877945849, \"onsiderable plants\": 0.5690675313744525}, {\"considerble trees\": 0.14386279170752697, \"onsiderable plants\": 0.12762535116159454}, {\"considerble trees\": -0.23220601579255634, \"onsiderable plants\": -0.24841798753824745}, {\"considerble trees\": 1.378349529370844, \"onsiderable plants\": 1.3865530502871526}, {\"considerble trees\": -0.7963092270426813, \"onsiderable plants\": -0.7879584300206295}, {\"considerble trees\": -0.9598174042166304, \"onsiderable plants\": -0.9514555338031695}, {\"considerble trees\": -1.3358862117167138, \"onsiderable plants\": -1.3274988725030115}, {\"considerble trees\": 0.27466933344668637, \"onsiderable plants\": 0.24207332380937255}, {\"considerble trees\": 1.1821397167621046, \"onsiderable plants\": 1.2230559465046125}, {\"considerble trees\": 0.9777544952946682, \"onsiderable plants\": 0.9778102908308026}, {\"considerble trees\": -0.8453616801948659, \"onsiderable plants\": -0.8697069819118994}, {\"considerble trees\": -0.17497815378167408, \"onsiderable plants\": -0.16666943564697745}, {\"considerble trees\": 1.607260977414373, \"onsiderable plants\": 1.5827495748262006}, {\"considerble trees\": -0.4611174638360852, \"onsiderable plants\": -0.42826480169904146}, {\"considerble trees\": 0.29102015116408125, \"onsiderable plants\": 0.2584230341876265}, {\"considerble trees\": 1.4519282090991212, \"onsiderable plants\": 1.4356021814219144}, {\"considerble trees\": -1.6792533837820074, \"onsiderable plants\": -1.7198919215811075}, {\"considerble trees\": -0.7963092270426813, \"onsiderable plants\": -0.7879584300206295}, {\"considerble trees\": -1.5402714331841505, \"onsiderable plants\": -1.5563948177985676}, {\"considerble trees\": -1.4585173445971757, \"onsiderable plants\": -1.4419468451507893}, {\"considerble trees\": 1.3129462585012641, \"onsiderable plants\": 1.3211542087741366}, {\"considerble trees\": -0.9025895422057483, \"onsiderable plants\": -0.9024064026684074}, {\"considerble trees\": 1.173964307903407, \"onsiderable plants\": 1.1903565257481046}, {\"considerble trees\": -0.7963092270426811, \"onsiderable plants\": -0.7879584300206295}, {\"considerble trees\": -0.4529420549773878, \"onsiderable plants\": -0.4119150913207875}, {\"considerble trees\": 1.3211216673599615, \"onsiderable plants\": 1.3375039191523905}, {\"considerble trees\": 1.2066659433381972, \"onsiderable plants\": 1.2230559465046125}, {\"considerble trees\": 0.8387725446968112, \"onsiderable plants\": 0.8633623181830246}, {\"considerble trees\": 1.607260977414373, \"onsiderable plants\": 1.5827495748262006}, {\"considerble trees\": 0.14386279170752697, \"onsiderable plants\": 0.12762535116159454}, {\"considerble trees\": -0.09322406519469946, \"onsiderable plants\": -0.10127059413396147}, {\"considerble trees\": 1.5009806622513058, \"onsiderable plants\": 1.5173507333131846}, {\"considerble trees\": 0.8960004067076935, \"onsiderable plants\": 0.8960617389395326}, {\"considerble trees\": 1.419226573664331, \"onsiderable plants\": 1.3865530502871526}, {\"considerble trees\": -1.0742731282383948, \"onsiderable plants\": -1.0659035064509474}, {\"considerble trees\": -1.6792533837820074, \"onsiderable plants\": -1.7198919215811075}, {\"considerble trees\": 0.32372178659887113, \"onsiderable plants\": 0.3238218757006425}, {\"considerble trees\": -0.4529420549773878, \"onsiderable plants\": -0.4119150913207875}, {\"considerble trees\": 1.3129462585012641, \"onsiderable plants\": 1.3211542087741366}, {\"considerble trees\": 0.29102015116408125, \"onsiderable plants\": 0.2584230341876265}, {\"considerble trees\": -1.319535393999319, \"onsiderable plants\": -1.2947994517465036}, {\"considerble trees\": -1.1560272168253696, \"onsiderable plants\": -1.1476520583422174}, {\"considerble trees\": 1.3701741205121465, \"onsiderable plants\": 1.3865530502871526}, {\"considerble trees\": -0.41206501068390045, \"onsiderable plants\": -0.4119150913207875}, {\"considerble trees\": -0.42841582840129544, \"onsiderable plants\": -0.4119150913207875}, {\"considerble trees\": 0.16838901828361935, \"onsiderable plants\": 0.17667448229635654}, {\"considerble trees\": 1.0758594015990375, \"onsiderable plants\": 1.0595588427220726}, {\"considerble trees\": 1.1330872636099198, \"onsiderable plants\": 1.1413073946133425}, {\"considerble trees\": 0.14386279170752697, \"onsiderable plants\": 0.12762535116159454}, {\"considerble trees\": -1.6792533837820074, \"onsiderable plants\": -1.7198919215811075}, {\"considerble trees\": 1.607260977414373, \"onsiderable plants\": 1.5827495748262006}, {\"considerble trees\": -0.6655026853035219, \"onsiderable plants\": -0.6735104573728515}, {\"considerble trees\": -0.24038142465125376, \"onsiderable plants\": -0.24841798753824745}, {\"considerble trees\": -1.0497469016623024, \"onsiderable plants\": -1.0495537960726935}, {\"considerble trees\": -1.4421665268797808, \"onsiderable plants\": -1.4092474243942814}, {\"considerble trees\": 0.06210870312055233, \"onsiderable plants\": 0.062226509648578544}, {\"considerble trees\": 1.3865249382295413, \"onsiderable plants\": 1.3865530502871526}, {\"considerble trees\": 1.5745593419795827, \"onsiderable plants\": 1.5500501540696925}, {\"considerble trees\": 1.435577391381726, \"onsiderable plants\": 1.4029027606654065}, {\"considerble trees\": -0.8617124979122609, \"onsiderable plants\": -0.8860566922901534}, {\"considerble trees\": 0.4627037371967281, \"onsiderable plants\": 0.43826984834842053}, {\"considerble trees\": 1.239367578772987, \"onsiderable plants\": 1.2230559465046125}, {\"considerble trees\": 0.1520382005662244, \"onsiderable plants\": 0.14397506153984854}, {\"considerble trees\": 1.2720692142077767, \"onsiderable plants\": 1.2394056568828664}, {\"considerble trees\": 0.20926606257710664, \"onsiderable plants\": 0.24207332380937255}, {\"considerble trees\": -0.7963092270426813, \"onsiderable plants\": -0.7879584300206295}, {\"considerble trees\": -1.2786583497058317, \"onsiderable plants\": -1.2621000309899957}, {\"considerble trees\": 0.6343873232293747, \"onsiderable plants\": 0.6181166625092145}, {\"considerble trees\": -0.3793633752491107, \"onsiderable plants\": -0.4119150913207875}, {\"considerble trees\": 0.5117561903489127, \"onsiderable plants\": 0.5363681106179445}, {\"considerble trees\": 0.797895500403324, \"onsiderable plants\": 0.7979634766700086}, {\"considerble trees\": -1.4912189800319655, \"onsiderable plants\": -1.4909959762855514}, {\"considerble trees\": 0.23379228915319902, \"onsiderable plants\": 0.24207332380937255}, {\"considerble trees\": 1.0186315395881556, \"onsiderable plants\": 1.0432091323438186}, {\"considerble trees\": -0.649151867586127, \"onsiderable plants\": -0.6408110366163434}, {\"considerble trees\": -0.7881338181839836, \"onsiderable plants\": -0.7716087196423755}, {\"considerble trees\": -0.5346961435643625, \"onsiderable plants\": -0.5590624847250734}, {\"considerble trees\": 0.29102015116408125, \"onsiderable plants\": 0.2584230341876265}, {\"considerble trees\": 0.32372178659887113, \"onsiderable plants\": 0.3238218757006425}, {\"considerble trees\": -0.09322406519469946, \"onsiderable plants\": -0.10127059413396144}, {\"considerble trees\": 1.4519282090991212, \"onsiderable plants\": 1.4356021814219144}, {\"considerble trees\": -0.33031092209692586, \"onsiderable plants\": -0.33016653942951746}, {\"considerble trees\": 0.29102015116408125, \"onsiderable plants\": 0.2584230341876265}, {\"considerble trees\": -1.4176403003036886, \"onsiderable plants\": -1.3928977140160275}, {\"considerble trees\": -0.3711879663904132, \"onsiderable plants\": -0.4119150913207875}, {\"considerble trees\": -0.845361680194866, \"onsiderable plants\": -0.8697069819118994}, {\"considerble trees\": -0.632801049868732, \"onsiderable plants\": -0.6244613262380894}, {\"considerble trees\": -0.5837485967165471, \"onsiderable plants\": -0.5754121951033274}, {\"considerble trees\": -1.3685878471515036, \"onsiderable plants\": -1.3928977140160275}, {\"considerble trees\": 0.47087914605542547, \"onsiderable plants\": 0.45461955872667453}, {\"considerble trees\": -0.9107649510644457, \"onsiderable plants\": -0.9024064026684074}, {\"considerble trees\": -0.5673977789991522, \"onsiderable plants\": -0.5754121951033274}, {\"considerble trees\": 1.1412626724686175, \"onsiderable plants\": 1.1413073946133425}]}}, {\"actions\": false, \"mode\": \"vega-lite\"});\n",
       "</script>"
      ],
      "text/plain": [
       "alt.Chart(...)"
      ]
     },
     "execution_count": 19,
     "metadata": {},
     "output_type": "execute_result"
    }
   ],
   "source": [
    "_deepnote_run_altair(pred, \"\"\"{\"$schema\":\"https://vega.github.io/schema/vega-lite/v4.json\",\"mark\":{\"type\":\"line\",\"tooltip\":true},\"height\":220,\"autosize\":{\"type\":\"fit\"},\"data\":{\"name\":\"placeholder\"},\"encoding\":{\"x\":{\"field\":\"considerble trees\",\"type\":\"quantitative\",\"sort\":null,\"scale\":{\"type\":\"linear\",\"zero\":false}},\"y\":{\"field\":\"onsiderable plants\",\"type\":\"quantitative\",\"sort\":null,\"scale\":{\"type\":\"linear\",\"zero\":false}},\"color\":{\"field\":\"\",\"type\":\"nominal\",\"sort\":null,\"scale\":{\"type\":\"linear\",\"zero\":false}}}}\"\"\")"
   ]
  },
  {
   "cell_type": "code",
   "execution_count": 16,
   "metadata": {
    "cell_id": "00016-14c5b681-e681-43ba-8101-88d040077b7a",
    "deepnote_cell_height": 93.83332824707031,
    "deepnote_cell_type": "code",
    "deepnote_to_be_reexecuted": false,
    "execution_millis": 1,
    "execution_start": 1662784488534,
    "source_hash": "b31fd813"
   },
   "outputs": [],
   "source": [
    "\n"
   ]
  },
  {
   "cell_type": "code",
   "execution_count": 16,
   "metadata": {
    "cell_id": "00017-aa817bd5-2aee-43ae-9d3c-7aa3874c3f55",
    "deepnote_cell_height": 75.83332824707031,
    "deepnote_cell_type": "code",
    "deepnote_to_be_reexecuted": false,
    "execution_millis": 0,
    "execution_start": 1662784488535,
    "source_hash": "b623e53d"
   },
   "outputs": [],
   "source": []
  },
  {
   "cell_type": "code",
   "execution_count": 16,
   "metadata": {
    "cell_id": "00018-04291118-941c-445a-a0b5-fd6a82e9d441",
    "deepnote_cell_height": 75.83332824707031,
    "deepnote_cell_type": "code",
    "deepnote_to_be_reexecuted": false,
    "execution_millis": 0,
    "execution_start": 1662784488535,
    "source_hash": "b623e53d"
   },
   "outputs": [],
   "source": []
  },
  {
   "cell_type": "code",
   "execution_count": 16,
   "metadata": {
    "cell_id": "00019-490b281c-1ff4-4d51-bdb2-b4cdf930b574",
    "deepnote_cell_height": 75.83332824707031,
    "deepnote_cell_type": "code",
    "deepnote_to_be_reexecuted": false,
    "execution_millis": 0,
    "execution_start": 1662784488536,
    "source_hash": "b623e53d"
   },
   "outputs": [],
   "source": []
  },
  {
   "cell_type": "markdown",
   "metadata": {
    "created_in_deepnote_cell": true,
    "deepnote_cell_type": "markdown",
    "tags": []
   },
   "source": [
    "<a style='text-decoration:none;line-height:16px;display:flex;color:#5B5B62;padding:10px;justify-content:end;' href='https://deepnote.com?utm_source=created-in-deepnote-cell&projectId=d6921146-ce34-4339-96ea-8b58d86679fb' target=\"_blank\">\n",
    "<img alt='Created in deepnote.com' style='display:inline;max-height:16px;margin:0px;margin-right:7.5px;' src='data:image/svg+xml;base64,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' > </img>\n",
    "Created in <span style='font-weight:600;margin-left:4px;'>Deepnote</span></a>"
   ]
  }
 ],
 "metadata": {
  "deepnote": {},
  "deepnote_execution_queue": [],
  "deepnote_notebook_id": "9a3a9319-5e33-4834-bdb5-122ee2fe7f2d",
  "kernelspec": {
   "display_name": "Python 3 (ipykernel)",
   "language": "python",
   "name": "python3"
  },
  "language_info": {
   "codemirror_mode": {
    "name": "ipython",
    "version": 3
   },
   "file_extension": ".py",
   "mimetype": "text/x-python",
   "name": "python",
   "nbconvert_exporter": "python",
   "pygments_lexer": "ipython3",
   "version": "3.9.7"
  }
 },
 "nbformat": 4,
 "nbformat_minor": 5
}
