{
 "cells": [
  {
   "cell_type": "code",
   "execution_count": 1,
   "id": "e2e74363",
   "metadata": {
    "cell_id": "d87aa888069f4a88a626e76f3a3e777f",
    "deepnote_cell_height": 229.9166717529297,
    "deepnote_cell_type": "code",
    "deepnote_to_be_reexecuted": false,
    "execution_millis": 1920,
    "execution_start": 1662784483159,
    "source_hash": "9cfe2b97",
    "tags": []
   },
   "outputs": [],
   "source": [
    "# !pip install xgboost==1.6.2"
   ]
  },
  {
   "cell_type": "code",
   "execution_count": 2,
   "id": "22b3b034",
   "metadata": {
    "cell_id": "b77f01a4-a218-49ad-a303-ee969c8f4d2a",
    "deepnote_cell_height": 579.8333129882812,
    "deepnote_cell_type": "code",
    "deepnote_to_be_reexecuted": false,
    "execution_millis": 1155,
    "execution_start": 1662784485082,
    "source_hash": "5ae4c3fb"
   },
   "outputs": [],
   "source": [
    "import pandas as pd\n",
    "import numpy as np\n",
    "from sklearn.preprocessing import StandardScaler\n",
    "from sklearn.model_selection import train_test_split\n",
    "from sklearn.metrics import mean_squared_error\n",
    "from sklearn.metrics import r2_score\n",
    "\n",
    "\n",
    "from sklearn.neighbors import KNeighborsRegressor\n",
    "from sklearn.linear_model import Lasso\n",
    "from sklearn.linear_model import ElasticNet\n",
    "from sklearn.linear_model import LinearRegression\n",
    "from sklearn.linear_model import RidgeCV\n",
    "\n",
    "from sklearn.ensemble import ExtraTreesRegressor\n",
    "from sklearn.ensemble import GradientBoostingRegressor\n",
    "from sklearn.ensemble import RandomForestRegressor\n",
    "from sklearn.ensemble import AdaBoostRegressor\n",
    "\n",
    "from xgboost import XGBRegressor\n",
    "\n",
    "from sklearn.tree import DecisionTreeRegressor\n",
    "\n",
    "from sklearn.multioutput import MultiOutputRegressor\n",
    "\n",
    "\n",
    "\n",
    "import matplotlib.pyplot as plt \n",
    "import seaborn  as sns"
   ]
  },
  {
   "cell_type": "code",
   "execution_count": 3,
   "id": "50e99b29",
   "metadata": {
    "cell_id": "00001-886511f5-0005-4f21-b930-ad04cd9818c8",
    "deepnote_cell_height": 93.83332824707031,
    "deepnote_cell_type": "code",
    "deepnote_to_be_reexecuted": false,
    "execution_millis": 1,
    "execution_start": 1662784486238,
    "source_hash": "56a4cf43"
   },
   "outputs": [],
   "source": [
    "import inspect\n"
   ]
  },
  {
   "cell_type": "code",
   "execution_count": 4,
   "id": "1838282c",
   "metadata": {
    "cell_id": "00002-9370d568-b4b7-45d6-9382-2ed4c85d67bd",
    "deepnote_cell_height": 75.83332824707031,
    "deepnote_cell_type": "code",
    "deepnote_to_be_reexecuted": false,
    "execution_millis": 4,
    "execution_start": 1662784486242,
    "source_hash": "60940c7c"
   },
   "outputs": [],
   "source": [
    "from sklearn.model_selection import cross_val_score"
   ]
  },
  {
   "cell_type": "code",
   "execution_count": 5,
   "id": "270cf0ba",
   "metadata": {
    "cell_id": "00003-5290392b-639b-46dd-a85d-6eacc7b43cd8",
    "deepnote_cell_height": 111.83332824707031,
    "deepnote_cell_type": "code",
    "deepnote_to_be_reexecuted": false,
    "execution_millis": 6,
    "execution_start": 1662784486249,
    "source_hash": "7dfc0de9"
   },
   "outputs": [],
   "source": [
    "data=pd.read_csv('Dataset.csv')\n",
    "data.drop('Index',\n",
    "  axis='columns',inplace=True)"
   ]
  },
  {
   "cell_type": "code",
   "execution_count": 20,
   "id": "1635639e",
   "metadata": {
    "cell_id": "00004-0d8b2137-e558-43e8-9a94-ef9d83eb341e",
    "deepnote_cell_height": 594.6666870117188,
    "deepnote_cell_type": "code",
    "deepnote_output_heights": [
     380
    ],
    "deepnote_table_loading": false,
    "deepnote_table_state": {
     "filters": [],
     "pageIndex": 0,
     "pageSize": 10,
     "sortBy": [
      {
       "id": "Area",
       "type": "asc"
      }
     ]
    },
    "deepnote_to_be_reexecuted": false,
    "execution_millis": 648,
    "execution_start": 1662784486263,
    "source_hash": "e6928a8f"
   },
   "outputs": [
    {
     "name": "stdout",
     "output_type": "stream",
     "text": [
      "<class 'pandas.core.frame.DataFrame'>\n",
      "RangeIndex: 500 entries, 0 to 499\n",
      "Data columns (total 18 columns):\n",
      " #   Column               Non-Null Count  Dtype\n",
      "---  ------               --------------  -----\n",
      " 0   Area                 500 non-null    int64\n",
      " 1   OE                   500 non-null    int64\n",
      " 2   COb                  500 non-null    int64\n",
      " 3   Area_left            500 non-null    int64\n",
      " 4   considerble trees    500 non-null    int64\n",
      " 5   considerable plants  500 non-null    int64\n",
      " 6   Neem                 500 non-null    int64\n",
      " 7   Ash                  500 non-null    int64\n",
      " 8   Willow               500 non-null    int64\n",
      " 9   Poplar               500 non-null    int64\n",
      " 10  Ashok                500 non-null    int64\n",
      " 11  Arjuna               500 non-null    int64\n",
      " 12  Areca_palm           500 non-null    int64\n",
      " 13  Weeping_fig          500 non-null    int64\n",
      " 14  Grebera_Daisy        500 non-null    int64\n",
      " 15  Aloe_vera            500 non-null    int64\n",
      " 16  Tulsi                500 non-null    int64\n",
      " 17  Pothos_plant         500 non-null    int64\n",
      "dtypes: int64(18)\n",
      "memory usage: 70.4 KB\n"
     ]
    }
   ],
   "source": [
    "data.info()"
   ]
  },
  {
   "cell_type": "code",
   "execution_count": null,
   "id": "43c5d481",
   "metadata": {},
   "outputs": [],
   "source": [
    "\n"
   ]
  },
  {
   "cell_type": "code",
   "execution_count": 8,
   "id": "a3649508",
   "metadata": {
    "cell_id": "00005-98f9ed6d-e498-4349-8775-43ec349abf96",
    "deepnote_cell_height": 270.08331298828125,
    "deepnote_cell_type": "code",
    "deepnote_to_be_reexecuted": false,
    "execution_millis": 580,
    "execution_start": 1662784486331,
    "source_hash": "a9a90b10"
   },
   "outputs": [
    {
     "name": "stdout",
     "output_type": "stream",
     "text": [
      "X: (500, 4)\n",
      "Y: (500, 2)\n"
     ]
    }
   ],
   "source": [
    "          \n",
    "# data = pd.DataFrame(data)\n",
    "X=data.iloc[:,0:4].values\n",
    "Y=data[['considerble trees','considerable plants']]\n",
    "print(\"X:\",X.shape)\n",
    "print(\"Y:\",Y.shape)\n",
    "X_train, X_test, y_train, y_test = train_test_split(\n",
    "    X,Y, test_size=0.33, random_state=42)\n"
   ]
  },
  {
   "cell_type": "code",
   "execution_count": 9,
   "id": "24947ef9",
   "metadata": {
    "cell_id": "00006-14940b8f-0ad2-4da0-a7e9-20ca10957b6a",
    "deepnote_cell_height": 201.8333282470703,
    "deepnote_cell_type": "code",
    "deepnote_to_be_reexecuted": false,
    "execution_millis": 0,
    "execution_start": 1662784486332,
    "source_hash": "1a6b2c35"
   },
   "outputs": [],
   "source": [
    "scaler=StandardScaler()\n",
    "X_train_sacled=scaler.fit_transform(X_train)\n",
    "X_test_scaled=scaler.transform(X_test)\n",
    "\n",
    "\n",
    "Y_scaled_train=scaler.fit_transform(y_train)\n",
    "Y_scaled_test=scaler.fit_transform(y_test)\n"
   ]
  },
  {
   "cell_type": "code",
   "execution_count": 10,
   "id": "ffb9c05c",
   "metadata": {
    "cell_id": "00007-7cd3a743-8433-4730-8b56-616ce6d18e3e",
    "deepnote_cell_height": 273.83331298828125,
    "deepnote_cell_type": "code",
    "deepnote_to_be_reexecuted": false,
    "execution_millis": 0,
    "execution_start": 1662784486333,
    "source_hash": "c9a1c7c4"
   },
   "outputs": [],
   "source": [
    "def show_(X_test_scaled,y_test_predict,y_mse,y_r2_):\n",
    "    plt.figure(figsize=(8,6))\n",
    "    \n",
    "\n",
    "    plt.scatter(y_test_predict[name],Y_scaled_test)\n",
    "    plt.title(name)\n",
    "    plt.xlabel(\"Actual\")\n",
    "    plt.ylabel(\"predicted\")\n",
    "    plt.show()\n",
    "    print('RMSE for ',name,' is         :',y_mse[name])\n",
    "    print('r2_score for ',name,' is     :',y_r2_[name])\n",
    "    print(\"score\",name, 'is             :',score[name])"
   ]
  },
  {
   "cell_type": "code",
   "execution_count": 11,
   "id": "bd8308a7",
   "metadata": {
    "cell_id": "00008-bac5dbff-5544-468a-9a1e-724b10e9386e",
    "deepnote_cell_height": 296.83331298828125,
    "deepnote_cell_type": "code",
    "deepnote_to_be_reexecuted": false,
    "execution_millis": 3,
    "execution_start": 1662784486334,
    "source_hash": "10b9686d"
   },
   "outputs": [],
   "source": [
    "\n",
    "ESTIMATORS = {\n",
    "    \"K-nn\": KNeighborsRegressor(leaf_size=60,p=1,n_neighbors=29,n_jobs=1,weights='uniform',algorithm='brute'), \n",
    "    \"Linear regression\": LinearRegression(),\n",
    "    \"Ridge\": RidgeCV(),\n",
    "    \"Lasso\": Lasso(),\n",
    "    \"ElasticNet\": ElasticNet(random_state=0),\n",
    "    \"RandomForestRegressor\": RandomForestRegressor(max_depth=4, random_state=2),\n",
    "    \"Decision Tree Regressor\":DecisionTreeRegressor(max_depth=5),\n",
    "    \"MultiO/P GBR\" :MultiOutputRegressor(GradientBoostingRegressor(n_estimators=5)),\n",
    "    \"MultiO/P AdaB\" :MultiOutputRegressor(AdaBoostRegressor(n_estimators=5)),\n",
    "\n",
    "}"
   ]
  },
  {
   "cell_type": "code",
   "execution_count": 12,
   "id": "a33fc399",
   "metadata": {
    "cell_id": "00009-6df51f4f-2ff3-4308-9061-caed9be962de",
    "deepnote_cell_height": 312.75,
    "deepnote_cell_type": "code",
    "deepnote_output_heights": [
     59
    ],
    "deepnote_to_be_reexecuted": false,
    "execution_millis": 562,
    "execution_start": 1662784486350,
    "source_hash": "df9521db"
   },
   "outputs": [
    {
     "data": {
      "text/plain": [
       "LinearRegression()"
      ]
     },
     "execution_count": 12,
     "metadata": {},
     "output_type": "execute_result"
    }
   ],
   "source": [
    "\n",
    "model=LinearRegression()\n",
    "model.fit(X_train_sacled,y_train)\n",
    "\n",
    "\n",
    "# importance=pd.DataFrame(data={\n",
    "#     \"Attribute\":X_train.columns,\n",
    "#     \"Importance\":model.coef_[0]\n",
    "# })\n",
    "# importance=importance.sort_values(by=\"Importance\",ascending=False)"
   ]
  },
  {
   "cell_type": "code",
   "execution_count": 13,
   "id": "9142c152",
   "metadata": {
    "cell_id": "00010-544a3c55-429b-44e6-8694-f1e076eeff98",
    "deepnote_cell_height": 147.8333282470703,
    "deepnote_cell_type": "code",
    "deepnote_to_be_reexecuted": false,
    "execution_millis": 1,
    "execution_start": 1662784486351,
    "source_hash": "90870bd6"
   },
   "outputs": [],
   "source": [
    "# importance=pd.DataFrame(data={\n",
    "#     \"Attribute\":x_train.columns,\n",
    "#     \"Importance\":model.coef_[0]\n",
    "# })\n",
    "# importance=importance.sort_values(by=\"Importance\",ascending=False)"
   ]
  },
  {
   "cell_type": "code",
   "execution_count": 14,
   "id": "7f5a0167",
   "metadata": {
    "cell_id": "00011-13faf8db-3481-4381-b394-5dc4f3a43064",
    "deepnote_cell_height": 129.8333282470703,
    "deepnote_cell_type": "code",
    "deepnote_to_be_reexecuted": false,
    "execution_millis": 2,
    "execution_start": 1662784486355,
    "source_hash": "1f045964"
   },
   "outputs": [],
   "source": [
    "y_test_predict = dict()\n",
    "y_mse = dict()\n",
    "y_r2_=dict()\n",
    "score=dict()"
   ]
  },
  {
   "cell_type": "code",
   "execution_count": 15,
   "id": "55c307c1",
   "metadata": {
    "cell_id": "00012-136ccdaf-904b-40f5-bffb-102d387d9e6e",
    "deepnote_cell_height": 4703.33349609375,
    "deepnote_cell_type": "code",
    "deepnote_output_heights": [
     388,
     null,
     388,
     null,
     388,
     null,
     388,
     null,
     388,
     null,
     388,
     null,
     388,
     null,
     388,
     null,
     388
    ],
    "deepnote_to_be_reexecuted": false,
    "execution_millis": 2128,
    "execution_start": 1662784486358,
    "scrolled": false,
    "source_hash": "113f1b92"
   },
   "outputs": [
    {
     "data": {
      "image/png": "[encoded data removed]",
      "text/plain": [
       "<Figure size 576x432 with 1 Axes>"
      ]
     },
     "metadata": {
      "needs_background": "light"
     },
     "output_type": "display_data"
    },
    {
     "name": "stdout",
     "output_type": "stream",
     "text": [
      "RMSE for  K-nn  is         : 0.0020769558198155957\n",
      "r2_score for  K-nn  is     : 0.9979230441801844\n",
      "score K-nn is             : 0.9979230441801844\n"
     ]
    },
    {
     "data": {
      "image/png": "[encoded data removed]",
      "text/plain": [
       "<Figure size 576x432 with 1 Axes>"
      ]
     },
     "metadata": {
      "needs_background": "light"
     },
     "output_type": "display_data"
    },
    {
     "name": "stdout",
     "output_type": "stream",
     "text": [
      "RMSE for  Linear regression  is         : 0.0008679388975576911\n",
      "r2_score for  Linear regression  is     : 0.9991320611024423\n",
      "score Linear regression is             : 0.9991320611024423\n"
     ]
    },
    {
     "data": {
      "image/png": "[encoded data removed]",
      "text/plain": [
       "<Figure size 576x432 with 1 Axes>"
      ]
     },
     "metadata": {
      "needs_background": "light"
     },
     "output_type": "display_data"
    },
    {
     "name": "stdout",
     "output_type": "stream",
     "text": [
      "RMSE for  Ridge  is         : 0.0008833729422260148\n",
      "r2_score for  Ridge  is     : 0.999116627057774\n",
      "score Ridge is             : 0.999116627057774\n"
     ]
    },
    {
     "data": {
      "image/png": "[encoded data removed]",
      "text/plain": [
       "<Figure size 576x432 with 1 Axes>"
      ]
     },
     "metadata": {
      "needs_background": "light"
     },
     "output_type": "display_data"
    },
    {
     "name": "stdout",
     "output_type": "stream",
     "text": [
      "RMSE for  Lasso  is         : 1.0\n",
      "r2_score for  Lasso  is     : -3.3306690738754696e-16\n",
      "score Lasso is             : -3.3306690738754696e-16\n"
     ]
    },
    {
     "data": {
      "image/png": "[encoded data removed]",
      "text/plain": [
       "<Figure size 576x432 with 1 Axes>"
      ]
     },
     "metadata": {
      "needs_background": "light"
     },
     "output_type": "display_data"
    },
    {
     "name": "stdout",
     "output_type": "stream",
     "text": [
      "RMSE for  ElasticNet  is         : 0.3091724598384487\n",
      "r2_score for  ElasticNet  is     : 0.6908275401615511\n",
      "score ElasticNet is             : 0.6908275401615511\n"
     ]
    },
    {
     "data": {
      "image/png": "[encoded data removed]",
      "text/plain": [
       "<Figure size 576x432 with 1 Axes>"
      ]
     },
     "metadata": {
      "needs_background": "light"
     },
     "output_type": "display_data"
    },
    {
     "name": "stdout",
     "output_type": "stream",
     "text": [
      "RMSE for  RandomForestRegressor  is         : 0.001977175791169506\n",
      "r2_score for  RandomForestRegressor  is     : 0.9980228242088305\n",
      "score RandomForestRegressor is             : 0.9980228242088305\n"
     ]
    },
    {
     "data": {
      "image/png": "[encoded data removed]",
      "text/plain": [
       "<Figure size 576x432 with 1 Axes>"
      ]
     },
     "metadata": {
      "needs_background": "light"
     },
     "output_type": "display_data"
    },
    {
     "name": "stdout",
     "output_type": "stream",
     "text": [
      "RMSE for  Decision Tree Regressor  is         : 0.0015541502817086206\n",
      "r2_score for  Decision Tree Regressor  is     : 0.9984458497182914\n",
      "score Decision Tree Regressor is             : 0.9984458497182914\n"
     ]
    },
    {
     "data": {
      "image/png": "[encoded data removed]",
      "text/plain": [
       "<Figure size 576x432 with 1 Axes>"
      ]
     },
     "metadata": {
      "needs_background": "light"
     },
     "output_type": "display_data"
    },
    {
     "name": "stdout",
     "output_type": "stream",
     "text": [
      "RMSE for  MultiO/P GBR  is         : 0.35862857694601324\n",
      "r2_score for  MultiO/P GBR  is     : 0.6413714230539866\n",
      "score MultiO/P GBR is             : 0.6413714230539866\n"
     ]
    },
    {
     "data": {
      "image/png": "[encoded data removed]",
      "text/plain": [
       "<Figure size 576x432 with 1 Axes>"
      ]
     },
     "metadata": {
      "needs_background": "light"
     },
     "output_type": "display_data"
    },
    {
     "name": "stdout",
     "output_type": "stream",
     "text": [
      "RMSE for  MultiO/P AdaB  is         : 0.01341213671594394\n",
      "r2_score for  MultiO/P AdaB  is     : 0.986587863284056\n",
      "score MultiO/P AdaB is             : 0.986587863284056\n"
     ]
    }
   ],
   "source": [
    "for name,estimator in ESTIMATORS.items():\n",
    "    estimator.fit(X_train_sacled,Y_scaled_train)\n",
    "    y_test_predict[name]= estimator.predict(X_test_scaled)    \n",
    "    y_mse[name]=mean_squared_error(Y_scaled_test,estimator.predict(X_test_scaled))\n",
    "    y_r2_[name]=r2_score(Y_scaled_test,estimator.predict(X_test_scaled))\n",
    "    score[name]=estimator.score(X_test_scaled,Y_scaled_test)\n",
    "    show_(X_test_scaled,y_test_predict,y_mse,y_r2_)"
   ]
  },
  {
   "cell_type": "markdown",
   "id": "1309eb59",
   "metadata": {
    "cell_id": "00013-9eeb3e8a-9a3b-4bf9-a67e-95f0749647c8",
    "deepnote_cell_height": 81.83332824707031,
    "deepnote_cell_type": "markdown"
   },
   "source": [
    "\n",
    "# HYPER PARAMETER TUNIG"
   ]
  },
  {
   "cell_type": "code",
   "execution_count": 16,
   "id": "9c9dde3e",
   "metadata": {
    "cell_id": "00014-a7302e8f-3f6d-49c5-9fc2-f1ce4b538159",
    "deepnote_cell_height": 168.75,
    "deepnote_cell_type": "code",
    "deepnote_output_heights": [
     59
    ],
    "deepnote_to_be_reexecuted": false,
    "execution_millis": 3,
    "execution_start": 1662784488487,
    "source_hash": "340e9ffd"
   },
   "outputs": [
    {
     "data": {
      "text/plain": [
       "KNeighborsRegressor()"
      ]
     },
     "execution_count": 16,
     "metadata": {},
     "output_type": "execute_result"
    }
   ],
   "source": [
    "clf123=KNeighborsRegressor()\n",
    "clf123.fit(X_train_sacled,Y_scaled_train)"
   ]
  },
  {
   "cell_type": "code",
   "execution_count": 17,
   "id": "4a357fdc",
   "metadata": {
    "cell_id": "00015-b994fef7-834e-4632-b2e2-897e58cb6171",
    "deepnote_cell_height": 630.6666870117188,
    "deepnote_cell_type": "code",
    "deepnote_output_heights": [
     380
    ],
    "deepnote_to_be_reexecuted": false,
    "execution_millis": 29,
    "execution_start": 1662784488493,
    "source_hash": "18112065"
   },
   "outputs": [
    {
     "data": {
      "text/html": [
       "<div>\n",
       "<style scoped>\n",
       "    .dataframe tbody tr th:only-of-type {\n",
       "        vertical-align: middle;\n",
       "    }\n",
       "\n",
       "    .dataframe tbody tr th {\n",
       "        vertical-align: top;\n",
       "    }\n",
       "\n",
       "    .dataframe thead th {\n",
       "        text-align: right;\n",
       "    }\n",
       "</style>\n",
       "<table border=\"1\" class=\"dataframe\">\n",
       "  <thead>\n",
       "    <tr style=\"text-align: right;\">\n",
       "      <th></th>\n",
       "      <th>considerble trees</th>\n",
       "      <th>onsiderable plants</th>\n",
       "    </tr>\n",
       "  </thead>\n",
       "  <tbody>\n",
       "    <tr>\n",
       "      <th>0</th>\n",
       "      <td>1.574559</td>\n",
       "      <td>1.550050</td>\n",
       "    </tr>\n",
       "    <tr>\n",
       "      <th>1</th>\n",
       "      <td>-0.436591</td>\n",
       "      <td>-0.411915</td>\n",
       "    </tr>\n",
       "    <tr>\n",
       "      <th>2</th>\n",
       "      <td>0.331897</td>\n",
       "      <td>0.340172</td>\n",
       "    </tr>\n",
       "    <tr>\n",
       "      <th>3</th>\n",
       "      <td>-0.567398</td>\n",
       "      <td>-0.575412</td>\n",
       "    </tr>\n",
       "    <tr>\n",
       "      <th>4</th>\n",
       "      <td>0.217441</td>\n",
       "      <td>0.242073</td>\n",
       "    </tr>\n",
       "    <tr>\n",
       "      <th>...</th>\n",
       "      <td>...</td>\n",
       "      <td>...</td>\n",
       "    </tr>\n",
       "    <tr>\n",
       "      <th>160</th>\n",
       "      <td>-1.368588</td>\n",
       "      <td>-1.392898</td>\n",
       "    </tr>\n",
       "    <tr>\n",
       "      <th>161</th>\n",
       "      <td>0.470879</td>\n",
       "      <td>0.454620</td>\n",
       "    </tr>\n",
       "    <tr>\n",
       "      <th>162</th>\n",
       "      <td>-0.910765</td>\n",
       "      <td>-0.902406</td>\n",
       "    </tr>\n",
       "    <tr>\n",
       "      <th>163</th>\n",
       "      <td>-0.567398</td>\n",
       "      <td>-0.575412</td>\n",
       "    </tr>\n",
       "    <tr>\n",
       "      <th>164</th>\n",
       "      <td>1.141263</td>\n",
       "      <td>1.141307</td>\n",
       "    </tr>\n",
       "  </tbody>\n",
       "</table>\n",
       "<p>165 rows × 2 columns</p>\n",
       "</div>"
      ],
      "text/plain": [
       "     considerble trees  onsiderable plants\n",
       "0             1.574559            1.550050\n",
       "1            -0.436591           -0.411915\n",
       "2             0.331897            0.340172\n",
       "3            -0.567398           -0.575412\n",
       "4             0.217441            0.242073\n",
       "..                 ...                 ...\n",
       "160          -1.368588           -1.392898\n",
       "161           0.470879            0.454620\n",
       "162          -0.910765           -0.902406\n",
       "163          -0.567398           -0.575412\n",
       "164           1.141263            1.141307\n",
       "\n",
       "[165 rows x 2 columns]"
      ]
     },
     "execution_count": 17,
     "metadata": {},
     "output_type": "execute_result"
    }
   ],
   "source": [
    "pred=pd.DataFrame(clf123.predict(X_test_scaled))\n",
    "pred.columns = ['considerble trees', 'onsiderable plants']\n",
    "pred"
   ]
  },
  {
   "cell_type": "code",
   "execution_count": 18,
   "id": "57b5939b",
   "metadata": {
    "cell_id": "618deb55bab446578d477c2110fadd6d",
    "deepnote_cell_type": "visualization",
    "deepnote_to_be_reexecuted": false,
    "deepnote_variable_name": "pred",
    "deepnote_visualization_spec": {
     "$schema": "https://vega.github.io/schema/vega-lite/v4.json",
     "autosize": {
      "type": "fit"
     },
     "data": {
      "name": "placeholder"
     },
     "encoding": {
      "color": {
       "field": "",
       "scale": {
        "type": "linear",
        "zero": false
       },
       "sort": null,
       "type": "nominal"
      },
      "x": {
       "field": "considerble trees",
       "scale": {
        "type": "linear",
        "zero": false
       },
       "sort": null,
       "type": "quantitative"
      },
      "y": {
       "field": "onsiderable plants",
       "scale": {
        "type": "linear",
        "zero": false
       },
       "sort": null,
       "type": "quantitative"
      }
     },
     "height": 220,
     "mark": {
      "tooltip": true,
      "type": "line"
     }
    },
    "execution_millis": 44,
    "execution_start": 1662784544069,
    "source_hash": "b7703133"
   },
   "outputs": [
    {
     "ename": "NameError",
     "evalue": "name '_deepnote_run_altair' is not defined",
     "output_type": "error",
     "traceback": [
      "\u001b[0;31m---------------------------------------------------------------------------\u001b[0m",
      "\u001b[0;31mNameError\u001b[0m                                 Traceback (most recent call last)",
      "Input \u001b[0;32mIn [18]\u001b[0m, in \u001b[0;36m<cell line: 1>\u001b[0;34m()\u001b[0m\n\u001b[0;32m----> 1\u001b[0m \u001b[43m_deepnote_run_altair\u001b[49m(pred, \u001b[38;5;124m\"\"\"\u001b[39m\u001b[38;5;124m{\u001b[39m\u001b[38;5;124m\"\u001b[39m\u001b[38;5;124m$schema\u001b[39m\u001b[38;5;124m\"\u001b[39m\u001b[38;5;124m:\u001b[39m\u001b[38;5;124m\"\u001b[39m\u001b[38;5;124mhttps://vega.github.io/schema/vega-lite/v4.json\u001b[39m\u001b[38;5;124m\"\u001b[39m\u001b[38;5;124m,\u001b[39m\u001b[38;5;124m\"\u001b[39m\u001b[38;5;124mmark\u001b[39m\u001b[38;5;124m\"\u001b[39m\u001b[38;5;124m:\u001b[39m\u001b[38;5;124m{\u001b[39m\u001b[38;5;124m\"\u001b[39m\u001b[38;5;124mtype\u001b[39m\u001b[38;5;124m\"\u001b[39m\u001b[38;5;124m:\u001b[39m\u001b[38;5;124m\"\u001b[39m\u001b[38;5;124mline\u001b[39m\u001b[38;5;124m\"\u001b[39m\u001b[38;5;124m,\u001b[39m\u001b[38;5;124m\"\u001b[39m\u001b[38;5;124mtooltip\u001b[39m\u001b[38;5;124m\"\u001b[39m\u001b[38;5;124m:true},\u001b[39m\u001b[38;5;124m\"\u001b[39m\u001b[38;5;124mheight\u001b[39m\u001b[38;5;124m\"\u001b[39m\u001b[38;5;124m:220,\u001b[39m\u001b[38;5;124m\"\u001b[39m\u001b[38;5;124mautosize\u001b[39m\u001b[38;5;124m\"\u001b[39m\u001b[38;5;124m:\u001b[39m\u001b[38;5;124m{\u001b[39m\u001b[38;5;124m\"\u001b[39m\u001b[38;5;124mtype\u001b[39m\u001b[38;5;124m\"\u001b[39m\u001b[38;5;124m:\u001b[39m\u001b[38;5;124m\"\u001b[39m\u001b[38;5;124mfit\u001b[39m\u001b[38;5;124m\"\u001b[39m\u001b[38;5;124m},\u001b[39m\u001b[38;5;124m\"\u001b[39m\u001b[38;5;124mdata\u001b[39m\u001b[38;5;124m\"\u001b[39m\u001b[38;5;124m:\u001b[39m\u001b[38;5;124m{\u001b[39m\u001b[38;5;124m\"\u001b[39m\u001b[38;5;124mname\u001b[39m\u001b[38;5;124m\"\u001b[39m\u001b[38;5;124m:\u001b[39m\u001b[38;5;124m\"\u001b[39m\u001b[38;5;124mplaceholder\u001b[39m\u001b[38;5;124m\"\u001b[39m\u001b[38;5;124m},\u001b[39m\u001b[38;5;124m\"\u001b[39m\u001b[38;5;124mencoding\u001b[39m\u001b[38;5;124m\"\u001b[39m\u001b[38;5;124m:\u001b[39m\u001b[38;5;124m{\u001b[39m\u001b[38;5;124m\"\u001b[39m\u001b[38;5;124mx\u001b[39m\u001b[38;5;124m\"\u001b[39m\u001b[38;5;124m:\u001b[39m\u001b[38;5;124m{\u001b[39m\u001b[38;5;124m\"\u001b[39m\u001b[38;5;124mfield\u001b[39m\u001b[38;5;124m\"\u001b[39m\u001b[38;5;124m:\u001b[39m\u001b[38;5;124m\"\u001b[39m\u001b[38;5;124mconsiderble trees\u001b[39m\u001b[38;5;124m\"\u001b[39m\u001b[38;5;124m,\u001b[39m\u001b[38;5;124m\"\u001b[39m\u001b[38;5;124mtype\u001b[39m\u001b[38;5;124m\"\u001b[39m\u001b[38;5;124m:\u001b[39m\u001b[38;5;124m\"\u001b[39m\u001b[38;5;124mquantitative\u001b[39m\u001b[38;5;124m\"\u001b[39m\u001b[38;5;124m,\u001b[39m\u001b[38;5;124m\"\u001b[39m\u001b[38;5;124msort\u001b[39m\u001b[38;5;124m\"\u001b[39m\u001b[38;5;124m:null,\u001b[39m\u001b[38;5;124m\"\u001b[39m\u001b[38;5;124mscale\u001b[39m\u001b[38;5;124m\"\u001b[39m\u001b[38;5;124m:\u001b[39m\u001b[38;5;124m{\u001b[39m\u001b[38;5;124m\"\u001b[39m\u001b[38;5;124mtype\u001b[39m\u001b[38;5;124m\"\u001b[39m\u001b[38;5;124m:\u001b[39m\u001b[38;5;124m\"\u001b[39m\u001b[38;5;124mlinear\u001b[39m\u001b[38;5;124m\"\u001b[39m\u001b[38;5;124m,\u001b[39m\u001b[38;5;124m\"\u001b[39m\u001b[38;5;124mzero\u001b[39m\u001b[38;5;124m\"\u001b[39m\u001b[38;5;124m:false}},\u001b[39m\u001b[38;5;124m\"\u001b[39m\u001b[38;5;124my\u001b[39m\u001b[38;5;124m\"\u001b[39m\u001b[38;5;124m:\u001b[39m\u001b[38;5;124m{\u001b[39m\u001b[38;5;124m\"\u001b[39m\u001b[38;5;124mfield\u001b[39m\u001b[38;5;124m\"\u001b[39m\u001b[38;5;124m:\u001b[39m\u001b[38;5;124m\"\u001b[39m\u001b[38;5;124monsiderable plants\u001b[39m\u001b[38;5;124m\"\u001b[39m\u001b[38;5;124m,\u001b[39m\u001b[38;5;124m\"\u001b[39m\u001b[38;5;124mtype\u001b[39m\u001b[38;5;124m\"\u001b[39m\u001b[38;5;124m:\u001b[39m\u001b[38;5;124m\"\u001b[39m\u001b[38;5;124mquantitative\u001b[39m\u001b[38;5;124m\"\u001b[39m\u001b[38;5;124m,\u001b[39m\u001b[38;5;124m\"\u001b[39m\u001b[38;5;124msort\u001b[39m\u001b[38;5;124m\"\u001b[39m\u001b[38;5;124m:null,\u001b[39m\u001b[38;5;124m\"\u001b[39m\u001b[38;5;124mscale\u001b[39m\u001b[38;5;124m\"\u001b[39m\u001b[38;5;124m:\u001b[39m\u001b[38;5;124m{\u001b[39m\u001b[38;5;124m\"\u001b[39m\u001b[38;5;124mtype\u001b[39m\u001b[38;5;124m\"\u001b[39m\u001b[38;5;124m:\u001b[39m\u001b[38;5;124m\"\u001b[39m\u001b[38;5;124mlinear\u001b[39m\u001b[38;5;124m\"\u001b[39m\u001b[38;5;124m,\u001b[39m\u001b[38;5;124m\"\u001b[39m\u001b[38;5;124mzero\u001b[39m\u001b[38;5;124m\"\u001b[39m\u001b[38;5;124m:false}},\u001b[39m\u001b[38;5;124m\"\u001b[39m\u001b[38;5;124mcolor\u001b[39m\u001b[38;5;124m\"\u001b[39m\u001b[38;5;124m:\u001b[39m\u001b[38;5;124m{\u001b[39m\u001b[38;5;124m\"\u001b[39m\u001b[38;5;124mfield\u001b[39m\u001b[38;5;124m\"\u001b[39m\u001b[38;5;124m:\u001b[39m\u001b[38;5;124m\"\u001b[39m\u001b[38;5;124m\"\u001b[39m\u001b[38;5;124m,\u001b[39m\u001b[38;5;124m\"\u001b[39m\u001b[38;5;124mtype\u001b[39m\u001b[38;5;124m\"\u001b[39m\u001b[38;5;124m:\u001b[39m\u001b[38;5;124m\"\u001b[39m\u001b[38;5;124mnominal\u001b[39m\u001b[38;5;124m\"\u001b[39m\u001b[38;5;124m,\u001b[39m\u001b[38;5;124m\"\u001b[39m\u001b[38;5;124msort\u001b[39m\u001b[38;5;124m\"\u001b[39m\u001b[38;5;124m:null,\u001b[39m\u001b[38;5;124m\"\u001b[39m\u001b[38;5;124mscale\u001b[39m\u001b[38;5;124m\"\u001b[39m\u001b[38;5;124m:\u001b[39m\u001b[38;5;124m{\u001b[39m\u001b[38;5;124m\"\u001b[39m\u001b[38;5;124mtype\u001b[39m\u001b[38;5;124m\"\u001b[39m\u001b[38;5;124m:\u001b[39m\u001b[38;5;124m\"\u001b[39m\u001b[38;5;124mlinear\u001b[39m\u001b[38;5;124m\"\u001b[39m\u001b[38;5;124m,\u001b[39m\u001b[38;5;124m\"\u001b[39m\u001b[38;5;124mzero\u001b[39m\u001b[38;5;124m\"\u001b[39m\u001b[38;5;124m:false}}}}\u001b[39m\u001b[38;5;124m\"\"\"\u001b[39m)\n",
      "\u001b[0;31mNameError\u001b[0m: name '_deepnote_run_altair' is not defined"
     ]
    }
   ],
   "source": [
    "_deepnote_run_altair(pred, \"\"\"{\"$schema\":\"https://vega.github.io/schema/vega-lite/v4.json\",\"mark\":{\"type\":\"line\",\"tooltip\":true},\"height\":220,\"autosize\":{\"type\":\"fit\"},\"data\":{\"name\":\"placeholder\"},\"encoding\":{\"x\":{\"field\":\"considerble trees\",\"type\":\"quantitative\",\"sort\":null,\"scale\":{\"type\":\"linear\",\"zero\":false}},\"y\":{\"field\":\"onsiderable plants\",\"type\":\"quantitative\",\"sort\":null,\"scale\":{\"type\":\"linear\",\"zero\":false}},\"color\":{\"field\":\"\",\"type\":\"nominal\",\"sort\":null,\"scale\":{\"type\":\"linear\",\"zero\":false}}}}\"\"\")"
   ]
  },
  {
   "cell_type": "code",
   "execution_count": null,
   "id": "b221f20b",
   "metadata": {
    "cell_id": "00016-14c5b681-e681-43ba-8101-88d040077b7a",
    "deepnote_cell_height": 93.83332824707031,
    "deepnote_cell_type": "code",
    "deepnote_to_be_reexecuted": false,
    "execution_millis": 1,
    "execution_start": 1662784488534,
    "source_hash": "b31fd813"
   },
   "outputs": [],
   "source": [
    "\n"
   ]
  },
  {
   "cell_type": "code",
   "execution_count": null,
   "id": "fe34f072",
   "metadata": {
    "cell_id": "00017-aa817bd5-2aee-43ae-9d3c-7aa3874c3f55",
    "deepnote_cell_height": 75.83332824707031,
    "deepnote_cell_type": "code",
    "deepnote_to_be_reexecuted": false,
    "execution_millis": 0,
    "execution_start": 1662784488535,
    "source_hash": "b623e53d"
   },
   "outputs": [],
   "source": []
  },
  {
   "cell_type": "code",
   "execution_count": null,
   "id": "28c61645",
   "metadata": {
    "cell_id": "00018-04291118-941c-445a-a0b5-fd6a82e9d441",
    "deepnote_cell_height": 75.83332824707031,
    "deepnote_cell_type": "code",
    "deepnote_to_be_reexecuted": false,
    "execution_millis": 0,
    "execution_start": 1662784488535,
    "source_hash": "b623e53d"
   },
   "outputs": [],
   "source": []
  },
  {
   "cell_type": "code",
   "execution_count": null,
   "id": "65c6e9c5",
   "metadata": {
    "cell_id": "00019-490b281c-1ff4-4d51-bdb2-b4cdf930b574",
    "deepnote_cell_height": 75.83332824707031,
    "deepnote_cell_type": "code",
    "deepnote_to_be_reexecuted": false,
    "execution_millis": 0,
    "execution_start": 1662784488536,
    "source_hash": "b623e53d"
   },
   "outputs": [],
   "source": []
  },
  {
   "cell_type": "markdown",
   "id": "d1026706",
   "metadata": {
    "created_in_deepnote_cell": true,
    "deepnote_cell_type": "markdown",
    "tags": []
   },
   "source": [
    "<a style='text-decoration:none;line-height:16px;display:flex;color:#5B5B62;padding:10px;justify-content:end;' href='https://deepnote.com?utm_source=created-in-deepnote-cell&projectId=d6921146-ce34-4339-96ea-8b58d86679fb' target=\"_blank\">\n",
    "<img alt='Created in deepnote.com' style='display:inline;max-height:16px;margin:0px;margin-right:7.5px;' src='data:image/svg+xml;base64,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' > </img>\n",
    "Created in <span style='font-weight:600;margin-left:4px;'>Deepnote</span></a>"
   ]
  }
 ],
 "metadata": {
  "deepnote": {},
  "deepnote_execution_queue": [],
  "deepnote_notebook_id": "9a3a9319-5e33-4834-bdb5-122ee2fe7f2d",
  "kernelspec": {
   "display_name": "Python 3 (ipykernel)",
   "language": "python",
   "name": "python3"
  },
  "language_info": {
   "codemirror_mode": {
    "name": "ipython",
    "version": 3
   },
   "file_extension": ".py",
   "mimetype": "text/x-python",
   "name": "python",
   "nbconvert_exporter": "python",
   "pygments_lexer": "ipython3",
   "version": "3.9.12"
  }
 },
 "nbformat": 4,
 "nbformat_minor": 5
}
